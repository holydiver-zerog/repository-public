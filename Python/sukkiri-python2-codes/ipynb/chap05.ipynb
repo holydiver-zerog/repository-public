{
 "cells": [
  {
   "cell_type": "code",
   "execution_count": null,
   "metadata": {},
   "outputs": [],
   "source": [
    "student_list = ['浅木', '松田']\n",
    "for student in student_list:\n",
    "    print(f'{student}さんの試験結果を入力してください')\n",
    "    network = int(input('ネットワークの得点? >>'))\n",
    "    database = int(input('データベースの得点? >>'))\n",
    "    security = int(input('セキュリティの得点? >>'))\n",
    "    if student == '浅木':\n",
    "        asagi_scores = [network, database, security]\n",
    "        asagi_avg = sum(asagi_scores) / len(asagi_scores)\n",
    "    else:\n",
    "        matsuda_scores = [network, database, security]\n",
    "        matsuda_avg = sum(matsuda_scores) / len(matsuda_scores)\n",
    "print(f'浅木さんの平均点は{asagi_avg}です')\n",
    "print(f'松田さんの平均点は{matsuda_avg}です')"
   ]
  },
  {
   "cell_type": "code",
   "execution_count": null,
   "metadata": {},
   "outputs": [],
   "source": [
    "# 得点を入力\n",
    "asagi_scores = input_scores('浅木')\n",
    "matsuda_scores = input_scores('松田')\n",
    "# 平均点を計算\n",
    "asagi_avg = calc_average(asagi_scores)\n",
    "matsuda_avg = calc_average(matsuda_scores)\n",
    "# 結果を出力\n",
    "output_result('浅木', asagi_avg)\n",
    "output_result('松田', matsuda_avg)"
   ]
  },
  {
   "cell_type": "code",
   "execution_count": null,
   "metadata": {},
   "outputs": [],
   "source": [
    "def hello():\n",
    "    print('こんにちは。工藤です。')"
   ]
  },
  {
   "cell_type": "code",
   "execution_count": null,
   "metadata": {},
   "outputs": [],
   "source": [
    "def hello():\n",
    "    print('こんにちは。工藤です。')\n",
    "\n",
    "hello()"
   ]
  },
  {
   "cell_type": "code",
   "execution_count": null,
   "metadata": {},
   "outputs": [],
   "source": [
    "def input_scores():\n",
    "    name = ''\n",
    "    print(f'{name}の試験結果を入力してください')\n",
    "\n",
    "name = '浅木'\n",
    "input_scores()\n",
    "name = '松田'\n",
    "input_scores()"
   ]
  },
  {
   "cell_type": "code",
   "execution_count": 1,
   "metadata": {},
   "outputs": [
    {
     "name": "stdout",
     "output_type": "stream",
     "text": [
      "こんにちは。浅木です。\n",
      "こんにちは。松田です。\n"
     ]
    }
   ],
   "source": [
    "def hello(name):\n",
    "    print(f'こんにちは。{name}です。')\n",
    "\n",
    "hello('浅木')\n",
    "hello('松田')"
   ]
  },
  {
   "cell_type": "code",
   "execution_count": 2,
   "metadata": {},
   "outputs": [
    {
     "name": "stdout",
     "output_type": "stream",
     "text": [
      "私の名前は浅木です。\n",
      "年齢は24歳です。\n",
      "趣味はカフェ巡りです。\n"
     ]
    }
   ],
   "source": [
    "def profile(name, age, hobby):\n",
    "    print(f'私の名前は{name}です。')\n",
    "    print(f'年齢は{age}歳です。')\n",
    "    print(f'趣味は{hobby}です。')\n",
    "\n",
    "profile('浅木', 24, 'カフェ巡り')"
   ]
  },
  {
   "cell_type": "code",
   "execution_count": 1,
   "metadata": {},
   "outputs": [],
   "source": [
    "def calc_average(scores):\n",
    "    avg = sum(scores) / len(scores)\n",
    "    print(f'平均点は{avg}です')"
   ]
  },
  {
   "cell_type": "code",
   "execution_count": 2,
   "metadata": {},
   "outputs": [],
   "source": [
    "def input_scores(name):\n",
    "    print(f'{name}さんの試験結果を入力してください')\n",
    "    network = int(input('ネットワークの得点? >>'))\n",
    "    database = int(input('データベースの得点? >>'))\n",
    "    security = int(input('セキュリティの得点? >>'))\n",
    "    scores = [network, database, security]\n",
    "\n",
    "def calc_average(scores):\n",
    "    avg = sum(scores) / len(scores)\n",
    "    print(f'平均点は{avg}です')"
   ]
  },
  {
   "cell_type": "code",
   "execution_count": 3,
   "metadata": {},
   "outputs": [
    {
     "name": "stdout",
     "output_type": "stream",
     "text": [
      "浅木さんの試験結果を入力してください\n"
     ]
    },
    {
     "ename": "NameError",
     "evalue": "name 'scores' is not defined",
     "output_type": "error",
     "traceback": [
      "\u001b[31m---------------------------------------------------------------------------\u001b[39m",
      "\u001b[31mNameError\u001b[39m                                 Traceback (most recent call last)",
      "\u001b[36mCell\u001b[39m\u001b[36m \u001b[39m\u001b[32mIn[3]\u001b[39m\u001b[32m, line 13\u001b[39m\n\u001b[32m     10\u001b[39m     \u001b[38;5;28mprint\u001b[39m(\u001b[33mf\u001b[39m\u001b[33m'\u001b[39m\u001b[33m平均点は\u001b[39m\u001b[38;5;132;01m{\u001b[39;00mavg\u001b[38;5;132;01m}\u001b[39;00m\u001b[33mです\u001b[39m\u001b[33m'\u001b[39m)\n\u001b[32m     12\u001b[39m input_scores(\u001b[33m'\u001b[39m\u001b[33m浅木\u001b[39m\u001b[33m'\u001b[39m)\n\u001b[32m---> \u001b[39m\u001b[32m13\u001b[39m calc_average(\u001b[43mscores\u001b[49m)\n",
      "\u001b[31mNameError\u001b[39m: name 'scores' is not defined"
     ]
    }
   ],
   "source": [
    "def input_scores(name):\n",
    "    print(f'{name}さんの試験結果を入力してください')\n",
    "    network = int(input('ネットワークの得点? >>'))\n",
    "    database = int(input('データベースの得点? >>'))\n",
    "    security = int(input('セキュリティの得点? >>'))\n",
    "    scores = [network, database, security]\n",
    "\n",
    "def calc_average(scores):\n",
    "    avg = sum(scores) / len(scores)\n",
    "    print(f'平均点は{avg}です')\n",
    "\n",
    "input_scores('浅木')\n",
    "calc_average(scores)"
   ]
  },
  {
   "cell_type": "code",
   "execution_count": 4,
   "metadata": {},
   "outputs": [
    {
     "name": "stdout",
     "output_type": "stream",
     "text": [
      "足し算の答えは150です\n"
     ]
    }
   ],
   "source": [
    "def plus(x, y):\n",
    "    answer = x + y\n",
    "    return answer\n",
    "\n",
    "answer = plus(100, 50)\n",
    "print(f'足し算の答えは{answer}です')    "
   ]
  },
  {
   "cell_type": "code",
   "execution_count": 5,
   "metadata": {},
   "outputs": [
    {
     "name": "stdout",
     "output_type": "stream",
     "text": [
      "浅木さんの試験結果を入力してください\n",
      "松田さんの試験結果を入力してください\n",
      "浅木さんの平均点は60.0です\n",
      "松田さんの平均点は90.0です\n"
     ]
    }
   ],
   "source": [
    "def input_scores(name):\n",
    "    print(f'{name}さんの試験結果を入力してください')\n",
    "    network = int(input('ネットワークの得点? >>'))\n",
    "    database = int(input('データベースの得点? >>'))\n",
    "    security = int(input('セキュリティの得点? >>'))\n",
    "    scores = [network, database, security]\n",
    "    return scores\n",
    " \n",
    "def calc_average(scores):\n",
    "    avg = sum(scores) / len(scores)\n",
    "    return avg\n",
    "\n",
    "def output_result(name, avg):\n",
    "    print(f'{name}さんの平均点は{avg}です')\n",
    "\n",
    "# 浅木と松田の得点入力\n",
    "asagi_scores = input_scores('浅木')\n",
    "matsuda_scores = input_scores('松田')\n",
    "# 平均点を計算\n",
    "asagi_avg = calc_average(asagi_scores)\n",
    "matsuda_avg = calc_average(matsuda_scores)\n",
    "# 結果を出力\n",
    "output_result('浅木', asagi_avg)\n",
    "output_result('松田', matsuda_avg)"
   ]
  },
  {
   "cell_type": "code",
   "execution_count": 7,
   "metadata": {},
   "outputs": [],
   "source": [
    "def plus_and_minus(a, b):\n",
    "    return a + b, a - b\n",
    "\n",
    "next, prev = plus_and_minus(1978, 1)"
   ]
  },
  {
   "cell_type": "code",
   "execution_count": 8,
   "metadata": {},
   "outputs": [],
   "source": [
    "def plus_and_minus(a, b):\n",
    "    return (a + b, a - b)\n",
    "\n",
    "(next, prev) = plus_and_minus(1978, 1)"
   ]
  },
  {
   "cell_type": "code",
   "execution_count": 9,
   "metadata": {},
   "outputs": [
    {
     "name": "stdout",
     "output_type": "stream",
     "text": [
      "8月1日\n",
      "朝はトーストを食べました\n",
      "昼はおにぎりを食べました\n",
      "晩はカレーを食べました\n",
      "8月2日\n",
      "朝は納豆ごはんを食べました\n",
      "昼はラーメンを食べました\n",
      "晩はカレーを食べました\n",
      "8月3日\n",
      "朝はバナナを食べました\n",
      "昼はそばを食べました\n",
      "晩は焼肉を食べました\n",
      "8月4日\n",
      "朝はサンドウィッチを食べました\n",
      "昼はしゅうまい弁当を食べました\n",
      "晩はカレーを食べました\n"
     ]
    }
   ],
   "source": [
    "def eat(breakfast, lunch, dinner):\n",
    "    print(f'朝は{breakfast}を食べました')\n",
    "    print(f'昼は{lunch}を食べました')\n",
    "    print(f'晩は{dinner}を食べました')\n",
    "\n",
    "print('8月1日')\n",
    "eat('トースト', 'おにぎり', 'カレー')\n",
    "print('8月2日')\n",
    "eat('納豆ごはん', 'ラーメン', 'カレー')\n",
    "print('8月3日')\n",
    "eat('バナナ', 'そば', '焼肉')\n",
    "print('8月4日')\n",
    "eat('サンドウィッチ', 'しゅうまい弁当', 'カレー')"
   ]
  },
  {
   "cell_type": "code",
   "execution_count": 10,
   "metadata": {},
   "outputs": [
    {
     "name": "stdout",
     "output_type": "stream",
     "text": [
      "8月1日\n",
      "朝はトーストを食べました\n",
      "昼はおにぎりを食べました\n",
      "晩はカレーを食べました\n",
      "8月2日\n",
      "朝は納豆ごはんを食べました\n",
      "昼はラーメンを食べました\n",
      "晩はカレーを食べました\n",
      "8月3日\n",
      "朝はバナナを食べました\n",
      "昼はそばを食べました\n",
      "晩は焼肉を食べました\n",
      "8月4日\n",
      "朝はサンドウィッチを食べました\n",
      "昼はしゅうまい弁当を食べました\n",
      "晩はカレーを食べました\n"
     ]
    }
   ],
   "source": [
    "def eat(breakfast, lunch, dinner='カレー'):\n",
    "    print(f'朝は{breakfast}を食べました')\n",
    "    print(f'昼は{lunch}を食べました')\n",
    "    print(f'晩は{dinner}を食べました')\n",
    "\n",
    "print('8月1日')\n",
    "eat('トースト', 'おにぎり')\n",
    "print('8月2日')\n",
    "eat('納豆ごはん', 'ラーメン')\n",
    "print('8月3日')\n",
    "eat('バナナ', 'そば', '焼肉')\n",
    "print('8月4日')\n",
    "eat('サンドウィッチ', 'しゅうまい弁当')"
   ]
  },
  {
   "cell_type": "code",
   "execution_count": 11,
   "metadata": {},
   "outputs": [
    {
     "name": "stdout",
     "output_type": "stream",
     "text": [
      "朝は納豆ごはんを食べました\n",
      "昼はラーメンを食べました\n",
      "晩はカレーうどんを食べました\n"
     ]
    }
   ],
   "source": [
    "def eat(breakfast, lunch='ラーメン', dinner='カレー'):\n",
    "    print(f'朝は{breakfast}を食べました')\n",
    "    print(f'昼は{lunch}を食べました')\n",
    "    print(f'晩は{dinner}を食べました')\n",
    "\n",
    "eat('納豆ごはん', 'ラーメン', 'カレーうどん')"
   ]
  },
  {
   "cell_type": "code",
   "execution_count": 12,
   "metadata": {},
   "outputs": [
    {
     "name": "stdout",
     "output_type": "stream",
     "text": [
      "朝は納豆ごはんを食べました\n",
      "昼はラーメンを食べました\n",
      "晩はカレーうどんを食べました\n",
      "朝は納豆ごはんを食べました\n",
      "昼はラーメンを食べました\n",
      "晩はカレーうどんを食べました\n",
      "朝は納豆ごはんを食べました\n",
      "昼はラーメンを食べました\n",
      "晩はカレーうどんを食べました\n"
     ]
    }
   ],
   "source": [
    "eat(breakfast='納豆ごはん', dinner='カレーうどん') # 1\n",
    "eat(dinner='カレーうどん', breakfast='納豆ごはん') # 2\n",
    "eat('納豆ごはん', dinner='カレーうどん')           # 3"
   ]
  },
  {
   "cell_type": "code",
   "execution_count": 13,
   "metadata": {},
   "outputs": [
    {
     "name": "stdout",
     "output_type": "stream",
     "text": [
      "朝はトーストを食べました\n",
      "昼はパスタを食べました\n",
      "晩はカレーを食べました\n",
      "おやつにアイスを食べました\n",
      "おやつにチョコを食べました\n",
      "おやつにパフェを食べました\n"
     ]
    }
   ],
   "source": [
    "def eat(breakfast, lunch, dinner='カレー', desserts=()):\n",
    "    print(f'朝は{breakfast}を食べました')\n",
    "    print(f'昼は{lunch}を食べました')\n",
    "    print(f'晩は{dinner}を食べました')\n",
    "    for d in desserts:\n",
    "        print(f'おやつに{d}を食べました')\n",
    "\n",
    "eat('トースト', 'パスタ', 'カレー', ('アイス', 'チョコ', 'パフェ'))"
   ]
  },
  {
   "cell_type": "code",
   "execution_count": 14,
   "metadata": {},
   "outputs": [
    {
     "name": "stdout",
     "output_type": "stream",
     "text": [
      "朝はトーストを食べました\n",
      "昼はパスタを食べました\n",
      "晩はカレーを食べました\n",
      "おやつにアイスを食べました\n",
      "おやつにチョコを食べました\n",
      "おやつにカレーを食べました\n"
     ]
    }
   ],
   "source": [
    "def eat(breakfast, lunch, dinner='カレー', *desserts):\n",
    "    print(f'朝は{breakfast}を食べました')\n",
    "    print(f'昼は{lunch}を食べました')\n",
    "    print(f'晩は{dinner}を食べました')\n",
    "    for d in desserts:\n",
    "        print(f'おやつに{d}を食べました')\n",
    "\n",
    "eat('トースト', 'パスタ', 'カレー', 'アイス', 'チョコ', 'カレー')"
   ]
  },
  {
   "cell_type": "code",
   "execution_count": 15,
   "metadata": {},
   "outputs": [
    {
     "name": "stdout",
     "output_type": "stream",
     "text": [
      "こんにちは松田さん\n"
     ]
    }
   ],
   "source": [
    "name = '松田'\n",
    "def hello():\n",
    "    print('こんにちは' + name + 'さん')\n",
    "\n",
    "hello()"
   ]
  },
  {
   "cell_type": "code",
   "execution_count": 16,
   "metadata": {},
   "outputs": [
    {
     "name": "stdout",
     "output_type": "stream",
     "text": [
      "こんにちは松田さん\n"
     ]
    }
   ],
   "source": [
    "name = '松田'\n",
    "def change_name():\n",
    "    name = '浅木'\n",
    "def hello():\n",
    "    print('こんにちは' + name + 'さん')\n",
    "\n",
    "change_name()\n",
    "hello()"
   ]
  },
  {
   "cell_type": "code",
   "execution_count": 17,
   "metadata": {},
   "outputs": [],
   "source": [
    "name = '松田'\n",
    "def change_name():\n",
    "    global name\n",
    "    name = '浅木'\n",
    "def hello():\n",
    "    print('こんにちは' + name + 'さん')"
   ]
  }
 ],
 "metadata": {
  "kernelspec": {
   "display_name": "Python 3",
   "language": "python",
   "name": "python3"
  },
  "language_info": {
   "codemirror_mode": {
    "name": "ipython",
    "version": 3
   },
   "file_extension": ".py",
   "mimetype": "text/x-python",
   "name": "python",
   "nbconvert_exporter": "python",
   "pygments_lexer": "ipython3",
   "version": "3.13.3"
  }
 },
 "nbformat": 4,
 "nbformat_minor": 4
}
