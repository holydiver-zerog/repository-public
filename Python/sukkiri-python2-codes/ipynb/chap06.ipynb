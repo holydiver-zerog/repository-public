{
 "cells": [
  {
   "cell_type": "code",
   "execution_count": 1,
   "metadata": {},
   "outputs": [
    {
     "name": "stdout",
     "output_type": "stream",
     "text": [
      "3人目は工藤さん\n"
     ]
    }
   ],
   "source": [
    "tpl = '3人目は{}さん'\n",
    "names = ['松田', '浅木']\n",
    "names.append('工藤')\n",
    "message = tpl.format(names[2])\n",
    "print(message)"
   ]
  },
  {
   "cell_type": "code",
   "execution_count": 2,
   "metadata": {},
   "outputs": [
    {
     "name": "stdout",
     "output_type": "stream",
     "text": [
      "4\n"
     ]
    }
   ],
   "source": [
    "num = 10\n",
    "print(num.bit_length())\n",
    "names = ['松田', '浅木']\n",
    "names.append('工藤')"
   ]
  },
  {
   "cell_type": "code",
   "execution_count": 1,
   "metadata": {},
   "outputs": [
    {
     "name": "stdout",
     "output_type": "stream",
     "text": [
      "姫路さんはA型なので大吉です\n"
     ]
    }
   ],
   "source": [
    "userinfo = input('名前と血液型をカンマで区切って1行で入力 >>')\n",
    "[name, blood] = userinfo.split(',')\n",
    "blood = blood.upper().strip()\n",
    "print(f'{name}さんは{blood}型なので大吉です')"
   ]
  },
  {
   "cell_type": "code",
   "execution_count": 1,
   "metadata": {},
   "outputs": [],
   "source": [
    "int_value1 = 0\n",
    "int_value2 = int()\n",
    "int_value3 = int(9)\n",
    "list_value1 = []\n",
    "list_value2 = list()\n",
    "list_value3 = list(('松田', '浅木'))"
   ]
  },
  {
   "cell_type": "code",
   "execution_count": 2,
   "metadata": {},
   "outputs": [
    {
     "name": "stdout",
     "output_type": "stream",
     "text": [
      "スッキリファンタジーXII ~金色の理想郷~\n",
      "松田は3時間寝た!\n",
      "松田のHPは現在103です\n"
     ]
    }
   ],
   "source": [
    "class Hero:\n",
    "    name = '松田'\n",
    "    hp = 100\n",
    "    def sleep(self, hours):\n",
    "        print(f'{self.name}は{hours}時間寝た!')\n",
    "        self.hp += hours\n",
    "\n",
    "# ゲーム開始\n",
    "print('スッキリファンタジーXII ~金色の理想郷~')\n",
    "h = Hero()\n",
    "h.sleep(3)\n",
    "print(f'{h.name}のHPは現在{h.hp}です')"
   ]
  },
  {
   "cell_type": "code",
   "execution_count": 1,
   "metadata": {},
   "outputs": [
    {
     "name": "stdout",
     "output_type": "stream",
     "text": [
      "scores1のidentity: 4433764288\n",
      "scores2のidentity: 4433762688\n",
      "scores1とscores2は同じ内容です\n",
      "scores1とscores2は違う存在です\n"
     ]
    }
   ],
   "source": [
    "scores1 = [80, 40, 50]\n",
    "scores2 = [80, 40, 50]\n",
    "print(f'scores1のidentity: {id(scores1)}')\n",
    "print(f'scores2のidentity: {id(scores2)}')\n",
    "\n",
    "if scores1 == scores2:\n",
    "    print('scores1とscores2は同じ内容です')\n",
    "else:\n",
    "    print('scores1とscores2は違う内容です')\n",
    "\n",
    "if id(scores1) == id(scores2):\n",
    "    print('scores1とscores2は同じ存在です')\n",
    "else:\n",
    "    print('scores1とscores2は違う存在です')"
   ]
  },
  {
   "cell_type": "code",
   "execution_count": 2,
   "metadata": {},
   "outputs": [
    {
     "name": "stdout",
     "output_type": "stream",
     "text": [
      "scores1の先頭要素は80\n",
      "scores2の先頭要素は80\n",
      "変数scores2の中身を変数scores1に代入（コピー）します\n",
      "scores1の先頭要素を90に書き換えます\n",
      "90を代入したscores1の先頭要素は90\n",
      "90を代入していないscores2の先頭要素は90\n"
     ]
    }
   ],
   "source": [
    "scores1 = [80, 40, 50]\n",
    "scores2 = [80, 40, 50]\n",
    "print(f'scores1の先頭要素は{scores1[0]}')\n",
    "print(f'scores2の先頭要素は{scores2[0]}')\n",
    "\n",
    "print('変数scores2の中身を変数scores1に代入（コピー）します')\n",
    "scores1 = scores2\n",
    "\n",
    "print('scores1の先頭要素を90に書き換えます')\n",
    "scores1[0] = 90\n",
    "\n",
    "print(f'90を代入したscores1の先頭要素は{scores1[0]}')\n",
    "print(f'90を代入していないscores2の先頭要素は{scores2[0]}')"
   ]
  },
  {
   "cell_type": "code",
   "execution_count": 3,
   "metadata": {},
   "outputs": [
    {
     "name": "stdout",
     "output_type": "stream",
     "text": [
      "さん付け後:松田さん\n",
      "さん付け前:松田さん\n"
     ]
    }
   ],
   "source": [
    "def add_suffix(names):\n",
    "    for i in range(len(names)):\n",
    "        names[i] = names[i] + 'さん'\n",
    "    return names\n",
    "\n",
    "before_names = ['松田', '浅木', '工藤']\n",
    "after_names = add_suffix(before_names)\n",
    "print('さん付け後:' + after_names[0])\n",
    "print('さん付け前:' + before_names[0])"
   ]
  },
  {
   "cell_type": "code",
   "execution_count": null,
   "metadata": {},
   "outputs": [
    {
     "name": "stdout",
     "output_type": "stream",
     "text": [
      "さん付け後:松田さん\n",
      "さん付け前:松田\n"
     ]
    }
   ],
   "source": [
    "def add_suffix(names):\n",
    "    for i in range(len(names)):\n",
    "        names[i] = names[i] + 'さん'\n",
    "    return names\n",
    "\n",
    "before_names = ['松田', '浅木', '工藤']\n",
    "copied_names = list()\n",
    "for n in before_names:\n",
    "    copied_names.append(n)\n",
    "after_names = add_suffix(copied_names)\n",
    "print('さん付け後:' + after_names[0])\n",
    "print('さん付け前:' + before_names[0])"
   ]
  },
  {
   "cell_type": "code",
   "execution_count": null,
   "metadata": {},
   "outputs": [],
   "source": [
    "def add_suffix(name):\n",
    "    name = name + 'さん'\n",
    "    return name\n",
    "\n",
    "before_name = '松田'\n",
    "after_name = add_suffix(before_name)\n",
    "print('さん付け後:' + after_name)\n",
    "print('さん付け前:' + before_name)"
   ]
  },
  {
   "cell_type": "code",
   "execution_count": null,
   "metadata": {},
   "outputs": [],
   "source": [
    "names = list() # リストの場合\n",
    "print(f'list（変更前）: {id(names)}')\n",
    "names.append('松田')\n",
    "print(f'list（変更後）: {id(names)}')\n",
    "\n",
    "name = '松田'   # 文字列の場合\n",
    "print(f'str（変更前）: {id(names)}')\n",
    "name = 'スーパー' + name\n",
    "print(f'str（変更後）: {id(names)}')"
   ]
  }
 ],
 "metadata": {
  "kernelspec": {
   "display_name": "Python 3",
   "language": "python",
   "name": "python3"
  },
  "language_info": {
   "codemirror_mode": {
    "name": "ipython",
    "version": 3
   },
   "file_extension": ".py",
   "mimetype": "text/x-python",
   "name": "python",
   "nbconvert_exporter": "python",
   "pygments_lexer": "ipython3",
   "version": "3.13.3"
  }
 },
 "nbformat": 4,
 "nbformat_minor": 2
}
