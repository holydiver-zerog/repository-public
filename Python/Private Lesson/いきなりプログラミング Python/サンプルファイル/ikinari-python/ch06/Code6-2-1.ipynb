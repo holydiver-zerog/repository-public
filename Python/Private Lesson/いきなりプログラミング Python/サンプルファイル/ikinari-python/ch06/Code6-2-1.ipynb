{
 "cells": [
  {
   "cell_type": "code",
   "execution_count": 6,
   "id": "7eb31a06-9151-4aaf-85a8-b95ad2339da6",
   "metadata": {},
   "outputs": [],
   "source": [
    "from ultralytics import YOLO\n",
    "import cv2\n",
    "\n",
    "# モデルを設定\n",
    "model = YOLO('yolov8n.pt')\n",
    "\n",
    "# 動画撮影を開始\n",
    "cap = cv2.VideoCapture(0)\n",
    "\n",
    "while cap.isOpened():\n",
    "    # フレームを抽出する\n",
    "    ret, frame = cap.read()\n",
    "\n",
    "    if ret:\n",
    "        # 画像を表示\n",
    "        cv2.imshow('Playing', frame)\n",
    "\n",
    "        # q キーが押されたらウィンドウを閉じる\n",
    "        if cv2.waitKey(1) & 0xFF == ord(\"q\"):\n",
    "            break\n",
    "    else:\n",
    "        break\n",
    "\n",
    "# 解放処理\n",
    "cap.release()\n",
    "cv2.destroyAllWindows()"
   ]
  },
  {
   "cell_type": "code",
   "execution_count": null,
   "id": "43a8cbfc-6faf-4259-be3e-a2557f2b3c23",
   "metadata": {},
   "outputs": [],
   "source": []
  }
 ],
 "metadata": {
  "kernelspec": {
   "display_name": "Python 3 (ipykernel)",
   "language": "python",
   "name": "python3"
  },
  "language_info": {
   "codemirror_mode": {
    "name": "ipython",
    "version": 3
   },
   "file_extension": ".py",
   "mimetype": "text/x-python",
   "name": "python",
   "nbconvert_exporter": "python",
   "pygments_lexer": "ipython3",
   "version": "3.12.3"
  }
 },
 "nbformat": 4,
 "nbformat_minor": 5
}
