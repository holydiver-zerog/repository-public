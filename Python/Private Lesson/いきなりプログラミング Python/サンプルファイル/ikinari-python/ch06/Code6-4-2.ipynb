{
 "cells": [
  {
   "cell_type": "code",
   "execution_count": 1,
   "id": "ab1983a8-7f18-4fe8-918c-b931b6250db2",
   "metadata": {},
   "outputs": [],
   "source": [
    "from ultralytics import YOLO\n",
    "import cv2\n",
    "import numpy as np\n",
    "\n",
    "def text_overwrite_to_image(img):\n",
    "    \"\"\"テキストを画像に描画する関数\"\"\"\n",
    "\n",
    "    # 画像の横サイズを取得\n",
    "    img_width = img.shape[1]\n",
    "\n",
    "    # 黒い四角形（拡張領域）を作成\n",
    "    extension_height = 40\n",
    "    black_rectangle = np.zeros((extension_height, img_width, 3), dtype=np.uint8)\n",
    "\n",
    "    # 元の画像と黒い四角形を結合\n",
    "    extended_img = np.vstack((black_rectangle, img))\n",
    "\n",
    "    return extended_img\n",
    "\n",
    "# モデルを設定\n",
    "model = YOLO('yolov8n.pt')\n",
    "\n",
    "# 動画撮影を開始\n",
    "cap = cv2.VideoCapture(0)\n",
    "\n",
    "while cap.isOpened():\n",
    "    # フレームを抽出する\n",
    "    ret, frame = cap.read()\n",
    "\n",
    "    if ret:\n",
    "        # 物体検出\n",
    "        results = model(frame, verbose=False, classes=0)\n",
    "        img_annotated = results[0].plot()\n",
    "\n",
    "        # 分析\n",
    "        class_list = results[0].boxes.cls\n",
    "        count_class = len(class_list)\n",
    "        \n",
    "        # 画像を表示\n",
    "        img_annotated = text_overwrite_to_image(img_annotated)\n",
    "        cv2.imshow('Playing', img_annotated)\n",
    "\n",
    "        # q キーが押されたらウィンドウを閉じる\n",
    "        if cv2.waitKey(1) & 0xFF == ord(\"q\"):\n",
    "            break\n",
    "    else:\n",
    "        break\n",
    "\n",
    "# 解放処理\n",
    "cap.release()\n",
    "cv2.destroyAllWindows()"
   ]
  },
  {
   "cell_type": "code",
   "execution_count": null,
   "id": "e7a27fa3-255b-45d4-9e84-fbd8c53f0c1c",
   "metadata": {},
   "outputs": [],
   "source": []
  }
 ],
 "metadata": {
  "kernelspec": {
   "display_name": "Python 3 (ipykernel)",
   "language": "python",
   "name": "python3"
  },
  "language_info": {
   "codemirror_mode": {
    "name": "ipython",
    "version": 3
   },
   "file_extension": ".py",
   "mimetype": "text/x-python",
   "name": "python",
   "nbconvert_exporter": "python",
   "pygments_lexer": "ipython3",
   "version": "3.12.3"
  }
 },
 "nbformat": 4,
 "nbformat_minor": 5
}
