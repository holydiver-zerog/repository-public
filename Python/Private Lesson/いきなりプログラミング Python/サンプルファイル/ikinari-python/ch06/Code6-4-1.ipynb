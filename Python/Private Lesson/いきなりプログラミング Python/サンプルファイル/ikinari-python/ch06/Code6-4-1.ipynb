{
 "cells": [
  {
   "cell_type": "code",
   "execution_count": null,
   "id": "579a8c8d-b4f1-4b14-901e-35ef56c7480b",
   "metadata": {},
   "outputs": [],
   "source": [
    "from ultralytics import YOLO\n",
    "import cv2\n",
    "\n",
    "# モデルを設定\n",
    "model = YOLO('yolov8n.pt')\n",
    "\n",
    "# 動画撮影を開始\n",
    "cap = cv2.VideoCapture(0)\n",
    "\n",
    "while cap.isOpened():\n",
    "    # フレームを抽出する\n",
    "    ret, frame = cap.read()\n",
    "\n",
    "    if ret:\n",
    "        # 物体検出\n",
    "        results = model(frame, verbose=False, classes=0)\n",
    "        img_annotated = results[0].plot()\n",
    "\n",
    "        # 分析\n",
    "        class_list = results[0].boxes.cls\n",
    "        count_class = len(class_list)\n",
    "        \n",
    "        # 画像を表示\n",
    "        cv2.imshow('Playing', img_annotated)\n",
    "\n",
    "        # q キーが押されたらウィンドウを閉じる\n",
    "        if cv2.waitKey(1) & 0xFF == ord(\"q\"):\n",
    "            break\n",
    "    else:\n",
    "        break\n",
    "\n",
    "# 解放処理\n",
    "cap.release()\n",
    "cv2.destroyAllWindows()"
   ]
  }
 ],
 "metadata": {
  "kernelspec": {
   "display_name": "Python 3 (ipykernel)",
   "language": "python",
   "name": "python3"
  },
  "language_info": {
   "codemirror_mode": {
    "name": "ipython",
    "version": 3
   },
   "file_extension": ".py",
   "mimetype": "text/x-python",
   "name": "python",
   "nbconvert_exporter": "python",
   "pygments_lexer": "ipython3",
   "version": "3.12.3"
  }
 },
 "nbformat": 4,
 "nbformat_minor": 5
}
