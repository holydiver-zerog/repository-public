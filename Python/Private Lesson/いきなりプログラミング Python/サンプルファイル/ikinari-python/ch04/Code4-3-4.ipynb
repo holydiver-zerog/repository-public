{
 "cells": [
  {
   "cell_type": "code",
   "execution_count": 3,
   "id": "32cec1cc-343d-46fe-8e68-c9f66507c6ed",
   "metadata": {},
   "outputs": [
    {
     "name": "stdout",
     "output_type": "stream",
     "text": [
      "マイクに向かってタメ口で話しかけてください\n",
      "音声認識結果「こんにちは 今日はいい天気だね」\n",
      "丁寧語変換結果「ごきげんよう 今日はいい天気ですね」\n"
     ]
    }
   ],
   "source": [
    "import speech_recognition as sr\n",
    "\n",
    "def tamego_to_teineigo(text):\n",
    "    \"\"\"タメ口を丁寧語に変換する関数\"\"\"\n",
    "\n",
    "    # 変換パターン\n",
    "    patterns = {\n",
    "        'だね': 'ですね',\n",
    "        'こんにちは': 'ごきげんよう',\n",
    "    }\n",
    "\n",
    "    # テキストをスペースで分離する\n",
    "    sentences = text.split(' ')\n",
    "\n",
    "    # 変換\n",
    "    teineigo_sentences = []\n",
    "    for sentence in sentences:\n",
    "        for pattern, replacement in patterns.items():\n",
    "            sentence = sentence.replace(pattern, replacement)\n",
    "        teineigo_sentences.append(sentence)\n",
    "\n",
    "    joined_text = ' '.join(teineigo_sentences)\n",
    "\n",
    "    return joined_text\n",
    "\n",
    "r = sr.Recognizer()\n",
    "\n",
    "with sr.Microphone() as source:\n",
    "    r.adjust_for_ambient_noise(source, duration=1)\n",
    "    print('マイクに向かってタメ口で話しかけてください')\n",
    "    audio = r.listen(source)\n",
    "\n",
    "try:\n",
    "    recognized_text = r.recognize_google(audio, language='ja')\n",
    "    print(f'音声認識結果「{recognized_text}」')\n",
    "    teinei_text = tamego_to_teineigo(recognized_text)\n",
    "    print(f'丁寧語変換結果「{teinei_text}」')\n",
    "except sr.UnknownValueError:\n",
    "    print('認識できませんでした。')\n",
    "except sr.RequestError as e:\n",
    "    print('ネットワークエラーが発生しました。')"
   ]
  },
  {
   "cell_type": "code",
   "execution_count": null,
   "id": "679e7b2f-fa47-44d1-9b4d-9b3b715bd6f5",
   "metadata": {},
   "outputs": [],
   "source": []
  }
 ],
 "metadata": {
  "kernelspec": {
   "display_name": "Python 3 (ipykernel)",
   "language": "python",
   "name": "python3"
  },
  "language_info": {
   "codemirror_mode": {
    "name": "ipython",
    "version": 3
   },
   "file_extension": ".py",
   "mimetype": "text/x-python",
   "name": "python",
   "nbconvert_exporter": "python",
   "pygments_lexer": "ipython3",
   "version": "3.12.3"
  }
 },
 "nbformat": 4,
 "nbformat_minor": 5
}
