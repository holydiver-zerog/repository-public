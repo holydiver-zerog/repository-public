{
 "cells": [
  {
   "cell_type": "code",
   "execution_count": 2,
   "id": "93b36509-1aa1-412f-865c-edaae2ee02ac",
   "metadata": {},
   "outputs": [
    {
     "name": "stdout",
     "output_type": "stream",
     "text": [
      "マイクに向かってタメ口で話しかけてください\n",
      "音声認識結果「生麦生米生卵」\n"
     ]
    }
   ],
   "source": [
    "import speech_recognition as sr\n",
    "\n",
    "r = sr.Recognizer()\n",
    "\n",
    "with sr.Microphone() as source:\n",
    "    r.adjust_for_ambient_noise(source, duration=1)\n",
    "    print('マイクに向かってタメ口で話しかけてください')\n",
    "    audio = r.listen(source)\n",
    "\n",
    "try:\n",
    "    recognized_text = r.recognize_google(audio, language='ja')\n",
    "    print(f'音声認識結果「{recognized_text}」')\n",
    "except sr.UnknownValueError:\n",
    "    print('認識できませんでした。')\n",
    "except sr.RequestError as e:\n",
    "    print('ネットワークエラーが発生しました。')"
   ]
  },
  {
   "cell_type": "code",
   "execution_count": null,
   "id": "8c82cbcd-e3b2-43f2-90d7-725efa9a343c",
   "metadata": {},
   "outputs": [],
   "source": []
  }
 ],
 "metadata": {
  "kernelspec": {
   "display_name": "Python 3 (ipykernel)",
   "language": "python",
   "name": "python3"
  },
  "language_info": {
   "codemirror_mode": {
    "name": "ipython",
    "version": 3
   },
   "file_extension": ".py",
   "mimetype": "text/x-python",
   "name": "python",
   "nbconvert_exporter": "python",
   "pygments_lexer": "ipython3",
   "version": "3.12.3"
  }
 },
 "nbformat": 4,
 "nbformat_minor": 5
}
