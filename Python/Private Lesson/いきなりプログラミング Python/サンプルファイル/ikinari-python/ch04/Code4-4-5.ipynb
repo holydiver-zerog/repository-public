{
 "cells": [
  {
   "cell_type": "code",
   "execution_count": 1,
   "id": "efb52370-7b47-430d-8f92-b1df9ff1a613",
   "metadata": {},
   "outputs": [
    {
     "name": "stdout",
     "output_type": "stream",
     "text": [
      "マイクに向かってタメ口で話しかけてください\n",
      "音声認識結果「そのご飯とてもいいね」\n",
      "丁寧語変換結果「そのご飯とてもいいですね」\n"
     ]
    }
   ],
   "source": [
    "import speech_recognition as sr\n",
    "import re\n",
    "\n",
    "def tamego_to_teineigo(text):\n",
    "    \"\"\"タメ口を丁寧語に変換する関数\"\"\"\n",
    "\n",
    "    # 変換パターン\n",
    "    patterns = {\n",
    "        r'だね$': 'ですね',\n",
    "        r'こんにちは': 'ごきげんよう',\n",
    "        r'だ$': 'です',\n",
    "        r'^よう': 'やあ',\n",
    "        r'しようぜ$': 'しましょう',\n",
    "        r'飯': 'ご飯',\n",
    "        r'いいね': 'いいですね',\n",
    "    }\n",
    "\n",
    "    # ひらがなの重複削除を行わないワードリスト\n",
    "    no_remove_hiragana = ['いいですね']\n",
    "\n",
    "    # テキストをスペースで分離する\n",
    "    sentences = text.split(' ')\n",
    "\n",
    "    # 変換\n",
    "    teineigo_sentences = []\n",
    "    dummy_mapping = []\n",
    "    for sentence in sentences:\n",
    "        for pattern, replacement in patterns.items():\n",
    "            sentence = re.sub(pattern, replacement, sentence)\n",
    "\n",
    "        # 重複削除を行わない文字列はダミー文字列に置き換える\n",
    "        for no_remove in no_remove_hiragana:\n",
    "            if no_remove in sentence:\n",
    "                dummy_text = 'X' * len(no_remove)\n",
    "                dummy_mapping.append((dummy_text, no_remove))\n",
    "                sentence = sentence.replace(no_remove, dummy_text)\n",
    "\n",
    "        # ひらがなの重複削除を行う\n",
    "        sentence = re.sub(r'([ぁ-ん])\\1+', r'\\1', sentence)\n",
    "\n",
    "        # ダミー文字列をもとに戻す\n",
    "        for dummy_text, original_text in dummy_mapping:\n",
    "            sentence = sentence.replace(dummy_text, original_text)\n",
    "        \n",
    "        teineigo_sentences.append(sentence)\n",
    "\n",
    "    joined_text = ' '.join(teineigo_sentences)\n",
    "\n",
    "    return joined_text\n",
    "\n",
    "r = sr.Recognizer()\n",
    "\n",
    "with sr.Microphone() as source:\n",
    "    r.adjust_for_ambient_noise(source, duration=1)\n",
    "    print('マイクに向かってタメ口で話しかけてください')\n",
    "    audio = r.listen(source)\n",
    "\n",
    "try:\n",
    "    recognized_text = r.recognize_google(audio, language='ja')\n",
    "    print(f'音声認識結果「{recognized_text}」')\n",
    "    teinei_text = tamego_to_teineigo(recognized_text)\n",
    "    print(f'丁寧語変換結果「{teinei_text}」')\n",
    "except sr.UnknownValueError:\n",
    "    print('認識できませんでした。')\n",
    "except sr.RequestError as e:\n",
    "    print('ネットワークエラーが発生しました。')"
   ]
  },
  {
   "cell_type": "code",
   "execution_count": null,
   "id": "fbf6c71f-014b-4749-aa4a-326c60406e77",
   "metadata": {},
   "outputs": [],
   "source": []
  }
 ],
 "metadata": {
  "kernelspec": {
   "display_name": "Python 3 (ipykernel)",
   "language": "python",
   "name": "python3"
  },
  "language_info": {
   "codemirror_mode": {
    "name": "ipython",
    "version": 3
   },
   "file_extension": ".py",
   "mimetype": "text/x-python",
   "name": "python",
   "nbconvert_exporter": "python",
   "pygments_lexer": "ipython3",
   "version": "3.12.3"
  }
 },
 "nbformat": 4,
 "nbformat_minor": 5
}
