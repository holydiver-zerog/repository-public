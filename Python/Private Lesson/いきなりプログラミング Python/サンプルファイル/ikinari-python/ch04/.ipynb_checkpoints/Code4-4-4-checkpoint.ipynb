{
 "cells": [
  {
   "cell_type": "code",
   "execution_count": 1,
   "id": "3062e781-96e2-4364-8688-db1eb78da778",
   "metadata": {},
   "outputs": [
    {
     "name": "stdout",
     "output_type": "stream",
     "text": [
      "マイクに向かってタメ口で話しかけてください\n",
      "音声認識結果「ご飯にしようぜ」\n",
      "丁寧語変換結果「ご飯にしましょう」\n"
     ]
    }
   ],
   "source": [
    "import speech_recognition as sr\n",
    "import re\n",
    "\n",
    "def tamego_to_teineigo(text):\n",
    "    \"\"\"タメ口を丁寧語に変換する関数\"\"\"\n",
    "\n",
    "    # 変換パターン\n",
    "    patterns = {\n",
    "        r'だね$': 'ですね',\n",
    "        r'こんにちは': 'ごきげんよう',\n",
    "        r'だ$': 'です',\n",
    "        r'^よう': 'やあ',\n",
    "        r'しようぜ$': 'しましょう',\n",
    "        r'飯': 'ご飯',\n",
    "    }\n",
    "\n",
    "    # テキストをスペースで分離する\n",
    "    sentences = text.split(' ')\n",
    "\n",
    "    # 変換\n",
    "    teineigo_sentences = []\n",
    "    for sentence in sentences:\n",
    "        for pattern, replacement in patterns.items():\n",
    "            sentence = re.sub(pattern, replacement, sentence)\n",
    "\n",
    "        # ひらがなの重複削除を行う\n",
    "        sentence = re.sub(r'([ぁ-ん])\\1+', r'\\1', sentence)\n",
    "\n",
    "        teineigo_sentences.append(sentence)\n",
    "\n",
    "    joined_text = ' '.join(teineigo_sentences)\n",
    "\n",
    "    return joined_text\n",
    "\n",
    "r = sr.Recognizer()\n",
    "\n",
    "with sr.Microphone() as source:\n",
    "    r.adjust_for_ambient_noise(source, duration=1)\n",
    "    print('マイクに向かってタメ口で話しかけてください')\n",
    "    audio = r.listen(source)\n",
    "\n",
    "try:\n",
    "    recognized_text = r.recognize_google(audio, language='ja')\n",
    "    print(f'音声認識結果「{recognized_text}」')\n",
    "    teinei_text = tamego_to_teineigo(recognized_text)\n",
    "    print(f'丁寧語変換結果「{teinei_text}」')\n",
    "except sr.UnknownValueError:\n",
    "    print('認識できませんでした。')\n",
    "except sr.RequestError as e:\n",
    "    print('ネットワークエラーが発生しました。')"
   ]
  },
  {
   "cell_type": "code",
   "execution_count": null,
   "id": "bae5722f-1da2-4c27-9eb2-54ac6ed17461",
   "metadata": {},
   "outputs": [],
   "source": []
  }
 ],
 "metadata": {
  "kernelspec": {
   "display_name": "Python 3 (ipykernel)",
   "language": "python",
   "name": "python3"
  },
  "language_info": {
   "codemirror_mode": {
    "name": "ipython",
    "version": 3
   },
   "file_extension": ".py",
   "mimetype": "text/x-python",
   "name": "python",
   "nbconvert_exporter": "python",
   "pygments_lexer": "ipython3",
   "version": "3.12.3"
  }
 },
 "nbformat": 4,
 "nbformat_minor": 5
}
