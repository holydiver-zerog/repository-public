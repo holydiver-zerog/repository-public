{
 "cells": [
  {
   "cell_type": "code",
   "execution_count": 1,
   "id": "7ff66019-1a30-415f-a3e5-34dee64d79e4",
   "metadata": {},
   "outputs": [
    {
     "name": "stdout",
     "output_type": "stream",
     "text": [
      "マイクに向かってタメ口で話しかけてください\n",
      "音声認識結果「こんにちは 今日はいい天気だね」\n",
      "丁寧語変換結果「ごきげんよう 今日はい天気ですね」\n"
     ]
    }
   ],
   "source": [
    "import speech_recognition as sr\n",
    "import re\n",
    "\n",
    "def tamego_to_teineigo(text):\n",
    "    \"\"\"タメ口を丁寧語に変換する関数\"\"\"\n",
    "\n",
    "    # 変換パターン\n",
    "    patterns = {\n",
    "        r'だね$': 'ですね',\n",
    "        r'こんにちは': 'ごきげんよう',\n",
    "        r'(だ|だぜ|だよ)$': 'です',\n",
    "        r'^よう': 'やあ',\n",
    "        r'しようぜ$': 'しましょう',\n",
    "        r'いいね': 'いいですね',\n",
    "        r'(飯|家族|注意)': r'ご\\1',\n",
    "        r'(茶|店|祭り)': r'お\\1',\n",
    "        r'(お前|あんた|お主|貴様)': 'あなた',\n",
    "        r'(僕|俺|あたし|拙者|吾輩)': '私',\n",
    "        r'いいよ': 'いいですよ',\n",
    "        r'ありがとう': 'ありがとうございます',\n",
    "        r'いやいや': 'いいえ',\n",
    "        r'できるか': 'できますか',\n",
    "        r'だっけ': 'でしょうか',\n",
    "        r'行かないか': '行きませんか',\n",
    "        r'行くか': '行きましょうか',\n",
    "        r'しよう': 'しましょう',\n",
    "    }\n",
    "\n",
    "    # ひらがなの重複削除を行わないワードリスト\n",
    "    no_remove_hiragana = ['いいですね', 'いいえ', 'いいですよ']\n",
    "\n",
    "    # テキストをスペースで分離する\n",
    "    sentences = text.split(' ')\n",
    "\n",
    "    # 変換\n",
    "    teineigo_sentences = []\n",
    "    dummy_mapping = []\n",
    "    for sentence in sentences:\n",
    "        for pattern, replacement in patterns.items():\n",
    "            sentence = re.sub(pattern, replacement, sentence)\n",
    "\n",
    "        # 重複削除を行わない文字列はダミー文字列に置き換える\n",
    "        for no_remove in no_remove_hiragana:\n",
    "            if no_remove in sentence:\n",
    "                dummy_text = 'X' * len(no_remove)\n",
    "                dummy_mapping.append((dummy_text, no_remove))\n",
    "                sentence = sentence.replace(no_remove, dummy_text)\n",
    "\n",
    "        # ひらがなの重複削除を行う\n",
    "        sentence = re.sub(r'([ぁ-ん])\\1+', r'\\1', sentence)\n",
    "\n",
    "        # ダミー文字列をもとに戻す\n",
    "        for dummy_text, original_text in dummy_mapping:\n",
    "            sentence = sentence.replace(dummy_text, original_text)\n",
    "        \n",
    "        teineigo_sentences.append(sentence)\n",
    "\n",
    "    joined_text = ' '.join(teineigo_sentences)\n",
    "\n",
    "    return joined_text\n",
    "\n",
    "r = sr.Recognizer()\n",
    "\n",
    "with sr.Microphone() as source:\n",
    "    r.adjust_for_ambient_noise(source, duration=1)\n",
    "    print('マイクに向かってタメ口で話しかけてください')\n",
    "    audio = r.listen(source)\n",
    "\n",
    "try:\n",
    "    recognized_text = r.recognize_google(audio, language='ja')\n",
    "    print(f'音声認識結果「{recognized_text}」')\n",
    "    teinei_text = tamego_to_teineigo(recognized_text)\n",
    "    print(f'丁寧語変換結果「{teinei_text}」')\n",
    "except sr.UnknownValueError:\n",
    "    print('認識できませんでした。')\n",
    "except sr.RequestError as e:\n",
    "    print('ネットワークエラーが発生しました。')"
   ]
  },
  {
   "cell_type": "code",
   "execution_count": null,
   "id": "296036b6-3c71-4c12-b4ef-318b82ce1898",
   "metadata": {},
   "outputs": [],
   "source": []
  }
 ],
 "metadata": {
  "kernelspec": {
   "display_name": "Python 3 (ipykernel)",
   "language": "python",
   "name": "python3"
  },
  "language_info": {
   "codemirror_mode": {
    "name": "ipython",
    "version": 3
   },
   "file_extension": ".py",
   "mimetype": "text/x-python",
   "name": "python",
   "nbconvert_exporter": "python",
   "pygments_lexer": "ipython3",
   "version": "3.12.3"
  }
 },
 "nbformat": 4,
 "nbformat_minor": 5
}
