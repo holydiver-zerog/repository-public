{
 "cells": [
  {
   "cell_type": "code",
   "execution_count": 1,
   "id": "6f907cd1-52a5-41b1-bf77-84b7118f040c",
   "metadata": {},
   "outputs": [
    {
     "name": "stdout",
     "output_type": "stream",
     "text": [
      "数当てゲームスタート！\n",
      "私が1 ～ 9 までの数値を使ってランダムな数を作ります。\n",
      "あなたは1 桁から9 桁の桁数を指定してください。\n"
     ]
    },
    {
     "name": "stdin",
     "output_type": "stream",
     "text": [
      "何桁の数字でゲームをしますか？（1 ～ 9）： 3\n"
     ]
    }
   ],
   "source": [
    "import random\n",
    "\n",
    "# ゲーム開始の説明\n",
    "print('数当てゲームスタート！')\n",
    "print('私が1 ～ 9 までの数値を使ってランダムな数を作ります。')\n",
    "print('あなたは1 桁から9 桁の桁数を指定してください。')\n",
    "\n",
    "# 桁数入力\n",
    "while True:\n",
    "    n = int(input('何桁の数字でゲームをしますか？（1 ～ 9）：'))\n",
    "\n",
    "    # 1 ～ 9 の入力がされたらループを抜ける\n",
    "    if 1 <= n <= 9:\n",
    "        break\n",
    "    print('1 ～ 9 の数字を入力してください。')\n",
    "\n",
    "# 正解の数\n",
    "numbers = [1, 2, 3, 4, 5, 6, 7, 8, 9]\n",
    "secret_numbers = random.sample(numbers, n)"
   ]
  },
  {
   "cell_type": "code",
   "execution_count": null,
   "id": "64e78502-97ea-4b53-b3e2-58034e71f866",
   "metadata": {},
   "outputs": [],
   "source": []
  }
 ],
 "metadata": {
  "kernelspec": {
   "display_name": "Python 3 (ipykernel)",
   "language": "python",
   "name": "python3"
  },
  "language_info": {
   "codemirror_mode": {
    "name": "ipython",
    "version": 3
   },
   "file_extension": ".py",
   "mimetype": "text/x-python",
   "name": "python",
   "nbconvert_exporter": "python",
   "pygments_lexer": "ipython3",
   "version": "3.12.3"
  }
 },
 "nbformat": 4,
 "nbformat_minor": 5
}
