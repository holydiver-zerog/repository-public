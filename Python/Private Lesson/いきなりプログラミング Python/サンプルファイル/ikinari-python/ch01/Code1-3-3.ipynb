{
 "cells": [
  {
   "cell_type": "code",
   "execution_count": 1,
   "id": "2732c9b7-4813-4d30-ae66-cd3f59087e46",
   "metadata": {},
   "outputs": [
    {
     "name": "stdout",
     "output_type": "stream",
     "text": [
      "1 から100 までの間で好きな数字を1 つ思い浮かべてください。\n",
      "あなたの考えている数字を7 回以内に当ててみましょう。\n",
      "1 100\n",
      "質問1\n",
      "質問2\n",
      "質問3\n",
      "質問4\n",
      "質問5\n",
      "質問6\n",
      "質問7\n"
     ]
    }
   ],
   "source": [
    "print('1 から100 までの間で好きな数字を1 つ思い浮かべてください。')\n",
    "print('あなたの考えている数字を7 回以内に当ててみましょう。')\n",
    "\n",
    "# low: 最小の数値、high: 最大の数値\n",
    "low = 1\n",
    "high = 100\n",
    "print(low, high)\n",
    "\n",
    "print('質問1')\n",
    "print('質問2')\n",
    "print('質問3')\n",
    "print('質問4')\n",
    "print('質問5')\n",
    "print('質問6')\n",
    "print('質問7')"
   ]
  }
 ],
 "metadata": {
  "kernelspec": {
   "display_name": "Python 3 (ipykernel)",
   "language": "python",
   "name": "python3"
  },
  "language_info": {
   "codemirror_mode": {
    "name": "ipython",
    "version": 3
   },
   "file_extension": ".py",
   "mimetype": "text/x-python",
   "name": "python",
   "nbconvert_exporter": "python",
   "pygments_lexer": "ipython3",
   "version": "3.12.3"
  }
 },
 "nbformat": 4,
 "nbformat_minor": 5
}
