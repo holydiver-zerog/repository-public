{
 "cells": [
  {
   "cell_type": "code",
   "execution_count": 1,
   "id": "be20b13c-b84f-4b82-92de-163b9b3dc051",
   "metadata": {},
   "outputs": [
    {
     "name": "stdout",
     "output_type": "stream",
     "text": [
      "1 から100 までの間で好きな数字を1 つ思い浮かべてください。\n",
      "あなたの考えている数字を7 回以内に当ててみましょう。\n",
      "1 100\n",
      "あなたの数字は 50 より大きいですか？ (yes/no)\n",
      "あなたの数字は 50 より大きいですか？ (yes/no)\n",
      "あなたの数字は 50 より大きいですか？ (yes/no)\n",
      "あなたの数字は 50 より大きいですか？ (yes/no)\n",
      "あなたの数字は 50 より大きいですか？ (yes/no)\n",
      "あなたの数字は 50 より大きいですか？ (yes/no)\n",
      "あなたの数字は 50 より大きいですか？ (yes/no)\n"
     ]
    }
   ],
   "source": [
    "print('1 から100 までの間で好きな数字を1 つ思い浮かべてください。')\n",
    "print('あなたの考えている数字を7 回以内に当ててみましょう。')\n",
    "\n",
    "# low: 最小の数値、high: 最大の数値\n",
    "low = 1\n",
    "high = 100\n",
    "print(low, high)\n",
    "\n",
    "for i in range(7):\n",
    "    # コンピューターの推測値を確認\n",
    "    guess = (low + high) // 2\n",
    "    print('あなたの数字は', guess, 'より大きいですか？ (yes/no)')"
   ]
  }
 ],
 "metadata": {
  "kernelspec": {
   "display_name": "Python 3 (ipykernel)",
   "language": "python",
   "name": "python3"
  },
  "language_info": {
   "codemirror_mode": {
    "name": "ipython",
    "version": 3
   },
   "file_extension": ".py",
   "mimetype": "text/x-python",
   "name": "python",
   "nbconvert_exporter": "python",
   "pygments_lexer": "ipython3",
   "version": "3.12.3"
  }
 },
 "nbformat": 4,
 "nbformat_minor": 5
}
