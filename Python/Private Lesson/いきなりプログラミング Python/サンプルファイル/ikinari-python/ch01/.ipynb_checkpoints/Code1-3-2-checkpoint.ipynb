{
 "cells": [
  {
   "cell_type": "code",
   "execution_count": 1,
   "id": "592d6019-da4e-4e83-954d-8730b5524c3f",
   "metadata": {},
   "outputs": [
    {
     "name": "stdout",
     "output_type": "stream",
     "text": [
      "1 から100 までの間で好きな数字を1 つ思い浮かべてください。\n",
      "あなたの考えている数字を7 回以内に当ててみましょう。\n",
      "1 100\n"
     ]
    }
   ],
   "source": [
    "print('1 から100 までの間で好きな数字を1 つ思い浮かべてください。')\n",
    "print('あなたの考えている数字を7 回以内に当ててみましょう。')\n",
    "\n",
    "# low: 最小の数値、high: 最大の数値\n",
    "low = 1\n",
    "high = 100\n",
    "print(low, high)"
   ]
  }
 ],
 "metadata": {
  "kernelspec": {
   "display_name": "Python 3 (ipykernel)",
   "language": "python",
   "name": "python3"
  },
  "language_info": {
   "codemirror_mode": {
    "name": "ipython",
    "version": 3
   },
   "file_extension": ".py",
   "mimetype": "text/x-python",
   "name": "python",
   "nbconvert_exporter": "python",
   "pygments_lexer": "ipython3",
   "version": "3.12.3"
  }
 },
 "nbformat": 4,
 "nbformat_minor": 5
}
