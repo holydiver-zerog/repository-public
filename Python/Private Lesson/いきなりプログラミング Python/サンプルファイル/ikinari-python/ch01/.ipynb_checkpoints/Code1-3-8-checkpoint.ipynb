{
 "cells": [
  {
   "cell_type": "code",
   "execution_count": 1,
   "id": "ce528054-2b63-4ad7-8344-1e56aab415d1",
   "metadata": {},
   "outputs": [
    {
     "name": "stdout",
     "output_type": "stream",
     "text": [
      "1 から100 までの間で好きな数字を1 つ思い浮かべてください。\n",
      "あなたの考えている数字を7 回以内に当ててみましょう。\n",
      "1 100\n",
      "あなたの数字は 50 より大きいですか？ (yes/no)\n"
     ]
    },
    {
     "name": "stdin",
     "output_type": "stream",
     "text": [
      " no\n"
     ]
    },
    {
     "name": "stdout",
     "output_type": "stream",
     "text": [
      "あなたの数字は 25 より大きいですか？ (yes/no)\n"
     ]
    },
    {
     "name": "stdin",
     "output_type": "stream",
     "text": [
      " yes\n"
     ]
    },
    {
     "name": "stdout",
     "output_type": "stream",
     "text": [
      "あなたの数字は 38 より大きいですか？ (yes/no)\n"
     ]
    },
    {
     "name": "stdin",
     "output_type": "stream",
     "text": [
      " yes\n"
     ]
    },
    {
     "name": "stdout",
     "output_type": "stream",
     "text": [
      "あなたの数字は 44 より大きいですか？ (yes/no)\n"
     ]
    },
    {
     "name": "stdin",
     "output_type": "stream",
     "text": [
      " no\n"
     ]
    },
    {
     "name": "stdout",
     "output_type": "stream",
     "text": [
      "あなたの数字は 41 より大きいですか？ (yes/no)\n"
     ]
    },
    {
     "name": "stdin",
     "output_type": "stream",
     "text": [
      " no\n"
     ]
    },
    {
     "name": "stdout",
     "output_type": "stream",
     "text": [
      "あなたの数字は 40 より大きいですか？ (yes/no)\n"
     ]
    },
    {
     "name": "stdin",
     "output_type": "stream",
     "text": [
      " no\n"
     ]
    },
    {
     "name": "stdout",
     "output_type": "stream",
     "text": [
      "あなたの数字は 39 より大きいですか？ (yes/no)\n"
     ]
    },
    {
     "name": "stdin",
     "output_type": "stream",
     "text": [
      " yes\n"
     ]
    },
    {
     "name": "stdout",
     "output_type": "stream",
     "text": [
      "あなたの考えている数字は 40 ですね！\n"
     ]
    }
   ],
   "source": [
    "print('1 から100 までの間で好きな数字を1 つ思い浮かべてください。')\n",
    "print('あなたの考えている数字を7 回以内に当ててみましょう。')\n",
    "\n",
    "# low: 最小の数値、high: 最大の数値\n",
    "low = 1\n",
    "high = 100\n",
    "print(low, high)\n",
    "\n",
    "for i in range(7):\n",
    "    # low とhigh が同じならループを抜ける\n",
    "    if low == high:\n",
    "        break\n",
    "        \n",
    "    # コンピューターの推測値を確認\n",
    "    guess = (low + high) // 2\n",
    "    print('あなたの数字は', guess, 'より大きいですか？ (yes/no)')\n",
    "    answer = input()\n",
    "\n",
    "    # ユーザーの答えにより分岐\n",
    "    if answer == \"yes\":\n",
    "        low = guess + 1\n",
    "    else:\n",
    "        high = guess\n",
    "        \n",
    "print('あなたの考えている数字は', low, 'ですね！')"
   ]
  }
 ],
 "metadata": {
  "kernelspec": {
   "display_name": "Python 3 (ipykernel)",
   "language": "python",
   "name": "python3"
  },
  "language_info": {
   "codemirror_mode": {
    "name": "ipython",
    "version": 3
   },
   "file_extension": ".py",
   "mimetype": "text/x-python",
   "name": "python",
   "nbconvert_exporter": "python",
   "pygments_lexer": "ipython3",
   "version": "3.12.3"
  }
 },
 "nbformat": 4,
 "nbformat_minor": 5
}
