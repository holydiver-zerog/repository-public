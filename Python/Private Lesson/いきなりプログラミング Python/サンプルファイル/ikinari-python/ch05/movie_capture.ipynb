{
 "cells": [
  {
   "cell_type": "code",
   "execution_count": 1,
   "id": "f2200a0c-0c3c-4c6d-90b0-418485574d86",
   "metadata": {},
   "outputs": [],
   "source": [
    "import cv2\n",
    "import time\n",
    "\n",
    "# カメラの初期化\n",
    "cap = cv2.VideoCapture(0)\n",
    "\n",
    "# 撮影条件\n",
    "frame_rate = 10\n",
    "duration = 60\n",
    "interval = 2\n",
    "frame_count = int(duration / interval)\n",
    "\n",
    "# 動画保存条件\n",
    "fourcc = cv2.VideoWriter_fourcc(*'mp4v')\n",
    "out = cv2.VideoWriter('movie_timelapse.mp4', fourcc, frame_rate, (640, 480))\n",
    "\n",
    "# 動画撮影\n",
    "for i in range(frame_count):\n",
    "    ret, frame = cap.read()\n",
    "    if not ret:\n",
    "        break\n",
    "    out.write(frame)\n",
    "\n",
    "    cv2.imshow('Recording', frame)\n",
    "\n",
    "    if cv2.waitKey(1) & 0xFF == ord('q'):\n",
    "        break\n",
    "\n",
    "    time.sleep(interval)\n",
    "\n",
    "# 解放処理\n",
    "cap.release()\n",
    "out.release()\n",
    "cv2.destroyAllWindows()"
   ]
  },
  {
   "cell_type": "code",
   "execution_count": null,
   "id": "d29efcf4-2ede-4978-9636-16fff5880db8",
   "metadata": {},
   "outputs": [],
   "source": []
  }
 ],
 "metadata": {
  "kernelspec": {
   "display_name": "Python 3 (ipykernel)",
   "language": "python",
   "name": "python3"
  },
  "language_info": {
   "codemirror_mode": {
    "name": "ipython",
    "version": 3
   },
   "file_extension": ".py",
   "mimetype": "text/x-python",
   "name": "python",
   "nbconvert_exporter": "python",
   "pygments_lexer": "ipython3",
   "version": "3.12.3"
  }
 },
 "nbformat": 4,
 "nbformat_minor": 5
}
