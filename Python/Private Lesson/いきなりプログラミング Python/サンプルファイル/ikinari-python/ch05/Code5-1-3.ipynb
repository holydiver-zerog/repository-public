{
 "cells": [
  {
   "cell_type": "code",
   "execution_count": 1,
   "id": "7d0c8105-c0d4-4ac8-a8f9-60ea46ccb4c6",
   "metadata": {},
   "outputs": [],
   "source": [
    "import cv2\n",
    "\n",
    "# カメラの初期化\n",
    "cap = cv2.VideoCapture(0)\n",
    "\n",
    "# 静止画の取得\n",
    "ret, frame = cap.read()\n",
    "\n",
    "# 画像を保存\n",
    "if ret:\n",
    "    cv2.imwrite('img.jpg', frame)\n",
    "\n",
    "# 解放処理\n",
    "cap.release()\n",
    "\n",
    "# 結果表示とウィンドウの解放\n",
    "cv2.imshow('Captured Image', frame)\n",
    "cv2.waitKey(0)\n",
    "cv2.destroyAllWindows()"
   ]
  },
  {
   "cell_type": "code",
   "execution_count": null,
   "id": "9253625f-bd89-43ec-8370-2892291f799b",
   "metadata": {},
   "outputs": [],
   "source": []
  }
 ],
 "metadata": {
  "kernelspec": {
   "display_name": "Python 3 (ipykernel)",
   "language": "python",
   "name": "python3"
  },
  "language_info": {
   "codemirror_mode": {
    "name": "ipython",
    "version": 3
   },
   "file_extension": ".py",
   "mimetype": "text/x-python",
   "name": "python",
   "nbconvert_exporter": "python",
   "pygments_lexer": "ipython3",
   "version": "3.12.3"
  }
 },
 "nbformat": 4,
 "nbformat_minor": 5
}
