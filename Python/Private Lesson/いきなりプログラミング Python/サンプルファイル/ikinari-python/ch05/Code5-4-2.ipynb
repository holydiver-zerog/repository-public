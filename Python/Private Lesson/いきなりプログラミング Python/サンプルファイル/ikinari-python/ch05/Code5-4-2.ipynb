{
 "cells": [
  {
   "cell_type": "code",
   "execution_count": 2,
   "id": "0628720b-5cf4-4520-a2a1-39ba1cc8ca48",
   "metadata": {},
   "outputs": [],
   "source": [
    "import cv2\n",
    "import numpy as np\n",
    "\n",
    "def apply_color_tone(img):\n",
    "    \"\"\"画像に色効果を適用する関数\"\"\"\n",
    "\n",
    "    # セピア調にするカラー変換行列\n",
    "    sepia_filter = np.array([[0.272, 0.534, 0.131],\n",
    "                             [0.349, 0.686, 0.168],\n",
    "                             [0.393, 0.769, 0.189]])\n",
    "    applied_img = cv2.transform(img, sepia_filter)\n",
    "\n",
    "    # 値を0 ～ 255 の範囲に変更\n",
    "    applied_img = np.clip(applied_img, 0, 255).astype(np.uint8)\n",
    "\n",
    "    return applied_img\n",
    "\n",
    "# 画像ファイルの読み込み\n",
    "img = cv2.imread('img.jpg')\n",
    "\n",
    "# 画像処理を実行\n",
    "applied_img = apply_color_tone(img)\n",
    "\n",
    "# 画像の表示\n",
    "cv2.imshow('Image', applied_img)\n",
    "cv2.waitKey(0)\n",
    "\n",
    "# 画像の保存\n",
    "cv2.imwrite('img_out.jpg', applied_img)\n",
    "\n",
    "# ウィンドウの解放\n",
    "cv2.destroyAllWindows()"
   ]
  },
  {
   "cell_type": "code",
   "execution_count": null,
   "id": "c0994cd9-4aeb-4df7-9bdc-437e3b21048e",
   "metadata": {},
   "outputs": [],
   "source": []
  }
 ],
 "metadata": {
  "kernelspec": {
   "display_name": "Python 3 (ipykernel)",
   "language": "python",
   "name": "python3"
  },
  "language_info": {
   "codemirror_mode": {
    "name": "ipython",
    "version": 3
   },
   "file_extension": ".py",
   "mimetype": "text/x-python",
   "name": "python",
   "nbconvert_exporter": "python",
   "pygments_lexer": "ipython3",
   "version": "3.12.3"
  }
 },
 "nbformat": 4,
 "nbformat_minor": 5
}
