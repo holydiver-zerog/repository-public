{
 "cells": [
  {
   "cell_type": "code",
   "execution_count": 1,
   "id": "c309dc21-a753-483b-856b-e675b97c8691",
   "metadata": {},
   "outputs": [],
   "source": [
    "import cv2\n",
    "\n",
    "# カメラの初期化\n",
    "cap = cv2.VideoCapture(0)\n",
    "\n",
    "# 静止画の取得\n",
    "ret, frame = cap.read()\n",
    "\n",
    "# 画像を保存\n",
    "if ret:\n",
    "    cv2.imwrite('img.jpg', frame)\n",
    "\n",
    "# 解放処理\n",
    "cap.release()"
   ]
  },
  {
   "cell_type": "code",
   "execution_count": null,
   "id": "59df109f-e03d-4d5a-813a-3f67624adaae",
   "metadata": {},
   "outputs": [],
   "source": []
  }
 ],
 "metadata": {
  "kernelspec": {
   "display_name": "Python 3 (ipykernel)",
   "language": "python",
   "name": "python3"
  },
  "language_info": {
   "codemirror_mode": {
    "name": "ipython",
    "version": 3
   },
   "file_extension": ".py",
   "mimetype": "text/x-python",
   "name": "python",
   "nbconvert_exporter": "python",
   "pygments_lexer": "ipython3",
   "version": "3.12.3"
  }
 },
 "nbformat": 4,
 "nbformat_minor": 5
}
