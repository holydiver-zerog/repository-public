{
 "cells": [
  {
   "cell_type": "code",
   "execution_count": 2,
   "id": "7b377303-d47f-4996-8f8d-056ea74967f6",
   "metadata": {},
   "outputs": [
    {
     "name": "stdout",
     "output_type": "stream",
     "text": [
      "[0, 1, 5, 6, 12, 15, 16, 19, 20, 21]\n"
     ]
    }
   ],
   "source": [
    "import pyaudio\n",
    "\n",
    "# PyAudio を準備する\n",
    "pa = pyaudio.PyAudio()\n",
    "\n",
    "# マイクチャンネル一覧をリストに追加する\n",
    "mic_list = []\n",
    "for i in range(pa.get_device_count()):\n",
    "    device_info = pa.get_device_info_by_index(i)\n",
    "    num_of_input_ch = device_info['maxInputChannels']\n",
    "\n",
    "    if num_of_input_ch > 0:\n",
    "        mic_list.append(device_info['index'])\n",
    "print(mic_list)"
   ]
  },
  {
   "cell_type": "code",
   "execution_count": null,
   "id": "a95cb413-9fa3-42ee-adda-bce57cb26507",
   "metadata": {},
   "outputs": [],
   "source": []
  }
 ],
 "metadata": {
  "kernelspec": {
   "display_name": "Python 3 (ipykernel)",
   "language": "python",
   "name": "python3"
  },
  "language_info": {
   "codemirror_mode": {
    "name": "ipython",
    "version": 3
   },
   "file_extension": ".py",
   "mimetype": "text/x-python",
   "name": "python",
   "nbconvert_exporter": "python",
   "pygments_lexer": "ipython3",
   "version": "3.12.3"
  }
 },
 "nbformat": 4,
 "nbformat_minor": 5
}
