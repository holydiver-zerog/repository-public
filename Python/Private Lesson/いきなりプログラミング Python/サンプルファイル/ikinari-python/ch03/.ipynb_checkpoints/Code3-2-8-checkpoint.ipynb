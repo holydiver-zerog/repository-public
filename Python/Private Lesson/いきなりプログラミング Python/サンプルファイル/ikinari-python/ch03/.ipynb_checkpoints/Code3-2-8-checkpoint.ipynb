{
 "cells": [
  {
   "cell_type": "code",
   "execution_count": 1,
   "id": "00f1a705-44ec-4098-b561-43ad9fe6bdf0",
   "metadata": {},
   "outputs": [
    {
     "name": "stdout",
     "output_type": "stream",
     "text": [
      "0\n",
      "215\n",
      "start\n",
      "220160 [-0.00018311 -0.00018311 -0.00018311 ... -0.00225837 -0.00390637\n",
      " -0.00546281]\n"
     ]
    }
   ],
   "source": [
    "import pyaudio\n",
    "import numpy as np\n",
    "\n",
    "def get_mic_index(pa):\n",
    "    \"\"\"マイクチャンネルを取得する関数\"\"\"\n",
    "    \n",
    "    # マイクチャンネル一覧をリストに追加する\n",
    "    mic_list = []\n",
    "    for i in range(pa.get_device_count()):\n",
    "        device_info = pa.get_device_info_by_index(i)\n",
    "        num_of_input_ch = device_info['maxInputChannels']\n",
    "    \n",
    "        if num_of_input_ch > 0:\n",
    "            mic_list.append(device_info['index'])\n",
    "    \n",
    "    return mic_list[0]\n",
    "\n",
    "def record(pa, index, duration):\n",
    "    \"\"\"PC のマイクで録音する関数\"\"\"\n",
    "\n",
    "    # 録音条件\n",
    "    sampling_rate = 44100\n",
    "    frame_size = 1024\n",
    "\n",
    "    # ストリームを開く\n",
    "    stream = pa.open(format=pyaudio.paInt16, channels=1, rate=sampling_rate,\n",
    "                     input=True, input_device_index=index, frames_per_buffer=frame_size)\n",
    "\n",
    "    # ループ数の設定\n",
    "    dt = 1 / sampling_rate\n",
    "    n = int(((duration / dt) / frame_size))\n",
    "    print(n)\n",
    "\n",
    "    # 録音する\n",
    "    waveform = []\n",
    "    print('start')\n",
    "    for i in range(n):\n",
    "        frame = stream.read(frame_size)\n",
    "        waveform.append(frame)\n",
    "\n",
    "    # ストリームの終了\n",
    "    stream.stop_stream()\n",
    "    stream.close()\n",
    "\n",
    "    # データをまとめる\n",
    "    waveform = b\"\".join(waveform)\n",
    "\n",
    "    # バイトデータを数値データに変換\n",
    "    byte_to_num = np.frombuffer(waveform, dtype=\"int16\")\n",
    "\n",
    "    # 最大値を計算\n",
    "    max_value = float((2 ** 16 / 2) - 1)\n",
    "\n",
    "    # 波形を正規化\n",
    "    normalized_waveform = byte_to_num / max_value\n",
    "    \n",
    "    return normalized_waveform, sampling_rate\n",
    "\n",
    "# PyAudio を準備する\n",
    "pa = pyaudio.PyAudio()\n",
    "\n",
    "# マイクチャンネルを自動取得\n",
    "index = get_mic_index(pa)\n",
    "print(index)\n",
    "\n",
    "# 計測条件を設定して録音関数を実行\n",
    "duration = 5\n",
    "waveform, sampling_rate = record(pa, index, duration)\n",
    "print(len(waveform), waveform)\n",
    "\n",
    "# PyAudio を終了\n",
    "pa.terminate()"
   ]
  },
  {
   "cell_type": "code",
   "execution_count": null,
   "id": "c4507022-6e0f-40c4-95a9-1c129b2fbccb",
   "metadata": {},
   "outputs": [],
   "source": []
  }
 ],
 "metadata": {
  "kernelspec": {
   "display_name": "Python 3 (ipykernel)",
   "language": "python",
   "name": "python3"
  },
  "language_info": {
   "codemirror_mode": {
    "name": "ipython",
    "version": 3
   },
   "file_extension": ".py",
   "mimetype": "text/x-python",
   "name": "python",
   "nbconvert_exporter": "python",
   "pygments_lexer": "ipython3",
   "version": "3.12.3"
  }
 },
 "nbformat": 4,
 "nbformat_minor": 5
}
