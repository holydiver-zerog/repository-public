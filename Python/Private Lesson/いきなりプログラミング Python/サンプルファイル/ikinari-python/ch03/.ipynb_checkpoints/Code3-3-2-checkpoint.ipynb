{
 "cells": [
  {
   "cell_type": "code",
   "execution_count": 1,
   "id": "6dadc765-83bc-4cf2-81ba-0cbb0abd3a48",
   "metadata": {},
   "outputs": [
    {
     "name": "stdout",
     "output_type": "stream",
     "text": [
      "0\n",
      "215\n",
      "start\n",
      "220160 [ 5.09659108e-03  5.49333171e-03  4.79140599e-03 ...  4.88296152e-04\n",
      "  2.13629566e-04 -9.15555284e-05]\n"
     ]
    },
    {
     "data": {
      "image/png": "[encoded data removed]",
      "text/plain": [
       "<Figure size 640x480 with 1 Axes>"
      ]
     },
     "metadata": {},
     "output_type": "display_data"
    }
   ],
   "source": [
    "import pyaudio\n",
    "import numpy as np\n",
    "from matplotlib import pyplot as plt\n",
    "\n",
    "def get_mic_index(pa):\n",
    "    \"\"\"マイクチャンネルを取得する関数\"\"\"\n",
    "    \n",
    "    # マイクチャンネル一覧をリストに追加する\n",
    "    mic_list = []\n",
    "    for i in range(pa.get_device_count()):\n",
    "        device_info = pa.get_device_info_by_index(i)\n",
    "        num_of_input_ch = device_info['maxInputChannels']\n",
    "    \n",
    "        if num_of_input_ch > 0:\n",
    "            mic_list.append(device_info['index'])\n",
    "    \n",
    "    return mic_list[0]\n",
    "\n",
    "def record(pa, index, duration):\n",
    "    \"\"\"PC のマイクで録音する関数\"\"\"\n",
    "\n",
    "    # 録音条件\n",
    "    sampling_rate = 44100\n",
    "    frame_size = 1024\n",
    "\n",
    "    # ストリームを開く\n",
    "    stream = pa.open(format=pyaudio.paInt16, channels=1, rate=sampling_rate,\n",
    "                     input=True, input_device_index=index, frames_per_buffer=frame_size)\n",
    "\n",
    "    # ループ数の設定\n",
    "    dt = 1 / sampling_rate\n",
    "    n = int(((duration / dt) / frame_size))\n",
    "    print(n)\n",
    "\n",
    "    # 録音する\n",
    "    waveform = []\n",
    "    print('start')\n",
    "    for i in range(n):\n",
    "        frame = stream.read(frame_size)\n",
    "        waveform.append(frame)\n",
    "\n",
    "    # ストリームの終了\n",
    "    stream.stop_stream()\n",
    "    stream.close()\n",
    "\n",
    "    # データをまとめる\n",
    "    waveform = b\"\".join(waveform)\n",
    "\n",
    "    # バイトデータを数値データに変換\n",
    "    byte_to_num = np.frombuffer(waveform, dtype=\"int16\")\n",
    "\n",
    "    # 最大値を計算\n",
    "    max_value = float((2 ** 16 / 2) - 1)\n",
    "\n",
    "    # 波形を正規化\n",
    "    normalized_waveform = byte_to_num / max_value\n",
    "    \n",
    "    return normalized_waveform, sampling_rate\n",
    "\n",
    "def graph_plot(x, y):\n",
    "    \"\"\" 波形をグラフにする関数\"\"\"\n",
    "\n",
    "    # グラフの設定\n",
    "    fig, ax = plt.subplots()\n",
    "    ax.set_xlabel('Time[s]')\n",
    "    ax.set_ylabel('Amplitude')\n",
    "\n",
    "    # データのプロット\n",
    "    ax.plot(x, y)\n",
    "    plt.show()\n",
    "    plt.close()\n",
    "\n",
    "    return\n",
    "\n",
    "# PyAudio を準備する\n",
    "pa = pyaudio.PyAudio()\n",
    "\n",
    "# マイクチャンネルを自動取得\n",
    "index = get_mic_index(pa)\n",
    "print(index)\n",
    "\n",
    "# 計測条件を設定して録音関数を実行\n",
    "duration = 5\n",
    "waveform, sampling_rate = record(pa, index, duration)\n",
    "print(len(waveform), waveform)\n",
    "\n",
    "# PyAudio を終了\n",
    "pa.terminate()\n",
    "\n",
    "# グラフをプロットする\n",
    "dt = 1 / sampling_rate\n",
    "t = np.arange(0, len(waveform) * dt, dt)\n",
    "graph_plot(t, waveform)"
   ]
  },
  {
   "cell_type": "code",
   "execution_count": null,
   "id": "aa23e191-151d-4a1e-be5c-6ad9d60bcfc5",
   "metadata": {},
   "outputs": [],
   "source": []
  }
 ],
 "metadata": {
  "kernelspec": {
   "display_name": "Python 3 (ipykernel)",
   "language": "python",
   "name": "python3"
  },
  "language_info": {
   "codemirror_mode": {
    "name": "ipython",
    "version": 3
   },
   "file_extension": ".py",
   "mimetype": "text/x-python",
   "name": "python",
   "nbconvert_exporter": "python",
   "pygments_lexer": "ipython3",
   "version": "3.12.3"
  }
 },
 "nbformat": 4,
 "nbformat_minor": 5
}
