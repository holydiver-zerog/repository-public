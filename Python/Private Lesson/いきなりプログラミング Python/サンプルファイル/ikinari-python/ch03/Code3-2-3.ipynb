{
 "cells": [
  {
   "cell_type": "code",
   "execution_count": null,
   "id": "0055c5b2-5649-4c9b-9367-f6008185109d",
   "metadata": {},
   "outputs": [],
   "source": [
    "import pyaudio\n",
    "\n",
    "def get_mic_index(pa):\n",
    "    \"\"\"マイクチャンネルを取得する関数\"\"\"\n",
    "    \n",
    "    # マイクチャンネル一覧をリストに追加する\n",
    "    mic_list = []\n",
    "    for i in range(pa.get_device_count()):\n",
    "        device_info = pa.get_device_info_by_index(i)\n",
    "        num_of_input_ch = device_info['maxInputChannels']\n",
    "    \n",
    "        if num_of_input_ch > 0:\n",
    "            mic_list.append(device_info['index'])\n",
    "    \n",
    "    return mic_list[0]\n",
    "\n",
    "def record(pa, index, duration):\n",
    "    \"\"\"PC のマイクで録音する関数\"\"\"\n",
    "\n",
    "    # 録音条件\n",
    "    sampling_rate = 44100\n",
    "    frame_size = 1024\n",
    "\n",
    "    # ストリームを開く\n",
    "    stream = pa.open(format=pyaudio.paInt16, channels=1, rate=sampling_rate,\n",
    "                     input=True, input_device_index=index, frames_per_buffer=frame_size)\n",
    "\n",
    "    return\n",
    "\n",
    "# PyAudio を準備する\n",
    "pa = pyaudio.PyAudio()\n",
    "\n",
    "# マイクチャンネルを自動取得\n",
    "index = get_mic_index(pa)\n",
    "print(index)"
   ]
  }
 ],
 "metadata": {
  "kernelspec": {
   "display_name": "Python 3 (ipykernel)",
   "language": "python",
   "name": "python3"
  },
  "language_info": {
   "codemirror_mode": {
    "name": "ipython",
    "version": 3
   },
   "file_extension": ".py",
   "mimetype": "text/x-python",
   "name": "python",
   "nbconvert_exporter": "python",
   "pygments_lexer": "ipython3",
   "version": "3.12.3"
  }
 },
 "nbformat": 4,
 "nbformat_minor": 5
}
