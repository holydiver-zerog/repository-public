{
 "cells": [
  {
   "cell_type": "code",
   "execution_count": 1,
   "id": "ef8a79ae",
   "metadata": {},
   "outputs": [
    {
     "name": "stdout",
     "output_type": "stream",
     "text": [
      "<!DOCTYPE html>\n",
      "\n",
      "<html>\n",
      "<head>\n",
      "<meta charset=\"utf-8\"/>\n",
      "<title>Python2年生</title>\n",
      "</head>\n",
      "<body>\n",
      "<h2>第1章 Pythonでデータをダウンロード</h2>\n",
      "<ol>\n",
      "<li>スクレイピングってなに？</li>\n",
      "<li>Pythonをインストールしてみよう</li>\n",
      "<li>requestsでアクセスしてみよう</li>\n",
      "</ol>\n",
      "</body>\n",
      "</html>\n"
     ]
    }
   ],
   "source": [
    "# chap2-1.py\n",
    "import requests\n",
    "from bs4 import BeautifulSoup\n",
    "\n",
    "# Webページを取得して解析する\n",
    "load_url = \"https://www.ymori.com/books/python2nen/test1.html\"\n",
    "html = requests.get(load_url)\n",
    "soup = BeautifulSoup(html.content, \"html.parser\")\n",
    "\n",
    "# HTML全体を表示する\n",
    "print(soup)"
   ]
  },
  {
   "cell_type": "code",
   "execution_count": 2,
   "id": "671c9ebe",
   "metadata": {},
   "outputs": [
    {
     "name": "stdout",
     "output_type": "stream",
     "text": [
      "<title>Python2年生</title>\n",
      "<h2>第1章 Pythonでデータをダウンロード</h2>\n",
      "<li>スクレイピングってなに？</li>\n"
     ]
    }
   ],
   "source": [
    "# chap2-2.py\n",
    "import requests\n",
    "from bs4 import BeautifulSoup\n",
    "\n",
    "# Webページを取得して解析する\n",
    "load_url = \"https://www.ymori.com/books/python2nen/test1.html\"\n",
    "html = requests.get(load_url)\n",
    "soup = BeautifulSoup(html.content, \"html.parser\")\n",
    "\n",
    "# title、h2、liタグを検索して表示する\n",
    "print(soup.find(\"title\"))\n",
    "print(soup.find(\"h2\"))\n",
    "print(soup.find(\"li\"))"
   ]
  },
  {
   "cell_type": "code",
   "execution_count": 3,
   "id": "e7f01ff8",
   "metadata": {},
   "outputs": [
    {
     "name": "stdout",
     "output_type": "stream",
     "text": [
      "Python2年生\n",
      "第1章 Pythonでデータをダウンロード\n",
      "スクレイピングってなに？\n"
     ]
    }
   ],
   "source": [
    "# chap2-3.py\n",
    "import requests\n",
    "from bs4 import BeautifulSoup\n",
    "\n",
    "# Webページを取得して解析する\n",
    "load_url = \"https://www.ymori.com/books/python2nen/test1.html\"\n",
    "html = requests.get(load_url)\n",
    "soup = BeautifulSoup(html.content, \"html.parser\")\n",
    "\n",
    "# title、h2、liタグを検索して、その文字列を表示する\n",
    "print(soup.find(\"title\").text)\n",
    "print(soup.find(\"h2\").text)\n",
    "print(soup.find(\"li\").text)"
   ]
  },
  {
   "cell_type": "code",
   "execution_count": 4,
   "id": "7fdd9afb",
   "metadata": {},
   "outputs": [
    {
     "name": "stdout",
     "output_type": "stream",
     "text": [
      "スクレイピングってなに？\n",
      "Pythonをインストールしてみよう\n",
      "requestsでアクセスしてみよう\n",
      "HTMLを解析してみよう\n",
      "青空文庫の作品を取得してみよう\n",
      "リンク一覧をファイルに書き出そう\n",
      "画像を一括ダウンロードしよう\n"
     ]
    }
   ],
   "source": [
    "# chap2-4.py\n",
    "import requests\n",
    "from bs4 import BeautifulSoup\n",
    "\n",
    "# Webページを取得して解析する\n",
    "load_url = \"https://www.ymori.com/books/python2nen/test2.html\"\n",
    "html = requests.get(load_url)\n",
    "soup = BeautifulSoup(html.content, \"html.parser\")\n",
    "\n",
    "# すべてのliタグを検索して、その文字列を表示する\n",
    "for element in soup.find_all(\"li\"):\n",
    "    print(element.text)"
   ]
  },
  {
   "cell_type": "code",
   "execution_count": 5,
   "id": "8bec4509",
   "metadata": {},
   "outputs": [
    {
     "name": "stdout",
     "output_type": "stream",
     "text": [
      "<div id=\"chap2\">\n",
      "<h2>第2章 HTMLを解析しよう</h2>\n",
      "<ol>\n",
      "<li>HTMLを解析してみよう</li>\n",
      "<li>青空文庫の作品を取得してみよう</li>\n",
      "<li>リンク一覧をファイルに書き出そう</li>\n",
      "<li>画像を一括ダウンロードしよう</li>\n",
      "</ol>\n",
      "</div>\n"
     ]
    }
   ],
   "source": [
    "# chap2-5.py\n",
    "import requests\n",
    "from bs4 import BeautifulSoup\n",
    "\n",
    "# Webページを取得して解析する\n",
    "load_url = \"https://www.ymori.com/books/python2nen/test2.html\"\n",
    "html = requests.get(load_url)\n",
    "soup = BeautifulSoup(html.content, \"html.parser\")\n",
    "\n",
    "# idで検索して、そのタグの中身を表示する\n",
    "chap2 = soup.find(id=\"chap2\")\n",
    "print(chap2)"
   ]
  },
  {
   "cell_type": "code",
   "execution_count": 6,
   "id": "5d920ac4",
   "metadata": {},
   "outputs": [
    {
     "name": "stdout",
     "output_type": "stream",
     "text": [
      "HTMLを解析してみよう\n",
      "青空文庫の作品を取得してみよう\n",
      "リンク一覧をファイルに書き出そう\n",
      "画像を一括ダウンロードしよう\n"
     ]
    }
   ],
   "source": [
    "# chap2-6.py\n",
    "import requests\n",
    "from bs4 import BeautifulSoup\n",
    "\n",
    "# Webページを取得して解析する\n",
    "load_url = \"https://www.ymori.com/books/python2nen/test2.html\"\n",
    "html = requests.get(load_url)\n",
    "soup = BeautifulSoup(html.content, \"html.parser\")\n",
    "\n",
    "# idで検索し、その中のすべてのliタグを検索して表示する\n",
    "chap2 = soup.find(id=\"chap2\")\n",
    "for element in chap2.find_all(\"li\"):\n",
    "    print(element.text)"
   ]
  },
  {
   "cell_type": "code",
   "execution_count": 7,
   "id": "a51cd76d",
   "metadata": {},
   "outputs": [
    {
     "name": "stdout",
     "output_type": "stream",
     "text": [
      "<?xml version=\"1.0\" encoding=\"Shift_JIS\"?>\n",
      "<!DOCTYPE html PUBLIC \"-//W3C//DTD XHTML 1.1//EN\"\n",
      "    \"http://www.w3.org/TR/xhtml11/DTD/xhtml11.dtd\">\n",
      "\n",
      "<html xml:lang=\"ja\" xmlns=\"http://www.w3.org/1999/xhtml\">\n",
      "<head>\n",
      "<meta content=\"text/html;charset=utf-8\" http-equiv=\"Content-Type\"/>\n",
      "<meta content=\"text/css\" http-equiv=\"content-style-type\"/>\n",
      "<link href=\"../../aozora.css\" rel=\"stylesheet\" type=\"text/css\"/>\n",
      "<title>芥川龍之介 蜘蛛の糸</title>\n",
      "<script src=\"../../jquery-1.4.2.min.js\" type=\"text/javascript\"></script>\n",
      "<link href=\"http://purl.org/dc/elements/1.1/\" rel=\"Schema.DC\"/>\n",
      "<meta content=\"蜘蛛の糸\" name=\"DC.Title\"/>\n",
      "<meta content=\"芥川龍之介\" name=\"DC.Creator\"/>\n",
      "<meta content=\"青空文庫\" name=\"DC.Publisher\"/>\n",
      "</head>\n",
      "<body>\n",
      "<div class=\"metadata\">\n",
      "<h1 class=\"title\">蜘蛛の糸</h1>\n",
      "<h2 class=\"author\">芥川龍之介</h2>\n",
      "<br/>\n",
      "<br/>\n",
      "</div>\n",
      "<div id=\"contents\" style=\"display:none\"></div><div class=\"main_text\"><br/>\n",
      "<div class=\"jisage_8\" style=\"margin-left: 8em\"><h4 class=\"naka-midashi\"><a class=\"midashi_anchor\" id=\"midashi10\">一</a></h4></div>\n",
      "<br/>\n",
      "　ある日の事でございます。<ruby><rb>御釈迦様</rb><rp>（</rp><rt>おしゃかさま</rt><rp>）</rp></ruby>は極楽の<ruby><rb>蓮池</rb><rp>（</rp><rt>はすいけ</rt><rp>）</rp></ruby>のふちを、独りでぶらぶら御歩きになっていらっしゃいました。池の中に咲いている<ruby><rb>蓮</rb><rp>（</rp><rt>はす</rt><rp>）</rp></ruby>の花は、みんな玉のようにまっ白で、そのまん中にある<ruby><rb>金色</rb><rp>（</rp><rt>きんいろ</rt><rp>）</rp></ruby>の<ruby><rb>蕊</rb><rp>（</rp><rt>ずい</rt><rp>）</rp></ruby>からは、何とも云えない<ruby><rb>好</rb><rp>（</rp><rt>よ</rt><rp>）</rp></ruby>い<ruby><rb>匂</rb><rp>（</rp><rt>におい</rt><rp>）</rp></ruby>が、<ruby><rb>絶間</rb><rp>（</rp><rt>たえま</rt><rp>）</rp></ruby>なくあたりへ<ruby><rb>溢</rb><rp>（</rp><rt>あふ</rt><rp>）</rp></ruby>れて居ります。極楽は丁度朝なのでございましょう。<br/>\n",
      "　やがて御釈迦様はその池のふちに<ruby><rb>御佇</rb><rp>（</rp><rt>おたたず</rt><rp>）</rp></ruby>みになって、水の<ruby><rb>面</rb><rp>（</rp><rt>おもて</rt><rp>）</rp></ruby>を<ruby><rb>蔽</rb><rp>（</rp><rt>おお</rt><rp>）</rp></ruby>っている蓮の葉の間から、ふと下の<ruby><rb>容子</rb><rp>（</rp><rt>ようす</rt><rp>）</rp></ruby>を御覧になりました。この極楽の蓮池の下は、丁度<ruby><rb>地獄</rb><rp>（</rp><rt>じごく</rt><rp>）</rp></ruby>の底に当って居りますから、<ruby><rb>水晶</rb><rp>（</rp><rt>すいしよう</rt><rp>）</rp></ruby>のような水を透き徹して、<ruby><rb>三途</rb><rp>（</rp><rt>さんず</rt><rp>）</rp></ruby>の河や針の山の景色が、丁度<ruby><rb>覗</rb><rp>（</rp><rt>のぞ</rt><rp>）</rp></ruby>き<ruby><rb>眼鏡</rb><rp>（</rp><rt>めがね</rt><rp>）</rp></ruby>を見るように、はっきりと見えるのでございます。<br/>\n",
      "　するとその地獄の底に、<ruby><rb><img alt=\"※(「特のへん＋廴＋聿」、第3水準1-87-71)\" class=\"gaiji\" src=\"../../../gaiji/1-87/1-87-71.png\"/>陀多</rb><rp>（</rp><rt>かんだた</rt><rp>）</rp></ruby>と云う男が一人、ほかの罪人と一しょに<ruby><rb>蠢</rb><rp>（</rp><rt>うごめ</rt><rp>）</rp></ruby>いている姿が、御眼に止まりました。この<img alt=\"※(「特のへん＋廴＋聿」、第3水準1-87-71)\" class=\"gaiji\" src=\"../../../gaiji/1-87/1-87-71.png\"/>陀多と云う男は、人を殺したり家に火をつけたり、いろいろ悪事を働いた大泥坊でございますが、それでもたった一つ、善い事を致した覚えがございます。と申しますのは、ある時この男が深い林の中を通りますと、小さな<ruby><rb>蜘蛛</rb><rp>（</rp><rt>くも</rt><rp>）</rp></ruby>が一匹、路ばたを<ruby><rb>這</rb><rp>（</rp><rt>は</rt><rp>）</rp></ruby>って行くのが見えました。そこで<img alt=\"※(「特のへん＋廴＋聿」、第3水準1-87-71)\" class=\"gaiji\" src=\"../../../gaiji/1-87/1-87-71.png\"/>陀多は早速足を挙げて、踏み殺そうと致しましたが、「いや、いや、これも小さいながら、命のあるものに違いない。その命を<ruby><rb>無暗</rb><rp>（</rp><rt>むやみ</rt><rp>）</rp></ruby>にとると云う事は、いくら何でも可哀そうだ。」と、こう急に思い返して、とうとうその蜘蛛を殺さずに助けてやったからでございます。<br/>\n",
      "　御釈迦様は地獄の容子を御覧になりながら、この<img alt=\"※(「特のへん＋廴＋聿」、第3水準1-87-71)\" class=\"gaiji\" src=\"../../../gaiji/1-87/1-87-71.png\"/>陀多には蜘蛛を助けた事があるのを御思い出しになりました。そうしてそれだけの善い事をした<ruby><rb>報</rb><rp>（</rp><rt>むくい</rt><rp>）</rp></ruby>には、出来るなら、この男を地獄から救い出してやろうと御考えになりました。幸い、側を見ますと、<ruby><rb>翡翠</rb><rp>（</rp><rt>ひすい</rt><rp>）</rp></ruby>のような色をした蓮の葉の上に、極楽の蜘蛛が一匹、美しい銀色の糸をかけて居ります。御釈迦様はその蜘蛛の糸をそっと御手に御取りになって、玉のような<ruby><rb>白蓮</rb><rp>（</rp><rt>しらはす</rt><rp>）</rp></ruby>の間から、遥か下にある地獄の底へ、まっすぐにそれを御<ruby><rb>下</rb><rp>（</rp><rt>おろ</rt><rp>）</rp></ruby>しなさいました。<br/>\n",
      "<br/>\n",
      "<div class=\"jisage_8\" style=\"margin-left: 8em\"><h4 class=\"naka-midashi\"><a class=\"midashi_anchor\" id=\"midashi20\">二</a></h4></div>\n",
      "<br/>\n",
      "　こちらは地獄の底の血の池で、ほかの罪人と一しょに、浮いたり沈んだりしていた<ruby><rb><img alt=\"※(「特のへん＋廴＋聿」、第3水準1-87-71)\" class=\"gaiji\" src=\"../../../gaiji/1-87/1-87-71.png\"/>陀多</rb><rp>（</rp><rt>かんだた</rt><rp>）</rp></ruby>でございます。何しろどちらを見ても、まっ暗で、たまにそのくら暗からぼんやり浮き上っているものがあると思いますと、それは恐しい針の山の針が光るのでございますから、その心細さと云ったらございません。その上あたりは墓の中のようにしんと静まり返って、たまに聞えるものと云っては、ただ罪人がつく<ruby><rb>微</rb><rp>（</rp><rt>かすか</rt><rp>）</rp></ruby>な<ruby><rb>嘆息</rb><rp>（</rp><rt>たんそく</rt><rp>）</rp></ruby>ばかりでございます。これはここへ落ちて来るほどの人間は、もうさまざまな地獄の<ruby><rb>責苦</rb><rp>（</rp><rt>せめく</rt><rp>）</rp></ruby>に疲れはてて、泣声を出す力さえなくなっているのでございましょう。ですからさすが大泥坊の<img alt=\"※(「特のへん＋廴＋聿」、第3水準1-87-71)\" class=\"gaiji\" src=\"../../../gaiji/1-87/1-87-71.png\"/>陀多も、やはり血の池の血に<ruby><rb>咽</rb><rp>（</rp><rt>むせ</rt><rp>）</rp></ruby>びながら、まるで死にかかった<ruby><rb>蛙</rb><rp>（</rp><rt>かわず</rt><rp>）</rp></ruby>のように、ただもがいてばかり居りました。<br/>\n",
      "　ところがある時の事でございます。<ruby><rb>何気</rb><rp>（</rp><rt>なにげ</rt><rp>）</rp></ruby>なく<img alt=\"※(「特のへん＋廴＋聿」、第3水準1-87-71)\" class=\"gaiji\" src=\"../../../gaiji/1-87/1-87-71.png\"/>陀多が頭を挙げて、血の池の空を眺めますと、そのひっそりとした暗の中を、遠い遠い天上から、銀色の<ruby><rb>蜘蛛</rb><rp>（</rp><rt>くも</rt><rp>）</rp></ruby>の糸が、まるで人目にかかるのを恐れるように、一すじ細く光りながら、するすると自分の上へ垂れて参るのではございませんか。<img alt=\"※(「特のへん＋廴＋聿」、第3水準1-87-71)\" class=\"gaiji\" src=\"../../../gaiji/1-87/1-87-71.png\"/>陀多はこれを見ると、思わず手を<ruby><rb>拍</rb><rp>（</rp><rt>う</rt><rp>）</rp></ruby>って喜びました。この糸に<ruby><rb>縋</rb><rp>（</rp><rt>すが</rt><rp>）</rp></ruby>りついて、どこまでものぼって行けば、きっと地獄からぬけ出せるのに相違ございません。いや、うまく行くと、極楽へはいる事さえも出来ましょう。そうすれば、もう針の山へ追い上げられる事もなくなれば、血の池に沈められる事もある筈はございません。<br/>\n",
      "　こう思いましたから<ruby><rb><img alt=\"※(「特のへん＋廴＋聿」、第3水準1-87-71)\" class=\"gaiji\" src=\"../../../gaiji/1-87/1-87-71.png\"/>陀多</rb><rp>（</rp><rt>かんだた</rt><rp>）</rp></ruby>は、早速その蜘蛛の糸を両手でしっかりとつかみながら、一生懸命に上へ上へとたぐりのぼり始めました。元より大泥坊の事でございますから、こう云う事には昔から、慣れ切っているのでございます。<br/>\n",
      "　しかし地獄と極楽との間は、何万里となくございますから、いくら<ruby><rb>焦</rb><rp>（</rp><rt>あせ</rt><rp>）</rp></ruby>って見た所で、容易に上へは出られません。ややしばらくのぼる<ruby><rb>中</rb><rp>（</rp><rt>うち</rt><rp>）</rp></ruby>に、とうとう<img alt=\"※(「特のへん＋廴＋聿」、第3水準1-87-71)\" class=\"gaiji\" src=\"../../../gaiji/1-87/1-87-71.png\"/>陀多もくたびれて、もう一たぐりも上の方へはのぼれなくなってしまいました。そこで仕方がございませんから、まず一休み休むつもりで、糸の中途にぶら下りながら、遥かに目の下を見下しました。<br/>\n",
      "　すると、一生懸命にのぼった甲斐があって、さっきまで自分がいた血の池は、今ではもう暗の底にいつの間にかかくれて居ります。それからあのぼんやり光っている恐しい針の山も、足の下になってしまいました。この分でのぼって行けば、地獄からぬけ出すのも、存外わけがないかも知れません。<img alt=\"※(「特のへん＋廴＋聿」、第3水準1-87-71)\" class=\"gaiji\" src=\"../../../gaiji/1-87/1-87-71.png\"/>陀多は両手を蜘蛛の糸にからみながら、ここへ来てから何年にも出した事のない声で、「しめた。しめた。」と笑いました。ところがふと気がつきますと、蜘蛛の糸の下の方には、<ruby><rb>数限</rb><rp>（</rp><rt>かずかぎり</rt><rp>）</rp></ruby>もない罪人たちが、自分ののぼった後をつけて、まるで<ruby><rb>蟻</rb><rp>（</rp><rt>あり</rt><rp>）</rp></ruby>の行列のように、やはり上へ上へ一心によじのぼって来るではございませんか。<img alt=\"※(「特のへん＋廴＋聿」、第3水準1-87-71)\" class=\"gaiji\" src=\"../../../gaiji/1-87/1-87-71.png\"/>陀多はこれを見ると、驚いたのと恐しいのとで、しばらくはただ、<ruby><rb>莫迦</rb><rp>（</rp><rt>ばか</rt><rp>）</rp></ruby>のように大きな口を<ruby><rb>開</rb><rp>（</rp><rt>あ</rt><rp>）</rp></ruby>いたまま、眼ばかり動かして居りました。自分一人でさえ<ruby><rb>断</rb><rp>（</rp><rt>き</rt><rp>）</rp></ruby>れそうな、この細い蜘蛛の糸が、どうしてあれだけの<ruby><rb>人数</rb><rp>（</rp><rt>にんず</rt><rp>）</rp></ruby>の重みに堪える事が出来ましょう。もし万一途中で<ruby><rb>断</rb><rp>（</rp><rt>き</rt><rp>）</rp></ruby>れたと致しましたら、折角ここへまでのぼって来たこの<ruby><rb>肝腎</rb><rp>（</rp><rt>かんじん</rt><rp>）</rp></ruby>な自分までも、元の地獄へ<ruby><rb>逆落</rb><rp>（</rp><rt>さかおと</rt><rp>）</rp></ruby>しに落ちてしまわなければなりません。そんな事があったら、大変でございます。が、そう云う中にも、罪人たちは何百となく何千となく、まっ暗な血の池の底から、うようよと<ruby><rb>這</rb><rp>（</rp><rt>は</rt><rp>）</rp></ruby>い上って、細く光っている蜘蛛の糸を、一列になりながら、せっせとのぼって参ります。今の中にどうかしなければ、糸はまん中から二つに断れて、落ちてしまうのに違いありません。<br/>\n",
      "　そこで<img alt=\"※(「特のへん＋廴＋聿」、第3水準1-87-71)\" class=\"gaiji\" src=\"../../../gaiji/1-87/1-87-71.png\"/>陀多は大きな声を出して、「こら、罪人ども。この蜘蛛の糸は<ruby><rb>己</rb><rp>（</rp><rt>おれ</rt><rp>）</rp></ruby>のものだぞ。お前たちは一体誰に<ruby><rb>尋</rb><rp>（</rp><rt>き</rt><rp>）</rp></ruby>いて、のぼって来た。下りろ。下りろ。」と<ruby><rb>喚</rb><rp>（</rp><rt>わめ</rt><rp>）</rp></ruby>きました。<br/>\n",
      "　その途端でございます。今まで何ともなかった蜘蛛の糸が、急に<img alt=\"※(「特のへん＋廴＋聿」、第3水準1-87-71)\" class=\"gaiji\" src=\"../../../gaiji/1-87/1-87-71.png\"/>陀多のぶら下っている所から、ぷつりと音を立てて<ruby><rb>断</rb><rp>（</rp><rt>き</rt><rp>）</rp></ruby>れました。ですから<img alt=\"※(「特のへん＋廴＋聿」、第3水準1-87-71)\" class=\"gaiji\" src=\"../../../gaiji/1-87/1-87-71.png\"/>陀多もたまりません。あっと云う<ruby><rb>間</rb><rp>（</rp><rt>ま</rt><rp>）</rp></ruby>もなく風を切って、<ruby><rb>独楽</rb><rp>（</rp><rt>こま</rt><rp>）</rp></ruby>のようにくるくるまわりながら、見る見る中に暗の底へ、まっさかさまに落ちてしまいました。<br/>\n",
      "　後にはただ極楽の蜘蛛の糸が、きらきらと細く光りながら、月も星もない空の中途に、短く垂れているばかりでございます。<br/>\n",
      "<br/>\n",
      "<div class=\"jisage_8\" style=\"margin-left: 8em\"><h4 class=\"naka-midashi\"><a class=\"midashi_anchor\" id=\"midashi30\">三</a></h4></div>\n",
      "<br/>\n",
      "　<ruby><rb>御釈迦様</rb><rp>（</rp><rt>おしゃかさま</rt><rp>）</rp></ruby>は極楽の<ruby><rb>蓮池</rb><rp>（</rp><rt>はすいけ</rt><rp>）</rp></ruby>のふちに立って、この一部<ruby><rb>始終</rb><rp>（</rp><rt>しじゅう</rt><rp>）</rp></ruby>をじっと見ていらっしゃいましたが、やがて<ruby><rb><img alt=\"※(「特のへん＋廴＋聿」、第3水準1-87-71)\" class=\"gaiji\" src=\"../../../gaiji/1-87/1-87-71.png\"/>陀多</rb><rp>（</rp><rt>かんだた</rt><rp>）</rp></ruby>が血の池の底へ石のように沈んでしまいますと、悲しそうな御顔をなさりながら、またぶらぶら御歩きになり始めました。自分ばかり地獄からぬけ出そうとする、<img alt=\"※(「特のへん＋廴＋聿」、第3水準1-87-71)\" class=\"gaiji\" src=\"../../../gaiji/1-87/1-87-71.png\"/>陀多の無慈悲な心が、そうしてその心相当な罰をうけて、元の地獄へ落ちてしまったのが、御釈迦様の御目から見ると、浅間しく思召されたのでございましょう。<br/>\n",
      "　しかし極楽の蓮池の蓮は、少しもそんな事には<ruby><rb>頓着</rb><rp>（</rp><rt>とんじゃく</rt><rp>）</rp></ruby>致しません。その玉のような白い花は、御釈迦様の<ruby><rb>御足</rb><rp>（</rp><rt>おみあし</rt><rp>）</rp></ruby>のまわりに、ゆらゆら<ruby><rb>萼</rb><rp>（</rp><rt>うてな</rt><rp>）</rp></ruby>を動かして、そのまん中にある金色の<ruby><rb>蕊</rb><rp>（</rp><rt>ずい</rt><rp>）</rp></ruby>からは、何とも云えない<ruby><rb>好</rb><rp>（</rp><rt>よ</rt><rp>）</rp></ruby>い匂が、<ruby><rb>絶間</rb><rp>（</rp><rt>たえま</rt><rp>）</rp></ruby>なくあたりへ<ruby><rb>溢</rb><rp>（</rp><rt>あふ</rt><rp>）</rp></ruby>れて居ります。極楽ももう<ruby><rb>午</rb><rp>（</rp><rt>ひる</rt><rp>）</rp></ruby>に近くなったのでございましょう。<br/>\n",
      "<div class=\"chitsuki_1\" style=\"text-align:right; margin-right: 1em\">（大正七年四月十六日）</div>\n",
      "<br/>\n",
      "<br/>\n",
      "<br/>\n",
      "</div>\n",
      "<div class=\"bibliographical_information\">\n",
      "<hr/>\n",
      "<br/>\n",
      "底本：「芥川龍之介全集2」ちくま文庫、筑摩書房<br/>\n",
      "　　　1986（昭和61）年10月28日第1刷発行<br/>\n",
      "　　　1996（平成8）年7月15日第11刷発行<br/>\n",
      "親本：筑摩全集類聚版芥川龍之介全集<br/>\n",
      "　　　1971（昭和46）年3月〜11月<br/>\n",
      "入力：平山誠、野口英司<br/>\n",
      "校正：もりみつじゅんじ<br/>\n",
      "1997年11月10日公開<br/>\n",
      "2011年1月28日修正<br/>\n",
      "青空文庫作成ファイル：<br/>\n",
      "このファイルは、インターネットの図書館、<a href=\"http://www.aozora.gr.jp/\">青空文庫（http://www.aozora.gr.jp/）</a>で作られました。入力、校正、制作にあたったのは、ボランティアの皆さんです。<br/>\n",
      "<br/>\n",
      "<br/>\n",
      "</div>\n",
      "<div class=\"notation_notes\">\n",
      "<hr/>\n",
      "<br/>\n",
      "●表記について<br/>\n",
      "<ul>\n",
      "<li>このファイルは W3C 勧告 XHTML1.1 にそった形式で作成されています。</li>\n",
      "<li>「くの字点」をのぞくJIS X 0213にある文字は、画像化して埋め込みました。</li>\n",
      "</ul>\n",
      "</div>\n",
      "<div id=\"card\">\n",
      "<hr/>\n",
      "<br/>\n",
      "<a href=\"JavaScript:goLibCard();\" id=\"goAZLibCard\">●図書カード</a><script src=\"../../contents.js\" type=\"text/javascript\"></script>\n",
      "<script src=\"../../golibcard.js\" type=\"text/javascript\"></script>\n",
      "</div></body>\n",
      "</html>\n",
      "\n"
     ]
    }
   ],
   "source": [
    "# chap2-7.py\n",
    "import requests\n",
    "from bs4 import BeautifulSoup\n",
    "\n",
    "load_url = \"https://www.aozora.gr.jp/cards/000879/files/92_14545.html\"\n",
    "html = requests.get(load_url)\n",
    "soup = BeautifulSoup(html.content, \"html.parser\")\n",
    "print(soup)"
   ]
  },
  {
   "cell_type": "code",
   "execution_count": 8,
   "id": "083c2369",
   "metadata": {},
   "outputs": [
    {
     "name": "stdout",
     "output_type": "stream",
     "text": [
      "タイトル： 蜘蛛の糸\n",
      "作者： 芥川龍之介\n",
      "本文： \n",
      "一\n",
      "\n",
      "　ある日の事でございます。御釈迦様は極楽の蓮池のふちを、独りでぶらぶら御歩きになっていらっしゃいました。池の中に咲いている蓮の花は、みんな玉のようにまっ白で、そのまん中にある金色の蕊からは、何とも云えない好い匂が、絶間なくあたりへ溢れて居ります。極楽は丁度朝なのでございましょう。\n",
      "　やがて御釈迦様はその池のふちに御佇みになって、水の面を蔽っている蓮の葉の間から、ふと下の容子を御覧になりました。この極楽の蓮池の下は、丁度地獄の底に当って居りますから、水晶のような水を透き徹して、三途の河や針の山の景色が、丁度覗き眼鏡を見るように、はっきりと見えるのでございます。\n",
      "　するとその地獄の底に、陀多と云う男が一人、ほかの罪人と一しょに蠢いている姿が、御眼に止まりました。この陀多と云う男は、人を殺したり家に火をつけたり、いろいろ悪事を働いた大泥坊でございますが、それでもたった一つ、善い事を致した覚えがございます。と申しますのは、ある時この男が深い林の中を通りますと、小さな蜘蛛が一匹、路ばたを這って行くのが見えました。そこで陀多は早速足を挙げて、踏み殺そうと致しましたが、「いや、いや、これも小さいながら、命のあるものに違いない。その命を無暗にとると云う事は、いくら何でも可哀そうだ。」と、こう急に思い返して、とうとうその蜘蛛を殺さずに助けてやったからでございます。\n",
      "　御釈迦様は地獄の容子を御覧になりながら、この陀多には蜘蛛を助けた事があるのを御思い出しになりました。そうしてそれだけの善い事をした報には、出来るなら、この男を地獄から救い出してやろうと御考えになりました。幸い、側を見ますと、翡翠のような色をした蓮の葉の上に、極楽の蜘蛛が一匹、美しい銀色の糸をかけて居ります。御釈迦様はその蜘蛛の糸をそっと御手に御取りになって、玉のような白蓮の間から、遥か下にある地獄の底へ、まっすぐにそれを御下しなさいました。\n",
      "\n",
      "二\n",
      "\n",
      "　こちらは地獄の底の血の池で、ほかの罪人と一しょに、浮いたり沈んだりしていた陀多でございます。何しろどちらを見ても、まっ暗で、たまにそのくら暗からぼんやり浮き上っているものがあると思いますと、それは恐しい針の山の針が光るのでございますから、その心細さと云ったらございません。その上あたりは墓の中のようにしんと静まり返って、たまに聞えるものと云っては、ただ罪人がつく微な嘆息ばかりでございます。これはここへ落ちて来るほどの人間は、もうさまざまな地獄の責苦に疲れはてて、泣声を出す力さえなくなっているのでございましょう。ですからさすが大泥坊の陀多も、やはり血の池の血に咽びながら、まるで死にかかった蛙のように、ただもがいてばかり居りました。\n",
      "　ところがある時の事でございます。何気なく陀多が頭を挙げて、血の池の空を眺めますと、そのひっそりとした暗の中を、遠い遠い天上から、銀色の蜘蛛の糸が、まるで人目にかかるのを恐れるように、一すじ細く光りながら、するすると自分の上へ垂れて参るのではございませんか。陀多はこれを見ると、思わず手を拍って喜びました。この糸に縋りついて、どこまでものぼって行けば、きっと地獄からぬけ出せるのに相違ございません。いや、うまく行くと、極楽へはいる事さえも出来ましょう。そうすれば、もう針の山へ追い上げられる事もなくなれば、血の池に沈められる事もある筈はございません。\n",
      "　こう思いましたから陀多は、早速その蜘蛛の糸を両手でしっかりとつかみながら、一生懸命に上へ上へとたぐりのぼり始めました。元より大泥坊の事でございますから、こう云う事には昔から、慣れ切っているのでございます。\n",
      "　しかし地獄と極楽との間は、何万里となくございますから、いくら焦って見た所で、容易に上へは出られません。ややしばらくのぼる中に、とうとう陀多もくたびれて、もう一たぐりも上の方へはのぼれなくなってしまいました。そこで仕方がございませんから、まず一休み休むつもりで、糸の中途にぶら下りながら、遥かに目の下を見下しました。\n",
      "　すると、一生懸命にのぼった甲斐があって、さっきまで自分がいた血の池は、今ではもう暗の底にいつの間にかかくれて居ります。それからあのぼんやり光っている恐しい針の山も、足の下になってしまいました。この分でのぼって行けば、地獄からぬけ出すのも、存外わけがないかも知れません。陀多は両手を蜘蛛の糸にからみながら、ここへ来てから何年にも出した事のない声で、「しめた。しめた。」と笑いました。ところがふと気がつきますと、蜘蛛の糸の下の方には、数限もない罪人たちが、自分ののぼった後をつけて、まるで蟻の行列のように、やはり上へ上へ一心によじのぼって来るではございませんか。陀多はこれを見ると、驚いたのと恐しいのとで、しばらくはただ、莫迦のように大きな口を開いたまま、眼ばかり動かして居りました。自分一人でさえ断れそうな、この細い蜘蛛の糸が、どうしてあれだけの人数の重みに堪える事が出来ましょう。もし万一途中で断れたと致しましたら、折角ここへまでのぼって来たこの肝腎な自分までも、元の地獄へ逆落しに落ちてしまわなければなりません。そんな事があったら、大変でございます。が、そう云う中にも、罪人たちは何百となく何千となく、まっ暗な血の池の底から、うようよと這い上って、細く光っている蜘蛛の糸を、一列になりながら、せっせとのぼって参ります。今の中にどうかしなければ、糸はまん中から二つに断れて、落ちてしまうのに違いありません。\n",
      "　そこで陀多は大きな声を出して、「こら、罪人ども。この蜘蛛の糸は己のものだぞ。お前たちは一体誰に尋いて、のぼって来た。下りろ。下りろ。」と喚きました。\n",
      "　その途端でございます。今まで何ともなかった蜘蛛の糸が、急に陀多のぶら下っている所から、ぷつりと音を立てて断れました。ですから陀多もたまりません。あっと云う間もなく風を切って、独楽のようにくるくるまわりながら、見る見る中に暗の底へ、まっさかさまに落ちてしまいました。\n",
      "　後にはただ極楽の蜘蛛の糸が、きらきらと細く光りながら、月も星もない空の中途に、短く垂れているばかりでございます。\n",
      "\n",
      "三\n",
      "\n",
      "　御釈迦様は極楽の蓮池のふちに立って、この一部始終をじっと見ていらっしゃいましたが、やがて陀多が血の池の底へ石のように沈んでしまいますと、悲しそうな御顔をなさりながら、またぶらぶら御歩きになり始めました。自分ばかり地獄からぬけ出そうとする、陀多の無慈悲な心が、そうしてその心相当な罰をうけて、元の地獄へ落ちてしまったのが、御釈迦様の御目から見ると、浅間しく思召されたのでございましょう。\n",
      "　しかし極楽の蓮池の蓮は、少しもそんな事には頓着致しません。その玉のような白い花は、御釈迦様の御足のまわりに、ゆらゆら萼を動かして、そのまん中にある金色の蕊からは、何とも云えない好い匂が、絶間なくあたりへ溢れて居ります。極楽ももう午に近くなったのでございましょう。\n",
      "（大正七年四月十六日）\n",
      "\n",
      "\n",
      "\n",
      "\n"
     ]
    }
   ],
   "source": [
    "# chap2-8.py\n",
    "import requests\n",
    "from bs4 import BeautifulSoup\n",
    "\n",
    "load_url = \"https://www.aozora.gr.jp/cards/000879/files/92_14545.html\"\n",
    "html = requests.get(load_url)\n",
    "soup = BeautifulSoup(html.content, \"html.parser\")\n",
    "\n",
    "title = soup.find(\"h1\", class_=\"title\")\n",
    "print(\"タイトル：\", title.text)\n",
    "author = soup.find(\"h2\", class_=\"author\")\n",
    "print(\"作者：\", author.text)\n",
    "content = soup.find(\"div\", class_=\"main_text\")\n",
    "print(\"本文：\", content.text)"
   ]
  },
  {
   "cell_type": "code",
   "execution_count": 9,
   "id": "f3b47576",
   "metadata": {},
   "outputs": [
    {
     "name": "stdout",
     "output_type": "stream",
     "text": [
      "リンク1\n",
      "https://www.ymori.com/books/python2nen/test1.html\n",
      "リンク2\n",
      "./test3.html\n"
     ]
    }
   ],
   "source": [
    "# chap2-9.py\n",
    "import requests\n",
    "from bs4 import BeautifulSoup\n",
    "\n",
    "# Webページを取得して解析する\n",
    "load_url = \"https://www.ymori.com/books/python2nen/test2.html\"\n",
    "html = requests.get(load_url)\n",
    "soup = BeautifulSoup(html.content, \"html.parser\")\n",
    "\n",
    "# すべてのaタグを検索して、リンクを表示する\n",
    "for element in soup.find_all(\"a\"):\n",
    "    print(element.text)\n",
    "    url = element.get(\"href\")\n",
    "    print(url)"
   ]
  },
  {
   "cell_type": "code",
   "execution_count": 10,
   "id": "09994a89",
   "metadata": {},
   "outputs": [
    {
     "name": "stdout",
     "output_type": "stream",
     "text": [
      "リンク1\n",
      "https://www.ymori.com/books/python2nen/test1.html\n",
      "リンク2\n",
      "https://www.ymori.com/books/python2nen/test3.html\n"
     ]
    }
   ],
   "source": [
    "# chap2-10.py\n",
    "import requests\n",
    "from bs4 import BeautifulSoup\n",
    "import urllib\n",
    "\n",
    "# Webページを取得して解析する\n",
    "load_url = \"https://www.ymori.com/books/python2nen/test2.html\"\n",
    "html = requests.get(load_url)\n",
    "soup = BeautifulSoup(html.content, \"html.parser\")\n",
    "\n",
    "# すべてのaタグを検索し、リンクを絶対URLで表示する\n",
    "for element in soup.find_all(\"a\"):\n",
    "    print(element.text)\n",
    "    url = element.get(\"href\")\n",
    "    link_url = urllib.parse.urljoin(load_url, url)\n",
    "    print(link_url)"
   ]
  },
  {
   "cell_type": "code",
   "execution_count": 11,
   "id": "39d8cd3a",
   "metadata": {},
   "outputs": [],
   "source": [
    "# chap2-11.py\n",
    "import requests\n",
    "from bs4 import BeautifulSoup\n",
    "import urllib\n",
    "\n",
    "# Webページを取得して解析する\n",
    "load_url = \"https://www.ymori.com/books/python2nen/test2.html\"\n",
    "html = requests.get(load_url)\n",
    "soup = BeautifulSoup(html.content, \"html.parser\")\n",
    "\n",
    "# ファイルを書き込みモードで開く\n",
    "filename = \"linklist.txt\"\n",
    "with open(filename, \"w\") as f:\n",
    "    # すべてのaタグを検索し、リンクを絶対URLで書き出す\n",
    "    for element in soup.find_all(\"a\"):\n",
    "        url = element.get(\"href\")\n",
    "        link_url = urllib.parse.urljoin(load_url, url)\n",
    "        f.write(element.text + \"\\n\")\n",
    "        f.write(link_url + \"\\n\")\n",
    "        f.write(\"\\n\")"
   ]
  },
  {
   "cell_type": "code",
   "execution_count": 12,
   "id": "947c924d",
   "metadata": {},
   "outputs": [],
   "source": [
    "# chap2-12.py\n",
    "import requests\n",
    "\n",
    "# 画像ファイルを取得する\n",
    "image_url = \"https://www.ymori.com/books/python2nen/sample1.png\"\n",
    "imgdata = requests.get(image_url)\n",
    "\n",
    "# URLから最後のファイル名を取り出す\n",
    "filename = image_url.split(\"/\")[-1]\n",
    "\n",
    "# 画像データを、ファイルに書き出す\n",
    "with open(filename, mode=\"wb\") as f:\n",
    "    f.write(imgdata.content)"
   ]
  },
  {
   "cell_type": "code",
   "execution_count": 13,
   "id": "abada272",
   "metadata": {},
   "outputs": [],
   "source": [
    "# chap2-13.py\n",
    "import requests\n",
    "from pathlib import Path\n",
    "\n",
    "# 保存用フォルダを作る\n",
    "out_folder = Path(\"download\")\n",
    "out_folder.mkdir(exist_ok=True)\n",
    "\n",
    "# 画像ファイルを取得する\n",
    "image_url = \"https://www.ymori.com/books/python2nen/sample1.png\"\n",
    "imgdata = requests.get(image_url)\n",
    "\n",
    "# URLから最後のファイル名を取り出して、保存フォルダ名とつなげる\n",
    "filename = image_url.split(\"/\")[-1]\n",
    "out_path = out_folder.joinpath(filename)\n",
    "\n",
    "# 画像データを、ファイルに書き出す\n",
    "with open(out_path, mode=\"wb\") as f:\n",
    "    f.write(imgdata.content)"
   ]
  },
  {
   "cell_type": "code",
   "execution_count": 14,
   "id": "2d89c024",
   "metadata": {},
   "outputs": [
    {
     "name": "stdout",
     "output_type": "stream",
     "text": [
      "https://www.ymori.com/books/python2nen/sample1.png >> sample1.png\n",
      "https://www.ymori.com/books/python2nen/sample2.png >> sample2.png\n",
      "https://www.ymori.com/books/python2nen/sample3.png >> sample3.png\n"
     ]
    }
   ],
   "source": [
    "# chap2-14.py\n",
    "import requests\n",
    "from bs4 import BeautifulSoup\n",
    "import urllib\n",
    "\n",
    "# Webページを取得して解析する\n",
    "load_url = \"https://www.ymori.com/books/python2nen/test2.html\"\n",
    "html = requests.get(load_url)\n",
    "soup = BeautifulSoup(html.content, \"html.parser\")\n",
    "\n",
    "# すべてのimgタグを検索し、リンクを取得する\n",
    "for element in soup.find_all(\"img\"):\n",
    "    src = element.get(\"src\")\n",
    "\n",
    "    # 絶対URLと、ファイルを表示する\n",
    "    image_url = urllib.parse.urljoin(load_url, src)\n",
    "    filename = image_url.split(\"/\")[-1]\n",
    "    print(image_url, \">>\", filename)"
   ]
  },
  {
   "cell_type": "code",
   "execution_count": 15,
   "id": "71de3579",
   "metadata": {},
   "outputs": [],
   "source": [
    "# chap2-15.py\n",
    "import requests\n",
    "from bs4 import BeautifulSoup\n",
    "from pathlib import Path\n",
    "import urllib\n",
    "import time\n",
    "\n",
    "# Webページを取得して解析する\n",
    "load_url = \"https://www.ymori.com/books/python2nen/test2.html\"\n",
    "html = requests.get(load_url)\n",
    "soup = BeautifulSoup(html.content, \"html.parser\")\n",
    "\n",
    "# 保存用フォルダを作る\n",
    "out_folder = Path(\"download2\")\n",
    "out_folder.mkdir(exist_ok=True)\n",
    "\n",
    "# すべてのimgタグを検索し、リンクを取得する\n",
    "for element in soup.find_all(\"img\"):\n",
    "    src = element.get(\"src\")\n",
    "\n",
    "    # 絶対URLを作って、画像データを取得する\n",
    "    image_url = urllib.parse.urljoin(load_url, src)\n",
    "    imgdata = requests.get(image_url)\n",
    "\n",
    "    # URLから最後のファイル名を取り出して、保存フォルダ名とつなげる\n",
    "    filename = image_url.split(\"/\")[-1]\n",
    "    out_path = out_folder.joinpath(filename)\n",
    "\n",
    "    # 画像データを、ファイルに書き出す\n",
    "    with open(out_path, mode=\"wb\") as f:\n",
    "        f.write(imgdata.content)\n",
    "\n",
    "    # 1回アクセスしたので1秒待つ\n",
    "    time.sleep(1)"
   ]
  }
 ],
 "metadata": {
  "kernelspec": {
   "display_name": "venv",
   "language": "python",
   "name": "python3"
  },
  "language_info": {
   "codemirror_mode": {
    "name": "ipython",
    "version": 3
   },
   "file_extension": ".py",
   "mimetype": "text/x-python",
   "name": "python",
   "nbconvert_exporter": "python",
   "pygments_lexer": "ipython3",
   "version": "3.13.3"
  }
 },
 "nbformat": 4,
 "nbformat_minor": 5
}
