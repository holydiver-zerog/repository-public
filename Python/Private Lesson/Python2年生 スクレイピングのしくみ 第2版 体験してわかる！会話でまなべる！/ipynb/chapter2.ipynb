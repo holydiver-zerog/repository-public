{
 "cells": [
  {
   "cell_type": "code",
   "execution_count": null,
   "id": "ef8a79ae",
   "metadata": {},
   "outputs": [],
   "source": [
    "# chap2-1.py\n",
    "import requests\n",
    "from bs4 import BeautifulSoup\n",
    "\n",
    "# Webページを取得して解析する\n",
    "load_url = \"https://www.ymori.com/books/python2nen/test1.html\"\n",
    "html = requests.get(load_url)\n",
    "soup = BeautifulSoup(html.content, \"html.parser\")\n",
    "\n",
    "# HTML全体を表示する\n",
    "print(soup)"
   ]
  },
  {
   "cell_type": "code",
   "execution_count": null,
   "id": "671c9ebe",
   "metadata": {},
   "outputs": [],
   "source": [
    "# chap2-2.py\n",
    "import requests\n",
    "from bs4 import BeautifulSoup\n",
    "\n",
    "# Webページを取得して解析する\n",
    "load_url = \"https://www.ymori.com/books/python2nen/test1.html\"\n",
    "html = requests.get(load_url)\n",
    "soup = BeautifulSoup(html.content, \"html.parser\")\n",
    "\n",
    "# title、h2、liタグを検索して表示する\n",
    "print(soup.find(\"title\"))\n",
    "print(soup.find(\"h2\"))\n",
    "print(soup.find(\"li\"))"
   ]
  },
  {
   "cell_type": "code",
   "execution_count": null,
   "id": "e7f01ff8",
   "metadata": {},
   "outputs": [],
   "source": [
    "# chap2-3.py\n",
    "import requests\n",
    "from bs4 import BeautifulSoup\n",
    "\n",
    "# Webページを取得して解析する\n",
    "load_url = \"https://www.ymori.com/books/python2nen/test1.html\"\n",
    "html = requests.get(load_url)\n",
    "soup = BeautifulSoup(html.content, \"html.parser\")\n",
    "\n",
    "# title、h2、liタグを検索して、その文字列を表示する\n",
    "print(soup.find(\"title\").text)\n",
    "print(soup.find(\"h2\").text)\n",
    "print(soup.find(\"li\").text)"
   ]
  },
  {
   "cell_type": "code",
   "execution_count": null,
   "id": "7fdd9afb",
   "metadata": {},
   "outputs": [],
   "source": [
    "# chap2-4.py\n",
    "import requests\n",
    "from bs4 import BeautifulSoup\n",
    "\n",
    "# Webページを取得して解析する\n",
    "load_url = \"https://www.ymori.com/books/python2nen/test2.html\"\n",
    "html = requests.get(load_url)\n",
    "soup = BeautifulSoup(html.content, \"html.parser\")\n",
    "\n",
    "# すべてのliタグを検索して、その文字列を表示する\n",
    "for element in soup.find_all(\"li\"):\n",
    "    print(element.text)"
   ]
  },
  {
   "cell_type": "code",
   "execution_count": null,
   "id": "8bec4509",
   "metadata": {},
   "outputs": [],
   "source": [
    "# chap2-5.py\n",
    "import requests\n",
    "from bs4 import BeautifulSoup\n",
    "\n",
    "# Webページを取得して解析する\n",
    "load_url = \"https://www.ymori.com/books/python2nen/test2.html\"\n",
    "html = requests.get(load_url)\n",
    "soup = BeautifulSoup(html.content, \"html.parser\")\n",
    "\n",
    "# idで検索して、そのタグの中身を表示する\n",
    "chap2 = soup.find(id=\"chap2\")\n",
    "print(chap2)"
   ]
  },
  {
   "cell_type": "code",
   "execution_count": null,
   "id": "5d920ac4",
   "metadata": {},
   "outputs": [],
   "source": [
    "# chap2-6.py\n",
    "import requests\n",
    "from bs4 import BeautifulSoup\n",
    "\n",
    "# Webページを取得して解析する\n",
    "load_url = \"https://www.ymori.com/books/python2nen/test2.html\"\n",
    "html = requests.get(load_url)\n",
    "soup = BeautifulSoup(html.content, \"html.parser\")\n",
    "\n",
    "# idで検索し、その中のすべてのliタグを検索して表示する\n",
    "chap2 = soup.find(id=\"chap2\")\n",
    "for element in chap2.find_all(\"li\"):\n",
    "    print(element.text)"
   ]
  }
 ],
 "metadata": {
  "kernelspec": {
   "display_name": "Python 3",
   "language": "python",
   "name": "python3"
  },
  "language_info": {
   "codemirror_mode": {
    "name": "ipython",
    "version": 3
   },
   "file_extension": ".py",
   "mimetype": "text/x-python",
   "name": "python",
   "nbconvert_exporter": "python",
   "pygments_lexer": "ipython3",
   "version": "3.13.3"
  }
 },
 "nbformat": 4,
 "nbformat_minor": 5
}
