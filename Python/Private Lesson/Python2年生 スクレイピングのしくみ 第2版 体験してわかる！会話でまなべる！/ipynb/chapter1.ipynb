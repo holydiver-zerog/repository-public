{
 "cells": [
  {
   "cell_type": "code",
   "execution_count": null,
   "id": "ef8a79ae",
   "metadata": {},
   "outputs": [],
   "source": [
    "# robots.txt\n",
    "# サイトのルートディレクトリに置いてあり、「robots.txt」ファイルがある場合、「サイト全体をクロールしないでほしい」という意思表示となります\n",
    "\"\"\"\n",
    "\n",
    "User-agent: *\n",
    "Disallow: /\n",
    "\n",
    "\"\"\""
   ]
  },
  {
   "cell_type": "code",
   "execution_count": null,
   "id": "671c9ebe",
   "metadata": {},
   "outputs": [],
   "source": [
    "\"\"\"\n",
    "\n",
    "Python3.6以降では、インストール後にネットワーク通信に使用するSSL証明書をインストールする必要があります\n",
    "\n",
    "19:53 /Applications/Python 3.13 % ./Install\\ Certificates.command\n",
    " -- pip install --upgrade certifi\n",
    "Collecting certifi\n",
    "  Using cached certifi-2025.8.3-py3-none-any.whl.metadata (2.4 kB)\n",
    "Using cached certifi-2025.8.3-py3-none-any.whl (161 kB)\n",
    "Installing collected packages: certifi\n",
    "Successfully installed certifi-2025.8.3\n",
    "\n",
    "\"\"\""
   ]
  },
  {
   "cell_type": "code",
   "execution_count": null,
   "id": "e7f01ff8",
   "metadata": {},
   "outputs": [],
   "source": [
    "\"\"\"\n",
    "\n",
    "requestsライブラリのインストール\n",
    "\n",
    "20:12 ~ % python3 -m venv path/to/venv\n",
    "20:12 ~ % source path/to/venv/bin/activate\n",
    "(venv) 20:12 ~ % python3 -m pip install requests\n",
    "Collecting requests\n",
    "  Using cached requests-2.32.5-py3-none-any.whl.metadata (4.9 kB)\n",
    "Collecting charset_normalizer<4,>=2 (from requests)\n",
    "  Using cached charset_normalizer-3.4.3-cp313-cp313-macosx_10_13_universal2.whl.metadata (36 kB)\n",
    "Collecting idna<4,>=2.5 (from requests)\n",
    "  Using cached idna-3.10-py3-none-any.whl.metadata (10 kB)\n",
    "Collecting urllib3<3,>=1.21.1 (from requests)\n",
    "  Using cached urllib3-2.5.0-py3-none-any.whl.metadata (6.5 kB)\n",
    "Collecting certifi>=2017.4.17 (from requests)\n",
    "  Using cached certifi-2025.8.3-py3-none-any.whl.metadata (2.4 kB)\n",
    "Using cached requests-2.32.5-py3-none-any.whl (64 kB)\n",
    "Using cached charset_normalizer-3.4.3-cp313-cp313-macosx_10_13_universal2.whl (205 kB)\n",
    "Using cached idna-3.10-py3-none-any.whl (70 kB)\n",
    "Using cached urllib3-2.5.0-py3-none-any.whl (129 kB)\n",
    "Using cached certifi-2025.8.3-py3-none-any.whl (161 kB)\n",
    "Installing collected packages: urllib3, idna, charset_normalizer, certifi, requests\n",
    "Successfully installed certifi-2025.8.3 charset_normalizer-3.4.3 idna-3.10 requests-2.32.5 urllib3-2.5.0\n",
    "\n",
    "\"\"\""
   ]
  },
  {
   "cell_type": "code",
   "execution_count": null,
   "id": "7fdd9afb",
   "metadata": {},
   "outputs": [
    {
     "ename": "ModuleNotFoundError",
     "evalue": "No module named 'requests'",
     "output_type": "error",
     "traceback": [
      "\u001b[31m---------------------------------------------------------------------------\u001b[39m",
      "\u001b[31mModuleNotFoundError\u001b[39m                       Traceback (most recent call last)",
      "\u001b[36mCell\u001b[39m\u001b[36m \u001b[39m\u001b[32mIn[1]\u001b[39m\u001b[32m, line 2\u001b[39m\n\u001b[32m      1\u001b[39m \u001b[38;5;66;03m# chap1-1.py\u001b[39;00m\n\u001b[32m----> \u001b[39m\u001b[32m2\u001b[39m \u001b[38;5;28;01mimport\u001b[39;00m\u001b[38;5;250m \u001b[39m\u001b[34;01mrequests\u001b[39;00m\n\u001b[32m      4\u001b[39m \u001b[38;5;66;03m# Webページを取得する\u001b[39;00m\n\u001b[32m      5\u001b[39m \u001b[38;5;66;03m# URLは、<>Python2年生のテストページ\u001b[39;00m\n\u001b[32m      6\u001b[39m url = \u001b[33m\"\u001b[39m\u001b[33mhttps://www.ymori.com/books/python2nen/test1.html\u001b[39m\u001b[33m\"\u001b[39m\n",
      "\u001b[31mModuleNotFoundError\u001b[39m: No module named 'requests'"
     ]
    }
   ],
   "source": [
    "# chap1-1.py\n",
    "import requests\n",
    "\n",
    "# Webページを取得する\n",
    "# URLは、<Python2年生のテストページ>\n",
    "url = \"https://www.ymori.com/books/python2nen/test1.html\"\n",
    "response = requests.get(url)\n",
    "\n",
    "# 文字化けしないようにする\n",
    "response.encoding = response.apparent_encoding\n",
    "\n",
    "# 取得した文字列データを表示する\n",
    "print(response.text)"
   ]
  },
  {
   "cell_type": "code",
   "execution_count": 2,
   "id": "8bec4509",
   "metadata": {},
   "outputs": [
    {
     "ename": "ModuleNotFoundError",
     "evalue": "No module named 'requests'",
     "output_type": "error",
     "traceback": [
      "\u001b[31m---------------------------------------------------------------------------\u001b[39m",
      "\u001b[31mModuleNotFoundError\u001b[39m                       Traceback (most recent call last)",
      "\u001b[36mCell\u001b[39m\u001b[36m \u001b[39m\u001b[32mIn[2]\u001b[39m\u001b[32m, line 2\u001b[39m\n\u001b[32m      1\u001b[39m \u001b[38;5;66;03m# chap1-2.py\u001b[39;00m\n\u001b[32m----> \u001b[39m\u001b[32m2\u001b[39m \u001b[38;5;28;01mimport\u001b[39;00m\u001b[38;5;250m \u001b[39m\u001b[34;01mrequests\u001b[39;00m\n\u001b[32m      4\u001b[39m \u001b[38;5;66;03m# Webページを取得する\u001b[39;00m\n\u001b[32m      5\u001b[39m url = \u001b[33m\"\u001b[39m\u001b[33mhttps://www.ymori.com/books/python2nen/test1.html\u001b[39m\u001b[33m\"\u001b[39m\n",
      "\u001b[31mModuleNotFoundError\u001b[39m: No module named 'requests'"
     ]
    }
   ],
   "source": [
    "# chap1-2.py\n",
    "import requests\n",
    "\n",
    "# Webページを取得する\n",
    "url = \"https://www.ymori.com/books/python2nen/test1.html\"\n",
    "response = requests.get(url)\n",
    "\n",
    "# 文字化けしないようにする\n",
    "response.encoding = response.apparent_encoding\n",
    "\n",
    "# ファイルを書き込みモードで開いて\n",
    "filename = \"download.txt\"\n",
    "f = open(filename, mode=\"w\")\n",
    "\n",
    "# インターネットから取得したデータを書き込んで\n",
    "f.write(response.text)\n",
    "\n",
    "# 最後にファイルを閉じる\n",
    "f.close()"
   ]
  },
  {
   "cell_type": "code",
   "execution_count": null,
   "id": "5d920ac4",
   "metadata": {},
   "outputs": [],
   "source": [
    "# chap1-3.py\n",
    "import requests\n",
    "\n",
    "# Webページを取得する\n",
    "url = \"https://www.ymori.com/books/python2nen/test1.html\"\n",
    "response = requests.get(url)\n",
    "\n",
    "# 文字化けしないようにする\n",
    "response.encoding = response.apparent_encoding\n",
    "\n",
    "# ファイルを書き込みモードで開いて\n",
    "filename = \"download.txt\"\n",
    "with open(filename, mode=\"w\") as f:\n",
    "    # インターネットから取得したデータを書き込む\n",
    "    f.write(response.text)"
   ]
  },
  {
   "cell_type": "code",
   "execution_count": null,
   "id": "b7e8a38d",
   "metadata": {},
   "outputs": [],
   "source": []
  }
 ],
 "metadata": {
  "kernelspec": {
   "display_name": "Python 3",
   "language": "python",
   "name": "python3"
  },
  "language_info": {
   "codemirror_mode": {
    "name": "ipython",
    "version": 3
   },
   "file_extension": ".py",
   "mimetype": "text/x-python",
   "name": "python",
   "nbconvert_exporter": "python",
   "pygments_lexer": "ipython3",
   "version": "3.13.3"
  }
 },
 "nbformat": 4,
 "nbformat_minor": 5
}
