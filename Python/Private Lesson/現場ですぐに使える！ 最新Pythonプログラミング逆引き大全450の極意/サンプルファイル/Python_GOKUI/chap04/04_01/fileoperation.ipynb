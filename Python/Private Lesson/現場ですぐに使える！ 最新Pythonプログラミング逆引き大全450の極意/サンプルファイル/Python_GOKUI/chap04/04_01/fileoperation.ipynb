{
 "cells": [
  {
   "cell_type": "code",
   "execution_count": 1,
   "metadata": {},
   "outputs": [
    {
     "data": {
      "text/plain": [
       "'c:\\\\Document\\\\Python_tips\\\\sampleprogram\\\\chap04\\\\04_01'"
      ]
     },
     "execution_count": 1,
     "metadata": {},
     "output_type": "execute_result"
    }
   ],
   "source": [
    "# Notebookのカレントディレクトリを取得する\n",
    "\n",
    "import os    # osモジュールをインポート\n",
    "os.getcwd()  # カレントディレクトリを取得"
   ]
  },
  {
   "cell_type": "code",
   "execution_count": 2,
   "metadata": {},
   "outputs": [
    {
     "name": "stdout",
     "output_type": "stream",
     "text": [
      "c:\\Document\\Python_tips\\sampleprogram\\chap04\\04_01\n"
     ]
    }
   ],
   "source": [
    "# パスとして出力\n",
    "print(os.getcwd())"
   ]
  },
  {
   "cell_type": "code",
   "execution_count": 3,
   "metadata": {},
   "outputs": [
    {
     "name": "stdout",
     "output_type": "stream",
     "text": [
      "C:\\Windows\\System32\n"
     ]
    }
   ],
   "source": [
    "# カレントディレクトリを変更する\n",
    "\n",
    "import os                       # osモジュールをインポート\n",
    "os.chdir('C:/Windows/System32') # Cドライブの「Windows」→「System32」に移動\n",
    "print(os.getcwd())              # 移動後のディレクトリを出力"
   ]
  },
  {
   "cell_type": "code",
   "execution_count": 4,
   "metadata": {},
   "outputs": [
    {
     "name": "stdout",
     "output_type": "stream",
     "text": [
      "c:\\Document\\Python_tips\\sampleprogram\\chap04\\04_01\n"
     ]
    }
   ],
   "source": [
    "# カレントディレクトリを元に戻す\n",
    "\n",
    "import os                         # osモジュールをインポート\n",
    "os.chdir('c:/Document/Python_tips/sampleprogram/chap04/04_01')\n",
    "print(os.getcwd())                # 移動後のディレクトリを出力"
   ]
  },
  {
   "cell_type": "code",
   "execution_count": 5,
   "metadata": {},
   "outputs": [],
   "source": [
    "# 新規のフォルダーを作成する\n",
    "\n",
    "import os                        # osモジュールをインポート\n",
    "os.makedirs('C:/test/sample/my') # Cドライブ以下にtest→sample→myを作成"
   ]
  },
  {
   "cell_type": "code",
   "execution_count": 6,
   "metadata": {},
   "outputs": [
    {
     "name": "stdout",
     "output_type": "stream",
     "text": [
      "c:\\Document\\Python_tips\\sampleprogram\\chap04\\04_01\n"
     ]
    }
   ],
   "source": [
    "# カレントディレクトリの確認\n",
    "\n",
    "import os\n",
    "# カレントディレクトリの相対パスを指定して絶対パスを取得\n",
    "path = os.path.abspath('.')\n",
    "# パスとして出力\n",
    "print(os.getcwd())"
   ]
  },
  {
   "cell_type": "code",
   "execution_count": 7,
   "metadata": {},
   "outputs": [
    {
     "data": {
      "text/plain": [
       "True"
      ]
     },
     "execution_count": 7,
     "metadata": {},
     "output_type": "execute_result"
    }
   ],
   "source": [
    "# 絶対パス／相対パスの確認\n",
    "\n",
    "# カレントディレクトリのパスをos.path.abspath()で取得して引数にする\n",
    "os.path.isabs(os.path.abspath('.'))"
   ]
  },
  {
   "cell_type": "code",
   "execution_count": 8,
   "metadata": {},
   "outputs": [
    {
     "name": "stdout",
     "output_type": "stream",
     "text": [
      "Windows\n"
     ]
    }
   ],
   "source": [
    "# 相対パスを取得する\n",
    "\n",
    "import os\n",
    "# Cドライブ直下からWindowsフォルダーへの相対パスを調べる\n",
    "path = os.path.relpath('C:/Windows', 'C:/')\n",
    "print(path)"
   ]
  },
  {
   "cell_type": "code",
   "execution_count": 9,
   "metadata": {},
   "outputs": [
    {
     "name": "stdout",
     "output_type": "stream",
     "text": [
      "..\\Windows\n"
     ]
    }
   ],
   "source": [
    "# C:\\Program FilesからC:\\Windowsへの相対パスを調べる\n",
    "path = os.path.relpath('C:/Windows', 'C:/Program Files')\n",
    "print(path)"
   ]
  },
  {
   "cell_type": "code",
   "execution_count": 10,
   "metadata": {},
   "outputs": [
    {
     "name": "stdout",
     "output_type": "stream",
     "text": [
      "..\\..\\..\\..\\..\\Windows\n"
     ]
    }
   ],
   "source": [
    "# カレントディレクトリからC:\\Windowsへの相対パスを調べる\n",
    "path = os.path.relpath('C:/Windows', '.')\n",
    "print(path)"
   ]
  },
  {
   "cell_type": "code",
   "execution_count": 11,
   "metadata": {},
   "outputs": [
    {
     "name": "stdout",
     "output_type": "stream",
     "text": [
      "C:/Windows/System32\n"
     ]
    }
   ],
   "source": [
    "# ディレクトリパスとベース名の取得\n",
    "\n",
    "import os\n",
    "# 「メモ帳」の実行ファイルのパス\n",
    "path = 'C:/Windows/System32/notepad.exe'\n",
    "# ディレクトリのパスを取得\n",
    "dir_path = os.path.dirname(path)\n",
    "print(dir_path)"
   ]
  },
  {
   "cell_type": "code",
   "execution_count": 12,
   "metadata": {},
   "outputs": [
    {
     "name": "stdout",
     "output_type": "stream",
     "text": [
      "notepad.exe\n"
     ]
    }
   ],
   "source": [
    "# ベース名を取得\n",
    "base_path = os.path.basename(path)\n",
    "print(base_path)"
   ]
  },
  {
   "cell_type": "code",
   "execution_count": 13,
   "metadata": {},
   "outputs": [
    {
     "data": {
      "text/plain": [
       "('C:/Windows/System32', 'notepad.exe')"
      ]
     },
     "execution_count": 13,
     "metadata": {},
     "output_type": "execute_result"
    }
   ],
   "source": [
    "# ディレクトリパスとベース名をタプルにする\n",
    "\n",
    "path = 'C:/Windows/System32/notepad.exe'\n",
    "path_t = (os.path.dirname(path), os.path.basename(path))\n",
    "path_t"
   ]
  },
  {
   "cell_type": "code",
   "execution_count": 14,
   "metadata": {},
   "outputs": [
    {
     "data": {
      "text/plain": [
       "('C:/Windows/System32', 'notepad.exe')"
      ]
     },
     "execution_count": 14,
     "metadata": {},
     "output_type": "execute_result"
    }
   ],
   "source": [
    "# ディレクトリパスとベース名を格納したタプルを取得する\n",
    "\n",
    "path_ts = os.path.split(path)\n",
    "path_ts"
   ]
  },
  {
   "cell_type": "code",
   "execution_count": 15,
   "metadata": {},
   "outputs": [
    {
     "name": "stdout",
     "output_type": "stream",
     "text": [
      "\\\n"
     ]
    }
   ],
   "source": [
    "# OSが使用しているパス区切り記号を取得\n",
    "\n",
    "import os\n",
    "\n",
    "sep = os.sep\n",
    "print(sep)"
   ]
  },
  {
   "cell_type": "code",
   "execution_count": 16,
   "metadata": {},
   "outputs": [
    {
     "data": {
      "text/plain": [
       "['c:', 'Document', 'Python_tips', 'sampleprogram', 'chap04', '04_01']"
      ]
     },
     "execution_count": 16,
     "metadata": {},
     "output_type": "execute_result"
    }
   ],
   "source": [
    "# パスを分解してリストとして取得する\n",
    "\n",
    "# カレントディレクトリを取得\n",
    "path = os.getcwd()\n",
    "# os.sepを引数にしてパスを分解する\n",
    "path.split(os.sep)"
   ]
  },
  {
   "cell_type": "code",
   "execution_count": 17,
   "metadata": {},
   "outputs": [
    {
     "name": "stdout",
     "output_type": "stream",
     "text": [
      "['c:', 'Document', 'Python_tips', 'sampleprogram', 'chap04', '04_01']\n"
     ]
    }
   ],
   "source": [
    "# パス区切り記号を引数にしてパスを分解するときはエスケープする\n",
    "print(path.split('\\\\'))"
   ]
  },
  {
   "cell_type": "code",
   "execution_count": 19,
   "metadata": {},
   "outputs": [
    {
     "name": "stdout",
     "output_type": "stream",
     "text": [
      "c:\\Document\\Python_tips\\sampleprogram\\chap04\\04_01\\test\n"
     ]
    }
   ],
   "source": [
    "import os\n",
    "# カレントディレクトリのパスに新規作成するフォルダー名をパスとして連結\n",
    "path = os.path.join(os.getcwd(), 'test')\n",
    "# 作成したパスを出力\n",
    "print(path)\n",
    "# カレントディレクトリにフォルダーを作成\n",
    "os.makedirs(path)"
   ]
  },
  {
   "cell_type": "code",
   "execution_count": 20,
   "metadata": {},
   "outputs": [
    {
     "data": {
      "text/plain": [
       "360448"
      ]
     },
     "execution_count": 20,
     "metadata": {},
     "output_type": "execute_result"
    }
   ],
   "source": [
    "# 「メモ帳」の実行ファイルのサイズを取得する\n",
    "\n",
    "import os\n",
    "os.path.getsize('C:/Windows/System32/notepad.exe')"
   ]
  },
  {
   "cell_type": "code",
   "execution_count": 22,
   "metadata": {},
   "outputs": [
    {
     "name": "stdout",
     "output_type": "stream",
     "text": [
      "path:  c:\\Document\\Python_tips\\sampleprogram\\chap04\\04_01\\test\\test.txt\n",
      "filesize:  0\n"
     ]
    }
   ],
   "source": [
    "# カレントディレクトリのtestフォルダー以下のtest.txtのフルパスを作成\n",
    "path = os.path.join(os.getcwd(), 'test', 'test.txt')\n",
    "# 作成したパスとファイルサイズを出力\n",
    "print('path: ', path)\n",
    "print('filesize: ', os.path.getsize(path))"
   ]
  },
  {
   "cell_type": "code",
   "execution_count": 23,
   "metadata": {},
   "outputs": [
    {
     "data": {
      "text/plain": [
       "['fileoperation.ipynb', 'test']"
      ]
     },
     "execution_count": 23,
     "metadata": {},
     "output_type": "execute_result"
    }
   ],
   "source": [
    "import os\n",
    "# カレントディレクトリのパスを取得\n",
    "path = os.getcwd()\n",
    "# ディレクトリのファイル/フォルダーの一覧を取得\n",
    "os.listdir(path)"
   ]
  },
  {
   "cell_type": "code",
   "execution_count": 24,
   "metadata": {},
   "outputs": [],
   "source": [
    "import os\n",
    "\n",
    "def fileSize(path):\n",
    "    \"\"\"フォルダー内のファイルの合計サイズを取得する関数\n",
    "\n",
    "    Args:\n",
    "        path (str): フォルダーのパス\n",
    "    Returns:\n",
    "        (int): ファイルサイズの合計\n",
    "    \"\"\"\n",
    "    # ファイルサイズを保持する変数\n",
    "    size = 0\n",
    "    # フォルダー内のすべてのファイル名をループ処理\n",
    "    for filename in os.listdir(path):\n",
    "        # ファイルサイズを取得してsizeに足し合わせる\n",
    "        size = size + os.path.getsize(\n",
    "            # ディレクトリパスとファイル名を連結してフルパスを作る\n",
    "            os.path.join(path, filename))\n",
    "    # 合計サイズを戻り値として返す\n",
    "    return size"
   ]
  },
  {
   "cell_type": "code",
   "execution_count": 25,
   "metadata": {},
   "outputs": [
    {
     "name": "stdout",
     "output_type": "stream",
     "text": [
      "15534\n"
     ]
    }
   ],
   "source": [
    "# カレントディレクトリのパスを取得\n",
    "path = os.getcwd()\n",
    "# ディレクトリを指定してfileSize()を実行\n",
    "size = fileSize(path)\n",
    "print(size)"
   ]
  },
  {
   "cell_type": "code",
   "execution_count": 26,
   "metadata": {},
   "outputs": [
    {
     "name": "stdout",
     "output_type": "stream",
     "text": [
      "c:\\Document\\Python_tips\\sampleprogram\\chap04\\04_01\\temp\\document.txt\n"
     ]
    }
   ],
   "source": [
    "# os.path.join()でカレントディレクトリのフォルダーとファイル名を連結してパスを作る\n",
    "path = os.path.join(os.getcwd(), 'temp', 'document.txt')\n",
    "print(path)"
   ]
  },
  {
   "cell_type": "code",
   "execution_count": 27,
   "metadata": {},
   "outputs": [
    {
     "data": {
      "text/plain": [
       "True"
      ]
     },
     "execution_count": 27,
     "metadata": {},
     "output_type": "execute_result"
    }
   ],
   "source": [
    "# パスで指定した要素の存在をチェックする\n",
    "\n",
    "os.path.exists('C:/Windows') # CドライブにWindowsというフォルダーが存在する？"
   ]
  },
  {
   "cell_type": "code",
   "execution_count": 28,
   "metadata": {},
   "outputs": [
    {
     "data": {
      "text/plain": [
       "False"
      ]
     },
     "execution_count": 28,
     "metadata": {},
     "output_type": "execute_result"
    }
   ],
   "source": [
    "os.path.isfile('C:/Windows') # CドライブのWindowsはファイル？"
   ]
  },
  {
   "cell_type": "code",
   "execution_count": 29,
   "metadata": {},
   "outputs": [
    {
     "data": {
      "text/plain": [
       "True"
      ]
     },
     "execution_count": 29,
     "metadata": {},
     "output_type": "execute_result"
    }
   ],
   "source": [
    "os.path.isdir('C:/Windows') # CドライブのWindowsはフォルダー？"
   ]
  },
  {
   "cell_type": "code",
   "execution_count": 30,
   "metadata": {},
   "outputs": [
    {
     "data": {
      "text/plain": [
       "False"
      ]
     },
     "execution_count": 30,
     "metadata": {},
     "output_type": "execute_result"
    }
   ],
   "source": [
    "os.path.exists('D:/')       # Dドライブは存在する？"
   ]
  }
 ],
 "metadata": {
  "kernelspec": {
   "display_name": "Python 3",
   "language": "python",
   "name": "python3"
  },
  "language_info": {
   "codemirror_mode": {
    "name": "ipython",
    "version": 3
   },
   "file_extension": ".py",
   "mimetype": "text/x-python",
   "name": "python",
   "nbconvert_exporter": "python",
   "pygments_lexer": "ipython3",
   "version": "3.11.4"
  }
 },
 "nbformat": 4,
 "nbformat_minor": 2
}
