{
 "cells": [
  {
   "cell_type": "code",
   "execution_count": 1,
   "metadata": {},
   "outputs": [],
   "source": [
    "import shelve\n",
    "\n",
    "def save_shelve(fname, key, list):\n",
    "    \"\"\"リストの要素をshelveオブジェクトとしてファイルに保存する関数\n",
    "\n",
    "    Args:\n",
    "        fname (str): 保存するファイル名\n",
    "        key (str): データに付けるキー\n",
    "        list (list): 保存するデータ\n",
    "    \"\"\"\n",
    "    # fnameのファイルをオープン\n",
    "    shelve_file = shelve.open(fname)\n",
    "    # キーの名前を'key'にしてlistを保存する\n",
    "    shelve_file[key] = list\n",
    "    # ファイルを閉じる\n",
    "    shelve_file.close()\n",
    "    # メッセージ（任意）\n",
    "    print('ファイルを保存しました。')"
   ]
  },
  {
   "cell_type": "code",
   "execution_count": 2,
   "metadata": {},
   "outputs": [
    {
     "name": "stdout",
     "output_type": "stream",
     "text": [
      "ファイルを保存しました。\n"
     ]
    }
   ],
   "source": [
    "# カレントディレクトリの「data」フォルダー以下の\n",
    "# 「shelve」をファイル名にする\n",
    "fname = 'data/shelve'\n",
    "# キーを指定\n",
    "key = 'd1'\n",
    "# 保存するデータ(リスト)\n",
    "lst = ['秀和太郎', '秀和花子', '東陽次郎']\n",
    "# save_shelve()を実行してデータを保存\n",
    "save_shelve(fname, key, lst)"
   ]
  },
  {
   "cell_type": "code",
   "execution_count": 3,
   "metadata": {},
   "outputs": [
    {
     "name": "stdout",
     "output_type": "stream",
     "text": [
      "['秀和太郎', '秀和花子', '東陽次郎']\n"
     ]
    }
   ],
   "source": [
    "# Shelveオブジェクトのファイルをオープンしてデータを取り出す\n",
    "\n",
    "# カレントディレクトリの「data」フォルダー以下の\n",
    "# 「shelve」をファイル名として指定\n",
    "fname = 'data/shelve'\n",
    "# shelveファイルを開く\n",
    "shelve_file = shelve.open(fname)\n",
    "# 保存済みのデータを取得して出力\n",
    "print(shelve_file[key])\n",
    "# ファイルを閉じる\n",
    "shelve_file.close()"
   ]
  },
  {
   "cell_type": "code",
   "execution_count": 4,
   "metadata": {},
   "outputs": [
    {
     "name": "stdout",
     "output_type": "stream",
     "text": [
      "ファイルを保存しました。\n",
      "keys =  ['d1', 'd2']\n",
      "values =  [['秀和太郎', '秀和花子', '東陽次郎'], ['A1', 'B2', 'A2']]\n"
     ]
    }
   ],
   "source": [
    "# 作成済みのhelveオブジェクトのファイルにデータを追加し一覧を取得\n",
    "\n",
    "# カレントディレクトリの「data」フォルダー以下の\n",
    "# 「shelve」をファイル名として指定\n",
    "fname = 'data/shelve'\n",
    "# キー\n",
    "key = 'd2'\n",
    "# 保存するデータ(リスト)を作成\n",
    "lst = ['A1', 'B2', 'A2']\n",
    "# データを保存\n",
    "save_shelve(fname, key, lst)\n",
    "\n",
    "# shelveファイルを開く\n",
    "shelve_file = shelve.open(fname)\n",
    "# 登録済みのキーの一覧を取得\n",
    "keys = list(shelve_file.keys())    \n",
    "print('keys = ', keys)\n",
    "# 登録済みの値の一覧をlist()を使って取得\n",
    "values = list(shelve_file.values())\n",
    "print('values = ', values)\n",
    "# ファイルを閉じる\n",
    "shelve_file.close()"
   ]
  },
  {
   "cell_type": "code",
   "execution_count": 5,
   "metadata": {},
   "outputs": [
    {
     "name": "stdout",
     "output_type": "stream",
     "text": [
      "[{'id': 'A101', 'name': '秀和太郎'},\n",
      " {'id': 'B101', 'name': '秀和花子'},\n",
      " {'id': 'A102', 'name': '東陽次郎'}]\n"
     ]
    }
   ],
   "source": [
    "import pprint\n",
    "\n",
    "# 辞書を格納したリストをpprint.pprint()メソッドで整形して出力\n",
    "name_id = [ {'name':'秀和太郎', 'id':'A101'},\n",
    "            {'name':'秀和花子', 'id':'B101'},\n",
    "            {'name':'東陽次郎', 'id':'A102'} ]\n",
    "pprint.pprint(name_id)"
   ]
  },
  {
   "cell_type": "code",
   "execution_count": 6,
   "metadata": {},
   "outputs": [
    {
     "data": {
      "text/plain": [
       "\"[{'id': 'A101', 'name': '秀和太郎'},\\n {'id': 'B101', 'name': '秀和花子'},\\n {'id': 'A102', 'name': '東陽次郎'}]\""
      ]
     },
     "execution_count": 6,
     "metadata": {},
     "output_type": "execute_result"
    }
   ],
   "source": [
    "# name_idをpprint.pformat()でフォーマットする\n",
    "pprint.pformat(name_id)"
   ]
  },
  {
   "cell_type": "code",
   "execution_count": 7,
   "metadata": {},
   "outputs": [],
   "source": [
    "import pprint\n",
    "\n",
    "def save_listdef(fname, lst_name, lst):\n",
    "    \"\"\"リストの定義コードをファイルに保存する\n",
    "\n",
    "    Args:\n",
    "        fname (str): 保存するファイル名(パス)\n",
    "        lst_name (list): リストの変数名\n",
    "        lst (list): dictを要素とするリスト\n",
    "    \"\"\"\n",
    "    # ファイルを書き込みモードで開く\n",
    "    file = open(fname,             # 拡張子を含むファイル名\n",
    "                'w',               # 書き込みモードを指定\n",
    "                encoding = 'utf-8' # 文字コードをUTF-8にする\n",
    "                )\n",
    "    # リストの定義コードをファイルに書き込む\n",
    "    # 1行ずつ開業するように末尾に改行コードを付けてから連結する\n",
    "    file.write(lst_name + ' = ' + pprint.pformat(lst) + '\\n')\n",
    "    # ファイルを閉じる\n",
    "    file.close()"
   ]
  },
  {
   "cell_type": "code",
   "execution_count": 8,
   "metadata": {},
   "outputs": [],
   "source": [
    "# リストを定義してsave_listdef()を実行\n",
    "\n",
    "# 作成するファイルはPythonのモジュールにする\n",
    "fname = 'data/module.py'\n",
    "# リストを定義するときの変数名\n",
    "lst_name = 'name_id'\n",
    "# 辞書を要素とするリストを作成\n",
    "lst = [ {'name':'秀和太郎', 'id':'A101'},\n",
    "        {'name':'秀和花子', 'id':'B101'},\n",
    "        {'name':'東陽次郎', 'id':'A102'} ]\n",
    "# 作成するファイル名、リストを定義するときの変数名、\n",
    "# リストの定義コードを引数にしてsave_listdef()を実行\n",
    "save_listdef(fname, lst_name, lst)"
   ]
  },
  {
   "cell_type": "code",
   "execution_count": 9,
   "metadata": {},
   "outputs": [
    {
     "name": "stdout",
     "output_type": "stream",
     "text": [
      "[{'id': 'A101', 'name': '秀和太郎'}, {'id': 'B101', 'name': '秀和花子'}, {'id': 'A102', 'name': '東陽次郎'}]\n"
     ]
    }
   ],
   "source": [
    "# 別ファイルに保存された変数の値を取得する\n",
    "\n",
    "# data/module.pyをインポート\n",
    "import data.module\n",
    "# module.pyのname_idの内容を出力\n",
    "print(data.module.name_id)"
   ]
  }
 ],
 "metadata": {
  "kernelspec": {
   "display_name": "Python 3",
   "language": "python",
   "name": "python3"
  },
  "language_info": {
   "codemirror_mode": {
    "name": "ipython",
    "version": 3
   },
   "file_extension": ".py",
   "mimetype": "text/x-python",
   "name": "python",
   "nbconvert_exporter": "python",
   "pygments_lexer": "ipython3",
   "version": "3.11.4"
  }
 },
 "nbformat": 4,
 "nbformat_minor": 2
}
