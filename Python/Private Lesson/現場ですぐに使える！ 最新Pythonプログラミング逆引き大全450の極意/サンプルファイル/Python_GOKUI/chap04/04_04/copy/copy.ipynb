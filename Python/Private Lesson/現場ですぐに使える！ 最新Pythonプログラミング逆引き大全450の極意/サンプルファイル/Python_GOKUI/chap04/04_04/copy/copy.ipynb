{
 "cells": [
  {
   "cell_type": "code",
   "execution_count": 1,
   "metadata": {},
   "outputs": [
    {
     "name": "stdout",
     "output_type": "stream",
     "text": [
      "c:\\Document\\Python_tips\\sampleprogram\\chap04\\04_03\\copy\\data_my\\test.txt\n"
     ]
    }
   ],
   "source": [
    "# shutil、osをインポート\n",
    "import shutil, os\n",
    "\n",
    "# カレントディレクトリのdata\\test.txtを\n",
    "# カレントディレクトリのdata_myフォルダーにコピー\n",
    "copy_to = shutil.copy(\n",
    "    os.path.join(os.getcwd(), 'data/test.txt'),\n",
    "    os.path.join(os.getcwd(), 'data_my'))\n",
    "print(copy_to)"
   ]
  },
  {
   "cell_type": "code",
   "execution_count": 2,
   "metadata": {},
   "outputs": [
    {
     "name": "stdout",
     "output_type": "stream",
     "text": [
      "c:\\Document\\Python_tips\\sampleprogram\\chap04\\04_03\\copy\\data_my/copy.txt\n"
     ]
    }
   ],
   "source": [
    "# カレントディレクトリのdata\\test.txtを\n",
    "# カレントディレクトリのdata_myフォルダーにcopy.txtとしてコピー\n",
    "copy_to = shutil.copy(\n",
    "    os.path.join(os.getcwd(), 'data/test.txt'),\n",
    "    os.path.join(os.getcwd(), 'data_my/copy.txt'))\n",
    "print(copy_to)"
   ]
  },
  {
   "cell_type": "code",
   "execution_count": 3,
   "metadata": {},
   "outputs": [
    {
     "name": "stdout",
     "output_type": "stream",
     "text": [
      "c:\\Document\\Python_tips\\sampleprogram\\chap04\\04_03\\copy\\data_copy\n"
     ]
    }
   ],
   "source": [
    "# shutil、osをインポート\n",
    "import shutil, os\n",
    "\n",
    "# カレントディレクトリのdataフォルダーを\n",
    "# カレントディレクトリのdata_copyフォルダーとしてコピー\n",
    "copy_to = shutil.copytree(\n",
    "    os.path.join(os.getcwd(), 'data'),\n",
    "    os.path.join(os.getcwd(), 'data_copy'))\n",
    "print(copy_to)"
   ]
  }
 ],
 "metadata": {
  "kernelspec": {
   "display_name": "Python 3",
   "language": "python",
   "name": "python3"
  },
  "language_info": {
   "codemirror_mode": {
    "name": "ipython",
    "version": 3
   },
   "file_extension": ".py",
   "mimetype": "text/x-python",
   "name": "python",
   "nbconvert_exporter": "python",
   "pygments_lexer": "ipython3",
   "version": "3.11.4"
  }
 },
 "nbformat": 4,
 "nbformat_minor": 2
}
