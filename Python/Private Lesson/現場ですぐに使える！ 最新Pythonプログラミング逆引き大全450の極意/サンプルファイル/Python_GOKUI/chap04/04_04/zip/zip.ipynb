{
 "cells": [
  {
   "cell_type": "code",
   "execution_count": 5,
   "metadata": {},
   "outputs": [],
   "source": [
    "import os, zipfile\n",
    "\n",
    "def create_zip():\n",
    "    \"\"\"ZIPファイルを作成して任意のファイルを圧縮する関数\n",
    "    \"\"\"\n",
    "    # ディレクトリのパスを取得\n",
    "    drc = input('ディレクトリのパスを入力してください >')\n",
    "    # ZIPファイルの名前を取得\n",
    "    name = input('作成するZIPファイルの名前に.zipを付けて入力してください >')\n",
    "    # ZIP圧縮するファイルのパスを取得\n",
    "    fpath = input('ZIP圧縮するファイルのパスを入力してください >')\n",
    "    # ディレクトリを移動\n",
    "    os.chdir(drc)\n",
    "    # ZIPファイルを作成し書き込みモードで開く\n",
    "    new_zip = zipfile.ZipFile(name, 'w')\n",
    "    # ZIPファイルにファイルを追加する\n",
    "    new_zip.write(fpath, compress_type=zipfile.ZIP_DEFLATED)\n",
    "    # ZIPファイルを閉じる\n",
    "    new_zip.close()\n",
    "    print('ZIPファイルの作成が完了しました。')"
   ]
  },
  {
   "cell_type": "code",
   "execution_count": 6,
   "metadata": {},
   "outputs": [
    {
     "name": "stdout",
     "output_type": "stream",
     "text": [
      "ZIPファイルの作成が完了しました。\n"
     ]
    }
   ],
   "source": [
    "create_zip()"
   ]
  }
 ],
 "metadata": {
  "kernelspec": {
   "display_name": ".venv",
   "language": "python",
   "name": "python3"
  },
  "language_info": {
   "codemirror_mode": {
    "name": "ipython",
    "version": 3
   },
   "file_extension": ".py",
   "mimetype": "text/x-python",
   "name": "python",
   "nbconvert_exporter": "python",
   "pygments_lexer": "ipython3",
   "version": "3.11.4"
  },
  "orig_nbformat": 4
 },
 "nbformat": 4,
 "nbformat_minor": 2
}
