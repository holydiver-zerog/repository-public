{
 "cells": [
  {
   "cell_type": "code",
   "execution_count": 10,
   "metadata": {},
   "outputs": [],
   "source": [
    "import os\n",
    "\n",
    "def disp_dir():\n",
    "    \"\"\"指定されたディレクトリのサブフォルダー名とファイル名を出力する関数\n",
    "    \"\"\"\n",
    "    # ディレクトリのパスを取得\n",
    "    dir = input('ディレクトリのパスを入力してください>')\n",
    "    # ジェネレーターから階層ごとのフォルダー名、ファイル名のリストを取得\n",
    "    for foldername, subfolders, filenames in os.walk(dir):\n",
    "        print('・現在のディレクトリ--->' + foldername)\n",
    "        # 処理中の階層のフォルダー名を取得\n",
    "        for subfolder in subfolders:\n",
    "            print(foldername + 'のサブフォルダー:' + subfolder)\n",
    "        # 処理中の階層のファイル名を取得\n",
    "        for filename in filenames:\n",
    "            print(foldername + 'のファイル:' + filename)\n",
    "\n",
    "        print('--------------------------------------')"
   ]
  },
  {
   "cell_type": "code",
   "execution_count": 15,
   "metadata": {},
   "outputs": [
    {
     "name": "stdout",
     "output_type": "stream",
     "text": [
      "・現在のディレクトリ--->test\n",
      "testのサブフォルダー:recipe\n",
      "testのサブフォルダー:tips\n",
      "testのファイル:testdata.txt\n",
      "--------------------------------------\n",
      "・現在のディレクトリ--->test\\recipe\n",
      "test\\recipeのファイル:recipi1.txt\n",
      "test\\recipeのファイル:recipi2.txt\n",
      "--------------------------------------\n",
      "・現在のディレクトリ--->test\\tips\n",
      "test\\tipsのファイル:mytips.txt\n",
      "--------------------------------------\n"
     ]
    }
   ],
   "source": [
    "disp_dir()"
   ]
  }
 ],
 "metadata": {
  "kernelspec": {
   "display_name": ".venv",
   "language": "python",
   "name": "python3"
  },
  "language_info": {
   "codemirror_mode": {
    "name": "ipython",
    "version": 3
   },
   "file_extension": ".py",
   "mimetype": "text/x-python",
   "name": "python",
   "nbconvert_exporter": "python",
   "pygments_lexer": "ipython3",
   "version": "3.11.4"
  },
  "orig_nbformat": 4
 },
 "nbformat": 4,
 "nbformat_minor": 2
}
