{
 "cells": [
  {
   "cell_type": "code",
   "execution_count": 1,
   "metadata": {},
   "outputs": [],
   "source": [
    "# 削除対象のファイルとフォルダーを作成\n",
    "import os\n",
    "# カレントディレクトリにファイルを作成する\n",
    "testfile = open('sample.txt', 'w')\n",
    "testfile.write('ファイルに書き込みます。')\n",
    "testfile.close()\n",
    "# カレントディレクトリにフォルダーを作成する\n",
    "os.makedirs('new')"
   ]
  },
  {
   "cell_type": "code",
   "execution_count": 2,
   "metadata": {},
   "outputs": [],
   "source": [
    "# ファイルとフォルダーの削除（ゴミ箱へ移動）\n",
    "import send2trash\n",
    "# カレントディレクトリのファイルを削除（ゴミ箱へ移動）\n",
    "send2trash.send2trash('sample.txt')\n",
    "# カレントディレクトリのォルダーを削除（ゴミ箱へ移動）\n",
    "send2trash.send2trash('new')"
   ]
  }
 ],
 "metadata": {
  "kernelspec": {
   "display_name": ".venv",
   "language": "python",
   "name": "python3"
  },
  "language_info": {
   "codemirror_mode": {
    "name": "ipython",
    "version": 3
   },
   "file_extension": ".py",
   "mimetype": "text/x-python",
   "name": "python",
   "nbconvert_exporter": "python",
   "pygments_lexer": "ipython3",
   "version": "3.11.4"
  },
  "orig_nbformat": 4
 },
 "nbformat": 4,
 "nbformat_minor": 2
}
