{
 "cells": [
  {
   "cell_type": "code",
   "execution_count": 2,
   "metadata": {},
   "outputs": [
    {
     "name": "stdout",
     "output_type": "stream",
     "text": [
      "c:\\Document\\Python_tips\\sampleprogram\\chap04\\04_03\\move\\data_move\\test.txt\n"
     ]
    }
   ],
   "source": [
    "# shutil、osをインポート\n",
    "import shutil, os\n",
    "\n",
    "# カレントディレクトリのdata\\test.txtを\n",
    "# カレントディレクトリのdata_moveフォルダーに移動\n",
    "move_to = shutil.move(\n",
    "    os.path.join(os.getcwd(), 'data/test.txt'),\n",
    "    os.path.join(os.getcwd(), 'data_move'))\n",
    "print(move_to)"
   ]
  },
  {
   "cell_type": "code",
   "execution_count": 5,
   "metadata": {},
   "outputs": [
    {
     "ename": "Error",
     "evalue": "Destination path 'c:\\Document\\Python_tips\\sampleprogram\\chap04\\04_03\\move\\data_move\\test.txt' already exists",
     "output_type": "error",
     "traceback": [
      "\u001b[1;31m---------------------------------------------------------------------------\u001b[0m",
      "\u001b[1;31mError\u001b[0m                                     Traceback (most recent call last)",
      "Cell \u001b[1;32mIn[5], line 1\u001b[0m\n\u001b[1;32m----> 1\u001b[0m copy_to \u001b[39m=\u001b[39m shutil\u001b[39m.\u001b[39;49mmove(\n\u001b[0;32m      2\u001b[0m     os\u001b[39m.\u001b[39;49mpath\u001b[39m.\u001b[39;49mjoin(os\u001b[39m.\u001b[39;49mgetcwd(), \u001b[39m'\u001b[39;49m\u001b[39mdata/test.txt\u001b[39;49m\u001b[39m'\u001b[39;49m),\n\u001b[0;32m      3\u001b[0m     os\u001b[39m.\u001b[39;49mpath\u001b[39m.\u001b[39;49mjoin(os\u001b[39m.\u001b[39;49mgetcwd(), \u001b[39m'\u001b[39;49m\u001b[39mdata_move\u001b[39;49m\u001b[39m'\u001b[39;49m))\n\u001b[0;32m      4\u001b[0m \u001b[39mprint\u001b[39m(copy_to)\n",
      "File \u001b[1;32m~\\AppData\\Local\\Programs\\Python\\Python311\\Lib\\shutil.py:823\u001b[0m, in \u001b[0;36mmove\u001b[1;34m(src, dst, copy_function)\u001b[0m\n\u001b[0;32m    820\u001b[0m     real_dst \u001b[39m=\u001b[39m os\u001b[39m.\u001b[39mpath\u001b[39m.\u001b[39mjoin(dst, _basename(src))\n\u001b[0;32m    822\u001b[0m     \u001b[39mif\u001b[39;00m os\u001b[39m.\u001b[39mpath\u001b[39m.\u001b[39mexists(real_dst):\n\u001b[1;32m--> 823\u001b[0m         \u001b[39mraise\u001b[39;00m Error(\u001b[39m\"\u001b[39m\u001b[39mDestination path \u001b[39m\u001b[39m'\u001b[39m\u001b[39m%s\u001b[39;00m\u001b[39m'\u001b[39m\u001b[39m already exists\u001b[39m\u001b[39m\"\u001b[39m \u001b[39m%\u001b[39m real_dst)\n\u001b[0;32m    824\u001b[0m \u001b[39mtry\u001b[39;00m:\n\u001b[0;32m    825\u001b[0m     os\u001b[39m.\u001b[39mrename(src, real_dst)\n",
      "\u001b[1;31mError\u001b[0m: Destination path 'c:\\Document\\Python_tips\\sampleprogram\\chap04\\04_03\\move\\data_move\\test.txt' already exists"
     ]
    }
   ],
   "source": [
    "move_to = shutil.move(\n",
    "    os.path.join(os.getcwd(), 'data/test.txt'),\n",
    "    os.path.join(os.getcwd(), 'data_move'))\n",
    "print(move_to)"
   ]
  },
  {
   "cell_type": "code",
   "execution_count": 7,
   "metadata": {},
   "outputs": [
    {
     "name": "stdout",
     "output_type": "stream",
     "text": [
      "c:\\Document\\Python_tips\\sampleprogram\\chap04\\04_03\\move\\data_move/move.txt\n"
     ]
    }
   ],
   "source": [
    "# カレントディレクトリのdata\\test.txtを\n",
    "# カレントディレクトリのdata_moveにファイル名をmove.txtにして移動\n",
    "move_to = shutil.move(\n",
    "    os.path.join(os.getcwd(), 'data/test.txt'),\n",
    "    os.path.join(os.getcwd(), 'data_move/move.txt'))\n",
    "print(move_to)"
   ]
  },
  {
   "cell_type": "code",
   "execution_count": 12,
   "metadata": {},
   "outputs": [
    {
     "name": "stdout",
     "output_type": "stream",
     "text": [
      "c:\\Document\\Python_tips\\sampleprogram\\chap04\\04_03\\move\\newfolder\\data\n"
     ]
    }
   ],
   "source": [
    "# カレントディレクトリのdataフォルダーを\n",
    "# カレントディレクトリのnewfolder以下に移動\n",
    "move_to = shutil.move(\n",
    "    os.path.join(os.getcwd(), 'data'),\n",
    "    os.path.join(os.getcwd(), 'newfolder'))\n",
    "print(move_to)"
   ]
  },
  {
   "cell_type": "code",
   "execution_count": 22,
   "metadata": {},
   "outputs": [
    {
     "name": "stdout",
     "output_type": "stream",
     "text": [
      "c:\\Document\\Python_tips\\sampleprogram\\chap04\\04_03\\move\\folder2/changename\n"
     ]
    }
   ],
   "source": [
    "# カレントディレクトリのdata以下のsubfolderフォルダーを\n",
    "# カレントディレクトリのfolder2以下にchangenameとして移動\n",
    "move_to = shutil.move(\n",
    "    os.path.join(os.getcwd(), 'folder1/subfolder'),\n",
    "    os.path.join(os.getcwd(), 'folder2/changename'))\n",
    "print(move_to)"
   ]
  }
 ],
 "metadata": {
  "kernelspec": {
   "display_name": "Python 3",
   "language": "python",
   "name": "python3"
  },
  "language_info": {
   "codemirror_mode": {
    "name": "ipython",
    "version": 3
   },
   "file_extension": ".py",
   "mimetype": "text/x-python",
   "name": "python",
   "nbconvert_exporter": "python",
   "pygments_lexer": "ipython3",
   "version": "3.11.4"
  }
 },
 "nbformat": 4,
 "nbformat_minor": 2
}
