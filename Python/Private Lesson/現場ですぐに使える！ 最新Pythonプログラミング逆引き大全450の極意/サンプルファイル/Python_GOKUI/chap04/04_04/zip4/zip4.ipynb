{
 "cells": [
  {
   "cell_type": "code",
   "execution_count": 3,
   "metadata": {},
   "outputs": [],
   "source": [
    "# カレントディレクトリのnew.zipをdataフォルダー以下に展開する\n",
    "import os, zipfile\n",
    "\n",
    "# カレントディレクトリのZIPファイルを読み込み専用モードで開く\n",
    "zip_obj = zipfile.ZipFile('new.zip')\n",
    "# カレントディレクトリのdataフォルダー以下に展開する\n",
    "zip_obj.extractall('data/')"
   ]
  },
  {
   "cell_type": "code",
   "execution_count": 4,
   "metadata": {},
   "outputs": [
    {
     "data": {
      "text/plain": [
       "'extract\\\\document1.txt'"
      ]
     },
     "execution_count": 4,
     "metadata": {},
     "output_type": "execute_result"
    }
   ],
   "source": [
    "import os, zipfile\n",
    "\n",
    "# カレントディレクトリのZIPファイルを読み込み専用モードで開く\n",
    "zip_obj = zipfile.ZipFile('new.zip')\n",
    "# カレントディレクトリのnew.zipのdocument1.txtをextractフォルダー以下に展開する\n",
    "zip_obj.extract('document1.txt','extract/')"
   ]
  },
  {
   "cell_type": "code",
   "execution_count": 5,
   "metadata": {},
   "outputs": [
    {
     "data": {
      "text/plain": [
       "'extract2\\\\doc\\\\document1.txt'"
      ]
     },
     "execution_count": 5,
     "metadata": {},
     "output_type": "execute_result"
    }
   ],
   "source": [
    "# カレントディレクトリのZIPファイルを読み込み専用モードで開く\n",
    "zip_obj = zipfile.ZipFile('new2.zip')\n",
    "# カレントディレクトリのnew2.zipのdocフォルダー以下の\n",
    "# document1.txtをextract2フォルダー以下に展開する\n",
    "zip_obj.extract('doc/document1.txt','extract2/')"
   ]
  }
 ],
 "metadata": {
  "kernelspec": {
   "display_name": ".venv",
   "language": "python",
   "name": "python3"
  },
  "language_info": {
   "codemirror_mode": {
    "name": "ipython",
    "version": 3
   },
   "file_extension": ".py",
   "mimetype": "text/x-python",
   "name": "python",
   "nbconvert_exporter": "python",
   "pygments_lexer": "ipython3",
   "version": "3.11.4"
  },
  "orig_nbformat": 4
 },
 "nbformat": 4,
 "nbformat_minor": 2
}
