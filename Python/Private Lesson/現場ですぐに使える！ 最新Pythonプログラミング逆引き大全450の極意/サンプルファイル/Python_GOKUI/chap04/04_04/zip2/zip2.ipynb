{
 "cells": [
  {
   "cell_type": "code",
   "execution_count": 4,
   "metadata": {},
   "outputs": [],
   "source": [
    "import os, zipfile\n",
    "\n",
    "def add_tozip():\n",
    "    \"\"\"ZIPファイルに任意のファイルを追加する関数\n",
    "    \"\"\"\n",
    "    # ディレクトリのパスを取得\n",
    "    dir = input('ディレクトリのパスを入力してください >')\n",
    "    # ZIPファイルの名前を取得\n",
    "    name = input('ZIPファイルの名前に.zipを付けて入力してください >')\n",
    "    # ZIP圧縮するファイルのパスを取得\n",
    "    fpath = input('ZIPファイルに追加するファイルのパスを入力してください >')\n",
    "    # ディレクトリを移動\n",
    "    os.chdir(dir)\n",
    "    # ZIPファイルを追加モードで開く\n",
    "    zipfile = zipfile.ZipFile(name, 'a')\n",
    "    # ZIPファイルにファイルを追加する\n",
    "    zipfile.write(fpath, compress_type=zipfile.ZIP_DEFLATED)\n",
    "    # ZIPファイルを閉じる\n",
    "    new_zip.close()\n",
    "    print('ZIPファイルへの追加が完了しました。')"
   ]
  },
  {
   "cell_type": "code",
   "execution_count": 2,
   "metadata": {},
   "outputs": [
    {
     "name": "stdout",
     "output_type": "stream",
     "text": [
      "ZIPファイルへの追加が完了しました。\n"
     ]
    }
   ],
   "source": [
    "add_tozip()"
   ]
  }
 ],
 "metadata": {
  "kernelspec": {
   "display_name": ".venv",
   "language": "python",
   "name": "python3"
  },
  "language_info": {
   "codemirror_mode": {
    "name": "ipython",
    "version": 3
   },
   "file_extension": ".py",
   "mimetype": "text/x-python",
   "name": "python",
   "nbconvert_exporter": "python",
   "pygments_lexer": "ipython3",
   "version": "3.11.4"
  },
  "orig_nbformat": 4
 },
 "nbformat": 4,
 "nbformat_minor": 2
}
