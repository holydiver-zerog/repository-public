{
 "cells": [
  {
   "cell_type": "code",
   "execution_count": 1,
   "metadata": {},
   "outputs": [
    {
     "name": "stdout",
     "output_type": "stream",
     "text": [
      "    最高気温  清涼飲料売上数\n",
      "0     26       84\n",
      "1     25       61\n",
      "2     26       85\n",
      "3     24       63\n",
      "4     25       71\n",
      "5     24       81\n",
      "6     26       98\n",
      "7     26      101\n",
      "8     25       93\n",
      "9     27      118\n",
      "10    27      114\n",
      "11    26      124\n",
      "12    28      156\n",
      "13    28      188\n",
      "14    27      184\n",
      "15    28      213\n",
      "16    29      241\n",
      "17    29      233\n",
      "18    29      207\n",
      "19    31      267\n",
      "20    31      332\n",
      "21    29      266\n",
      "22    32      334\n",
      "23    33      346\n",
      "24    34      359\n",
      "25    33      361\n",
      "26    34      372\n",
      "27    35      368\n",
      "28    32      378\n",
      "29    34      394\n"
     ]
    }
   ],
   "source": [
    "# PandasのインポートとCSVファイルの読み込み\n",
    "\n",
    "import pandas as pd\n",
    "df = pd.read_csv('data.csv', encoding='utf-8')  # CSVファイルの読み込み"
   ]
  },
  {
   "cell_type": "code",
   "execution_count": 2,
   "metadata": {},
   "outputs": [
    {
     "data": {
      "text/plain": [
       "最高気温        28.766667\n",
       "清涼飲料売上数    209.733333\n",
       "dtype: float64"
      ]
     },
     "execution_count": 2,
     "metadata": {},
     "output_type": "execute_result"
    }
   ],
   "source": [
    "# 各列の平均を求める\n",
    "df.mean() # 平均"
   ]
  },
  {
   "cell_type": "code",
   "execution_count": 21,
   "metadata": {},
   "outputs": [
    {
     "data": {
      "text/plain": [
       "28.766666666666666"
      ]
     },
     "execution_count": 21,
     "metadata": {},
     "output_type": "execute_result"
    }
   ],
   "source": [
    "# 特定の列の結果のみを参照する\n",
    "m = df.mean()\n",
    "m['最高気温']"
   ]
  },
  {
   "cell_type": "code",
   "execution_count": 22,
   "metadata": {},
   "outputs": [
    {
     "data": {
      "text/plain": [
       "最高気温        28.0\n",
       "清涼飲料売上数    197.5\n",
       "dtype: float64"
      ]
     },
     "execution_count": 22,
     "metadata": {},
     "output_type": "execute_result"
    }
   ],
   "source": [
    "# 中央値を求める\n",
    "df.median() # 中央値"
   ]
  },
  {
   "cell_type": "code",
   "execution_count": 23,
   "metadata": {},
   "outputs": [
    {
     "data": {
      "text/plain": [
       "最高気温          11.219540\n",
       "清涼飲料売上数    13568.133333\n",
       "dtype: float64"
      ]
     },
     "execution_count": 23,
     "metadata": {},
     "output_type": "execute_result"
    }
   ],
   "source": [
    "# 不偏分散を求める\n",
    "df.var()  # 不偏分散"
   ]
  },
  {
   "cell_type": "code",
   "execution_count": 24,
   "metadata": {},
   "outputs": [
    {
     "data": {
      "text/plain": [
       "最高気温          10.845556\n",
       "清涼飲料売上数    13115.862222\n",
       "dtype: float64"
      ]
     },
     "execution_count": 24,
     "metadata": {},
     "output_type": "execute_result"
    }
   ],
   "source": [
    "# 不偏推定量を用いない分散を求める\n",
    "df.var(ddof=0) # 標本分散"
   ]
  },
  {
   "cell_type": "code",
   "execution_count": 25,
   "metadata": {},
   "outputs": [
    {
     "data": {
      "text/plain": [
       "最高気温         3.349558\n",
       "清涼飲料売上数    116.482331\n",
       "dtype: float64"
      ]
     },
     "execution_count": 25,
     "metadata": {},
     "output_type": "execute_result"
    }
   ],
   "source": [
    "# 不偏標準偏差を求める\n",
    "df.std()          # 不偏標準偏差"
   ]
  },
  {
   "cell_type": "code",
   "execution_count": 26,
   "metadata": {},
   "outputs": [
    {
     "data": {
      "text/plain": [
       "最高気温         3.293259\n",
       "清涼飲料売上数    114.524505\n",
       "dtype: float64"
      ]
     },
     "execution_count": 26,
     "metadata": {},
     "output_type": "execute_result"
    }
   ],
   "source": [
    "# 不偏推定量を用いない標準偏差を求める\n",
    "df.std(ddof=0)   # 標本標準偏差"
   ]
  }
 ],
 "metadata": {
  "kernelspec": {
   "display_name": "Python 3",
   "language": "python",
   "name": "python3"
  },
  "language_info": {
   "codemirror_mode": {
    "name": "ipython",
    "version": 3
   },
   "file_extension": ".py",
   "mimetype": "text/x-python",
   "name": "python",
   "nbconvert_exporter": "python",
   "pygments_lexer": "ipython3",
   "version": "3.11.4"
  }
 },
 "nbformat": 4,
 "nbformat_minor": 2
}
