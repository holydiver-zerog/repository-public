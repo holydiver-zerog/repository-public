{
 "cells": [
  {
   "cell_type": "code",
   "execution_count": 18,
   "metadata": {
    "scrolled": true
   },
   "outputs": [
    {
     "name": "stdout",
     "output_type": "stream",
     "text": [
      "    最高気温  清涼飲料売上数\n",
      "0     26       84\n",
      "1     25       61\n",
      "2     26       85\n",
      "3     24       63\n",
      "4     25       71\n",
      "5     24       81\n",
      "6     26       98\n",
      "7     26      101\n",
      "8     25       93\n",
      "9     27      118\n",
      "10    27      114\n",
      "11    26      124\n",
      "12    28      156\n",
      "13    28      188\n",
      "14    27      184\n",
      "15    28      213\n",
      "16    29      241\n",
      "17    29      233\n",
      "18    29      207\n",
      "19    31      267\n",
      "20    31      332\n",
      "21    29      266\n",
      "22    32      334\n",
      "23    33      346\n",
      "24    34      359\n",
      "25    33      361\n",
      "26    34      372\n",
      "27    35      368\n",
      "28    32      378\n",
      "29    34      394\n"
     ]
    }
   ],
   "source": [
    "# CSVファイルをデータフレームに読み込む\n",
    "\n",
    "import pandas as pd\n",
    "# data.csvをエンコード方式utf-8で読み込む\n",
    "df = pd.read_csv('data.csv', encoding='utf-8')\n",
    "# データフレームを出力\n",
    "print(df)"
   ]
  }
 ],
 "metadata": {
  "kernelspec": {
   "display_name": "Python 3",
   "language": "python",
   "name": "python3"
  },
  "language_info": {
   "codemirror_mode": {
    "name": "ipython",
    "version": 3
   },
   "file_extension": ".py",
   "mimetype": "text/x-python",
   "name": "python",
   "nbconvert_exporter": "python",
   "pygments_lexer": "ipython3",
   "version": "3.11.4"
  }
 },
 "nbformat": 4,
 "nbformat_minor": 2
}
