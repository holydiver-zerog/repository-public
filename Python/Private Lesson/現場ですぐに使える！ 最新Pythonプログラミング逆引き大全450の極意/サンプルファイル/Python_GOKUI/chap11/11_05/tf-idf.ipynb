{
 "cells": [
  {
   "cell_type": "code",
   "execution_count": 1,
   "metadata": {},
   "outputs": [
    {
     "name": "stdout",
     "output_type": "stream",
     "text": [
      "['document' 'first' 'is' 'second' 'the' 'this']\n",
      "[[0.39896105 0.60276058 0.39896105 0.         0.39896105 0.39896105]\n",
      " [0.65644042 0.         0.32822021 0.49588351 0.32822021 0.32822021]\n",
      " [0.39896105 0.         0.39896105 0.60276058 0.39896105 0.39896105]\n",
      " [0.39896105 0.60276058 0.39896105 0.         0.39896105 0.39896105]]\n"
     ]
    }
   ],
   "source": [
    "from sklearn.feature_extraction.text import TfidfVectorizer\n",
    "# 英文を要素にしたリストを作成\n",
    "corpus = [\n",
    "    'This is the first document.',\n",
    "    'This document is the second document.',\n",
    "    'This is the second document.',\n",
    "    'Is this the first document?'\n",
    "]\n",
    "# TfidfVectorizerをインスタンス化\n",
    "vectorizer = TfidfVectorizer()\n",
    "# リストに格納された4文書についてtf-idfを求める\n",
    "X = vectorizer.fit_transform(corpus)\n",
    "# 単語のリストをインデックス順に出力\n",
    "print(vectorizer.get_feature_names_out())\n",
    "# 戻り値はscipy.sparseの疎行列なのでNumPy配列に変換して出力\n",
    "print(X.toarray())"
   ]
  },
  {
   "cell_type": "code",
   "execution_count": 2,
   "metadata": {},
   "outputs": [
    {
     "name": "stdout",
     "output_type": "stream",
     "text": [
      "['document' 'is' 'second' 'the' 'this']\n",
      "[[2 1 1 1 1]]\n",
      "[[0.70710678 0.35355339 0.35355339 0.35355339 0.35355339]]\n"
     ]
    }
   ],
   "source": [
    "from sklearn.feature_extraction.text import CountVectorizer\n",
    "\n",
    "# 英文を要素にしたリストを作成\n",
    "corpus = [ 'This document is the second document.' ]\n",
    "# CountVectorizerをインスタンス化\n",
    "vectorizer = CountVectorizer()\n",
    "# Bag-of-wordsを実行\n",
    "X = vectorizer.fit_transform(corpus)\n",
    "# 単語のリストを出力\n",
    "print(vectorizer.get_feature_names_out())\n",
    "# 戻り値をNumPy配列に変換して出力\n",
    "print(X.toarray())\n",
    "# TfidfVectorizerをインスタンス化\n",
    "vectorizer = TfidfVectorizer()\n",
    "# tf-idfを求める\n",
    "X = vectorizer.fit_transform(corpus)\n",
    "# 戻り値をNumPy配列に変換して出力\n",
    "print(X.toarray())"
   ]
  }
 ],
 "metadata": {
  "kernelspec": {
   "display_name": ".venv",
   "language": "python",
   "name": "python3"
  },
  "language_info": {
   "codemirror_mode": {
    "name": "ipython",
    "version": 3
   },
   "file_extension": ".py",
   "mimetype": "text/x-python",
   "name": "python",
   "nbconvert_exporter": "python",
   "pygments_lexer": "ipython3",
   "version": "3.10.9"
  },
  "orig_nbformat": 4
 },
 "nbformat": 4,
 "nbformat_minor": 2
}
