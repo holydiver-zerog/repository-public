{
 "cells": [
  {
   "cell_type": "code",
   "execution_count": 1,
   "metadata": {},
   "outputs": [],
   "source": [
    "from sklearn.feature_extraction.text import TfidfVectorizer\n",
    "from sklearn.datasets import fetch_20newsgroups\n",
    "\n",
    "categories = [\n",
    "    'alt.atheism',\n",
    "    'comp.graphics',\n",
    "    'comp.os.ms-windows.misc',\n",
    "    'comp.sys.ibm.pc.hardware',\n",
    "    'comp.sys.mac.hardware',\n",
    "    'comp.windows.x',\n",
    "    'misc.forsale',\n",
    "    'rec.autos',\n",
    "    'rec.motorcycles',\n",
    "    'rec.sport.baseball',\n",
    "    'rec.sport.hockey'\n",
    "    ]\n",
    "remove = ('headers', 'footers', 'quotes')\n",
    "# 学習データ\n",
    "train_data = fetch_20newsgroups(\n",
    "    subset='train', remove=remove, categories=categories)\n",
    "# テストデータ\n",
    "test_data = fetch_20newsgroups(\n",
    "    subset='test', remove=remove, categories=categories)"
   ]
  },
  {
   "cell_type": "code",
   "execution_count": 2,
   "metadata": {},
   "outputs": [],
   "source": [
    "# TfidfVectorizerをインスタンス化\n",
    "tf_vec = TfidfVectorizer()\n",
    "# 学習データのtf-idfを求める\n",
    "X_train_tfidf = tf_vec.fit_transform(train_data.data)\n",
    "# テストデータのtf-idfを求める\n",
    "X_test_tfidf = tf_vec.transform(test_data.data)"
   ]
  },
  {
   "cell_type": "code",
   "execution_count": 3,
   "metadata": {},
   "outputs": [
    {
     "data": {
      "text/plain": [
       "0.7536436295251528"
      ]
     },
     "execution_count": 3,
     "metadata": {},
     "output_type": "execute_result"
    }
   ],
   "source": [
    "import numpy as np\n",
    "from sklearn.svm import LinearSVC\n",
    "\n",
    "# 線形サポートベクターマシンの分類モデルを生成\n",
    "model = LinearSVC(max_iter=30000, dual=True)\n",
    "# 学習開始\n",
    "model.fit(X_train_tfidf, train_data.target)\n",
    "# 学習後のモデルでtf-idf変換後のテストデータを分類する\n",
    "predicted = model.predict(X_test_tfidf)\n",
    "# 正解ラベルと照合して正解率を求める\n",
    "np.mean(predicted == test_data.target)"
   ]
  },
  {
   "cell_type": "code",
   "execution_count": 4,
   "metadata": {},
   "outputs": [
    {
     "data": {
      "text/plain": [
       "0.7139163140573578"
      ]
     },
     "execution_count": 4,
     "metadata": {},
     "output_type": "execute_result"
    }
   ],
   "source": [
    "from sklearn.ensemble import RandomForestClassifier\n",
    "\n",
    "# ランダムフォレスト分類のモデルを生成\n",
    "rf_model = RandomForestClassifier(n_estimators=500)\n",
    "# 学習開始\n",
    "rf_model.fit(X_train_tfidf, train_data.target)\n",
    "# 学習後のモデルでtf-idf変換後のテストデータを分類する\n",
    "predicted = rf_model.predict(X_test_tfidf)\n",
    "# 正解ラベルと照合して正解率を求める\n",
    "np.mean(predicted == test_data.target)"
   ]
  },
  {
   "cell_type": "code",
   "execution_count": 5,
   "metadata": {},
   "outputs": [
    {
     "data": {
      "text/plain": [
       "0.6817113305124589"
      ]
     },
     "execution_count": 5,
     "metadata": {},
     "output_type": "execute_result"
    }
   ],
   "source": [
    "from sklearn.ensemble import GradientBoostingClassifier\n",
    "\n",
    "# 勾配ブースティング決定木のモデルを作成\n",
    "# 最大深度を3、決定木を500、0.5の割合で確率的勾配降下法、学習率0.1\n",
    "gb_model = GradientBoostingClassifier(\n",
    "    max_depth=3, n_estimators=500, subsample=0.5, learning_rate=0.1)\n",
    "# 学習開始\n",
    "gb_model.fit(X_train_tfidf, train_data.target)\n",
    "# 学習後のモデルでtf-idf変換後のテストデータを分類する\n",
    "predicted = gb_model.predict(X_test_tfidf)\n",
    "# 正解ラベルと照合して正解率を求める\n",
    "np.mean(predicted == test_data.target)"
   ]
  }
 ],
 "metadata": {
  "kernelspec": {
   "display_name": ".venv",
   "language": "python",
   "name": "python3"
  },
  "language_info": {
   "codemirror_mode": {
    "name": "ipython",
    "version": 3
   },
   "file_extension": ".py",
   "mimetype": "text/x-python",
   "name": "python",
   "nbconvert_exporter": "python",
   "pygments_lexer": "ipython3",
   "version": "3.11.4"
  },
  "orig_nbformat": 4
 },
 "nbformat": 4,
 "nbformat_minor": 2
}
