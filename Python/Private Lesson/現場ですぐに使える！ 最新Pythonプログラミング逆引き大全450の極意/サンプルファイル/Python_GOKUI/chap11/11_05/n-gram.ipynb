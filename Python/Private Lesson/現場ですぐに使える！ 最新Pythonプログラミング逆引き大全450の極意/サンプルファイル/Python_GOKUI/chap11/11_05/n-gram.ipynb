{
 "cells": [
  {
   "cell_type": "code",
   "execution_count": 1,
   "metadata": {},
   "outputs": [
    {
     "data": {
      "text/plain": [
       "array([[0, 0, 1, 1, 0, 0, 1, 0, 0, 0, 0, 1, 0],\n",
       "       [0, 1, 0, 1, 0, 1, 0, 1, 0, 0, 1, 0, 0],\n",
       "       [1, 0, 0, 1, 0, 0, 0, 0, 1, 1, 0, 1, 0],\n",
       "       [0, 0, 1, 0, 1, 0, 1, 0, 0, 0, 0, 0, 1]], dtype=int64)"
      ]
     },
     "execution_count": 1,
     "metadata": {},
     "output_type": "execute_result"
    }
   ],
   "source": [
    "from sklearn.feature_extraction.text import CountVectorizer\n",
    "# 英文を要素にした配列を作成\n",
    "corpus = [\n",
    "    'This is the first document.',\n",
    "    'This document is the second document.',\n",
    "    'And this is the third one.',\n",
    "    'Is this the first document?'\n",
    "]\n",
    "# CountVectorizerをインスタンス化\n",
    "vectorizer = CountVectorizer(\n",
    "    analyzer='word',    # 単語単位のn-gramsを指定\n",
    "    ngram_range=(2, 2)) # 2-grams(バイグラム)にする\n",
    "# 変換後の行列を取得\n",
    "X = vectorizer.fit_transform(corpus)\n",
    "# 戻り値はscipy.sparseの疎行列なのでNumPy配列に変換して出力\n",
    "X.toarray()"
   ]
  },
  {
   "cell_type": "code",
   "execution_count": 2,
   "metadata": {},
   "outputs": [
    {
     "data": {
      "text/plain": [
       "{'this is': 11,\n",
       " 'is the': 3,\n",
       " 'the first': 6,\n",
       " 'first document': 2,\n",
       " 'this document': 10,\n",
       " 'document is': 1,\n",
       " 'the second': 7,\n",
       " 'second document': 5,\n",
       " 'and this': 0,\n",
       " 'the third': 8,\n",
       " 'third one': 9,\n",
       " 'is this': 4,\n",
       " 'this the': 12}"
      ]
     },
     "execution_count": 2,
     "metadata": {},
     "output_type": "execute_result"
    }
   ],
   "source": [
    "# 2単語のつながりにマッピングされたインデックスを出力\n",
    "vectorizer.vocabulary_"
   ]
  }
 ],
 "metadata": {
  "kernelspec": {
   "display_name": ".venv",
   "language": "python",
   "name": "python3"
  },
  "language_info": {
   "codemirror_mode": {
    "name": "ipython",
    "version": 3
   },
   "file_extension": ".py",
   "mimetype": "text/x-python",
   "name": "python",
   "nbconvert_exporter": "python",
   "pygments_lexer": "ipython3",
   "version": "3.11.4"
  },
  "orig_nbformat": 4
 },
 "nbformat": 4,
 "nbformat_minor": 2
}
