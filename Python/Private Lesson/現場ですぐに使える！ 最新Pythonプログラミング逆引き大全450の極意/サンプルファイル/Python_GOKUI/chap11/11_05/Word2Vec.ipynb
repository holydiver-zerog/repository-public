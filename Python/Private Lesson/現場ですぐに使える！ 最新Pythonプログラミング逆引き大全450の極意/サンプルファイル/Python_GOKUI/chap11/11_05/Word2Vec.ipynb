{
 "cells": [
  {
   "cell_type": "code",
   "execution_count": 1,
   "metadata": {},
   "outputs": [
    {
     "data": {
      "text/plain": [
       "[['This', 'is', 'the', 'first', 'document.'],\n",
       " ['This', 'document', 'is', 'the', 'second', 'document.'],\n",
       " ['And', 'this', 'is', 'the', 'third', 'one.'],\n",
       " ['Is', 'this', 'the', 'first', 'document?']]"
      ]
     },
     "execution_count": 1,
     "metadata": {},
     "output_type": "execute_result"
    }
   ],
   "source": [
    "corpus = [\n",
    "    'This is the first document.',\n",
    "    'This document is the second document.',\n",
    "    'And this is the third one.',\n",
    "    'Is this the first document?'\n",
    "]\n",
    "# 文章を単語に分けてリストにする\n",
    "sentence = [d.split() for d in corpus]\n",
    "sentence"
   ]
  },
  {
   "cell_type": "code",
   "execution_count": 2,
   "metadata": {},
   "outputs": [
    {
     "name": "stdout",
     "output_type": "stream",
     "text": [
      "[-0.08157917  0.04495798 -0.04137076  0.00824536  0.08498619 -0.04462177\n",
      "  0.045175   -0.0678696  -0.03548489  0.09398508]\n"
     ]
    }
   ],
   "source": [
    "# Word2Vec\n",
    "from gensim.models import word2vec\n",
    "\n",
    "# モデルを生成\n",
    "model = word2vec.Word2Vec(\n",
    "    sentence,\n",
    "    vector_size=10, # 単語ベクトルの次元数\n",
    "    min_count=1,    # n回未満登場する単語を破棄\n",
    "    window=2        # 学習に使う前後の単語数\n",
    "    )\n",
    "# 'This'の単語ベクトルを出力\n",
    "print(model.wv['This'])"
   ]
  },
  {
   "cell_type": "code",
   "execution_count": 3,
   "metadata": {},
   "outputs": [
    {
     "data": {
      "text/plain": [
       "[('third', 0.5111282467842102),\n",
       " ('document?', 0.38619059324264526),\n",
       " ('this', 0.3002755343914032),\n",
       " ('first', 0.141779825091362),\n",
       " ('document.', 0.057554230093955994),\n",
       " ('Is', -0.027790984138846397),\n",
       " ('This', -0.05889715999364853),\n",
       " ('And', -0.09835173189640045),\n",
       " ('second', -0.10117148607969284),\n",
       " ('one.', -0.25342029333114624)]"
      ]
     },
     "execution_count": 3,
     "metadata": {},
     "output_type": "execute_result"
    }
   ],
   "source": [
    "# 'document'に近い順に単語を抽出\n",
    "model.wv.most_similar(positive='document')"
   ]
  }
 ],
 "metadata": {
  "kernelspec": {
   "display_name": ".venv",
   "language": "python",
   "name": "python3"
  },
  "language_info": {
   "codemirror_mode": {
    "name": "ipython",
    "version": 3
   },
   "file_extension": ".py",
   "mimetype": "text/x-python",
   "name": "python",
   "nbconvert_exporter": "python",
   "pygments_lexer": "ipython3",
   "version": "3.11.4"
  },
  "orig_nbformat": 4
 },
 "nbformat": 4,
 "nbformat_minor": 2
}
