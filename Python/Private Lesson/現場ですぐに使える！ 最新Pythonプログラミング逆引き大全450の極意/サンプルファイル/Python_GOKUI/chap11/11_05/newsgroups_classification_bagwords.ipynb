{
 "cells": [
  {
   "cell_type": "code",
   "execution_count": 1,
   "metadata": {},
   "outputs": [],
   "source": [
    "from sklearn.datasets import fetch_20newsgroups\n",
    "\n",
    "categories = [\n",
    "    'alt.atheism',\n",
    "    'comp.graphics',\n",
    "    'comp.os.ms-windows.misc',\n",
    "    'comp.sys.ibm.pc.hardware',\n",
    "    'comp.sys.mac.hardware',\n",
    "    'comp.windows.x',\n",
    "    'misc.forsale',\n",
    "    'rec.autos',\n",
    "    'rec.motorcycles',\n",
    "    'rec.sport.baseball',\n",
    "    'rec.sport.hockey'\n",
    "    ]\n",
    "remove = ('headers', 'footers', 'quotes')\n",
    "# 学習データ\n",
    "train_data = fetch_20newsgroups(\n",
    "    subset='train', remove=remove, categories=categories)\n",
    "# 検証データ\n",
    "test_data = fetch_20newsgroups(\n",
    "    subset='test', remove=remove, categories=categories)"
   ]
  },
  {
   "cell_type": "code",
   "execution_count": 2,
   "metadata": {},
   "outputs": [],
   "source": [
    "from sklearn.feature_extraction.text import CountVectorizer\n",
    "\n",
    "count_vect = CountVectorizer()\n",
    "X_train_bagwords = count_vect.fit_transform(train_data.data)\n",
    "X_test_bagwords = count_vect.transform(test_data.data)"
   ]
  },
  {
   "cell_type": "code",
   "execution_count": 3,
   "metadata": {},
   "outputs": [
    {
     "data": {
      "text/plain": [
       "0.652327221438646"
      ]
     },
     "execution_count": 3,
     "metadata": {},
     "output_type": "execute_result"
    }
   ],
   "source": [
    "import numpy as np\n",
    "from sklearn.svm import LinearSVC\n",
    "\n",
    "# 線形サポートベクターマシンの分類器\n",
    "model = LinearSVC(max_iter=30000, dual=True)\n",
    "model.fit(X_train_bagwords, train_data.target)\n",
    "predicted = model.predict(X_test_bagwords)\n",
    "np.mean(predicted == test_data.target)"
   ]
  },
  {
   "cell_type": "code",
   "execution_count": 4,
   "metadata": {},
   "outputs": [
    {
     "data": {
      "text/plain": [
       "0.7101551480959097"
      ]
     },
     "execution_count": 4,
     "metadata": {},
     "output_type": "execute_result"
    }
   ],
   "source": [
    "from sklearn.ensemble import RandomForestClassifier\n",
    "\n",
    "# ランダムフォレスト分類のモデルを作成\n",
    "rf_model = RandomForestClassifier(n_estimators=500)\n",
    "rf_model.fit(X_train_bagwords, train_data.target)\n",
    "predicted = rf_model.predict(X_test_bagwords)\n",
    "np.mean(predicted == test_data.target)"
   ]
  },
  {
   "cell_type": "code",
   "execution_count": 5,
   "metadata": {},
   "outputs": [
    {
     "data": {
      "text/plain": [
       "0.7070992007522332"
      ]
     },
     "execution_count": 5,
     "metadata": {},
     "output_type": "execute_result"
    }
   ],
   "source": [
    "from sklearn.ensemble import GradientBoostingClassifier\n",
    "\n",
    "# 勾配ブースティング決定木のモデルを作成\n",
    "# 最大深度を3、決定木を500、0.5の割合で確率的勾配降下法、学習率を0.1\n",
    "gb_model = GradientBoostingClassifier(\n",
    "    max_depth=3, n_estimators=500, subsample=0.5, learning_rate=0.1)\n",
    "gb_model.fit(X_train_bagwords, train_data.target)\n",
    "predicted = gb_model.predict(X_test_bagwords)\n",
    "np.mean(predicted == test_data.target)"
   ]
  }
 ],
 "metadata": {
  "kernelspec": {
   "display_name": ".venv",
   "language": "python",
   "name": "python3"
  },
  "language_info": {
   "codemirror_mode": {
    "name": "ipython",
    "version": 3
   },
   "file_extension": ".py",
   "mimetype": "text/x-python",
   "name": "python",
   "nbconvert_exporter": "python",
   "pygments_lexer": "ipython3",
   "version": "3.11.4"
  },
  "orig_nbformat": 4
 },
 "nbformat": 4,
 "nbformat_minor": 2
}
