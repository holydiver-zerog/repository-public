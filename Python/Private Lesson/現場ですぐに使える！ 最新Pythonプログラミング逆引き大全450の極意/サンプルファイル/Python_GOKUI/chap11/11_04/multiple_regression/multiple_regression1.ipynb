{
 "cells": [
  {
   "cell_type": "code",
   "execution_count": 1,
   "metadata": {},
   "outputs": [
    {
     "name": "stdout",
     "output_type": "stream",
     "text": [
      "      店舗   売上額  競合店  満足度  商品の充実度\n",
      "0    赤坂店  7990    0    4       4\n",
      "1    溜池店  8420    1    4       5\n",
      "2    広尾店  3950    3    2       3\n",
      "3    麻布店  6870    2    4       4\n",
      "4   麻布十番  4520    3    3       2\n",
      "5   恵比寿店  3480    2    3       3\n",
      "6    高輪店  8900    0    4       4\n",
      "7   西五反田  6280    1    3       3\n",
      "8   東五反田  8180    1    3       4\n",
      "9   不動前店  5330    1    3       3\n",
      "10   飯倉店  3090    2    2       3\n",
      "11   渋谷店  8600    0    3       4\n",
      "12  中目黒店  3880    1    3       2\n",
      "13  南青山店  7400    3    4       3\n",
      "14  北青山店  4540    3    3       3\n",
      "15  芝公園店  3450    2    3       3\n",
      "16  泉岳寺店  2350    3    2       2\n",
      "17  乃木坂店  8510    1    4       4\n",
      "18  表参道店  4450    3    3       3\n",
      "19  神宮前店  5320    2    3       2\n"
     ]
    }
   ],
   "source": [
    "# sales.csvをデータフレームに読み込んで出力\n",
    "\n",
    "import pandas as pd\n",
    "# ファイルを読み込んでdfに格納\n",
    "df = pd.read_csv('sales.csv', encoding='utf-8')\n",
    "print(df)"
   ]
  }
 ],
 "metadata": {
  "kernelspec": {
   "display_name": "Python 3",
   "language": "python",
   "name": "python3"
  },
  "language_info": {
   "codemirror_mode": {
    "name": "ipython",
    "version": 3
   },
   "file_extension": ".py",
   "mimetype": "text/x-python",
   "name": "python",
   "nbconvert_exporter": "python",
   "pygments_lexer": "ipython3",
   "version": "3.11.4"
  }
 },
 "nbformat": 4,
 "nbformat_minor": 2
}
