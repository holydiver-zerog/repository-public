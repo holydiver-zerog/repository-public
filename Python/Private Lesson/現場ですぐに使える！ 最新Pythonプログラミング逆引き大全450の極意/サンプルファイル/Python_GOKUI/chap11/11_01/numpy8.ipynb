{
 "cells": [
  {
   "cell_type": "code",
   "execution_count": 1,
   "metadata": {},
   "outputs": [
    {
     "name": "stdout",
     "output_type": "stream",
     "text": [
      "最大値　:  60\n",
      "最小値　:  35\n",
      "平均値　:  47.5\n",
      "分　散　:  72.91666666666667\n",
      "標準偏差:  8.539125638299666\n"
     ]
    }
   ],
   "source": [
    "# 最大値、最小値、分散、標準偏差を求める\n",
    "\n",
    "import numpy as np\n",
    "x = np.array([35, 40, 45, 50, 55, 60])\n",
    "\n",
    "print('最大値　: ', np.max(x))\n",
    "print('最小値　: ', np.min(x))\n",
    "print('平均値　: ', np.mean(x))\n",
    "print('分　散　: ', np.var(x))\n",
    "print('標準偏差: ', np.std(x))"
   ]
  },
  {
   "cell_type": "code",
   "execution_count": 2,
   "metadata": {},
   "outputs": [
    {
     "name": "stdout",
     "output_type": "stream",
     "text": [
      "不偏分散　　:  87.5\n",
      "不偏標準偏差:  9.354143466934854\n"
     ]
    }
   ],
   "source": [
    "# 不偏分散、不偏標準偏差を求める\n",
    "print('不偏分散　　: ', np.var(x, ddof=1))\n",
    "print('不偏標準偏差: ', np.std(x, ddof=1))"
   ]
  }
 ],
 "metadata": {
  "kernelspec": {
   "display_name": ".venv",
   "language": "python",
   "name": "python3"
  },
  "language_info": {
   "codemirror_mode": {
    "name": "ipython",
    "version": 3
   },
   "file_extension": ".py",
   "mimetype": "text/x-python",
   "name": "python",
   "nbconvert_exporter": "python",
   "pygments_lexer": "ipython3",
   "version": "3.11.4"
  },
  "orig_nbformat": 4
 },
 "nbformat": 4,
 "nbformat_minor": 2
}
