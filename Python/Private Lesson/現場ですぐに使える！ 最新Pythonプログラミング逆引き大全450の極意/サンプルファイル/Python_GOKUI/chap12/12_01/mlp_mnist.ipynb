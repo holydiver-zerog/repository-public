{
 "cells": [
  {
   "cell_type": "code",
   "execution_count": 1,
   "metadata": {},
   "outputs": [],
   "source": [
    "from tensorflow.keras.datasets import mnist # MNISTデータセットをインポート\n",
    "\n",
    "# MNISTデータセットを読み込む。\n",
    "(x_train, y_train), (x_test, y_test) = mnist.load_data()\n",
    "\n",
    "# データの前処理\n",
    "# (60000,28,28)の3次元配列を(60000,784(=28×28))の2次元配列に変換\n",
    "x_train = x_train.reshape(60000, 784)\n",
    "# (10000,28,28)の3次元配列を(10000,784(=28×28))の2次元配列に変換\n",
    "x_test = x_test.reshape(10000, 784)\n",
    "# 画素のデータをグレースケールの色調の最大値255で割って0から1.0の範囲にする\n",
    "x_train = x_train/255.0\n",
    "x_test = x_test/255.0"
   ]
  },
  {
   "cell_type": "code",
   "execution_count": 2,
   "metadata": {},
   "outputs": [],
   "source": [
    "# 正解ラベルをワンホット表現に変換\n",
    "\n",
    "from tensorflow.keras import utils # utilsをインポート\n",
    "\n",
    "# 出力層のニューロンの数(クラスの数)\n",
    "num_classes = 10\n",
    "# 訓練データとテストデータの正解ラベルをワンホット表現に変換\n",
    "y_train = utils.to_categorical(y_train, num_classes)\n",
    "y_test = utils.to_categorical(y_test, num_classes)"
   ]
  },
  {
   "cell_type": "code",
   "execution_count": 3,
   "metadata": {},
   "outputs": [],
   "source": [
    "# ニューラルネットワークの作成\n",
    "from tensorflow.keras.models import Sequential\n",
    "from tensorflow.keras.layers import Dense\n",
    "\n",
    "# ニューラルネットワークの基になるオブジェクトを生成\n",
    "model = Sequential()\n",
    "\n",
    "# 第1層の作成\n",
    "model.add(Dense(512,                 # 第1層のニューロン数は512\n",
    "                input_shape=(784,),  # 第0層のデータ形状は要素数784の1次元配列\n",
    "                activation='relu'    # 活性化関数はReLU\n",
    "                ))"
   ]
  },
  {
   "cell_type": "code",
   "execution_count": 4,
   "metadata": {},
   "outputs": [],
   "source": [
    "# 第1層の次にドロップアウトを実装する\n",
    "from tensorflow.keras.layers import Dropout\n",
    "\n",
    "# ドロップアウト率を25パーセントにする\n",
    "model.add(Dropout(rate=0.25))"
   ]
  },
  {
   "cell_type": "code",
   "execution_count": 5,
   "metadata": {},
   "outputs": [],
   "source": [
    "# 第2層(出力層)の作成\n",
    "\n",
    "model.add(Dense(\n",
    "    num_classes,           # 第2層のニューロン数は10\n",
    "    activation='softmax'   # 活性化関数はSoftmax\n",
    "    ))"
   ]
  },
  {
   "cell_type": "code",
   "execution_count": 6,
   "metadata": {},
   "outputs": [],
   "source": [
    "# バックプロパゲーションを実装する\n",
    "from tensorflow.keras.optimizers import SGD\n",
    "\n",
    "model.compile(\n",
    "    loss='categorical_crossentropy', # 誤差関数を交差エントロピー誤差にする\n",
    "    optimizer=SGD(),                 # 学習方法をSGDにする\n",
    "    metrics=['accuracy'])            # 学習評価には正解率を使う"
   ]
  },
  {
   "cell_type": "code",
   "execution_count": 7,
   "metadata": {},
   "outputs": [
    {
     "name": "stdout",
     "output_type": "stream",
     "text": [
      "Model: \"sequential\"\n",
      "_________________________________________________________________\n",
      " Layer (type)                Output Shape              Param #   \n",
      "=================================================================\n",
      " dense (Dense)               (None, 512)               401920    \n",
      "                                                                 \n",
      " dropout (Dropout)           (None, 512)               0         \n",
      "                                                                 \n",
      " dense_1 (Dense)             (None, 10)                5130      \n",
      "                                                                 \n",
      "=================================================================\n",
      "Total params: 407050 (1.55 MB)\n",
      "Trainable params: 407050 (1.55 MB)\n",
      "Non-trainable params: 0 (0.00 Byte)\n",
      "_________________________________________________________________\n"
     ]
    }
   ],
   "source": [
    "# ニューラルネットワークの構造を出力\n",
    "model.summary()"
   ]
  },
  {
   "cell_type": "code",
   "execution_count": 8,
   "metadata": {},
   "outputs": [
    {
     "name": "stdout",
     "output_type": "stream",
     "text": [
      "Epoch 1/5\n",
      "1200/1200 [==============================] - 3s 2ms/step - loss: 0.7686 - accuracy: 0.8034 - val_loss: 0.3961 - val_accuracy: 0.8964\n",
      "Epoch 2/5\n",
      "1200/1200 [==============================] - 3s 2ms/step - loss: 0.3984 - accuracy: 0.8878 - val_loss: 0.3189 - val_accuracy: 0.9122\n",
      "Epoch 3/5\n",
      "1200/1200 [==============================] - 3s 2ms/step - loss: 0.3388 - accuracy: 0.9039 - val_loss: 0.2835 - val_accuracy: 0.9211\n",
      "Epoch 4/5\n",
      "1200/1200 [==============================] - 3s 2ms/step - loss: 0.3054 - accuracy: 0.9132 - val_loss: 0.2600 - val_accuracy: 0.9273\n",
      "Epoch 5/5\n",
      "1200/1200 [==============================] - 3s 2ms/step - loss: 0.2771 - accuracy: 0.9219 - val_loss: 0.2408 - val_accuracy: 0.9325\n"
     ]
    }
   ],
   "source": [
    "# ディープラーニングを実行する\n",
    "\n",
    "history = model.fit(x_train,        # 訓練データ\n",
    "                    y_train,        # 正解ラベル\n",
    "                    batch_size=50,  # ミニバッチのサイズ\n",
    "                    epochs=5,       # 学習する回数\n",
    "                    verbose=1,      # 学習の進捗状況を出力する\n",
    "                    validation_data=(\n",
    "                        x_test, y_test) # テストデータの指定\n",
    "                    )"
   ]
  },
  {
   "cell_type": "code",
   "execution_count": 9,
   "metadata": {},
   "outputs": [
    {
     "name": "stdout",
     "output_type": "stream",
     "text": [
      "Test loss: 0.24084779620170593\n",
      "Test accuracy: 0.9325000047683716\n"
     ]
    }
   ],
   "source": [
    "# 学習結果の評価\n",
    "\n",
    "# テストデータを使って学習結果を評価する\n",
    "score = model.evaluate(x_test, y_test, verbose=0)\n",
    "# テストデータの誤り率を出力\n",
    "print('Test loss:', score[0])\n",
    "# テストデータの正解率を出力\n",
    "print('Test accuracy:', score[1])"
   ]
  }
 ],
 "metadata": {
  "kernelspec": {
   "display_name": ".venv",
   "language": "python",
   "name": "python3"
  },
  "language_info": {
   "codemirror_mode": {
    "name": "ipython",
    "version": 3
   },
   "file_extension": ".py",
   "mimetype": "text/x-python",
   "name": "python",
   "nbconvert_exporter": "python",
   "pygments_lexer": "ipython3",
   "version": "3.11.4"
  },
  "orig_nbformat": 4
 },
 "nbformat": 4,
 "nbformat_minor": 2
}
