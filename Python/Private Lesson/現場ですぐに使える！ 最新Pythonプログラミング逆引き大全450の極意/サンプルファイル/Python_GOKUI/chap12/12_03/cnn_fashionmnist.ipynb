{
 "cells": [
  {
   "cell_type": "code",
   "execution_count": 1,
   "metadata": {},
   "outputs": [
    {
     "ename": "ValueError",
     "evalue": "output array is read-only",
     "output_type": "error",
     "traceback": [
      "\u001b[1;31m---------------------------------------------------------------------------\u001b[0m",
      "\u001b[1;31mValueError\u001b[0m                                Traceback (most recent call last)",
      "\u001b[1;32mc:\\Document\\Python_tips\\sampleprogram\\chap12\\12_03\\CNN_FashionMNIST.ipynb セル 1\u001b[0m line \u001b[0;36m1\n\u001b[0;32m     <a href='vscode-notebook-cell:/c%3A/Document/Python_tips/sampleprogram/chap12/12_03/CNN_FashionMNIST.ipynb#W0sZmlsZQ%3D%3D?line=10'>11</a>\u001b[0m x_train \u001b[39m=\u001b[39m x_train\u001b[39m.\u001b[39mreshape(\u001b[39m60000\u001b[39m, \u001b[39m28\u001b[39m, \u001b[39m28\u001b[39m, \u001b[39m1\u001b[39m)\n\u001b[0;32m     <a href='vscode-notebook-cell:/c%3A/Document/Python_tips/sampleprogram/chap12/12_03/CNN_FashionMNIST.ipynb#W0sZmlsZQ%3D%3D?line=11'>12</a>\u001b[0m \u001b[39m# x_train = x_train.astype('float32') # float32型に変換\u001b[39;00m\n\u001b[1;32m---> <a href='vscode-notebook-cell:/c%3A/Document/Python_tips/sampleprogram/chap12/12_03/CNN_FashionMNIST.ipynb#W0sZmlsZQ%3D%3D?line=12'>13</a>\u001b[0m x_train \u001b[39m/\u001b[39;49m\u001b[39m=\u001b[39;49m \u001b[39m255.0\u001b[39;49m                      \u001b[39m# 0から1.0の範囲に変換\u001b[39;00m\n\u001b[0;32m     <a href='vscode-notebook-cell:/c%3A/Document/Python_tips/sampleprogram/chap12/12_03/CNN_FashionMNIST.ipynb#W0sZmlsZQ%3D%3D?line=13'>14</a>\u001b[0m \u001b[39m# (10000,28,28)の3階テンソルを(10000,28,28,1)の4階テンソルに変換\u001b[39;00m\n\u001b[0;32m     <a href='vscode-notebook-cell:/c%3A/Document/Python_tips/sampleprogram/chap12/12_03/CNN_FashionMNIST.ipynb#W0sZmlsZQ%3D%3D?line=14'>15</a>\u001b[0m x_test \u001b[39m=\u001b[39m x_test\u001b[39m.\u001b[39mreshape(\u001b[39m10000\u001b[39m, \u001b[39m28\u001b[39m, \u001b[39m28\u001b[39m, \u001b[39m1\u001b[39m)\n",
      "\u001b[1;31mValueError\u001b[0m: output array is read-only"
     ]
    }
   ],
   "source": [
    "# Fashion-MNISTデータセットを前処理する。\n",
    "\n",
    "from tensorflow.keras.datasets import fashion_mnist\n",
    "from tensorflow.keras import utils\n",
    "\n",
    "# データを変数に格納する。\n",
    "(x_train, y_train), (x_test, y_test) = fashion_mnist.load_data()\n",
    "\n",
    "# データの前処理\n",
    "# (60000,28,28)の3階テンソルを(60000,28,28,1)の4階テンソルに変換\n",
    "x_train = x_train.reshape(60000, 28, 28, 1)\n",
    "# x_train = x_train.astype('float32') # float32型に変換\n",
    "x_train = x_train/255.0                     # 0から1.0の範囲に変換\n",
    "# (10000,28,28)の3階テンソルを(10000,28,28,1)の4階テンソルに変換\n",
    "x_test = x_test.reshape(10000, 28, 28, 1)\n",
    "# x_test = x_test.astype('float32')   # float32型に変換\n",
    "x_test = x_test/255.0                       # 0から1.0の範囲に変換\n",
    "\n",
    "# 正解ラベルのクラス数\n",
    "num_classes = 10\n",
    "# 正解ラベルをワンホット表現に変換\n",
    "y_train = utils.to_categorical(y_train, num_classes)\n",
    "y_test = utils.to_categorical(y_test, num_classes)"
   ]
  },
  {
   "cell_type": "code",
   "execution_count": null,
   "metadata": {},
   "outputs": [],
   "source": [
    "# Conv2D()メソッドで畳み込み層を作る\n",
    "\n",
    "from tensorflow.keras.models import Sequential\n",
    "from tensorflow.keras.layers import Conv2D\n",
    "\n",
    "model = Sequential()                 # Sequentialオブジェクトの生成\n",
    "\n",
    "# （第1層）畳み込み層1\n",
    "# ニューロン数：16\n",
    "# 出力：1ニューロンあたり(28, 28, 1)の3階テンソルを16個出力\n",
    "model.add(Conv2D(filters=16,              # フィルターの数は16\n",
    "                 kernel_size=(3, 3),      # 3×3のフィルターを使用\n",
    "                 input_shape=(28, 28, 1), # 入力データのサイズ\n",
    "                 padding='same',          # ゼロパディングを行う\n",
    "                 activation='relu'        # 活性化関数はReLU\n",
    "                ))"
   ]
  },
  {
   "cell_type": "code",
   "execution_count": null,
   "metadata": {},
   "outputs": [],
   "source": [
    "# （第2層）畳み込み層2\n",
    "# ニューロン数：32\n",
    "# 出力：1ニューロンあたり(28, 28, 1)の3階テンソルを32個出力\n",
    "model.add(Conv2D(filters=32,              # フィルターの数は32\n",
    "                 kernel_size=(3, 3),      # 3×3のフィルターを使用\n",
    "                 padding='same',          # ゼロパディングを行う\n",
    "                 activation='relu'        # 活性化関数はReLU\n",
    "                ))"
   ]
  },
  {
   "cell_type": "code",
   "execution_count": null,
   "metadata": {},
   "outputs": [],
   "source": [
    "# （第3層）プーリング層1\n",
    "# ニューロン数：32\n",
    "# 出力：1ユニットあたり(14, 14, 1)の3階テンソルを32個出力\n",
    "from tensorflow.keras.layers import MaxPooling2D\n",
    "\n",
    "model.add(\n",
    "    MaxPooling2D(pool_size=(2, 2)))       # 縮小対象の領域は2×2"
   ]
  },
  {
   "cell_type": "code",
   "execution_count": null,
   "metadata": {},
   "outputs": [],
   "source": [
    "# （第4層）畳み込み層3\n",
    "# ニューロン数：64\n",
    "# 出力：1ニューロンあたり(14, 14, 1)の3階テンソルを64個出力\n",
    "model.add(Conv2D(filters=64,              # フィルターの数は64\n",
    "                 kernel_size=(3, 3),      # 3×3のフィルターを使用\n",
    "                 padding='same',          # ゼロパディングを行う\n",
    "                 activation='relu'        # 活性化関数はReLU\n",
    "                ))"
   ]
  },
  {
   "cell_type": "code",
   "execution_count": null,
   "metadata": {},
   "outputs": [],
   "source": [
    "# （第5層）プーリング層2\n",
    "from tensorflow.keras.layers import Dropout\n",
    "\n",
    "# 出力：1ユニットあたり(7, 7, 1)の3階テンソルを64個出力\n",
    "model.add(\n",
    "    MaxPooling2D(pool_size=(2, 2)))       # 縮小対象の領域は2×2\n",
    "\n",
    "# ドロップアウト\n",
    "# 出力：1ユニットあたり(7, 7, 1)の3階テンソルを64個出力\n",
    "model.add(Dropout(0.5))                   # ドロップアウトは50％"
   ]
  },
  {
   "cell_type": "code",
   "execution_count": null,
   "metadata": {},
   "outputs": [],
   "source": [
    "# Flaten層\n",
    "from tensorflow.keras.layers import Flatten\n",
    "\n",
    "# ニューロン数＝7×7×64\n",
    "# (画像の枚数, 7(タテ),7(ヨコ),64(チャンネル))を\n",
    "# (画像の枚数, 7×7×64=3136)の2階テンソルに変換\n",
    "model.add(Flatten())"
   ]
  },
  {
   "cell_type": "code",
   "execution_count": null,
   "metadata": {},
   "outputs": [],
   "source": [
    "# （第6層）全結合層\n",
    "from tensorflow.keras.layers import Dense\n",
    "\n",
    "# ニューロン数：128\n",
    "# 出力：要素数(128)の1階テンソルを出力\n",
    "model.add(Dense(128,                      # ニューロン数は128\n",
    "                activation='relu'         # 活性化関数はReLU\n",
    "               ))"
   ]
  },
  {
   "cell_type": "code",
   "execution_count": null,
   "metadata": {},
   "outputs": [],
   "source": [
    "# （第7層）出力層\n",
    "# ニューロン数：10\n",
    "# 出力：要素数(10)の1階テンソルを出力\n",
    "\n",
    "model.add(Dense(10,                       # 出力層のニューロン数は10\n",
    "                activation='softmax'      # 活性化関数はソフトマックス\n",
    "               ))"
   ]
  },
  {
   "cell_type": "code",
   "execution_count": null,
   "metadata": {},
   "outputs": [],
   "source": [
    "# Sequentialオブジェクトをコンパイルする\n",
    "from tensorflow.keras.optimizers import Adam\n",
    "\n",
    "model.compile(\n",
    "    loss='categorical_crossentropy', # 損失の基準は交差エントロピー誤差\n",
    "    optimizer=Adam(),                # 最適化アルゴリズムはAdam\n",
    "    metrics=['accuracy'])            # 学習評価として正解率を指定"
   ]
  },
  {
   "cell_type": "code",
   "execution_count": null,
   "metadata": {},
   "outputs": [],
   "source": [
    "model.summary()                      # サマリーを表示"
   ]
  },
  {
   "cell_type": "code",
   "execution_count": null,
   "metadata": {},
   "outputs": [],
   "source": [
    "# 畳み込みニューラルネットワークで学習を行う\n",
    "\n",
    "history = model.fit(\n",
    "    x_train,          # 訓練データ\n",
    "    y_train,          # 正解ラベル\n",
    "    epochs=5,    # 学習を繰り返す回数\n",
    "    batch_size=50, # 勾配計算に用いるミニバッチの数\n",
    "    verbose=1,        # 学習の進捗状況を出力する\n",
    "    validation_data=(\n",
    "        x_test, y_test    # テストデータの指定\n",
    "        )\n",
    "    )"
   ]
  },
  {
   "cell_type": "code",
   "execution_count": null,
   "metadata": {},
   "outputs": [],
   "source": [
    "# 損失（誤り率）、正解率をグラフにする\n",
    "%matplotlib inline\n",
    "import numpy as np\n",
    "import matplotlib.pyplot as plt\n",
    "\n",
    "# 訓練データの損失(誤り率)をプロット\n",
    "plt.plot(history.history['loss'],\n",
    "         label='training',\n",
    "         color='black')\n",
    "# テストデータの損失(誤り率)をプロット\n",
    "plt.plot(history.history['val_loss'],\n",
    "         label='test',\n",
    "         color='red')\n",
    "plt.ylim(0, 1)       # y軸の範囲\n",
    "plt.legend()         # 凡例を表示\n",
    "plt.grid()           # グリッド表示\n",
    "plt.xlabel('epoch')  # x軸ラベル\n",
    "plt.ylabel('loss')   # y軸ラベル\n",
    "plt.show()\n",
    "\n",
    "# 訓練データの正解率をプロット\n",
    "plt.plot(history.history['accuracy'],\n",
    "         label='training',\n",
    "         color='black')\n",
    "# テストデータの正解率をプロット\n",
    "plt.plot(history.history['val_accuracy'],\n",
    "         label='test',\n",
    "         color='red')\n",
    "plt.ylim(0.5, 1)     # y軸の範囲\n",
    "plt.legend()         # 凡例を表示\n",
    "plt.grid()           # グリッド表示\n",
    "plt.xlabel('epoch')  # x軸ラベル\n",
    "plt.ylabel('accuracy')    # y軸ラベル\n",
    "plt.show()"
   ]
  },
  {
   "cell_type": "code",
   "execution_count": null,
   "metadata": {},
   "outputs": [],
   "source": []
  }
 ],
 "metadata": {
  "kernelspec": {
   "display_name": "Python 3",
   "language": "python",
   "name": "python3"
  },
  "language_info": {
   "codemirror_mode": {
    "name": "ipython",
    "version": 3
   },
   "file_extension": ".py",
   "mimetype": "text/x-python",
   "name": "python",
   "nbconvert_exporter": "python",
   "pygments_lexer": "ipython3",
   "version": "3.11.4"
  }
 },
 "nbformat": 4,
 "nbformat_minor": 2
}
