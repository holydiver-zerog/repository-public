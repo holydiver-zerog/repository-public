{
 "cells": [
  {
   "cell_type": "code",
   "execution_count": 20,
   "metadata": {},
   "outputs": [
    {
     "name": "stdout",
     "output_type": "stream",
     "text": [
      "2023-08-18 18:14:39.898761\n",
      "2023\n",
      "08\n",
      "August\n",
      "18\n",
      "Friday\n",
      "Fri\n"
     ]
    }
   ],
   "source": [
    "import datetime\n",
    "import locale\n",
    "\n",
    "dt = datetime.datetime.now()\n",
    "print(dt)\n",
    "\n",
    "print(dt.strftime('%Y')) # 西暦4桁\n",
    "print(dt.strftime('%m')) # 月(2桁の数値)\n",
    "print(dt.strftime('%B')) # 月名\n",
    "print(dt.strftime('%d')) # 日(2桁の数値)\n",
    "print(dt.strftime('%A')) # 曜日\n",
    "print(dt.strftime('%a')) # 曜日(短縮形)"
   ]
  },
  {
   "cell_type": "code",
   "execution_count": 21,
   "metadata": {},
   "outputs": [
    {
     "name": "stdout",
     "output_type": "stream",
     "text": [
      "Friday, August 18, 2023\n"
     ]
    }
   ],
   "source": [
    "print(dt.strftime('%A, %B %d, %Y'))"
   ]
  }
 ],
 "metadata": {
  "kernelspec": {
   "display_name": ".venv",
   "language": "python",
   "name": "python3"
  },
  "language_info": {
   "codemirror_mode": {
    "name": "ipython",
    "version": 3
   },
   "file_extension": ".py",
   "mimetype": "text/x-python",
   "name": "python",
   "nbconvert_exporter": "python",
   "pygments_lexer": "ipython3",
   "version": "3.11.4"
  },
  "orig_nbformat": 4
 },
 "nbformat": 4,
 "nbformat_minor": 2
}
