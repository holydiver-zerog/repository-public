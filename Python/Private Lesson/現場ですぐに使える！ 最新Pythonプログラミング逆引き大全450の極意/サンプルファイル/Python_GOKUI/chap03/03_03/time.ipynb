{
 "cells": [
  {
   "cell_type": "code",
   "execution_count": 17,
   "metadata": {},
   "outputs": [
    {
     "name": "stdout",
     "output_type": "stream",
     "text": [
      "1692342846.9194484\n"
     ]
    }
   ],
   "source": [
    "import time\n",
    "\n",
    "ut = time.time()\n",
    "print(ut)"
   ]
  },
  {
   "cell_type": "code",
   "execution_count": 19,
   "metadata": {},
   "outputs": [
    {
     "name": "stdout",
     "output_type": "stream",
     "text": [
      "0.000997304916381836\n"
     ]
    }
   ],
   "source": [
    "# 開始時点のUNIX時間を取得\n",
    "start = time.time()\n",
    "\n",
    "# ---------------------------------\n",
    "# 計測する任意の処理を記述\n",
    "num = 0.0\n",
    "for i in range(10000):\n",
    "    num = num + 0.001\n",
    "# ---------------------------------\n",
    "\n",
    "# 処理終了時のUNIX時間との差を求める\n",
    "t = time.time() - start\n",
    "# 処理に要した時間を出力\n",
    "print(t)"
   ]
  }
 ],
 "metadata": {
  "kernelspec": {
   "display_name": ".venv",
   "language": "python",
   "name": "python3"
  },
  "language_info": {
   "codemirror_mode": {
    "name": "ipython",
    "version": 3
   },
   "file_extension": ".py",
   "mimetype": "text/x-python",
   "name": "python",
   "nbconvert_exporter": "python",
   "pygments_lexer": "ipython3",
   "version": "3.11.4"
  },
  "orig_nbformat": 4
 },
 "nbformat": 4,
 "nbformat_minor": 2
}
