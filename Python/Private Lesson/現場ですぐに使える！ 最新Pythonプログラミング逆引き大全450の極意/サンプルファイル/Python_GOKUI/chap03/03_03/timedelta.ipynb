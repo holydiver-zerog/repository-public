{
 "cells": [
  {
   "cell_type": "code",
   "execution_count": 45,
   "metadata": {},
   "outputs": [
    {
     "name": "stdout",
     "output_type": "stream",
     "text": [
      "1233 days, 2:34:43.756513\n"
     ]
    }
   ],
   "source": [
    "import datetime\n",
    "\n",
    "dt1 = datetime.datetime(2020, 4, 1, 20)\n",
    "dt2 = datetime.datetime.now()\n",
    "\n",
    "days = dt2 - dt1\n",
    "print(days)"
   ]
  },
  {
   "cell_type": "code",
   "execution_count": 46,
   "metadata": {},
   "outputs": [
    {
     "name": "stdout",
     "output_type": "stream",
     "text": [
      "<class 'datetime.timedelta'>\n"
     ]
    }
   ],
   "source": [
    "print(type(days))"
   ]
  },
  {
   "cell_type": "code",
   "execution_count": 47,
   "metadata": {},
   "outputs": [
    {
     "name": "stdout",
     "output_type": "stream",
     "text": [
      "1233\n"
     ]
    }
   ],
   "source": [
    "print(days.days)"
   ]
  },
  {
   "cell_type": "code",
   "execution_count": 49,
   "metadata": {},
   "outputs": [
    {
     "name": "stdout",
     "output_type": "stream",
     "text": [
      "592 days, 21:19:58.250184\n"
     ]
    }
   ],
   "source": [
    "dt1 = datetime.datetime(2025, 4, 1, 20)\n",
    "dt2 = datetime.datetime.now()\n",
    "\n",
    "days = dt1 - dt2\n",
    "print(days)"
   ]
  },
  {
   "cell_type": "code",
   "execution_count": 50,
   "metadata": {},
   "outputs": [
    {
     "name": "stdout",
     "output_type": "stream",
     "text": [
      "592\n"
     ]
    }
   ],
   "source": [
    "print(days.days)"
   ]
  },
  {
   "cell_type": "code",
   "execution_count": 59,
   "metadata": {},
   "outputs": [
    {
     "name": "stdout",
     "output_type": "stream",
     "text": [
      "2021-04-01\n",
      "2023-08-18\n",
      "869\n",
      "<class 'datetime.timedelta'>\n"
     ]
    }
   ],
   "source": [
    "import datetime\n",
    "\n",
    "d1 = datetime.date(2021, 4, 1)\n",
    "d2 = datetime.date.today()\n",
    "print(d1)\n",
    "print(d2)\n",
    "\n",
    "ds= d2 - d1\n",
    "print(ds.days)\n",
    "print(type(ds))"
   ]
  },
  {
   "cell_type": "code",
   "execution_count": null,
   "metadata": {},
   "outputs": [],
   "source": []
  },
  {
   "cell_type": "code",
   "execution_count": 37,
   "metadata": {},
   "outputs": [
    {
     "name": "stdout",
     "output_type": "stream",
     "text": [
      "2023-08-17 22:21:19.769078\n",
      "2023-08-24 22:21:19.769078\n"
     ]
    }
   ],
   "source": [
    "import datetime\n",
    "\n",
    "dt1 = datetime.datetime.now()\n",
    "print(dt1)\n",
    "dt2 = datetime.timedelta(weeks=1) # 週単位はweeksで指定\n",
    "future = dt1 + dt2\n",
    "print(future)"
   ]
  },
  {
   "cell_type": "code",
   "execution_count": 38,
   "metadata": {},
   "outputs": [
    {
     "name": "stdout",
     "output_type": "stream",
     "text": [
      "2023-08-17 22:21:20.399715\n",
      "2024-02-13 22:21:20.399715\n"
     ]
    }
   ],
   "source": [
    "dt1 = datetime.datetime.now()\n",
    "print(dt1)\n",
    "dt2 = datetime.timedelta(days=180) # 日単位はdaysで指定\n",
    "\n",
    "future= dt1 + dt2\n",
    "print(future)"
   ]
  },
  {
   "cell_type": "code",
   "execution_count": 40,
   "metadata": {},
   "outputs": [
    {
     "name": "stdout",
     "output_type": "stream",
     "text": [
      "2023-08-17 22:23:41.367794\n",
      "2023-08-10 22:23:41.367794\n"
     ]
    }
   ],
   "source": [
    "dt1 = datetime.datetime.now()\n",
    "print(dt1)\n",
    "dt2 = datetime.timedelta(weeks=1) # 週単位はweeksで指定\n",
    "past = dt1 - dt2\n",
    "print(past)"
   ]
  },
  {
   "cell_type": "code",
   "execution_count": 43,
   "metadata": {},
   "outputs": [
    {
     "name": "stdout",
     "output_type": "stream",
     "text": [
      "2023-08-17 22:25:21.397615\n",
      "2022-12-10 22:25:21.397615\n"
     ]
    }
   ],
   "source": [
    "dt1 = datetime.datetime.now()\n",
    "print(dt1)\n",
    "dt2 = datetime.timedelta(days=250) # 日単位はdaysで指定\n",
    "past = dt1 - dt2\n",
    "print(past)"
   ]
  }
 ],
 "metadata": {
  "kernelspec": {
   "display_name": ".venv",
   "language": "python",
   "name": "python3"
  },
  "language_info": {
   "codemirror_mode": {
    "name": "ipython",
    "version": 3
   },
   "file_extension": ".py",
   "mimetype": "text/x-python",
   "name": "python",
   "nbconvert_exporter": "python",
   "pygments_lexer": "ipython3",
   "version": "3.11.4"
  },
  "orig_nbformat": 4
 },
 "nbformat": 4,
 "nbformat_minor": 2
}
