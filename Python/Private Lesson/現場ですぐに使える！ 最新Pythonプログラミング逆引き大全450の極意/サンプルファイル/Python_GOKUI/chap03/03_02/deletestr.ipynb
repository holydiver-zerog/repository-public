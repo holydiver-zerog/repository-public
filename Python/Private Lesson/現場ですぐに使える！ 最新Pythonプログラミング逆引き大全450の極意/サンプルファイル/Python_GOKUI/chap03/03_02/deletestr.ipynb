{
 "cells": [
  {
   "cell_type": "code",
   "execution_count": 1,
   "metadata": {},
   "outputs": [
    {
     "name": "stdout",
     "output_type": "stream",
     "text": [
      "PythonprogrammingTips\n"
     ]
    }
   ],
   "source": [
    "import re\n",
    "\n",
    "str = 'Python123789programming500Tips'\n",
    "# \\d+は1文字以上の数字にマッチする\n",
    "print(re.sub('\\d+', '', str))"
   ]
  },
  {
   "cell_type": "code",
   "execution_count": 2,
   "metadata": {},
   "outputs": [
    {
     "name": "stdout",
     "output_type": "stream",
     "text": [
      "' \\n Python Tips 500\\u3000\\t'\n",
      "Python Tips 500\n"
     ]
    }
   ],
   "source": [
    "# 文字列両端の空白文字を取り除く\n",
    "str = ' \\n Python Tips 500　\\t'\n",
    "# repr()で印字可能な表現を含む文字列を出力\n",
    "print(repr(str))\n",
    "# 文字列両端の空白文字を取り除く\n",
    "print(str.strip())"
   ]
  },
  {
   "cell_type": "code",
   "execution_count": 3,
   "metadata": {},
   "outputs": [
    {
     "name": "stdout",
     "output_type": "stream",
     "text": [
      " Python \n"
     ]
    }
   ],
   "source": [
    "str = 'Tips Python Tips'\n",
    "# 文字列両端の'Tips'を取り除く\n",
    "print(str.strip('Tips'))"
   ]
  },
  {
   "cell_type": "code",
   "execution_count": 4,
   "metadata": {},
   "outputs": [
    {
     "name": "stdout",
     "output_type": "stream",
     "text": [
      "'Python Tips 500'\n"
     ]
    }
   ],
   "source": [
    "str = '  \\n Python Tips 500'\n",
    "# 先頭の空白文字を取り除き、印字可能な表現を含む文字列を出力\n",
    "print(repr(str.lstrip()))"
   ]
  },
  {
   "cell_type": "code",
   "execution_count": 5,
   "metadata": {},
   "outputs": [
    {
     "name": "stdout",
     "output_type": "stream",
     "text": [
      "' Python Tips 500'\n",
      "'Python Tips 500'\n"
     ]
    }
   ],
   "source": [
    "str = 'Programing Python Tips 500'\n",
    "# 先頭の'Programing'を取り除き、印字可能な表現を含む文字列を出力\n",
    "print(repr(str.lstrip('Programing')))\n",
    "# 文字を取り除いた後の空白文字はlstrip()の連続実行で取り除く\n",
    "print(repr(str.lstrip('Programing').lstrip()))"
   ]
  },
  {
   "cell_type": "code",
   "execution_count": 6,
   "metadata": {},
   "outputs": [
    {
     "name": "stdout",
     "output_type": "stream",
     "text": [
      "'Programing Python Tips 500'\n"
     ]
    }
   ],
   "source": [
    "str = 'Programing Python Tips 500\\n'\n",
    "# 末尾の空白文字を取り除き、印字可能な表現を含む文字列を出力\n",
    "print(repr(str.rstrip()))"
   ]
  },
  {
   "cell_type": "code",
   "execution_count": 7,
   "metadata": {},
   "outputs": [
    {
     "name": "stdout",
     "output_type": "stream",
     "text": [
      "'Programing Python Tips '\n",
      "'Programing Python Tips'\n"
     ]
    }
   ],
   "source": [
    "str = 'Programing Python Tips 500'\n",
    "# 末尾の'500'を取り除き、印字可能な表現を含む文字列を出力\n",
    "print(repr(str.rstrip('500')))\n",
    "# 文字を取り除いた後の空白文字はrstrip()の連続実行で取り除く\n",
    "print(repr(str.rstrip('500').rstrip()))"
   ]
  },
  {
   "cell_type": "code",
   "execution_count": 8,
   "metadata": {},
   "outputs": [
    {
     "name": "stdout",
     "output_type": "stream",
     "text": [
      "Python\n"
     ]
    }
   ],
   "source": [
    "str = 'ProgramingPython'\n",
    "# 文字列からプレフィックスとして'Programing'を取り除く\n",
    "print(str.removeprefix('Programing'))"
   ]
  },
  {
   "cell_type": "code",
   "execution_count": 9,
   "metadata": {},
   "outputs": [
    {
     "name": "stdout",
     "output_type": "stream",
     "text": [
      "Programing\n"
     ]
    }
   ],
   "source": [
    "str = 'ProgramingPython'\n",
    "# 文字列からサフィックスとして'Python'を取り除く\n",
    "print(str.removesuffix('Python'))"
   ]
  }
 ],
 "metadata": {
  "kernelspec": {
   "display_name": ".venv",
   "language": "python",
   "name": "python3"
  },
  "language_info": {
   "codemirror_mode": {
    "name": "ipython",
    "version": 3
   },
   "file_extension": ".py",
   "mimetype": "text/x-python",
   "name": "python",
   "nbconvert_exporter": "python",
   "pygments_lexer": "ipython3",
   "version": "3.11.4"
  },
  "orig_nbformat": 4
 },
 "nbformat": 4,
 "nbformat_minor": 2
}
