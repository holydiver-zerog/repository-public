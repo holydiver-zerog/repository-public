{
 "cells": [
  {
   "cell_type": "code",
   "execution_count": 3,
   "metadata": {},
   "outputs": [
    {
     "name": "stdout",
     "output_type": "stream",
     "text": [
      "クリップボードにコピーしました:\n",
      "03-6264-3093\n",
      "03-6264-3094\n",
      "06-6342-5003\n",
      "06-6342-5012\n",
      "s-info@shuwasystem.co.jp\n"
     ]
    }
   ],
   "source": [
    "# pyperclipとreモジュールのインポート\n",
    "import pyperclip, re\n",
    "\n",
    "# 電話番号の正規表現\n",
    "phone_regex = re.compile(r'''(\n",
    "    (0\\d{1,4}|\\(0\\d{1,4}\\)) # 市外局番\n",
    "    (\\s|-)?                 # 区切り\n",
    "    (\\d{1,4})               # 市内局番\n",
    "    (\\s|-)                  # 区切り\n",
    "    (\\d{4})                 # 加入者番号\n",
    "    (\\s*(内線|\\(内\\)|\\(内.{1,3}\\))\\s*(\\d{2,5}))? # 内線番号\n",
    "    )''', re.VERBOSE)\n",
    "\n",
    "# メールの正規表現\n",
    "mail_regex = re.compile(r'''(\n",
    "    [a-zA-Z0-9._%+-]+  # ユーザー名\n",
    "    @                  # @ 記号\n",
    "    [a-zA-Z0-9.-]+     # ドメイン名\n",
    "    (\\.[a-zA-Z]{2,4})  # トップレベルドメイン\n",
    "    )''', re.VERBOSE)\n",
    "\n",
    "\n",
    "# クリップボードのテキストを検索する。\n",
    "text = str(pyperclip.paste())\n",
    "# マッチした文字列を保持するリスト\n",
    "matches = []\n",
    "\n",
    "# 電話番号を検索する\n",
    "for groups in phone_regex.findall(text):\n",
    "    # インデックス1、3、5の要素を連結\n",
    "    phone_num = '-'.join([groups[1], groups[3], groups[5]])\n",
    "    # インデックス8の内線番号が検索された場合\n",
    "    if groups[8] != '':\n",
    "        # ' 内線'と内線番号を連結して電話番号に追加する\n",
    "        phone_num += ' 内線' + groups[8]\n",
    "    # matchesにphone_numを追加する\n",
    "    matches.append(phone_num)\n",
    "    \n",
    "# メールアドレスを検索する\n",
    "for groups in mail_regex.findall(text):\n",
    "    # matchesにインデックス0の要素を追加する\n",
    "    matches.append(groups[0])\n",
    "\n",
    "# マッチングした場合の処理\n",
    "if len(matches) > 0:\n",
    "    # 検索結果matchesの要素を\\nで連結してクリップボードにコピーする\n",
    "    pyperclip.copy('\\n'.join(matches))\n",
    "    print('クリップボードにコピーしました:')\n",
    "    print('\\n'.join(matches))\n",
    "# マッチングしなかった場合はメッセージのみを表示\n",
    "else:\n",
    "    print('電話番号やメールアドレスは見つかりませんでした。')"
   ]
  }
 ],
 "metadata": {
  "kernelspec": {
   "display_name": ".venv",
   "language": "python",
   "name": "python3"
  },
  "language_info": {
   "codemirror_mode": {
    "name": "ipython",
    "version": 3
   },
   "file_extension": ".py",
   "mimetype": "text/x-python",
   "name": "python",
   "nbconvert_exporter": "python",
   "pygments_lexer": "ipython3",
   "version": "3.11.4"
  },
  "orig_nbformat": 4
 },
 "nbformat": 4,
 "nbformat_minor": 2
}
