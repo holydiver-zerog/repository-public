{
 "cells": [
  {
   "cell_type": "code",
   "execution_count": 1,
   "metadata": {},
   "outputs": [
    {
     "name": "stdout",
     "output_type": "stream",
     "text": [
      "12時間ごとの天気予報です!\n",
      "【2023-09-02 00:00:00】厚い雲\n",
      "【2023-09-02 12:00:00】雲\n",
      "【2023-09-03 00:00:00】曇りがち\n",
      "【2023-09-03 12:00:00】小雨\n",
      "【2023-09-04 00:00:00】適度な雨\n",
      "【2023-09-04 12:00:00】強い雨\n",
      "【2023-09-05 00:00:00】厚い雲\n",
      "【2023-09-05 12:00:00】小雨\n",
      "【2023-09-06 00:00:00】厚い雲\n",
      "【2023-09-06 12:00:00】小雨\n",
      "\n"
     ]
    }
   ],
   "source": [
    "import requests\n",
    "\n",
    "# 対象の地域を取得(地域名はアルファベット表記)\n",
    "place = input('天気予報を知りたい地域をどうぞ＞')\n",
    "\n",
    "if place:\n",
    "    API_KEY = ''\n",
    "    # OpenWeatherMapのAPIのURL\n",
    "    URL = 'http://api.openweathermap.org/data/2.5/'\n",
    "    # 地域を指定\n",
    "    pl = place\n",
    "    # 天気予報のデータを取得\n",
    "    data = requests.get(URL + 'forecast?lang=ja&q=' + pl + '&appid=' + API_KEY).json()\n",
    "\n",
    "    # 3時間毎の予報を取り出し回数のカウンター\n",
    "    i = 0\n",
    "    # 冒頭に出力するメッセージ\n",
    "    forecast = '12時間ごとの天気予報です!\\n'\n",
    "    # 取得したデータに'list'キーが存在すれば予報データをすべて取り出す\n",
    "    if 'list' in data:\n",
    "        # 12時間毎の天気予報を取得する\n",
    "        for d in data['list']:\n",
    "            if (i + 1) % 4 == 0:\n",
    "                # 'dt_txt'キーで予報対象の日時を取り出す\n",
    "                # 'weather'キーのリストのインデックス0に格納されている辞書から\n",
    "                # 'description'キーの値(天気予報)を取り出す\n",
    "                forecast += '【' + d['dt_txt'] + '】' \\\n",
    "                        + d['weather'][0]['description'] + '\\n'\n",
    "            i = i + 1\n",
    "    else:\n",
    "        # 指定した地域の天気予報が返されない場合\n",
    "        forecast = '指定した地域には対応していません'\n",
    "\n",
    "    print(forecast)"
   ]
  },
  {
   "cell_type": "code",
   "execution_count": null,
   "metadata": {},
   "outputs": [],
   "source": []
  }
 ],
 "metadata": {
  "kernelspec": {
   "display_name": "Python 3",
   "language": "python",
   "name": "python3"
  },
  "language_info": {
   "codemirror_mode": {
    "name": "ipython",
    "version": 3
   },
   "file_extension": ".py",
   "mimetype": "text/x-python",
   "name": "python",
   "nbconvert_exporter": "python",
   "pygments_lexer": "ipython3",
   "version": "3.11.4"
  }
 },
 "nbformat": 4,
 "nbformat_minor": 4
}
