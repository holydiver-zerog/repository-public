{
 "cells": [
  {
   "cell_type": "code",
   "execution_count": 1,
   "metadata": {
    "scrolled": true
   },
   "outputs": [
    {
     "name": "stdout",
     "output_type": "stream",
     "text": [
      "{'base': 'stations',\n",
      " 'clouds': {'all': 20},\n",
      " 'cod': 200,\n",
      " 'coord': {'lat': 35.6895, 'lon': 139.6917},\n",
      " 'dt': 1693569092,\n",
      " 'id': 1850144,\n",
      " 'main': {'feels_like': 306.75,\n",
      "          'humidity': 80,\n",
      "          'pressure': 1014,\n",
      "          'temp': 301.73,\n",
      "          'temp_max': 303.5,\n",
      "          'temp_min': 299.68},\n",
      " 'name': '東京都',\n",
      " 'sys': {'country': 'JP',\n",
      "         'id': 2044139,\n",
      "         'sunrise': 1693512769,\n",
      "         'sunset': 1693559438,\n",
      "         'type': 2},\n",
      " 'timezone': 32400,\n",
      " 'visibility': 10000,\n",
      " 'weather': [{'description': '薄い雲',\n",
      "              'icon': '02n',\n",
      "              'id': 801,\n",
      "              'main': 'Clouds'}],\n",
      " 'wind': {'deg': 180, 'speed': 7.72}}\n"
     ]
    }
   ],
   "source": [
    "# 現在の東京都の天気を取得する\n",
    "import requests\n",
    "import pprint\n",
    "\n",
    "# APIキー\n",
    "API_KEY = ''\n",
    "# OpenWeatherMapのAPIのURL\n",
    "URL = 'http://api.openweathermap.org/data/2.5/'\n",
    "# 地域を指定\n",
    "place = 'Tokyo'\n",
    "# 現在の天気を取得\n",
    "data = requests.get(URL + 'weather?lang=ja&q=' + place + '&appid=' + API_KEY).json()\n",
    "pprint.pprint(data)\n"
   ]
  },
  {
   "cell_type": "code",
   "execution_count": 2,
   "metadata": {},
   "outputs": [
    {
     "data": {
      "text/plain": [
       "dict_keys(['coord', 'weather', 'base', 'main', 'visibility', 'wind', 'clouds', 'dt', 'sys', 'timezone', 'id', 'name', 'cod'])"
      ]
     },
     "execution_count": 2,
     "metadata": {},
     "output_type": "execute_result"
    }
   ],
   "source": [
    "# JSONデータのキーを取得\n",
    "data.keys()"
   ]
  },
  {
   "cell_type": "code",
   "execution_count": 12,
   "metadata": {},
   "outputs": [
    {
     "data": {
      "text/plain": [
       "'薄い雲'"
      ]
     },
     "execution_count": 12,
     "metadata": {},
     "output_type": "execute_result"
    }
   ],
   "source": [
    "# 現在の天候を出力\n",
    "data['weather'][0]['description']"
   ]
  }
 ],
 "metadata": {
  "kernelspec": {
   "display_name": "Python 3",
   "language": "python",
   "name": "python3"
  },
  "language_info": {
   "codemirror_mode": {
    "name": "ipython",
    "version": 3
   },
   "file_extension": ".py",
   "mimetype": "text/x-python",
   "name": "python",
   "nbconvert_exporter": "python",
   "pygments_lexer": "ipython3",
   "version": "3.11.4"
  }
 },
 "nbformat": 4,
 "nbformat_minor": 2
}
