{
 "cells": [
  {
   "cell_type": "code",
   "execution_count": 1,
   "metadata": {},
   "outputs": [
    {
     "name": "stdout",
     "output_type": "stream",
     "text": [
      "月に新クレーター 露探査機衝突か\n",
      "遺体保存のドライアイス 中毒注意\n",
      "「群集事故」東京は耐えられるか\n",
      "緊急的な冠水時歩行 動画で解説\n",
      "10兆円大学ファンド 候補に東北大\n",
      "死亡率が10年ぶり増 コロナ影響か\n",
      "焼き肉は違う? 夏バテに効く食事\n",
      "身長-体重=110が標準?今は間違い\n"
     ]
    },
    {
     "name": "stderr",
     "output_type": "stream",
     "text": [
      "c:\\Document\\Python_tips\\sampleprogram\\.venv\\Lib\\site-packages\\bs4\\builder\\__init__.py:545: XMLParsedAsHTMLWarning: It looks like you're parsing an XML document using an HTML parser. If this really is an HTML document (maybe it's XHTML?), you can ignore or filter this warning. If it's XML, you should know that using an XML parser will be more reliable. To parse this document as XML, make sure you have the lxml package installed, and pass the keyword argument `features=\"xml\"` into the BeautifulSoup constructor.\n",
      "  warnings.warn(\n"
     ]
    }
   ],
   "source": [
    "# 「Yahoo!ニュース」が配信するRSSからヘッドラインを抜き出す\n",
    "\n",
    "import requests\n",
    "from bs4 import BeautifulSoup                                        # ①\n",
    "\n",
    "xml = requests.get('https://news.yahoo.co.jp/rss/topics/science.xml')  # ②\n",
    "soup = BeautifulSoup(xml.text, 'html.parser')                         # ③\n",
    "for news in soup.findAll('item'):                                    # ④\n",
    "    print(news.title.string)                                          # ⑤"
   ]
  }
 ],
 "metadata": {
  "kernelspec": {
   "display_name": "Python 3",
   "language": "python",
   "name": "python3"
  },
  "language_info": {
   "codemirror_mode": {
    "name": "ipython",
    "version": 3
   },
   "file_extension": ".py",
   "mimetype": "text/x-python",
   "name": "python",
   "nbconvert_exporter": "python",
   "pygments_lexer": "ipython3",
   "version": "3.11.4"
  }
 },
 "nbformat": 4,
 "nbformat_minor": 2
}
