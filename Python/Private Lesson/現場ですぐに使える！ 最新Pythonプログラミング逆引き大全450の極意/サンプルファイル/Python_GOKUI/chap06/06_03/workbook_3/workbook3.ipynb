{
 "cells": [
  {
   "cell_type": "code",
   "execution_count": 1,
   "metadata": {},
   "outputs": [],
   "source": [
    "import openpyxl\n",
    "\n",
    "def priceUpdater(unitprice, fname):\n",
    "    \"\"\"指定した商品の単価を更新する関数\n",
    "\n",
    "    Args:\n",
    "        unitprice (float): 単価\n",
    "        fname (str): 保存するワークブックの名前\n",
    "    \"\"\"\n",
    "    # Workbookオブジェクトを生成\n",
    "    book = openpyxl.load_workbook('惣菜売上.xlsx')\n",
    "    # Worksheetオブジェクトを生成\n",
    "    sheet = book['Sheet1']\n",
    "\n",
    "    # 該当する商品の単価を更新する\n",
    "    for row_num in range(2, sheet.max_row + 1):\n",
    "        # ①先頭行を除いて2行目からループを開始\n",
    "        name = sheet.cell(\n",
    "            row=row_num, # 行番号を指定\n",
    "            column=1     # 商品名が登録されている1列目を指定\n",
    "            ).value      # 商品名を取得する\n",
    "        # ②商品名がPRICE_UPDATESの商品名と一致したらPRICE_UPDATESの単価に更新する\n",
    "        if name in unitprice:\n",
    "            sheet.cell(\n",
    "                row=row_num,              # 行番号を指定\n",
    "                column=2                  # 単価が登録されている2行目を指定\n",
    "                ).value = unitprice[name] # PRICE_UPDATESのnameキーの値に更新\n",
    "    \n",
    "    # 更新したワークブックを別名で保存\n",
    "    book.save(fname + '.xlsx')"
   ]
  },
  {
   "cell_type": "code",
   "execution_count": 2,
   "metadata": {},
   "outputs": [],
   "source": [
    "# 商品単価を更新して別名のファイルに保存する。\n",
    "\n",
    "# 変更する商品名と変更後の単価を辞書に登録\n",
    "pu = {'秋刀魚の竜田揚げ': 3.66,       \n",
    "      '鶏つみれ大根': 2.78,\n",
    "      'きのこの白和え': 2.16}\n",
    "# 保存するファイル名\n",
    "fname = '単価更新9月25日'\n",
    "priceUpdater(pu, fname)"
   ]
  },
  {
   "cell_type": "code",
   "execution_count": null,
   "metadata": {},
   "outputs": [],
   "source": []
  }
 ],
 "metadata": {
  "kernelspec": {
   "display_name": "Python 3",
   "language": "python",
   "name": "python3"
  },
  "language_info": {
   "codemirror_mode": {
    "name": "ipython",
    "version": 3
   },
   "file_extension": ".py",
   "mimetype": "text/x-python",
   "name": "python",
   "nbconvert_exporter": "python",
   "pygments_lexer": "ipython3",
   "version": "3.11.4"
  }
 },
 "nbformat": 4,
 "nbformat_minor": 2
}
