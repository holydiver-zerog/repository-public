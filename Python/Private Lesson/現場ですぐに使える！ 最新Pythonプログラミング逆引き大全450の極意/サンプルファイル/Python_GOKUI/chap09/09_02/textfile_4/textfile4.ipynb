{
 "cells": [
  {
   "cell_type": "code",
   "execution_count": 5,
   "metadata": {},
   "outputs": [],
   "source": [
    "# テキストファイルをUTF-8で別ファイルとして保存する関数\n",
    "\n",
    "def convert_encode(file, encode):\n",
    "    \"\"\"テキストファイルをUTF-8で別ファイルとして保存する\n",
    "\n",
    "    Args:\n",
    "        file file (str): ファイル名(パス)\n",
    "        encode (str): エンコード方式\n",
    "    \"\"\"\n",
    "    # ファイルをオープン\n",
    "    file_input = open(\n",
    "        file + '.txt',     # 取得したファイル名に拡張子を追加\n",
    "        'r',               # 読み取り専用で開く\n",
    "        encoding = encode) # パラメーターで取得したエンコード方式\n",
    "        \n",
    "    # ファイルをオープン(新規作成)\n",
    "    file_output = open(\n",
    "        file + '_utf-8.txt', # ファイル名を作成\n",
    "        'w',                 # 書き換えモードで開く\n",
    "        encoding = 'utf-8')  # utf-8で保存する\n",
    "        \n",
    "    # 改行までを1つの段落として取り出す\n",
    "    for line in file_input:                 \n",
    "        print(\n",
    "            line,               # 段落を書き込む\n",
    "            file = file_output, # 出力先をfile_outpuにする\n",
    "            end  = '')          # print()独自の改行は出力しない\n",
    "            \n",
    "    # Fileオブジェクトをクローズ\n",
    "    file_input.close()\n",
    "    file_output.close()"
   ]
  },
  {
   "cell_type": "code",
   "execution_count": 6,
   "metadata": {},
   "outputs": [],
   "source": [
    "# テキストファイルをUTF-8で別名で保存\n",
    "fname = 'kusamakura' # 変換するファイル名\n",
    "encoding  = 'cp932'  # 変換するファイルのエンコード方式\n",
    "# 指定したファイルをUTF-8に変換して別名のファイルに保存する\n",
    "convert_encode(fname, encoding)"
   ]
  },
  {
   "cell_type": "code",
   "execution_count": null,
   "metadata": {},
   "outputs": [],
   "source": []
  }
 ],
 "metadata": {
  "kernelspec": {
   "display_name": "Python 3",
   "language": "python",
   "name": "python3"
  },
  "language_info": {
   "codemirror_mode": {
    "name": "ipython",
    "version": 3
   },
   "file_extension": ".py",
   "mimetype": "text/x-python",
   "name": "python",
   "nbconvert_exporter": "python",
   "pygments_lexer": "ipython3",
   "version": "3.11.4"
  }
 },
 "nbformat": 4,
 "nbformat_minor": 2
}
