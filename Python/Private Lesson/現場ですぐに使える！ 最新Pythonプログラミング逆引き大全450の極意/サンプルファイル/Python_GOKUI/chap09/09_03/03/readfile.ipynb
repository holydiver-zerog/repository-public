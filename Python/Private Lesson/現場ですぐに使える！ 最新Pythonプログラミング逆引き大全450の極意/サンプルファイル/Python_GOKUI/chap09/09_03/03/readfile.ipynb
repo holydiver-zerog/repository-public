{
 "cells": [
  {
   "cell_type": "code",
   "execution_count": 1,
   "metadata": {},
   "outputs": [
    {
     "name": "stdout",
     "output_type": "stream",
     "text": [
      "　Pythonのソースコードの書き方は、オブジェクト指向、命令型、手続き型、関数型などの形式に対応していますので、状況に応じて使い分けることができます。\n",
      "　オブジェクト指向を使えばより高度なプログラミングを行えますが、命令型、手続き型、関数型はプログラムを書くための基本なので、まずはこれらの書き方を学んでからオブジェクト指向に進むのが一般的です。\n",
      "　Pythonの用途は広く、PC上で動作する一般的なアプリケーションの開発から、Webアプリ、ゲーム、画像処理をはじめとする各種自動処理に使われる一方、統計分析、AI（人工知能）開発のためのディープラーニング（深層学習）の分野で多く利用されています。\n",
      "\n"
     ]
    }
   ],
   "source": [
    "# テキストファイルのデータをまとめて読み込む\n",
    "\n",
    "file = open(\n",
    "    'sample.txt',        # Notebookのカレントディレクトリのrandom.txtを開く\n",
    "    'r',                 # 読み取りモード\n",
    "    encoding = 'utf_8'   # テキストファイルのエンコーディング方式を指定\n",
    "    )\n",
    "data = file.read()       # ファイル終端までのすべてのデータを取得\n",
    "file.close()             # ファイルオブジェクトをクローズ\n",
    "lines = data.split('\\n') # 改行で区切った文字列リストを取得\n",
    "for line in lines:       # リストから要素を1つずつ取り出す\n",
    "    print(line)"
   ]
  },
  {
   "cell_type": "code",
   "execution_count": 2,
   "metadata": {},
   "outputs": [
    {
     "name": "stdout",
     "output_type": "stream",
     "text": [
      "　Pythonのソースコードの書き方は、オブジェクト指向、命令型、手続き型、関数型などの形式に対応していますので、状況に応じて使い分けることができます。\n",
      "\n",
      "　オブジェクト指向を使えばより高度なプログラミングを行えますが、命令型、手続き型、関数型はプログラムを書くための基本なので、まずはこれらの書き方を学んでからオブジェクト指向に進むのが一般的です。\n",
      "\n",
      "　Pythonの用途は広く、PC上で動作する一般的なアプリケーションの開発から、Webアプリ、ゲーム、画像処理をはじめとする各種自動処理に使われる一方、統計分析、AI（人工知能）開発のためのディープラーニング（深層学習）の分野で多く利用されています。\n",
      "\n"
     ]
    }
   ],
   "source": [
    "# テキストファイルから1行ずつリストに読み込む\n",
    "\n",
    "# Notebookのカレントディレクトリのrandom.txtを読み取りモードで開く\n",
    "file = open('sample.txt', 'r', encoding = 'utf_8')\n",
    "# 1行単位のリストを取得\n",
    "lines = file.readlines()\n",
    "# リスト要素を抽出し、出力する\n",
    "for line in lines:\n",
    "    print (line)"
   ]
  },
  {
   "cell_type": "code",
   "execution_count": 3,
   "metadata": {},
   "outputs": [
    {
     "name": "stdout",
     "output_type": "stream",
     "text": [
      "　Pythonのソースコードの書き方は、オブジェクト指向、命令型、手続き型、関数型などの形式に対応していますので、状況に応じて使い分けることができます。\n",
      "\n",
      "　オブジェクト指向を使えばより高度なプログラミングを行えますが、命令型、手続き型、関数型はプログラムを書くための基本なので、まずはこれらの書き方を学んでからオブジェクト指向に進むのが一般的です。\n",
      "\n",
      "　Pythonの用途は広く、PC上で動作する一般的なアプリケーションの開発から、Webアプリ、ゲーム、画像処理をはじめとする各種自動処理に使われる一方、統計分析、AI（人工知能）開発のためのディープラーニング（深層学習）の分野で多く利用されています。\n",
      "\n"
     ]
    }
   ],
   "source": [
    "# Fileオブジェクトをfileに格納して処理を行う\n",
    "with open('sample.txt', 'r', encoding = 'utf_8') as file:\n",
    "    for line in file:\n",
    "        print(line)"
   ]
  }
 ],
 "metadata": {
  "kernelspec": {
   "display_name": "Python 3",
   "language": "python",
   "name": "python3"
  },
  "language_info": {
   "codemirror_mode": {
    "name": "ipython",
    "version": 3
   },
   "file_extension": ".py",
   "mimetype": "text/x-python",
   "name": "python",
   "nbconvert_exporter": "python",
   "pygments_lexer": "ipython3",
   "version": "3.11.4"
  }
 },
 "nbformat": 4,
 "nbformat_minor": 2
}
