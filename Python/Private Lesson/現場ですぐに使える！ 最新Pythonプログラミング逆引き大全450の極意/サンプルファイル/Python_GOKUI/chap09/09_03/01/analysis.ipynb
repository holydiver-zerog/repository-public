{
 "cells": [
  {
   "cell_type": "code",
   "execution_count": 5,
   "metadata": {},
   "outputs": [
    {
     "name": "stdout",
     "output_type": "stream",
     "text": [
      "わたし\t名詞,代名詞,一般,*,*,*,わたし,ワタシ,ワタシ\n",
      "は\t助詞,係助詞,*,*,*,*,は,ハ,ワ\n",
      "Python\t名詞,固有名詞,組織,*,*,*,Python,*,*\n",
      "の\t助詞,連体化,*,*,*,*,の,ノ,ノ\n",
      "プログラム\t名詞,サ変接続,*,*,*,*,プログラム,プログラム,プログラム\n",
      "です\t助動詞,*,*,*,特殊・デス,基本形,です,デス,デス\n"
     ]
    }
   ],
   "source": [
    "# 形態素解析を行う\n",
    "\n",
    "from janome.tokenizer import Tokenizer # ①janome.tokenizerをインポート\n",
    "\n",
    "t = Tokenizer()                        # ②Tokenizerオブジェクトを生成\n",
    "tokens = t.tokenize('わたしはPythonのプログラムです')  # ③形態素解析\n",
    "for token in tokens:                   # ③解析結果のリストから抽出\n",
    "    print(token)"
   ]
  },
  {
   "cell_type": "code",
   "execution_count": 6,
   "metadata": {},
   "outputs": [
    {
     "data": {
      "text/plain": [
       "[<janome.tokenizer.Token at 0x173a27d8890>,\n",
       " <janome.tokenizer.Token at 0x173a27d88d0>,\n",
       " <janome.tokenizer.Token at 0x173a27d8910>,\n",
       " <janome.tokenizer.Token at 0x173a27d8950>,\n",
       " <janome.tokenizer.Token at 0x173a27d8990>,\n",
       " <janome.tokenizer.Token at 0x173a27d8a10>]"
      ]
     },
     "execution_count": 6,
     "metadata": {},
     "output_type": "execute_result"
    }
   ],
   "source": [
    "# 形態素解析を実行\n",
    "tokens = t.tokenize('わたしはPythonのプログラムです')\n",
    "# Tokenizerはジェネレーターなのでリストに変換する\n",
    "tokens=list(tokens) \n",
    "# 出力\n",
    "tokens"
   ]
  },
  {
   "cell_type": "code",
   "execution_count": 7,
   "metadata": {},
   "outputs": [
    {
     "name": "stdout",
     "output_type": "stream",
     "text": [
      "わたし\t名詞,代名詞,一般,*,*,*,わたし,ワタシ,ワタシ\n"
     ]
    }
   ],
   "source": [
    "print(tokens[0])"
   ]
  },
  {
   "cell_type": "code",
   "execution_count": 8,
   "metadata": {},
   "outputs": [
    {
     "name": "stdout",
     "output_type": "stream",
     "text": [
      "わたし\n"
     ]
    }
   ],
   "source": [
    "# リストの1つ目のTokenオブジェクトから品詞を取り出す\n",
    "print(tokens[0].surface)"
   ]
  },
  {
   "cell_type": "code",
   "execution_count": 9,
   "metadata": {},
   "outputs": [
    {
     "data": {
      "text/plain": [
       "['わたし', 'は', 'Python', 'の', 'プログラム', 'です']"
      ]
     },
     "execution_count": 9,
     "metadata": {},
     "output_type": "execute_result"
    }
   ],
   "source": [
    "# 内包表記を使ってリストの中のすべての形態素の見出しを取り出す\n",
    "[token.surface for token in tokens]"
   ]
  },
  {
   "cell_type": "code",
   "execution_count": 10,
   "metadata": {},
   "outputs": [
    {
     "name": "stdout",
     "output_type": "stream",
     "text": [
      "名詞,代名詞,一般,*\n"
     ]
    }
   ],
   "source": [
    "# リストの1つ目のTokenオブジェクトから品詞を取り出す\n",
    "print(tokens[0].part_of_speech)"
   ]
  },
  {
   "cell_type": "code",
   "execution_count": 11,
   "metadata": {},
   "outputs": [
    {
     "name": "stdout",
     "output_type": "stream",
     "text": [
      "*\n"
     ]
    }
   ],
   "source": [
    "# リストの1つ目のTokenオブジェクトから活用型を取り出す\n",
    "print(tokens[0].infl_type)"
   ]
  },
  {
   "cell_type": "code",
   "execution_count": 12,
   "metadata": {},
   "outputs": [
    {
     "name": "stdout",
     "output_type": "stream",
     "text": [
      "わたし\n"
     ]
    }
   ],
   "source": [
    "# リストの1つ目のTokenオブジェクトから原型を取り出す\n",
    "print(tokens[0].base_form)"
   ]
  },
  {
   "cell_type": "code",
   "execution_count": 13,
   "metadata": {},
   "outputs": [
    {
     "name": "stdout",
     "output_type": "stream",
     "text": [
      "ワタシ\n"
     ]
    }
   ],
   "source": [
    "# リストの1つ目のTokenオブジェクトから読みを取り出す\n",
    "print(tokens[0].reading)"
   ]
  },
  {
   "cell_type": "code",
   "execution_count": 14,
   "metadata": {},
   "outputs": [
    {
     "name": "stdout",
     "output_type": "stream",
     "text": [
      "ワタシ\n"
     ]
    }
   ],
   "source": [
    "# リストの1つ目のTokenオブジェクトから発音を取り出す\n",
    "print(tokens[0].phonetic)"
   ]
  }
 ],
 "metadata": {
  "kernelspec": {
   "display_name": "Python 3",
   "language": "python",
   "name": "python3"
  },
  "language_info": {
   "codemirror_mode": {
    "name": "ipython",
    "version": 3
   },
   "file_extension": ".py",
   "mimetype": "text/x-python",
   "name": "python",
   "nbconvert_exporter": "python",
   "pygments_lexer": "ipython3",
   "version": "3.11.4"
  }
 },
 "nbformat": 4,
 "nbformat_minor": 2
}
