{
 "cells": [
  {
   "cell_type": "code",
   "execution_count": 8,
   "metadata": {},
   "outputs": [],
   "source": [
    "class Battle:\n",
    "    \"\"\"バトルゲームクラス\n",
    "    \"\"\"\n",
    "    # カウンター用のクラス変数\n",
    "    count = 0\n",
    "    # バトルの上限回数を設定するクラス変数\n",
    "    max = 5\n",
    "\n",
    "    @classmethod     # クラスメソッドのデコレータ―\n",
    "    def battle(cls):\n",
    "        \"\"\"クラスメソッドの定義\n",
    "        \"\"\"\n",
    "        if cls.count < cls.max:\n",
    "            # countがmax未満のときの処理\n",
    "            print('モンスターが反撃した！')\n",
    "        else:\n",
    "            # countが maxに達したら以下を実行\n",
    "            print('モンスター達はたいさんした...')\n",
    "        cls.count += 1"
   ]
  },
  {
   "cell_type": "code",
   "execution_count": 9,
   "metadata": {},
   "outputs": [
    {
     "name": "stdout",
     "output_type": "stream",
     "text": [
      "勇者のこうげき！\n",
      "モンスターが反撃した！\n",
      "勇者のこうげき！\n",
      "モンスターが反撃した！\n",
      "勇者のこうげき！\n",
      "モンスターが反撃した！\n",
      "3\n"
     ]
    }
   ],
   "source": [
    "# 実行\n",
    "# 1回目のチャレンジ、battle()を3回繰り返す\n",
    "for i in range(3):\n",
    "    print('勇者のこうげき！')\n",
    "    Battle.battle()\n",
    "# countの値を出力\n",
    "print(Battle.count)"
   ]
  },
  {
   "cell_type": "code",
   "execution_count": 10,
   "metadata": {},
   "outputs": [
    {
     "name": "stdout",
     "output_type": "stream",
     "text": [
      "勇者のこうげき！\n",
      "モンスターが反撃した！\n",
      "勇者のこうげき！\n",
      "モンスターが反撃した！\n",
      "勇者のこうげき！\n",
      "モンスター達はたいさんした...\n",
      "6\n"
     ]
    }
   ],
   "source": [
    "# 2回目のチャレンジ、battle()を3回繰り返す\n",
    "for i in range(3):\n",
    "    print('勇者のこうげき！')\n",
    "    Battle.battle()\n",
    "# countの値を出力\n",
    "print(Battle.count)"
   ]
  },
  {
   "cell_type": "code",
   "execution_count": 11,
   "metadata": {},
   "outputs": [
    {
     "name": "stdout",
     "output_type": "stream",
     "text": [
      "勇者のこうげき！\n",
      "モンスター達はたいさんした...\n",
      "勇者のこうげき！\n",
      "モンスター達はたいさんした...\n",
      "勇者のこうげき！\n",
      "モンスター達はたいさんした...\n",
      "9\n"
     ]
    }
   ],
   "source": [
    "# battle()を3回繰り返す\n",
    "for i in range(3):\n",
    "    print('勇者のこうげき！')\n",
    "    Battle.battle()\n",
    "# countの値を出力\n",
    "print(Battle.count)"
   ]
  }
 ],
 "metadata": {
  "kernelspec": {
   "display_name": "Python 3",
   "language": "python",
   "name": "python3"
  },
  "language_info": {
   "codemirror_mode": {
    "name": "ipython",
    "version": 3
   },
   "file_extension": ".py",
   "mimetype": "text/x-python",
   "name": "python",
   "nbconvert_exporter": "python",
   "pygments_lexer": "ipython3",
   "version": "3.11.4"
  }
 },
 "nbformat": 4,
 "nbformat_minor": 2
}
