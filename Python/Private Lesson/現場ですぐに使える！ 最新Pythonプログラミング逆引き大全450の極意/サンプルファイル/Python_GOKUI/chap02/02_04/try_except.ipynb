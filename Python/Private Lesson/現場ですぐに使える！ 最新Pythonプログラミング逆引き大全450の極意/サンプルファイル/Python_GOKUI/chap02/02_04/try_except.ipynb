{
 "cells": [
  {
   "cell_type": "code",
   "execution_count": 1,
   "metadata": {},
   "outputs": [
    {
     "name": "stdout",
     "output_type": "stream",
     "text": [
      "10.0\n"
     ]
    },
    {
     "ename": "ZeroDivisionError",
     "evalue": "division by zero",
     "output_type": "error",
     "traceback": [
      "\u001b[1;31m---------------------------------------------------------------------------\u001b[0m",
      "\u001b[1;31mZeroDivisionError\u001b[0m                         Traceback (most recent call last)",
      "Cell \u001b[1;32mIn[1], line 6\u001b[0m\n\u001b[0;32m      3\u001b[0m     \u001b[39mreturn\u001b[39;00m num1 \u001b[39m/\u001b[39m num2\n\u001b[0;32m      5\u001b[0m \u001b[39mprint\u001b[39m(calc(\u001b[39m100\u001b[39m, \u001b[39m10\u001b[39m))\n\u001b[1;32m----> 6\u001b[0m \u001b[39mprint\u001b[39m(calc(\u001b[39m100\u001b[39;49m, \u001b[39m0\u001b[39;49m))\n\u001b[0;32m      7\u001b[0m \u001b[39mprint\u001b[39m(calc(\u001b[39m5\u001b[39m, \u001b[39m2\u001b[39m))\n",
      "Cell \u001b[1;32mIn[1], line 3\u001b[0m, in \u001b[0;36mcalc\u001b[1;34m(num1, num2)\u001b[0m\n\u001b[0;32m      2\u001b[0m \u001b[39mdef\u001b[39;00m \u001b[39mcalc\u001b[39m(num1, num2):\n\u001b[1;32m----> 3\u001b[0m     \u001b[39mreturn\u001b[39;00m num1 \u001b[39m/\u001b[39;49m num2\n",
      "\u001b[1;31mZeroDivisionError\u001b[0m: division by zero"
     ]
    }
   ],
   "source": [
    "# ゼロ除算を含む演算を行うサンプル\n",
    "def calc(num1, num2):\n",
    "    return num1 / num2\n",
    "\n",
    "print(calc(100, 10))\n",
    "print(calc(100, 0))\n",
    "print(calc(5, 2))"
   ]
  },
  {
   "cell_type": "code",
   "execution_count": 2,
   "metadata": {},
   "outputs": [
    {
     "name": "stdout",
     "output_type": "stream",
     "text": [
      "10.0\n",
      "予期しない引数が指定されました。\n",
      "None\n"
     ]
    }
   ],
   "source": [
    "# ゼロ除算時の例外処理を行う\n",
    "def calc(num1, num2):\n",
    "    try:\n",
    "        return num1 / num2\n",
    "    except ZeroDivisionError:\n",
    "        print('予期しない引数が指定されました。')\n",
    "\n",
    "print(calc(100, 10))\n",
    "print(calc(100, 0))"
   ]
  },
  {
   "cell_type": "code",
   "execution_count": 3,
   "metadata": {},
   "outputs": [
    {
     "name": "stdout",
     "output_type": "stream",
     "text": [
      "10.0\n",
      "予期しない引数が指定されました。\n"
     ]
    }
   ],
   "source": [
    "# 関数の呼び出し側で例外処理を行う\n",
    "def calc(num1, num2):\n",
    "        return num1 / num2\n",
    "\n",
    "try:\n",
    "    print(calc(100, 10))\n",
    "    print(calc(100, 0))\n",
    "    print(calc(5, 2))\n",
    "except ZeroDivisionError:\n",
    "    print('予期しない引数が指定されました。')"
   ]
  }
 ],
 "metadata": {
  "kernelspec": {
   "display_name": ".venv",
   "language": "python",
   "name": "python3"
  },
  "language_info": {
   "codemirror_mode": {
    "name": "ipython",
    "version": 3
   },
   "file_extension": ".py",
   "mimetype": "text/x-python",
   "name": "python",
   "nbconvert_exporter": "python",
   "pygments_lexer": "ipython3",
   "version": "3.11.4"
  },
  "orig_nbformat": 4
 },
 "nbformat": 4,
 "nbformat_minor": 2
}
