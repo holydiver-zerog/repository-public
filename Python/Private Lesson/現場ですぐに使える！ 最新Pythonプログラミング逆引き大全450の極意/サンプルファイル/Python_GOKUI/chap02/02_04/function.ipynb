{
 "cells": [
  {
   "cell_type": "code",
   "execution_count": 1,
   "metadata": {},
   "outputs": [
    {
     "name": "stdout",
     "output_type": "stream",
     "text": [
      "モンスターがあらわれた！\n"
     ]
    }
   ],
   "source": [
    "# 呼び出すと文字列を出力する関数\n",
    "def appear():                         # appear()関数の定義\n",
    "    print('モンスターがあらわれた！')\n",
    "\n",
    "appear()                              # 関数を呼び出す"
   ]
  },
  {
   "cell_type": "code",
   "execution_count": 2,
   "metadata": {},
   "outputs": [
    {
     "name": "stdout",
     "output_type": "stream",
     "text": [
      "ベイダー卿があらわれた!\n",
      "シスの暗黒卿があらわれた!\n"
     ]
    }
   ],
   "source": [
    "# 引数を2つ受け取る関数\n",
    "def appear(word1, word2):            # 2つのパラメーターを持つ関数\n",
    "    print(word1 + 'があらわれた!')\n",
    "    print(word2 + 'があらわれた!')\n",
    "\n",
    "appear('ベイダー卿', 'シスの暗黒卿') # 引数を2つ設定して関数を呼び出す"
   ]
  },
  {
   "cell_type": "code",
   "execution_count": 3,
   "metadata": {},
   "outputs": [
    {
     "name": "stdout",
     "output_type": "stream",
     "text": [
      "ベイダー卿とシスの暗黒卿があらわれた！\n"
     ]
    }
   ],
   "source": [
    "# 戻り値を返す関数\n",
    "def appear(word1, word2):                   # 2つのパラメーターを持つ関数\n",
    "    result = word1 + 'と' + word2 + 'があらわれた！'\n",
    "    return result                           # 処理した文字列を戻り値として返す\n",
    "\n",
    "show = appear('ベイダー卿', 'シスの暗黒卿')  # 引数を2つ設定して関数を呼び出す\n",
    "print(show) "
   ]
  },
  {
   "cell_type": "code",
   "execution_count": 4,
   "metadata": {},
   "outputs": [
    {
     "name": "stdout",
     "output_type": "stream",
     "text": [
      "ベイダー卿があらわれた！\n"
     ]
    }
   ],
   "source": [
    "# キーワード引数を使う\n",
    "def appear(name, action):                # 2つのパラメーターを持つ関数\n",
    "    result = name + 'が' + action + '！'\n",
    "    return result                        # 処理した文字列を戻り値として返す\n",
    "\n",
    "show = appear(action = 'あらわれた',     # actionに渡す\n",
    "            name = 'ベイダー卿'        # nameに渡す\n",
    "            )\n",
    "print(show)                              # 関数の戻り値を出力"
   ]
  },
  {
   "cell_type": "code",
   "execution_count": 5,
   "metadata": {},
   "outputs": [
    {
     "name": "stdout",
     "output_type": "stream",
     "text": [
      "シスの暗黒卿が逃げだした！\n"
     ]
    }
   ],
   "source": [
    "# デフォルトパラメーター\n",
    "# 2つのパラメーターを持つ関数\n",
    "def appear(\n",
    "    name,                 # パラメーター名のみ\n",
    "    action = '逃げだした' # パラメーターのデフォルト値を設定\n",
    "    ): \n",
    "    result = name + 'が' + action + '！'\n",
    "    # 処理した文字列を戻り値として返す\n",
    "    return result\n",
    "\n",
    "# nameに渡す\n",
    "show = appear('シスの暗黒卿')\n",
    "# 関数の戻り値を出力\n",
    "print(show)"
   ]
  }
 ],
 "metadata": {
  "kernelspec": {
   "display_name": "Python 3",
   "language": "python",
   "name": "python3"
  },
  "language_info": {
   "codemirror_mode": {
    "name": "ipython",
    "version": 3
   },
   "file_extension": ".py",
   "mimetype": "text/x-python",
   "name": "python",
   "nbconvert_exporter": "python",
   "pygments_lexer": "ipython3",
   "version": "3.11.4"
  }
 },
 "nbformat": 4,
 "nbformat_minor": 2
}
