{
 "cells": [
  {
   "cell_type": "code",
   "execution_count": 1,
   "metadata": {},
   "outputs": [
    {
     "ename": "NameError",
     "evalue": "name 'rate' is not defined",
     "output_type": "error",
     "traceback": [
      "\u001b[1;31m---------------------------------------------------------------------------\u001b[0m",
      "\u001b[1;31mNameError\u001b[0m                                 Traceback (most recent call last)",
      "Cell \u001b[1;32mIn[1], line 6\u001b[0m\n\u001b[0;32m      4\u001b[0m     rate \u001b[39m=\u001b[39m \u001b[39m3.14\u001b[39m \u001b[39m# ローカル変数\u001b[39;00m\n\u001b[0;32m      5\u001b[0m pi()            \u001b[39m# pi()を呼出す\u001b[39;00m\n\u001b[1;32m----> 6\u001b[0m \u001b[39mprint\u001b[39m(rate)     \u001b[39m# rateを使うことはできない\u001b[39;00m\n",
      "\u001b[1;31mNameError\u001b[0m: name 'rate' is not defined"
     ]
    }
   ],
   "source": [
    "# グローバルスコープからローカルスコープへのアクセスは不可\n",
    "# エラーが表示されます\n",
    "def pi():\n",
    "    rate = 3.14 # ローカル変数\n",
    "pi()            # pi()を呼出す\n",
    "print(rate)     # rateを使うことはできない"
   ]
  },
  {
   "cell_type": "code",
   "execution_count": 2,
   "metadata": {},
   "outputs": [
    {
     "name": "stdout",
     "output_type": "stream",
     "text": [
      "3.14\n"
     ]
    }
   ],
   "source": [
    "# 関数内部で別の関数を呼び出す\n",
    "def pi():\n",
    "    rate = 3.14  # ①\n",
    "    tax()        # ②\n",
    "    print(rate)  # ③\n",
    "    \n",
    "def tax():\n",
    "    rate = 0.08  # ④\n",
    "\n",
    "pi()             # ⑤"
   ]
  },
  {
   "cell_type": "code",
   "execution_count": 3,
   "metadata": {},
   "outputs": [
    {
     "name": "stdout",
     "output_type": "stream",
     "text": [
      "3.14\n"
     ]
    }
   ],
   "source": [
    "# ローカルスコープからグローバル変数にアクセスする\n",
    "def pi():\n",
    "    print(rate)  # ①グローバル変数を参照する\n",
    "    \n",
    "rate = 3.14      # グローバル変数\n",
    "pi()             # pi()を呼出す"
   ]
  },
  {
   "cell_type": "code",
   "execution_count": 4,
   "metadata": {},
   "outputs": [
    {
     "name": "stdout",
     "output_type": "stream",
     "text": [
      "Hello\n"
     ]
    }
   ],
   "source": [
    "# 関数内部でグローバル変数の値を変更する\n",
    "def msg():\n",
    "    global word    # ①グローバル変数を変更できるようにする\n",
    "    word = 'Hello' # グローバル変数の値を設定\n",
    "\n",
    "word = 'global'    # グローバル変数\n",
    "msg()              # msg()を呼出す\n",
    "print(word)        # グローバル変数の値を出力"
   ]
  },
  {
   "cell_type": "code",
   "execution_count": 5,
   "metadata": {},
   "outputs": [
    {
     "name": "stdout",
     "output_type": "stream",
     "text": [
      "square\n",
      "square\n"
     ]
    }
   ],
   "source": [
    "# 同名のグローバル変数とローカル変数\n",
    "def square():\n",
    "    global word       # ①グローバル変数を変更できるようにする\n",
    "    word = 'square'   # グローバル変数に代入する\n",
    "\n",
    "def triangle():\n",
    "    word = 'triangle' # ②ローカル変数word\n",
    "\n",
    "def show():\n",
    "    print(word)       # ③グローバル変数を参照する\n",
    "\n",
    "word = 'form'         # グローバル変数\n",
    "square()              # ④square()を実行\n",
    "show ()               # ⑤show()を実行\n",
    "print(word)           # ⑥グローバル変数wordを出力"
   ]
  }
 ],
 "metadata": {
  "kernelspec": {
   "display_name": ".venv",
   "language": "python",
   "name": "python3"
  },
  "language_info": {
   "codemirror_mode": {
    "name": "ipython",
    "version": 3
   },
   "file_extension": ".py",
   "mimetype": "text/x-python",
   "name": "python",
   "nbconvert_exporter": "python",
   "pygments_lexer": "ipython3",
   "version": "3.11.4"
  },
  "orig_nbformat": 4
 },
 "nbformat": 4,
 "nbformat_minor": 2
}
