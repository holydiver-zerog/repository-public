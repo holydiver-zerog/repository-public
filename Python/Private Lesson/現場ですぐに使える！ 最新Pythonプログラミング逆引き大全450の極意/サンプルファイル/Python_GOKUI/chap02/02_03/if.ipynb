{
 "cells": [
  {
   "cell_type": "code",
   "execution_count": 1,
   "metadata": {},
   "outputs": [
    {
     "data": {
      "text/plain": [
       "True"
      ]
     },
     "execution_count": 1,
     "metadata": {},
     "output_type": "execute_result"
    }
   ],
   "source": [
    "a = 5\t# aに5を代入\n",
    "a == 5\t# aの値は5と等しいか"
   ]
  },
  {
   "cell_type": "code",
   "execution_count": 2,
   "metadata": {},
   "outputs": [
    {
     "data": {
      "text/plain": [
       "False"
      ]
     },
     "execution_count": 2,
     "metadata": {},
     "output_type": "execute_result"
    }
   ],
   "source": [
    "a == 10\t# aの値は10と等しいか"
   ]
  },
  {
   "cell_type": "code",
   "execution_count": 3,
   "metadata": {},
   "outputs": [
    {
     "name": "stdout",
     "output_type": "stream",
     "text": [
      "ウーロン茶とポテチを買う\n",
      "キャラメルチーズタルトを買う\n",
      "ライ麦ケーキを買う\n"
     ]
    }
   ],
   "source": [
    "q1 = int(input('おやつにいくら使える？＞'))\n",
    "if(q1 >= 300):\n",
    "    print('ウーロン茶とポテチを買う')\n",
    "    print('キャラメルチーズタルトを買う')\n",
    "    print('ライ麦ケーキを買う')"
   ]
  },
  {
   "cell_type": "code",
   "execution_count": 6,
   "metadata": {},
   "outputs": [
    {
     "name": "stdout",
     "output_type": "stream",
     "text": [
      "ライ麦ケーキを買う\n"
     ]
    }
   ],
   "source": [
    "# 使える金額を取得\n",
    "q1 = int(input('おやつにいくら使える？＞'))\n",
    "# 使える金額を判定するif文\n",
    "if q1 >= 300: \n",
    "    q2 = input('甘いものがいい？(Y／N)＞')\n",
    "    # 甘いものかを判定するif文\n",
    "    if q2 =='Y':\n",
    "        q3 = input('カロリーを気にしてる？(Y／N)＞')\n",
    "        # カロリーを気にするかを判定するif文\n",
    "        if q3=='Y':\n",
    "            print('ライ麦ケーキを買う')\n",
    "        else:\n",
    "            print('キャラメルチーズタルトを買う')\n",
    "    else:\n",
    "        print('ウーロン茶とポテチを買う')\n",
    "else:\n",
    "    print('チョコドーナツを買う')"
   ]
  }
 ],
 "metadata": {
  "kernelspec": {
   "display_name": "Python 3",
   "language": "python",
   "name": "python3"
  },
  "language_info": {
   "codemirror_mode": {
    "name": "ipython",
    "version": 3
   },
   "file_extension": ".py",
   "mimetype": "text/x-python",
   "name": "python",
   "nbconvert_exporter": "python",
   "pygments_lexer": "ipython3",
   "version": "3.11.4"
  }
 },
 "nbformat": 4,
 "nbformat_minor": 2
}
