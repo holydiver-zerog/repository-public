{
 "cells": [
  {
   "cell_type": "code",
   "execution_count": 1,
   "metadata": {},
   "outputs": [
    {
     "name": "stdout",
     "output_type": "stream",
     "text": [
      "まものたちがあらわれた！\n",
      "パイソンの攻撃！\n",
      "まものたちはひるんでいる\n",
      "パイソンの攻撃！\n",
      "まものたちはひるんでいる\n",
      "パイソンの攻撃！\n",
      "まものたちはひるんでいる\n",
      "パイソンの攻撃！\n",
      "まものたちはひるんでいる\n",
      "パイソンの攻撃！\n",
      "まものたちはひるんでいる\n",
      "まものたちはたいさんした\n"
     ]
    }
   ],
   "source": [
    "# 勇者の攻撃と魔物たちの反応を織り交ぜる\n",
    "\n",
    "name = input('お名前をどうぞ>')\t     # プレイヤーの名前を取得\n",
    "brave =  (name + 'の攻撃！')         # プレイヤーの攻撃パターン\n",
    "mamono1 = 'まものたちはひるんでいる'  # 魔物の応答パターン1\n",
    "mamono2 = 'まものたちはたいさんした'  # 魔物の応答パターン2\n",
    "\n",
    "# 名前が入力されたらバトル開始\n",
    "if (brave):\n",
    "    print('まものたちがあらわれた！')\n",
    "    # 10回繰り返す\n",
    "    for count in range(10):\n",
    "        # 偶数回の処理ならプレイヤーの攻撃を出力①\n",
    "        if count % 2 ==0:\n",
    "            print(brave)\n",
    "        # 偶数回の処理なら魔物たちの応答mamono1を出力\n",
    "        else:\n",
    "            print(mamono1)\n",
    "    # for文終了後に魔物たちの応答mamono2を出力\n",
    "    print(mamono2)\n",
    "# 何も入力されなければゲームを終了\n",
    "else:\n",
    "    print('ゲーム終了')"
   ]
  }
 ],
 "metadata": {
  "kernelspec": {
   "display_name": ".venv",
   "language": "python",
   "name": "python3"
  },
  "language_info": {
   "codemirror_mode": {
    "name": "ipython",
    "version": 3
   },
   "file_extension": ".py",
   "mimetype": "text/x-python",
   "name": "python",
   "nbconvert_exporter": "python",
   "pygments_lexer": "ipython3",
   "version": "3.11.4"
  },
  "orig_nbformat": 4
 },
 "nbformat": 4,
 "nbformat_minor": 2
}
