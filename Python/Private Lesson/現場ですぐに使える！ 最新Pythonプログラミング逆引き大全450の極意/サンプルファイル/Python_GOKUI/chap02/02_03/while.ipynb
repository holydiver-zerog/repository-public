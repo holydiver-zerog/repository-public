{
 "cells": [
  {
   "cell_type": "code",
   "execution_count": 1,
   "metadata": {},
   "outputs": [
    {
     "name": "stdout",
     "output_type": "stream",
     "text": [
      "まものたちがあらわれた！\n",
      "パイソンは「ラリホイ」の呪文をとなえた！\n",
      "まものたちは様子をうかがっている\n",
      "パイソンは「ホイホイ」の呪文をとなえた！\n",
      "まものたちは様子をうかがっている\n",
      "パイソンは「ジェダイ」の呪文をとなえた！\n",
      "まものたちは全滅した\n"
     ]
    }
   ],
   "source": [
    "# 指定の呪文を使わない限りバトルを繰り返す\n",
    "\n",
    "print('まものたちがあらわれた！')    # 最初に出力\n",
    "brave = input('お名前をどうぞ！>')   # プレイヤーの名前を取得\n",
    "prompt = brave + 'の呪文 > '         # プロンプトを作る\n",
    "attack = ''                          # 呪文を代入する変数を用意\n",
    "\n",
    "while attack != 'ジェダイ':          # attackが'ジェダイ'でない限り繰り返す\n",
    "    attack = input('' + prompt)      # 呪文を取得\n",
    "    print(brave + 'は「' + attack + '」の呪文をとなえた！')\n",
    "\n",
    "    if attack != 'ジェダイ':         # attackが'ジェダイ'でなければ以下を表示\n",
    "        print('まものたちは様子をうかがっている')\n",
    "\n",
    "print('まものたちは全滅した')"
   ]
  }
 ],
 "metadata": {
  "kernelspec": {
   "display_name": ".venv",
   "language": "python",
   "name": "python3"
  },
  "language_info": {
   "codemirror_mode": {
    "name": "ipython",
    "version": 3
   },
   "file_extension": ".py",
   "mimetype": "text/x-python",
   "name": "python",
   "nbconvert_exporter": "python",
   "pygments_lexer": "ipython3",
   "version": "3.11.4"
  },
  "orig_nbformat": 4
 },
 "nbformat": 4,
 "nbformat_minor": 2
}
