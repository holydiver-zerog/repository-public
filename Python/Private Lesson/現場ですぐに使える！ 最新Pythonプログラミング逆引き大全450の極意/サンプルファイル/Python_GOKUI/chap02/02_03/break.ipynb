{
 "cells": [
  {
   "cell_type": "code",
   "execution_count": 2,
   "metadata": {},
   "outputs": [
    {
     "name": "stdout",
     "output_type": "stream",
     "text": [
      "まものたちがあらわれた！\n",
      "パイソンは「ジェダイ」の呪文をとなえた！\n",
      "まものたちは全滅した\n"
     ]
    }
   ],
   "source": [
    "# whileの繰り返しを最大3回までにする\n",
    "\n",
    "# 最初に出力\n",
    "print('まものたちがあらわれた！')\n",
    "# プレイヤーの名前を取得\n",
    "brave = input('お名前をどうぞ！>')\n",
    "# プロンプトを作る\n",
    "prompt = brave + 'の呪文 > '\n",
    "# 呪文を代入する変数を用意\n",
    "attack = ''\n",
    "# カウンター変数\n",
    "counter = 0\n",
    "# attackが'ジェダイ'でない限り繰り返す\n",
    "while counter < 3:\n",
    "    # 呪文を取得\n",
    "    attack = input('' + prompt)\n",
    "    print(brave + 'は「' + attack + '」の呪文をとなえた！')\n",
    "    # attackが'ジェダイ'なら終了\n",
    "    if attack == 'ジェダイ':\n",
    "        print('まものたちは全滅した')\n",
    "        # ここでwhileループを抜ける\n",
    "        break\n",
    "    else:\n",
    "        print('まものたちはようすをうかがっている')\n",
    "    # 1を加算\n",
    "    counter = counter + 1\n",
    "# 3回繰り返した場合の処理\n",
    "if counter == 3:\n",
    "    print('まものたちはどこかへ行ってしまった...')"
   ]
  }
 ],
 "metadata": {
  "kernelspec": {
   "display_name": ".venv",
   "language": "python",
   "name": "python3"
  },
  "language_info": {
   "codemirror_mode": {
    "name": "ipython",
    "version": 3
   },
   "file_extension": ".py",
   "mimetype": "text/x-python",
   "name": "python",
   "nbconvert_exporter": "python",
   "pygments_lexer": "ipython3",
   "version": "3.11.4"
  },
  "orig_nbformat": 4
 },
 "nbformat": 4,
 "nbformat_minor": 2
}
