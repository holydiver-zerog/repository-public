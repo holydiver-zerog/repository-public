{
 "cells": [
  {
   "cell_type": "code",
   "execution_count": 1,
   "metadata": {},
   "outputs": [
    {
     "name": "stdout",
     "output_type": "stream",
     "text": [
      "そんな人は知りません!\n",
      "認証しました\n"
     ]
    }
   ],
   "source": [
    "# ユーザー名とパスワードチェック\n",
    "\n",
    "user = 'アナキン'\n",
    "pswd = 'good'\n",
    "\n",
    "while True:\n",
    "    # 名前を取得\n",
    "    name = input('お名前をどうぞ！>')\n",
    "    # 入力された名前をチェック\n",
    "    if name != user:\n",
    "        print('そんな人は知りません!')\n",
    "        # 名前が一致しなければループの先頭に戻る\n",
    "        continue\n",
    "    # 名前が一致したらパスワードを尋ねる\n",
    "    password = input('ようこそ!パスワードをどうぞ>')\n",
    "    # パスワードが一致したらループを抜ける\n",
    "    if password == pswd:\n",
    "        break\n",
    "print('認証しました')"
   ]
  }
 ],
 "metadata": {
  "kernelspec": {
   "display_name": ".venv",
   "language": "python",
   "name": "python3"
  },
  "language_info": {
   "codemirror_mode": {
    "name": "ipython",
    "version": 3
   },
   "file_extension": ".py",
   "mimetype": "text/x-python",
   "name": "python",
   "nbconvert_exporter": "python",
   "pygments_lexer": "ipython3",
   "version": "3.11.4"
  },
  "orig_nbformat": 4
 },
 "nbformat": 4,
 "nbformat_minor": 2
}
