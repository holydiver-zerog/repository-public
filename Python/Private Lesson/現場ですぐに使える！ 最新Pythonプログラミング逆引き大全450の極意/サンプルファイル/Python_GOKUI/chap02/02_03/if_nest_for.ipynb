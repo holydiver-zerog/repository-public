{
 "cells": [
  {
   "cell_type": "code",
   "execution_count": 1,
   "metadata": {},
   "outputs": [
    {
     "name": "stdout",
     "output_type": "stream",
     "text": [
      "パイソンの攻撃！\n",
      "パイソンの攻撃！\n",
      "パイソンの攻撃！\n",
      "パイソンの攻撃！\n",
      "パイソンの攻撃！\n",
      "まものたちはたいさんした\n"
     ]
    }
   ],
   "source": [
    "# モンスターに連続して5回攻撃する\n",
    "\n",
    "# プレイヤーの名前を取得\n",
    "brave = input('お名前をどうぞ>')\n",
    "\n",
    "# 名前が入力されたら以下の処理を実行\n",
    "if (brave):\n",
    "    # 攻撃を5回繰り返す\n",
    "    for count in range(5):\n",
    "        print(brave + 'の攻撃！')\n",
    "    # 5回繰り返したら終了のメッセージを出力\n",
    "    print('まものたちはたいさんした')\n",
    "# 何も入力されなければゲームを終了\n",
    "else:\n",
    "    print('ゲーム終了')"
   ]
  }
 ],
 "metadata": {
  "kernelspec": {
   "display_name": ".venv",
   "language": "python",
   "name": "python3"
  },
  "language_info": {
   "codemirror_mode": {
    "name": "ipython",
    "version": 3
   },
   "file_extension": ".py",
   "mimetype": "text/x-python",
   "name": "python",
   "nbconvert_exporter": "python",
   "pygments_lexer": "ipython3",
   "version": "3.11.4"
  },
  "orig_nbformat": 4
 },
 "nbformat": 4,
 "nbformat_minor": 2
}
