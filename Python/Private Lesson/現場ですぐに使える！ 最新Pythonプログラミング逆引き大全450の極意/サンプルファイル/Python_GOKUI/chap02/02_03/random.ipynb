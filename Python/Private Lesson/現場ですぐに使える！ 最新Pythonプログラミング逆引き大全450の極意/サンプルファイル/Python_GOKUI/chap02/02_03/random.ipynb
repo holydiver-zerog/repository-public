{
 "cells": [
  {
   "cell_type": "code",
   "execution_count": 1,
   "metadata": {},
   "outputs": [
    {
     "name": "stdout",
     "output_type": "stream",
     "text": [
      "まものたちがあらわれた！\n",
      "パイソンのこうげき！\n",
      "まものたちはひるんでいる\n",
      "まものたちはひるんでいる\n",
      "まものたちがはんげきした！\n",
      "まものたちはひるんでいる\n",
      "まものたちがはんげきした！\n",
      "パイソンのこうげき！\n",
      "まものたちはひるんでいる\n",
      "まものたちがはんげきした！\n",
      "パイソンは呪文をとなえた！\n",
      "まものたちはひるんでいる\n",
      "まものたちはたいさんした\n"
     ]
    }
   ],
   "source": [
    "# ランダムに攻撃を繰り出す\n",
    "\n",
    "import random                         # randomモジュールのインポート\n",
    "\n",
    "print('まものたちがあらわれた！')      # 最初に出力\n",
    "\n",
    "brave = input('お名前をどうぞ！>')     # 勇者の名前を取得\n",
    "brave1 = brave + 'のこうげき！'        # 1つ目の攻撃パターンを作る\n",
    "brave2 = brave + 'は呪文をとなえた！'  # 2つ目の攻撃パターン\n",
    "mamono1 = 'まものたちはひるんでいる'   # 魔物の反応その1\n",
    "mamono2 = 'まものたちがはんげきした！' # 魔物の反応その2\n",
    "\n",
    "if(brave):\n",
    "    print(brave1)                      # 繰り返しの前に勇者の攻撃を出力しておく\n",
    "    for count in range(10):            # 繰り返す回数は10回\n",
    "        x = random.randint(1, 10)      # 1～10の範囲の値をランダムに生成\n",
    "        if x <= 3:                     # 生成された値が3以下であればbrave1\n",
    "            print(brave1)\n",
    "        elif 4 <= x <= 6:              # 生成された値4以上6以下であればbrave2\n",
    "            print(brave2)\n",
    "        elif 7 <= x <= 9:              # 生成された値が7以上9以下であればmamono1\n",
    "            print(mamono1)\n",
    "        else:                          # 生成された値が上記以外はmamono2\n",
    "            print(mamono2)\n",
    "    print('まものたちはたいさんした')\n",
    "else:\n",
    "    print('ゲーム終了')                # 名前が入力されなかった場合は何もせずに終了"
   ]
  }
 ],
 "metadata": {
  "kernelspec": {
   "display_name": ".venv",
   "language": "python",
   "name": "python3"
  },
  "language_info": {
   "codemirror_mode": {
    "name": "ipython",
    "version": 3
   },
   "file_extension": ".py",
   "mimetype": "text/x-python",
   "name": "python",
   "nbconvert_exporter": "python",
   "pygments_lexer": "ipython3",
   "version": "3.11.4"
  },
  "orig_nbformat": 4
 },
 "nbformat": 4,
 "nbformat_minor": 2
}
