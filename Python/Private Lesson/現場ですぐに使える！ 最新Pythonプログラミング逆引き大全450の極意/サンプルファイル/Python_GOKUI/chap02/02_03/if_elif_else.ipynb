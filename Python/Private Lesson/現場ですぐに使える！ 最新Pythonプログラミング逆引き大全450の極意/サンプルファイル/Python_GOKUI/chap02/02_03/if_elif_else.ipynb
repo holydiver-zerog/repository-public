{
 "cells": [
  {
   "cell_type": "code",
   "execution_count": 1,
   "metadata": {},
   "outputs": [
    {
     "name": "stdout",
     "output_type": "stream",
     "text": [
      "キャラメルチーズタルトを買う\n"
     ]
    }
   ],
   "source": [
    "# 最初にまとめて質問する\n",
    "q1 = int(input('おやつにいくら使える？(Y／N)＞'))\n",
    "q2 = input('甘いものがいい？(Y／N)＞')\n",
    "q3 = input('カロリーを気にしてる？(Y／N)＞')\n",
    "\n",
    "# 300円以上で甘いものもカロリーも「Y」の場合\n",
    "if (q1 >= 300 and\n",
    "    q2 == 'Y' and\n",
    "    q3 == 'Y'):\n",
    "    print('ライ麦ケーキを買う')\n",
    "# 300円以上で甘いものだけが「Y」の場合\n",
    "elif (q1 >= 300 and q2 == 'Y'):\n",
    "    print('キャラメルチーズタルトを買う')\n",
    "# 300円以上で甘いものもカロリーも「Y」ではない場合\n",
    "elif q1 >= 300:\n",
    "    print('ウーロン茶とポテチを買う')\n",
    "# どの条件も成立しない（使えるお金が300円以上ではない）場合\n",
    "else:\n",
    "    print('チョコドーナツを買う')"
   ]
  }
 ],
 "metadata": {
  "kernelspec": {
   "display_name": ".venv",
   "language": "python",
   "name": "python3"
  },
  "language_info": {
   "codemirror_mode": {
    "name": "ipython",
    "version": 3
   },
   "file_extension": ".py",
   "mimetype": "text/x-python",
   "name": "python",
   "nbconvert_exporter": "python",
   "pygments_lexer": "ipython3",
   "version": "3.11.4"
  },
  "orig_nbformat": 4
 },
 "nbformat": 4,
 "nbformat_minor": 2
}
