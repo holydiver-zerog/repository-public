{
 "cells": [
  {
   "cell_type": "code",
   "execution_count": 5,
   "metadata": {},
   "outputs": [],
   "source": [
    "class CapsuleClass:\n",
    "    \"\"\"プロパティを実装したクラス\n",
    "    \"\"\"\n",
    "    def __init__(self, max = 4, count = 0):\n",
    "        \"\"\"初期化メソッド\n",
    "\n",
    "        Args:\n",
    "            max (int, optional): 繰り返す回数の上限. デフォルト値は4\n",
    "            count (int, optional): 繰り返しの回数.デフォルト値は0\n",
    "        \"\"\"\n",
    "        # 外部からアクセス不可のインスタンス変数\n",
    "        self.__max = max\n",
    "        self.__count = count\n",
    "\n",
    "    @property\n",
    "    def max(self):\n",
    "        \"\"\"_maxのゲッター\n",
    "\n",
    "        Returns:\n",
    "            int: __maxの値\n",
    "        \"\"\"\n",
    "        return self.__max\n",
    "\n",
    "    @max.setter\n",
    "    def max(self, max):\n",
    "        \"\"\"__maxのセッター\n",
    "\n",
    "        Args:\n",
    "            max (int): 繰り返す回数の上限\n",
    "        \"\"\"\n",
    "        self.__max = max\n",
    "\n",
    "    @property\n",
    "    def count(self):\n",
    "        \"\"\"__countのゲッター\n",
    "\n",
    "        Returns:\n",
    "            int: __countの値\n",
    "        \"\"\"\n",
    "        return self.__count\n",
    "\n",
    "    @count.setter\n",
    "    def count(self, count):\n",
    "        \"\"\"__countのセッター\n",
    "\n",
    "        Args:\n",
    "            count (int): 繰り返しの回数\n",
    "        \"\"\"\n",
    "        self.__count = count\n",
    "\n",
    "    def battle(self):\n",
    "        \"\"\"バトルメソッド\n",
    "        \"\"\"\n",
    "        while self.count < self.max:\n",
    "            print('勇者のこうげき！')\n",
    "            print('モンスターは反撃した！')\n",
    "            # カウンターを１増やす\n",
    "            self.__count += 1\n",
    "        print('勇者は呪文をとなえた！')\n",
    "        print('モンスターをやっつけた！')\n",
    "        "
   ]
  },
  {
   "cell_type": "code",
   "execution_count": 6,
   "metadata": {},
   "outputs": [
    {
     "name": "stdout",
     "output_type": "stream",
     "text": [
      "勇者のこうげき！\n",
      "モンスターは反撃した！\n",
      "勇者のこうげき！\n",
      "モンスターは反撃した！\n",
      "勇者は呪文をとなえた！\n",
      "モンスターをやっつけた！\n"
     ]
    }
   ],
   "source": [
    "# CapsuleClassをインスタンス化\n",
    "cc = CapsuleClass()\n",
    "# countの値を1にする\n",
    "cc.count = 1\n",
    "# maxの値を3にする\n",
    "cc.max = 3\n",
    "# ゲーム開始\n",
    "cc.battle()"
   ]
  }
 ],
 "metadata": {
  "kernelspec": {
   "display_name": "Python 3",
   "language": "python",
   "name": "python3"
  },
  "language_info": {
   "codemirror_mode": {
    "name": "ipython",
    "version": 3
   },
   "file_extension": ".py",
   "mimetype": "text/x-python",
   "name": "python",
   "nbconvert_exporter": "python",
   "pygments_lexer": "ipython3",
   "version": "3.11.4"
  }
 },
 "nbformat": 4,
 "nbformat_minor": 2
}
