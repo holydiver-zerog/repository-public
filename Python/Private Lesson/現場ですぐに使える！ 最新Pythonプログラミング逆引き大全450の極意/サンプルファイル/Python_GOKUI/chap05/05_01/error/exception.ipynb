{
 "cells": [
  {
   "cell_type": "code",
   "execution_count": 2,
   "metadata": {},
   "outputs": [
    {
     "ename": "Exception",
     "evalue": "Error occurred",
     "output_type": "error",
     "traceback": [
      "\u001b[1;31m---------------------------------------------------------------------------\u001b[0m",
      "\u001b[1;31mException\u001b[0m                                 Traceback (most recent call last)",
      "Cell \u001b[1;32mIn[2], line 1\u001b[0m\n\u001b[1;32m----> 1\u001b[0m \u001b[39mraise\u001b[39;00m \u001b[39mException\u001b[39;00m(\u001b[39m'\u001b[39m\u001b[39mError occurred\u001b[39m\u001b[39m'\u001b[39m)\n",
      "\u001b[1;31mException\u001b[0m: Error occurred"
     ]
    }
   ],
   "source": [
    "raise Exception('Error occurred')"
   ]
  },
  {
   "cell_type": "code",
   "execution_count": 5,
   "metadata": {},
   "outputs": [],
   "source": [
    "# パラメーターに不正な値が渡されたときの例外を処理する\n",
    "\n",
    "def draw_square(pattern, width, height):\n",
    "    \"\"\"四角形を描く関数\n",
    "\n",
    "    Args:\n",
    "        pattern (str): パターン文字\n",
    "        width (int): 幅\n",
    "        height (int): 高さ\n",
    "\n",
    "    Raises:\n",
    "        Exception: patternの文字が1文字ではない\n",
    "        Exception: widthが2より大きな値ではない\n",
    "        Exception: heightが2より大きな値ではない\n",
    "    \"\"\"\n",
    "    if len(pattern) != 1:\n",
    "        raise Exception('patternは1文字であることが必要です')\n",
    "    if width <= 2:\n",
    "        raise Exception('widthは2より大きい値であることが必要です')\n",
    "    if height <= 2:\n",
    "        raise Exception('heightは2より大きい値であることが必要です')\n",
    "    # 上辺を描画\n",
    "    print(pattern * width)\n",
    "    # 高さを描画\n",
    "    for i in range(height - 2):\n",
    "        print(pattern + (' ' * (width - 2)) + pattern)\n",
    "    # 底辺を描画\n",
    "    print(pattern * width)\n",
    "\n",
    "def run(pattern, width, height):\n",
    "    \"\"\"draw_square()を実行する\n",
    "\n",
    "    Args:\n",
    "        pattern (str): パターン文字\n",
    "        width (int): 幅\n",
    "        height (int): 高さ\n",
    "    \"\"\"\n",
    "    try:\n",
    "        # draw_square()を実行\n",
    "        draw_square(pattern, width, height)\n",
    "    except Exception as err:\n",
    "        print('例外が発生しましたー> ' + str(err))"
   ]
  },
  {
   "cell_type": "code",
   "execution_count": 6,
   "metadata": {},
   "outputs": [
    {
     "name": "stdout",
     "output_type": "stream",
     "text": [
      "####\n",
      "#  #\n",
      "#  #\n",
      "####\n"
     ]
    }
   ],
   "source": [
    "run('#', 4, 4)  # 4×4の四角い枠"
   ]
  },
  {
   "cell_type": "code",
   "execution_count": 7,
   "metadata": {},
   "outputs": [
    {
     "name": "stdout",
     "output_type": "stream",
     "text": [
      "例外が発生しましたー> widthは2より大きい値であることが必要です\n"
     ]
    }
   ],
   "source": [
    "run('#', 1, 4)  # エラーになる値を設定"
   ]
  },
  {
   "cell_type": "code",
   "execution_count": 8,
   "metadata": {},
   "outputs": [
    {
     "name": "stdout",
     "output_type": "stream",
     "text": [
      "例外が発生しましたー> heightは2より大きい値であることが必要です\n"
     ]
    }
   ],
   "source": [
    "run('#', 4, 1)  # エラーになる値を設定"
   ]
  },
  {
   "cell_type": "code",
   "execution_count": 9,
   "metadata": {},
   "outputs": [
    {
     "name": "stdout",
     "output_type": "stream",
     "text": [
      "########################################\n",
      "#                                      #\n",
      "#                                      #\n",
      "#                                      #\n",
      "#                                      #\n",
      "#                                      #\n",
      "########################################\n"
     ]
    }
   ],
   "source": [
    "run('#', 40, 7) # 40×7の四角い枠"
   ]
  },
  {
   "cell_type": "code",
   "execution_count": 12,
   "metadata": {},
   "outputs": [],
   "source": [
    "def func1():\n",
    "    \"\"\"func2()を呼出す関数\n",
    "    \"\"\"\n",
    "    func2()\n",
    "\n",
    "def func2():\n",
    "    \"\"\"例外を発生させる関数\n",
    "\n",
    "    Raises:\n",
    "        Exception: エラーメッセージを表示\n",
    "    \"\"\"\n",
    "    raise Exception('Error occurred')"
   ]
  },
  {
   "cell_type": "code",
   "execution_count": 13,
   "metadata": {},
   "outputs": [
    {
     "ename": "Exception",
     "evalue": "Error occurred",
     "output_type": "error",
     "traceback": [
      "\u001b[1;31m---------------------------------------------------------------------------\u001b[0m",
      "\u001b[1;31mException\u001b[0m                                 Traceback (most recent call last)",
      "Cell \u001b[1;32mIn[13], line 1\u001b[0m\n\u001b[1;32m----> 1\u001b[0m func1()\n",
      "Cell \u001b[1;32mIn[12], line 4\u001b[0m, in \u001b[0;36mfunc1\u001b[1;34m()\u001b[0m\n\u001b[0;32m      1\u001b[0m \u001b[39mdef\u001b[39;00m \u001b[39mfunc1\u001b[39m():\n\u001b[0;32m      2\u001b[0m \u001b[39m    \u001b[39m\u001b[39m\"\"\"func2()を呼出す関数\u001b[39;00m\n\u001b[0;32m      3\u001b[0m \u001b[39m    \"\"\"\u001b[39;00m\n\u001b[1;32m----> 4\u001b[0m     func2()\n",
      "Cell \u001b[1;32mIn[12], line 12\u001b[0m, in \u001b[0;36mfunc2\u001b[1;34m()\u001b[0m\n\u001b[0;32m      6\u001b[0m \u001b[39mdef\u001b[39;00m \u001b[39mfunc2\u001b[39m():\n\u001b[0;32m      7\u001b[0m \u001b[39m    \u001b[39m\u001b[39m\"\"\"例外を発生させる関数\u001b[39;00m\n\u001b[0;32m      8\u001b[0m \n\u001b[0;32m      9\u001b[0m \u001b[39m    Raises:\u001b[39;00m\n\u001b[0;32m     10\u001b[0m \u001b[39m        Exception: _description_\u001b[39;00m\n\u001b[0;32m     11\u001b[0m \u001b[39m    \"\"\"\u001b[39;00m\n\u001b[1;32m---> 12\u001b[0m     \u001b[39mraise\u001b[39;00m \u001b[39mException\u001b[39;00m(\u001b[39m'\u001b[39m\u001b[39mError occurred\u001b[39m\u001b[39m'\u001b[39m)\n",
      "\u001b[1;31mException\u001b[0m: Error occurred"
     ]
    }
   ],
   "source": [
    "func1()"
   ]
  },
  {
   "cell_type": "code",
   "execution_count": 14,
   "metadata": {},
   "outputs": [],
   "source": [
    "def func1():\n",
    "    \"\"\"func2()を呼出す関数\n",
    "    \"\"\"\n",
    "    func2()\n",
    "\n",
    "def func2():\n",
    "    \"\"\"例外を発生させる関数\n",
    "\n",
    "    Raises:\n",
    "        Exception: エラーメッセージを表示\n",
    "    \"\"\"\n",
    "    raise Exception('Error occurred')"
   ]
  },
  {
   "cell_type": "code",
   "execution_count": 28,
   "metadata": {},
   "outputs": [
    {
     "name": "stdout",
     "output_type": "stream",
     "text": [
      "トレースバックをerror.txtに記録しました。\n"
     ]
    }
   ],
   "source": [
    "import traceback\n",
    "\n",
    "try:\n",
    "    func1()\n",
    "except:\n",
    "    err_file = open('error.txt', 'w')\n",
    "    err_file.write(traceback.format_exc())\n",
    "    err_file.close()\n",
    "    print('トレースバックをerror.txtに記録しました。')"
   ]
  },
  {
   "cell_type": "code",
   "execution_count": 29,
   "metadata": {},
   "outputs": [],
   "source": [
    "# アサートでチェックする変数\n",
    "judge = ''\n",
    "# アサートによるチェックを行う関数\n",
    "def check():\n",
    "    assert judge == 'OK', 'judgeの値は常に\"OK\"です。'"
   ]
  },
  {
   "cell_type": "code",
   "execution_count": 30,
   "metadata": {},
   "outputs": [],
   "source": [
    "judge = 'OK' # 変数の値は'OK'\n",
    "check()      # アサートによるチェック"
   ]
  },
  {
   "cell_type": "code",
   "execution_count": 31,
   "metadata": {},
   "outputs": [
    {
     "ename": "AssertionError",
     "evalue": "judgeの値は常に\"OK\"です。",
     "output_type": "error",
     "traceback": [
      "\u001b[1;31m---------------------------------------------------------------------------\u001b[0m",
      "\u001b[1;31mAssertionError\u001b[0m                            Traceback (most recent call last)",
      "Cell \u001b[1;32mIn[31], line 2\u001b[0m\n\u001b[0;32m      1\u001b[0m judge \u001b[39m=\u001b[39m \u001b[39m'\u001b[39m\u001b[39mNO\u001b[39m\u001b[39m'\u001b[39m \u001b[39m# 変数の値は'NO'\u001b[39;00m\n\u001b[1;32m----> 2\u001b[0m check()      \u001b[39m# アサートによるチェック\u001b[39;00m\n",
      "Cell \u001b[1;32mIn[29], line 5\u001b[0m, in \u001b[0;36mcheck\u001b[1;34m()\u001b[0m\n\u001b[0;32m      4\u001b[0m \u001b[39mdef\u001b[39;00m \u001b[39mcheck\u001b[39m():\n\u001b[1;32m----> 5\u001b[0m     \u001b[39massert\u001b[39;00m judge \u001b[39m==\u001b[39m \u001b[39m'\u001b[39m\u001b[39mOK\u001b[39m\u001b[39m'\u001b[39m, \u001b[39m'\u001b[39m\u001b[39mjudgeの値は常に\u001b[39m\u001b[39m\"\u001b[39m\u001b[39mOK\u001b[39m\u001b[39m\"\u001b[39m\u001b[39mです。\u001b[39m\u001b[39m'\u001b[39m\n",
      "\u001b[1;31mAssertionError\u001b[0m: judgeの値は常に\"OK\"です。"
     ]
    }
   ],
   "source": [
    "judge = 'NO' # 変数の値は'NO'\n",
    "check()      # アサートによるチェック"
   ]
  }
 ],
 "metadata": {
  "kernelspec": {
   "display_name": ".venv",
   "language": "python",
   "name": "python3"
  },
  "language_info": {
   "codemirror_mode": {
    "name": "ipython",
    "version": 3
   },
   "file_extension": ".py",
   "mimetype": "text/x-python",
   "name": "python",
   "nbconvert_exporter": "python",
   "pygments_lexer": "ipython3",
   "version": "3.11.4"
  },
  "orig_nbformat": 4
 },
 "nbformat": 4,
 "nbformat_minor": 2
}
