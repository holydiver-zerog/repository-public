{
 "cells": [
  {
   "cell_type": "code",
   "execution_count": 11,
   "metadata": {},
   "outputs": [
    {
     "name": "stderr",
     "output_type": "stream",
     "text": [
      " 2023-08-29 20:51:23,162 - ERROR - プログラム実行中\n"
     ]
    }
   ],
   "source": [
    "# LogRecordオブジェクトをERRORに設定してログを出力\n",
    "\n",
    "import logging\n",
    "logging.basicConfig(level=logging.ERROR,\n",
    "                    format=' %(asctime)s - %(levelname)s - %(message)s')\n",
    "\n",
    "logging.debug('プログラム実行中')      # DEBUGレベルのログを出力\n",
    "logging.info('プログラム実行中')       # INFOレベルのログを出力\n",
    "logging.warning('プログラム実行中')    # WARNINGレベルのログを出力\n",
    "logging.error('プログラム実行中')     # ERRORレベルのログを出力"
   ]
  },
  {
   "cell_type": "code",
   "execution_count": 10,
   "metadata": {},
   "outputs": [
    {
     "name": "stderr",
     "output_type": "stream",
     "text": [
      " 2023-08-29 20:50:24,831 - CRITICAL - プログラム実行中\n"
     ]
    }
   ],
   "source": [
    "logging.critical('プログラム実行中')   # CRITICALレベルのログを出力"
   ]
  },
  {
   "cell_type": "code",
   "execution_count": null,
   "metadata": {},
   "outputs": [],
   "source": []
  }
 ],
 "metadata": {
  "kernelspec": {
   "display_name": "Python 3",
   "language": "python",
   "name": "python3"
  },
  "language_info": {
   "codemirror_mode": {
    "name": "ipython",
    "version": 3
   },
   "file_extension": ".py",
   "mimetype": "text/x-python",
   "name": "python",
   "nbconvert_exporter": "python",
   "pygments_lexer": "ipython3",
   "version": "3.11.4"
  }
 },
 "nbformat": 4,
 "nbformat_minor": 2
}
