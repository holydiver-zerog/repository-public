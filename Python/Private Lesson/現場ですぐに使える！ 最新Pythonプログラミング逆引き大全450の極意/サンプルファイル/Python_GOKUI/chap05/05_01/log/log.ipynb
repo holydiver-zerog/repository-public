{
 "cells": [
  {
   "cell_type": "code",
   "execution_count": 1,
   "metadata": {},
   "outputs": [
    {
     "name": "stderr",
     "output_type": "stream",
     "text": [
      " 2023-08-29 19:22:49,143 - DEBUG - プログラム開始\n",
      " 2023-08-29 19:22:49,143 - DEBUG - factorial(5)が実行されました\n",
      " 2023-08-29 19:22:49,144 - DEBUG - i = 1, fact = 1\n",
      " 2023-08-29 19:22:49,144 - DEBUG - i = 2, fact = 2\n",
      " 2023-08-29 19:22:49,144 - DEBUG - i = 3, fact = 6\n",
      " 2023-08-29 19:22:49,145 - DEBUG - i = 4, fact = 24\n",
      " 2023-08-29 19:22:49,145 - DEBUG - i = 5, fact = 120\n",
      " 2023-08-29 19:22:49,145 - DEBUG - factorial(5)終了\n",
      " 2023-08-29 19:22:49,147 - DEBUG - プログラム終了\n"
     ]
    },
    {
     "name": "stdout",
     "output_type": "stream",
     "text": [
      "120\n"
     ]
    }
   ],
   "source": [
    "# 階乗を求める関数の計算過程をログとして出力する\n",
    "\n",
    "import logging      # loggingモジュールのインポート\n",
    "\n",
    "logging.basicConfig(\n",
    "    # ログのレベルをDEBUG(詳細情報)にする\n",
    "    level=logging.DEBUG,\n",
    "    # ログの書式設定--->イベントの日付と時刻 - ログレベル - メッセージ\n",
    "    format=' %(asctime)s - %(levelname)s - %(message)s')\n",
    "\n",
    "# 最初のログを出力\n",
    "logging.debug('プログラム開始')\n",
    "\n",
    "def get_factorial(num):\n",
    "    \"\"\"階乗を計算する関数\n",
    "\n",
    "    Args:\n",
    "        num (int): 処理対象の整数値\n",
    "\n",
    "    Returns:\n",
    "        int: 階乗した値\n",
    "    \"\"\"\n",
    "    # ログ出力(処理の開始)\n",
    "    logging.debug('factorial({})が実行されました'.format(num))\n",
    "    # 掛け算の初期値を設定\n",
    "    fact = 1\n",
    "    # 1～num + 1になるまで繰り返す\n",
    "    for i in range(1, num + 1):\n",
    "        # factの値にiの値を掛けて再代入\n",
    "        fact *= i\n",
    "        # ログ出力（iの値、factの値)\n",
    "        logging.debug('i = {}, fact = {}'.format(i, fact))\n",
    "    # ログ出力（処理終了）\n",
    "    logging.debug('factorial({})終了'.format(num))\n",
    "    # 階乗した値を返す\n",
    "    return fact\n",
    "\n",
    "# get_factorial()を呼び出して階乗を求める\n",
    "print(get_factorial(5))\n",
    "\n",
    "# ログ出力(プログラムの終了)\n",
    "logging.debug('プログラム終了')"
   ]
  },
  {
   "cell_type": "code",
   "execution_count": 2,
   "metadata": {},
   "outputs": [
    {
     "name": "stderr",
     "output_type": "stream",
     "text": [
      " 2023-08-29 19:34:30,949 - DEBUG - プログラム開始\n",
      " 2023-08-29 19:34:30,950 - DEBUG - factorial(5)が実行されました\n",
      " 2023-08-29 19:34:30,952 - DEBUG - i = 0, fact = 0\n",
      " 2023-08-29 19:34:30,952 - DEBUG - i = 1, fact = 0\n",
      " 2023-08-29 19:34:30,953 - DEBUG - i = 2, fact = 0\n",
      " 2023-08-29 19:34:30,953 - DEBUG - i = 3, fact = 0\n",
      " 2023-08-29 19:34:30,954 - DEBUG - i = 4, fact = 0\n",
      " 2023-08-29 19:34:30,954 - DEBUG - i = 5, fact = 0\n",
      " 2023-08-29 19:34:30,955 - DEBUG - factorial(5)終了\n",
      " 2023-08-29 19:34:30,955 - DEBUG - プログラム終了\n"
     ]
    },
    {
     "name": "stdout",
     "output_type": "stream",
     "text": [
      "0\n"
     ]
    }
   ],
   "source": [
    "# 階乗を求める関数の計算過程をログとして出力する\n",
    "\n",
    "import logging      # loggingモジュールのインポート\n",
    "\n",
    "logging.basicConfig(\n",
    "    # ログのレベルをDEBUG(詳細情報)にする\n",
    "    level=logging.DEBUG,\n",
    "    # ログの書式設定--->イベントの日付と時刻 - ログレベル - メッセージ\n",
    "    format=' %(asctime)s - %(levelname)s - %(message)s')\n",
    "\n",
    "# 最初のログを出力\n",
    "logging.debug('プログラム開始')\n",
    "\n",
    "def get_factorial(num):\n",
    "    \"\"\"階乗を計算する関数\n",
    "\n",
    "    Args:\n",
    "        num (int): 処理対象の整数値\n",
    "\n",
    "    Returns:\n",
    "        int: 階乗した値\n",
    "    \"\"\"\n",
    "    # ログ出力(処理の開始)\n",
    "    logging.debug('factorial({})が実行されました'.format(num))\n",
    "    # 掛け算の初期値を設定\n",
    "    fact = 1\n",
    "    # 1～num + 1になるまで繰り返す\n",
    "    for i in range(num + 1):\n",
    "        # factの値にiの値を掛けて再代入\n",
    "        fact *= i\n",
    "        # ログ出力（iの値、factの値)\n",
    "        logging.debug('i = {}, fact = {}'.format(i, fact))\n",
    "    # ログ出力（処理終了）\n",
    "    logging.debug('factorial({})終了'.format(num))\n",
    "    # 階乗した値を返す\n",
    "    return fact\n",
    "\n",
    "# get_factorial()を呼び出して階乗を求める\n",
    "print(get_factorial(5))\n",
    "\n",
    "# ログ出力(プログラムの終了)\n",
    "logging.debug('プログラム終了')"
   ]
  }
 ],
 "metadata": {
  "kernelspec": {
   "display_name": ".venv",
   "language": "python",
   "name": "python3"
  },
  "language_info": {
   "codemirror_mode": {
    "name": "ipython",
    "version": 3
   },
   "file_extension": ".py",
   "mimetype": "text/x-python",
   "name": "python",
   "nbconvert_exporter": "python",
   "pygments_lexer": "ipython3",
   "version": "3.11.4"
  },
  "orig_nbformat": 4
 },
 "nbformat": 4,
 "nbformat_minor": 2
}
