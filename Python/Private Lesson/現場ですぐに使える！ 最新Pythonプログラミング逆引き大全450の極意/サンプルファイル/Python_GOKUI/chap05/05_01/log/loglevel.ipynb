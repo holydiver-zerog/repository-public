{
 "cells": [
  {
   "cell_type": "code",
   "execution_count": 18,
   "metadata": {},
   "outputs": [],
   "source": [
    "# LogRecordオブジェクトをDEBUGに設定してログを出力\n",
    "import logging\n",
    "\n",
    "# LogRecordオブジェクトをDEBUGに設定\n",
    "logging.basicConfig(\n",
    "    level=logging.DEBUG,\n",
    "    format=' %(asctime)s - %(levelname)s - %(message)s')"
   ]
  },
  {
   "cell_type": "code",
   "execution_count": 19,
   "metadata": {},
   "outputs": [
    {
     "name": "stderr",
     "output_type": "stream",
     "text": [
      " 2023-08-29 20:39:17,514 - DEBUG - プログラム実行中\n"
     ]
    }
   ],
   "source": [
    "logging.debug('プログラム実行中')      # DEBUGレベルのログを出力"
   ]
  },
  {
   "cell_type": "code",
   "execution_count": 20,
   "metadata": {},
   "outputs": [
    {
     "name": "stderr",
     "output_type": "stream",
     "text": [
      " 2023-08-29 20:39:17,519 - DEBUG - プログラム実行中\n"
     ]
    }
   ],
   "source": [
    "logging.debug('プログラム実行中')      # DEBUGレベルのログを出力"
   ]
  },
  {
   "cell_type": "code",
   "execution_count": 21,
   "metadata": {},
   "outputs": [
    {
     "name": "stderr",
     "output_type": "stream",
     "text": [
      " 2023-08-29 20:39:17,523 - INFO - プログラム実行中\n"
     ]
    }
   ],
   "source": [
    "logging.info('プログラム実行中')      # INFOレベルのログを出力"
   ]
  },
  {
   "cell_type": "code",
   "execution_count": 22,
   "metadata": {},
   "outputs": [
    {
     "name": "stderr",
     "output_type": "stream",
     "text": [
      " 2023-08-29 20:39:17,528 - WARNING - プログラム実行中\n"
     ]
    }
   ],
   "source": [
    "logging.warning('プログラム実行中')   # WARNINGレベルのログを出力"
   ]
  },
  {
   "cell_type": "code",
   "execution_count": 23,
   "metadata": {},
   "outputs": [
    {
     "name": "stderr",
     "output_type": "stream",
     "text": [
      " 2023-08-29 20:39:17,534 - ERROR - プログラム実行中\n"
     ]
    }
   ],
   "source": [
    "logging.error('プログラム実行中')     # ERRORレベルのログを出力"
   ]
  },
  {
   "cell_type": "code",
   "execution_count": 24,
   "metadata": {},
   "outputs": [
    {
     "name": "stderr",
     "output_type": "stream",
     "text": [
      " 2023-08-29 20:39:17,538 - CRITICAL - プログラム実行中\n"
     ]
    }
   ],
   "source": [
    "logging.critical('プログラム実行中')  # CRITICALレベルのログを出力"
   ]
  },
  {
   "cell_type": "code",
   "execution_count": null,
   "metadata": {},
   "outputs": [],
   "source": []
  }
 ],
 "metadata": {
  "kernelspec": {
   "display_name": ".venv",
   "language": "python",
   "name": "python3"
  },
  "language_info": {
   "codemirror_mode": {
    "name": "ipython",
    "version": 3
   },
   "file_extension": ".py",
   "mimetype": "text/x-python",
   "name": "python",
   "nbconvert_exporter": "python",
   "pygments_lexer": "ipython3",
   "version": "3.11.4"
  },
  "orig_nbformat": 4
 },
 "nbformat": 4,
 "nbformat_minor": 2
}
