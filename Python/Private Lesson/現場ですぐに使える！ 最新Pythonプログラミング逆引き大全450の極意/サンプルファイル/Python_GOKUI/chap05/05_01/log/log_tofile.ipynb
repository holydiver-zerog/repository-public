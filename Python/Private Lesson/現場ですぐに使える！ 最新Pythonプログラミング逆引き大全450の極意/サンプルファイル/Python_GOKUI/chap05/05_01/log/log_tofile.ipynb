{
 "cells": [
  {
   "cell_type": "code",
   "execution_count": 9,
   "metadata": {},
   "outputs": [],
   "source": [
    "# ログをファイルに出力する\n",
    "\n",
    "import logging      # loggingモジュールのインポート\n",
    "\n",
    "# ログをファイルに出力する\n",
    "logging.basicConfig(\n",
    "    filename = 'logfile.txt',\n",
    "    # ログレベルはDEBUG\n",
    "    level=logging.DEBUG,\n",
    "    format=' %(asctime)s - %(levelname)s - %(message)s')\n",
    "\n",
    "# 最初のログを出力\n",
    "logging.debug('Program start')\n",
    "\n",
    "def get_factorial(num):\n",
    "    \"\"\"階乗を計算する関数\n",
    "\n",
    "    Args:\n",
    "        num (int): 処理対象の整数値\n",
    "\n",
    "    Returns:\n",
    "        int: 階乗した値\n",
    "    \"\"\"\n",
    "    # ログ出力(処理の開始)\n",
    "    logging.debug('factorial({}) was executed'.format(num))\n",
    "    # 掛け算の初期値を設定\n",
    "    fact = 1\n",
    "    # 1～num + 1になるまで繰り返す\n",
    "    for i in range(1, num + 1):\n",
    "        # factの値にiの値を掛けて再代入\n",
    "        fact *= i\n",
    "        # ログ出力（iの値、factの値)\n",
    "        logging.debug('i = {}, fact = {}'.format(i, fact))\n",
    "    # ログ出力（処理終了）\n",
    "    logging.debug('factorial({}) processing exit'.format(num))\n",
    "    # 階乗した値を返す\n",
    "    return fact\n",
    "\n",
    "# get_factorial()を呼び出して階乗を求める\n",
    "get_factorial(5)\n",
    "# ログ出力\n",
    "logging.debug('Program ends')"
   ]
  },
  {
   "cell_type": "code",
   "execution_count": null,
   "metadata": {},
   "outputs": [],
   "source": []
  }
 ],
 "metadata": {
  "kernelspec": {
   "display_name": "Python 3",
   "language": "python",
   "name": "python3"
  },
  "language_info": {
   "codemirror_mode": {
    "name": "ipython",
    "version": 3
   },
   "file_extension": ".py",
   "mimetype": "text/x-python",
   "name": "python",
   "nbconvert_exporter": "python",
   "pygments_lexer": "ipython3",
   "version": "3.11.4"
  }
 },
 "nbformat": 4,
 "nbformat_minor": 2
}
