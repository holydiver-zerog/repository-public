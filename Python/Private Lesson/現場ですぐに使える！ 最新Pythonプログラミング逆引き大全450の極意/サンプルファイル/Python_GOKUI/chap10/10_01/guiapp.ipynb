{
 "cells": [
  {
   "cell_type": "code",
   "execution_count": 6,
   "metadata": {},
   "outputs": [],
   "source": [
    "# 明日の予定を決める関数\n",
    "\n",
    "import random\n",
    "\n",
    "#グローバル変数の定義\n",
    "# 応答エリアのオブジェクトを保持\n",
    "response_area = None\n",
    "\n",
    "def wakuwaku():\n",
    "    \"\"\"予定のリストからランダムに抽出する\n",
    "    \"\"\"\n",
    "    play =  [\n",
    "        '小っちゃな映画館を探して映画を観に行く',\n",
    "        'おしゃれなカフェでまったりする',\n",
    "        '絶叫マシンの遊園地ではしゃぐ',\n",
    "        '上演中の劇場を探して舞台を観る',\n",
    "        '路線バスで旅をする',\n",
    "        'モヤモヤする街を散策する',\n",
    "        'ざわめく街の酒場を彷徨う']\n",
    "    # playリストからランダムに抽出\n",
    "    tomorrow = random.choice(play)\n",
    "    # 明日の予定をラベルに表示\n",
    "    response_area.configure(text=tomorrow)"
   ]
  },
  {
   "cell_type": "code",
   "execution_count": 7,
   "metadata": {},
   "outputs": [],
   "source": [
    "import tkinter as tk\n",
    "\n",
    "def run():\n",
    "    \"\"\"画面を描画する\n",
    "    \"\"\"\n",
    "    # グローバル変数を使用するための記述\n",
    "    global response_area\n",
    "    # メインウィンドウを作成\n",
    "    root = tk.Tk()\n",
    "    # ウィンドウのタイトルを設定\n",
    "    root.title('明日の予定 : ')\n",
    "    # フォントとフォントサイズを指定するためのタプルを用意\n",
    "    font = ('Helevetica', 14)\n",
    "\n",
    "    # キャンバスの作成\n",
    "    canvas = tk.Canvas(\n",
    "        root,            # 親要素をメインウィンドウに設定\n",
    "        width = 550,     # 幅を設定\n",
    "        height = 200,    # 高さを設定\n",
    "        relief=tk.RIDGE, # 枠線を表示\n",
    "        bd=2             # 枠線の幅を設定\n",
    "        )\n",
    "    # キャンバスをウィンドウ上に配置\n",
    "    canvas.pack()\n",
    "    # イメージを用意\n",
    "    img = tk.PhotoImage(file = 'img1.gif')\n",
    "    # キャンバス上にイメージを配置\n",
    "    canvas.create_image(\n",
    "        0,              # x座標\n",
    "        0,              # y座標\n",
    "        image = img,    # 配置するイメージを指定\n",
    "        anchor = tk.NW  # 配置の起点となる位置を左上隅に指定\n",
    "    )\n",
    "\n",
    "    # 応答エリアを作成\n",
    "    response_area = tk.Label(\n",
    "            root,            # 親要素をメインウィンドウに設定\n",
    "            width=50,        # 幅を設定\n",
    "            height=10,       # 高さを設定\n",
    "            bg='pink',       # 背景色を設定\n",
    "            font=font,       # フォントを設定\n",
    "            relief=tk.RIDGE, # 枠線の種類を設定\n",
    "            bd=2             # 枠線の幅を設定\n",
    "            )\n",
    "    # 応答エリアをメインウィンドウ上に配置\n",
    "    response_area.pack()\n",
    "\n",
    "    # ボタンの作成\n",
    "    button = tk.Button(\n",
    "        root,                           # 親要素をメインウィンドウに設定\n",
    "        font=font,                      # フォントを設定\n",
    "        text='明日はどーする？',         # ボタンに表示するテキスト\n",
    "        command=wakuwaku                # クリック時にwakuwaku()関数を呼ぶ\n",
    "        )\n",
    "    # メインウィンドウ上に配置\n",
    "    button.pack()\n",
    "\n",
    "    # ウィンドウの状態を維持\n",
    "    root.mainloop()"
   ]
  },
  {
   "cell_type": "code",
   "execution_count": 8,
   "metadata": {},
   "outputs": [],
   "source": [
    "run()"
   ]
  },
  {
   "cell_type": "code",
   "execution_count": null,
   "metadata": {},
   "outputs": [],
   "source": []
  }
 ],
 "metadata": {
  "kernelspec": {
   "display_name": "Python 3",
   "language": "python",
   "name": "python3"
  },
  "language_info": {
   "codemirror_mode": {
    "name": "ipython",
    "version": 3
   },
   "file_extension": ".py",
   "mimetype": "text/x-python",
   "name": "python",
   "nbconvert_exporter": "python",
   "pygments_lexer": "ipython3",
   "version": "3.11.4"
  }
 },
 "nbformat": 4,
 "nbformat_minor": 2
}
