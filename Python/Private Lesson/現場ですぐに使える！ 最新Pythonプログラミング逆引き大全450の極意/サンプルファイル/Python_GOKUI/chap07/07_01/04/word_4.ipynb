{
 "cells": [
  {
   "cell_type": "code",
   "execution_count": 1,
   "metadata": {},
   "outputs": [],
   "source": [
    "# Wordドキュメントを作成して段落を追加する\n",
    "\n",
    "import docx\n",
    "doc = docx.Document()                         # 新規ドキュメントを生成\n",
    "doc.add_paragraph('Pythonから入力しました。') # テキストの段落を追加\n",
    "doc.save('新規文書.docx')                     # ドキュメントを保存"
   ]
  },
  {
   "cell_type": "code",
   "execution_count": 2,
   "metadata": {},
   "outputs": [
    {
     "data": {
      "text/plain": [
       "<docx.text.run.Run at 0x187f4fead90>"
      ]
     },
     "execution_count": 2,
     "metadata": {},
     "output_type": "execute_result"
    }
   ],
   "source": [
    "# 既存のドキュメントにテキストの段落を追加する\n",
    "\n",
    "import docx\n",
    "doc = docx.Document('新規文書.docx')       # 既存のドキュメントを読み込む\n",
    "para_1 = doc.add_paragraph('第2段落です。')# 新規段落を追加\n",
    "para_2 = doc.add_paragraph('第3段落です。')# 新規段落を追加\n",
    "# 第2段落にテキストを追加\n",
    "para_1.add_run('第2段落にテキストを追加します。')"
   ]
  },
  {
   "cell_type": "code",
   "execution_count": 3,
   "metadata": {},
   "outputs": [],
   "source": [
    "doc.save('新規文書.docx')"
   ]
  }
 ],
 "metadata": {
  "kernelspec": {
   "display_name": "Python 3",
   "language": "python",
   "name": "python3"
  },
  "language_info": {
   "codemirror_mode": {
    "name": "ipython",
    "version": 3
   },
   "file_extension": ".py",
   "mimetype": "text/x-python",
   "name": "python",
   "nbconvert_exporter": "python",
   "pygments_lexer": "ipython3",
   "version": "3.11.4"
  }
 },
 "nbformat": 4,
 "nbformat_minor": 2
}
