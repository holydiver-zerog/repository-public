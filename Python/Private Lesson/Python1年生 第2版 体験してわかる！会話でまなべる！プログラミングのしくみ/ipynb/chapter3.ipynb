{
 "cells": [
  {
   "cell_type": "code",
   "execution_count": 1,
   "id": "ef8a79ae",
   "metadata": {},
   "outputs": [
    {
     "name": "stdout",
     "output_type": "stream",
     "text": [
      "10\n"
     ]
    }
   ],
   "source": [
    "# var1.py\n",
    "# 変数に値を入れて、表示\n",
    "a = 10\n",
    "print(a)"
   ]
  },
  {
   "cell_type": "code",
   "execution_count": 2,
   "id": "671c9ebe",
   "metadata": {},
   "outputs": [
    {
     "name": "stdout",
     "output_type": "stream",
     "text": [
      "17.915089237425637\n"
     ]
    }
   ],
   "source": [
    "# var2.py\n",
    "h = 1.72\n",
    "w = 53\n",
    "bmi = w / (h * h)\n",
    "print(bmi)"
   ]
  },
  {
   "cell_type": "code",
   "execution_count": 3,
   "id": "e7f01ff8",
   "metadata": {},
   "outputs": [
    {
     "name": "stdout",
     "output_type": "stream",
     "text": [
      "100 12.3 hello True\n"
     ]
    }
   ],
   "source": [
    "# var3.py\n",
    "# データ型で変数を作成\n",
    "i = 100\n",
    "f = 12.3\n",
    "w = \"hello\"\n",
    "b = True\n",
    "print(i, f, w, b)"
   ]
  },
  {
   "cell_type": "code",
   "execution_count": 4,
   "id": "7fdd9afb",
   "metadata": {},
   "outputs": [
    {
     "name": "stdout",
     "output_type": "stream",
     "text": [
      "こんにちは。私はパイソンです。\n"
     ]
    }
   ],
   "source": [
    "# var4.py\n",
    "# 「+」演算子を使う、文字列と文字列を連結する\n",
    "w = \"こんにちは。\" + \"私はパイソンです。\"\n",
    "print(w)"
   ]
  },
  {
   "cell_type": "code",
   "execution_count": 5,
   "id": "8bec4509",
   "metadata": {},
   "outputs": [
    {
     "name": "stdout",
     "output_type": "stream",
     "text": [
      "15\n"
     ]
    }
   ],
   "source": [
    "# var5.py\n",
    "# 文字数を調べる(11_var4.py)\n",
    "w = \"こんにちは。\" + \"私はパイソンです。\"\n",
    "print(len(w))"
   ]
  },
  {
   "cell_type": "code",
   "execution_count": 6,
   "id": "5d920ac4",
   "metadata": {},
   "outputs": [
    {
     "name": "stdout",
     "output_type": "stream",
     "text": [
      "こ\n",
      "私はパイソン\n",
      "です。\n"
     ]
    }
   ],
   "source": [
    "# var6.py\n",
    "# 文字列の一部分を取り出す(11_var4.py)\n",
    "w = \"こんにちは。\" + \"私はパイソンです。\"\n",
    "print(w[0])  # 0番目の1文字\n",
    "print(w[6:12])  # 6番目から12番目の直前までの範囲\n",
    "print(w[-3:])  # 末尾の3番目から末尾までの範囲"
   ]
  },
  {
   "cell_type": "code",
   "execution_count": 7,
   "id": "b7e8a38d",
   "metadata": {},
   "outputs": [
    {
     "name": "stdout",
     "output_type": "stream",
     "text": [
      "こんにちは。\n",
      "私はパイソンです。\n"
     ]
    }
   ],
   "source": [
    "# var7.py\n",
    "# 文字列の途中で改行\n",
    "w = \"こんにちは。\" + \"\\n\" \"私はパイソンです。\"\n",
    "print(w)"
   ]
  },
  {
   "cell_type": "code",
   "execution_count": 8,
   "id": "ef2d5508",
   "metadata": {},
   "outputs": [
    {
     "ename": "TypeError",
     "evalue": "can only concatenate str (not \"int\") to str",
     "output_type": "error",
     "traceback": [
      "\u001b[31m---------------------------------------------------------------------------\u001b[39m",
      "\u001b[31mTypeError\u001b[39m                                 Traceback (most recent call last)",
      "\u001b[36mCell\u001b[39m\u001b[36m \u001b[39m\u001b[32mIn[8]\u001b[39m\u001b[32m, line 5\u001b[39m\n\u001b[32m      1\u001b[39m \u001b[38;5;66;03m# var8error.py\u001b[39;00m\n\u001b[32m      2\u001b[39m \u001b[38;5;66;03m# データ型を変換する\u001b[39;00m\n\u001b[32m      3\u001b[39m \u001b[38;5;66;03m# 文字列\"100\"と、整数23の足し算、エラー確認\u001b[39;00m\n\u001b[32m      4\u001b[39m a = \u001b[33m\"\u001b[39m\u001b[33m100\u001b[39m\u001b[33m\"\u001b[39m\n\u001b[32m----> \u001b[39m\u001b[32m5\u001b[39m \u001b[38;5;28mprint\u001b[39m(\u001b[43ma\u001b[49m\u001b[43m \u001b[49m\u001b[43m+\u001b[49m\u001b[43m \u001b[49m\u001b[32;43m23\u001b[39;49m)\n",
      "\u001b[31mTypeError\u001b[39m: can only concatenate str (not \"int\") to str"
     ]
    }
   ],
   "source": [
    "# var8error.py\n",
    "# データ型を変換する\n",
    "# 文字列\"100\"と、整数23の足し算、エラー確認\n",
    "a = \"100\"\n",
    "print(a + 23)"
   ]
  },
  {
   "cell_type": "code",
   "execution_count": 9,
   "id": "4260950b",
   "metadata": {},
   "outputs": [
    {
     "name": "stdout",
     "output_type": "stream",
     "text": [
      "123\n"
     ]
    }
   ],
   "source": [
    "# var8.py\n",
    "# データ型を変換する\n",
    "# 文字列\"100\"と、整数23の足し算、エラー確認\n",
    "a = \"100\"\n",
    "print(int(a) + 23)"
   ]
  },
  {
   "cell_type": "code",
   "execution_count": 10,
   "id": "f664e4e0",
   "metadata": {},
   "outputs": [
    {
     "ename": "ValueError",
     "evalue": "invalid literal for int() with base 10: 'こんにちは'",
     "output_type": "error",
     "traceback": [
      "\u001b[31m---------------------------------------------------------------------------\u001b[39m",
      "\u001b[31mValueError\u001b[39m                                Traceback (most recent call last)",
      "\u001b[36mCell\u001b[39m\u001b[36m \u001b[39m\u001b[32mIn[10]\u001b[39m\u001b[32m, line 4\u001b[39m\n\u001b[32m      1\u001b[39m \u001b[38;5;66;03m# test.py\u001b[39;00m\n\u001b[32m      2\u001b[39m \u001b[38;5;66;03m# ”こんにちは”と、整数の足し算、エラー確認\u001b[39;00m\n\u001b[32m      3\u001b[39m b = \u001b[33m\"\u001b[39m\u001b[33mこんにちは\u001b[39m\u001b[33m\"\u001b[39m\n\u001b[32m----> \u001b[39m\u001b[32m4\u001b[39m \u001b[38;5;28mprint\u001b[39m(\u001b[38;5;28;43mint\u001b[39;49m\u001b[43m(\u001b[49m\u001b[43mb\u001b[49m\u001b[43m)\u001b[49m + \u001b[32m23\u001b[39m)\n",
      "\u001b[31mValueError\u001b[39m: invalid literal for int() with base 10: 'こんにちは'"
     ]
    }
   ],
   "source": [
    "# test.py\n",
    "# ”こんにちは”と、整数の足し算、エラー確認\n",
    "b = \"こんにちは\"\n",
    "print(int(b) + 23)"
   ]
  },
  {
   "cell_type": "code",
   "execution_count": 11,
   "id": "649569fa",
   "metadata": {},
   "outputs": [
    {
     "name": "stdout",
     "output_type": "stream",
     "text": [
      "True\n",
      "False\n"
     ]
    }
   ],
   "source": [
    "# test2.py\n",
    "a = \"100\"\n",
    "b = \"こんにちは\"\n",
    "print(a.isdigit())\n",
    "print(b.isdigit())"
   ]
  },
  {
   "cell_type": "code",
   "execution_count": 12,
   "id": "1802bf86",
   "metadata": {},
   "outputs": [
    {
     "name": "stdout",
     "output_type": "stream",
     "text": [
      "数値じゃないよ\n"
     ]
    }
   ],
   "source": [
    "# var9.py\n",
    "# ”こんにちは”と、整数23の足し算、エラーハンドリング\n",
    "b = \"こんにちは\"\n",
    "if b.isdigit():\n",
    "    print(int(b) + 23)\n",
    "else:\n",
    "    print(\"数値じゃないよ\")"
   ]
  },
  {
   "cell_type": "code",
   "execution_count": 13,
   "id": "78027ce8",
   "metadata": {},
   "outputs": [
    {
     "name": "stdout",
     "output_type": "stream",
     "text": [
      "ハンバーガー\n"
     ]
    }
   ],
   "source": [
    "# list.py\n",
    "# ランチメニューのリストを作って、3番目の要素を表示する\n",
    "lunch = [\"おにぎり\", \"パスタ\", \"ハンバーガー\", \"カレー\", \"定食\"]\n",
    "print(lunch[2])"
   ]
  },
  {
   "cell_type": "code",
   "execution_count": 14,
   "id": "3b076652",
   "metadata": {},
   "outputs": [
    {
     "name": "stdout",
     "output_type": "stream",
     "text": [
      "末吉\n"
     ]
    }
   ],
   "source": [
    "# omikujiB.py\n",
    "# おみくじプログラム(02_omikuji.py)\n",
    "# 実行するたびに違った結果が表示、要素を追加\n",
    "import random\n",
    "\n",
    "kuji = [\"大吉\", \"中吉\", \"小吉\", \"凶\", \"半吉\", \"末吉\", \"大凶\", \"大大吉\"]\n",
    "print(random.choice(kuji))"
   ]
  },
  {
   "cell_type": "code",
   "execution_count": 15,
   "id": "c35dfa5c",
   "metadata": {},
   "outputs": [],
   "source": [
    "# turtle3B.py\n",
    "# タートルグラフィックス\n",
    "# まっすぐ進んで、「左に144度曲がる」という行動を5回くり返して、星を描くプログラム\n",
    "from turtle import *\n",
    "\n",
    "shape(\"turtle\")\n",
    "col = [\"orange\", \"limegreen\", \"gold\", \"plum\", \"tomato\"]\n",
    "for i in range(5):\n",
    "    color(col[i])\n",
    "    forward(200)\n",
    "    left(144)\n",
    "done()"
   ]
  },
  {
   "cell_type": "code",
   "execution_count": 16,
   "id": "52925e18",
   "metadata": {},
   "outputs": [
    {
     "name": "stdout",
     "output_type": "stream",
     "text": [
      "やったね！\n",
      "次もこの調子だ\n"
     ]
    }
   ],
   "source": [
    "# if1.py\n",
    "# もしもscore80点以上だったら、”やったね！次もこの調子だ”と表示されるプログラム\n",
    "# score = 90\n",
    "score = 90\n",
    "if score >= 80:\n",
    "    print(\"やったね！\")\n",
    "    print(\"次もこの調子だ\")\n",
    "#\n",
    "#   print(\"やったね！\" + \"\\n\" \"次もこの調子だ\")"
   ]
  },
  {
   "cell_type": "code",
   "execution_count": 17,
   "id": "4313185e",
   "metadata": {},
   "outputs": [
    {
     "name": "stdout",
     "output_type": "stream",
     "text": [
      "残念でした\n"
     ]
    }
   ],
   "source": [
    "# if2.py\n",
    "# もしもscore80点以上だったら、”やったね！次もこの調子だ”と表示されるプログラム\n",
    "# score = 90\n",
    "score = 60\n",
    "if score >= 80:\n",
    "    print(\"やったね！\")\n",
    "    print(\"次もこの調子だ\")\n",
    "#\n",
    "#   print(\"やったね！\" + \"\\n\" \"次もこの調子だ\")\n",
    "else:\n",
    "    print(\"残念でした\")"
   ]
  },
  {
   "cell_type": "code",
   "execution_count": 18,
   "id": "545dd058",
   "metadata": {},
   "outputs": [
    {
     "name": "stdout",
     "output_type": "stream",
     "text": [
      "5 x 0 = 0\n",
      "5 x 1 = 5\n",
      "5 x 2 = 10\n",
      "5 x 3 = 15\n",
      "5 x 4 = 20\n",
      "5 x 5 = 25\n",
      "5 x 6 = 30\n",
      "5 x 7 = 35\n",
      "5 x 8 = 40\n",
      "5 x 9 = 45\n"
     ]
    }
   ],
   "source": [
    "# for1.py\n",
    "# 5x0〜5x9の10個のかけ算をするプログラム\n",
    "for i in range(10):\n",
    "    print(5, \"x\", i, \"=\", 5 * i)"
   ]
  },
  {
   "cell_type": "code",
   "execution_count": 19,
   "id": "30d5d998",
   "metadata": {},
   "outputs": [
    {
     "name": "stdout",
     "output_type": "stream",
     "text": [
      "64\n",
      "100\n",
      "78\n",
      "80\n",
      "72\n"
     ]
    }
   ],
   "source": [
    "# for2.py\n",
    "# scorelistの中身が順番に表示\n",
    "scorelist = [64, 100, 78, 80, 72]\n",
    "for i in scorelist:\n",
    "    print(i)"
   ]
  },
  {
   "cell_type": "code",
   "execution_count": 20,
   "id": "8dd5f871",
   "metadata": {},
   "outputs": [
    {
     "name": "stdout",
     "output_type": "stream",
     "text": [
      "394\n"
     ]
    }
   ],
   "source": [
    "# for3.py\n",
    "# scorelistの中身が順番に表示\n",
    "scorelist = [64, 100, 78, 80, 72]\n",
    "total = 0\n",
    "for i in scorelist:\n",
    "    total = total + i\n",
    "#    print([i])\n",
    "print(total)"
   ]
  },
  {
   "cell_type": "code",
   "execution_count": 21,
   "id": "4493329f",
   "metadata": {},
   "outputs": [
    {
     "name": "stdout",
     "output_type": "stream",
     "text": [
      "0 x 0 = 0\n",
      "1 x 0 = 0\n",
      "2 x 0 = 0\n",
      "3 x 0 = 0\n",
      "4 x 0 = 0\n",
      "5 x 0 = 0\n",
      "6 x 0 = 0\n",
      "7 x 0 = 0\n",
      "8 x 0 = 0\n",
      "9 x 0 = 0\n",
      "0 x 1 = 0\n",
      "1 x 1 = 1\n",
      "2 x 1 = 2\n",
      "3 x 1 = 3\n",
      "4 x 1 = 4\n",
      "5 x 1 = 5\n",
      "6 x 1 = 6\n",
      "7 x 1 = 7\n",
      "8 x 1 = 8\n",
      "9 x 1 = 9\n",
      "0 x 2 = 0\n",
      "1 x 2 = 2\n",
      "2 x 2 = 4\n",
      "3 x 2 = 6\n",
      "4 x 2 = 8\n",
      "5 x 2 = 10\n",
      "6 x 2 = 12\n",
      "7 x 2 = 14\n",
      "8 x 2 = 16\n",
      "9 x 2 = 18\n",
      "0 x 3 = 0\n",
      "1 x 3 = 3\n",
      "2 x 3 = 6\n",
      "3 x 3 = 9\n",
      "4 x 3 = 12\n",
      "5 x 3 = 15\n",
      "6 x 3 = 18\n",
      "7 x 3 = 21\n",
      "8 x 3 = 24\n",
      "9 x 3 = 27\n",
      "0 x 4 = 0\n",
      "1 x 4 = 4\n",
      "2 x 4 = 8\n",
      "3 x 4 = 12\n",
      "4 x 4 = 16\n",
      "5 x 4 = 20\n",
      "6 x 4 = 24\n",
      "7 x 4 = 28\n",
      "8 x 4 = 32\n",
      "9 x 4 = 36\n",
      "0 x 5 = 0\n",
      "1 x 5 = 5\n",
      "2 x 5 = 10\n",
      "3 x 5 = 15\n",
      "4 x 5 = 20\n",
      "5 x 5 = 25\n",
      "6 x 5 = 30\n",
      "7 x 5 = 35\n",
      "8 x 5 = 40\n",
      "9 x 5 = 45\n",
      "0 x 6 = 0\n",
      "1 x 6 = 6\n",
      "2 x 6 = 12\n",
      "3 x 6 = 18\n",
      "4 x 6 = 24\n",
      "5 x 6 = 30\n",
      "6 x 6 = 36\n",
      "7 x 6 = 42\n",
      "8 x 6 = 48\n",
      "9 x 6 = 54\n",
      "0 x 7 = 0\n",
      "1 x 7 = 7\n",
      "2 x 7 = 14\n",
      "3 x 7 = 21\n",
      "4 x 7 = 28\n",
      "5 x 7 = 35\n",
      "6 x 7 = 42\n",
      "7 x 7 = 49\n",
      "8 x 7 = 56\n",
      "9 x 7 = 63\n",
      "0 x 8 = 0\n",
      "1 x 8 = 8\n",
      "2 x 8 = 16\n",
      "3 x 8 = 24\n",
      "4 x 8 = 32\n",
      "5 x 8 = 40\n",
      "6 x 8 = 48\n",
      "7 x 8 = 56\n",
      "8 x 8 = 64\n",
      "9 x 8 = 72\n",
      "0 x 9 = 0\n",
      "1 x 9 = 9\n",
      "2 x 9 = 18\n",
      "3 x 9 = 27\n",
      "4 x 9 = 36\n",
      "5 x 9 = 45\n",
      "6 x 9 = 54\n",
      "7 x 9 = 63\n",
      "8 x 9 = 72\n",
      "9 x 9 = 81\n"
     ]
    }
   ],
   "source": [
    "# for4.py\n",
    "# 5x0〜5x9の10個のかけ算をするプログラム\n",
    "for i in range(10):\n",
    "    for j in range(10):\n",
    "        print(j, \"x\", i, \"=\", j * i)"
   ]
  },
  {
   "cell_type": "code",
   "execution_count": 22,
   "id": "bb4a081f",
   "metadata": {},
   "outputs": [
    {
     "name": "stdout",
     "output_type": "stream",
     "text": [
      "こんにちは\n",
      "こんにちは\n",
      "こんにちは\n"
     ]
    }
   ],
   "source": [
    "# def1.py\n",
    "# 関数を使う\n",
    "# def sayhello():\n",
    "#    print(\"こんにちは\")\n",
    "#\n",
    "def sayhello():\n",
    "    print(\"こんにちは\")\n",
    "\n",
    "\n",
    "sayhello()\n",
    "sayhello()\n",
    "sayhello()"
   ]
  },
  {
   "cell_type": "code",
   "execution_count": 23,
   "id": "0dc4e149",
   "metadata": {},
   "outputs": [
    {
     "name": "stdout",
     "output_type": "stream",
     "text": [
      "120 * 1.1 = 132.0\n",
      "132.0 円\n",
      "128 * 1.1 = 140.8\n",
      "140.8 円\n",
      "980 * 1.1 = 1078.0\n",
      "1078.0 円\n"
     ]
    }
   ],
   "source": [
    "# def2.py\n",
    "# 商品の本体価格を渡すと、消費税計算を行い、消費税込みの金額がわかる関数\n",
    "def postTaxPrice(price):\n",
    "    ans = price * 1.1\n",
    "    print(str(price) + \" * 1.1 = \" + str(ans))\n",
    "    return ans\n",
    "\n",
    "\n",
    "print(postTaxPrice(120), \"円\")\n",
    "print(postTaxPrice(128), \"円\")\n",
    "print(postTaxPrice(980), \"円\")"
   ]
  },
  {
   "cell_type": "code",
   "execution_count": 24,
   "id": "ba41558a",
   "metadata": {},
   "outputs": [
    {
     "name": "stdout",
     "output_type": "stream",
     "text": [
      "こんにちは、フタバさん。\n"
     ]
    }
   ],
   "source": [
    "# def3.py\n",
    "# 引数だけある関数\n",
    "def sayhello2(name):\n",
    "\n",
    "    print(\"こんにちは、\" + name + \"さん。\")\n",
    "\n",
    "\n",
    "sayhello2(\"フタバ\")"
   ]
  },
  {
   "cell_type": "code",
   "execution_count": 25,
   "id": "489f6eeb",
   "metadata": {},
   "outputs": [
    {
     "name": "stdout",
     "output_type": "stream",
     "text": [
      "結果は 凶 です\n"
     ]
    }
   ],
   "source": [
    "# def4.py\n",
    "# 戻り値だけある関数\n",
    "import random\n",
    "\n",
    "\n",
    "def omikuji():\n",
    "    kuji = [\"大吉\", \"中吉\", \"小吉\", \"凶\"]\n",
    "    return random.choice(kuji)\n",
    "\n",
    "\n",
    "kekka = omikuji()\n",
    "print(\"結果は\", kekka, \"です\")"
   ]
  },
  {
   "cell_type": "code",
   "execution_count": 26,
   "id": "98db6386",
   "metadata": {},
   "outputs": [],
   "source": [
    "# tax.py\n",
    "# モジュールの作成\n",
    "def postTaxPrice(price):\n",
    "    ans = price * 1.1\n",
    "    print(\"str(price)\" + \"* 1.1 = \" + str(ans))\n",
    "\n",
    "    return ans"
   ]
  },
  {
   "cell_type": "code",
   "execution_count": 27,
   "id": "adf9de1a",
   "metadata": {},
   "outputs": [
    {
     "name": "stdout",
     "output_type": "stream",
     "text": [
      "str(price)* 1.1 = 132.0\n",
      "132.0 円\n",
      "str(price)* 1.1 = 140.8\n",
      "140.8 円\n",
      "str(price)* 1.1 = 1078.0\n",
      "1078.0 円\n"
     ]
    }
   ],
   "source": [
    "# import1.py\n",
    "# モジュールを読み込んで動かすプログラム\n",
    "# import tax\n",
    "import tax\n",
    "\n",
    "print(tax.postTaxPrice(120), \"円\")\n",
    "print(tax.postTaxPrice(128), \"円\")\n",
    "print(tax.postTaxPrice(980), \"円\")"
   ]
  },
  {
   "cell_type": "code",
   "execution_count": 28,
   "id": "316408fd",
   "metadata": {},
   "outputs": [
    {
     "name": "stdout",
     "output_type": "stream",
     "text": [
      "str(price)* 1.1 = 110.00000000000001\n",
      "110.00000000000001 円\n",
      "str(price)* 1.1 = 140.8\n",
      "140.8 円\n",
      "str(price)* 1.1 = 1078.0\n",
      "1078.0 円\n"
     ]
    }
   ],
   "source": [
    "# import2.py\n",
    "# サンプルファイル\n",
    "from tax import *\n",
    "\n",
    "print(postTaxPrice(100), \"円\")\n",
    "print(postTaxPrice(128), \"円\")\n",
    "print(postTaxPrice(980), \"円\")"
   ]
  },
  {
   "cell_type": "code",
   "execution_count": 29,
   "id": "03322623",
   "metadata": {},
   "outputs": [
    {
     "name": "stdout",
     "output_type": "stream",
     "text": [
      "   December 2022\n",
      "Mo Tu We Th Fr Sa Su\n",
      "          1  2  3  4\n",
      " 5  6  7  8  9 10 11\n",
      "12 13 14 15 16 17 18\n",
      "19 20 21 22 23 24 25\n",
      "26 27 28 29 30 31\n",
      "\n"
     ]
    }
   ],
   "source": [
    "# decenber.py\n",
    "# 12月のカレンダー表示\n",
    "import calendar\n",
    "\n",
    "print(calendar.month(2022, 12))"
   ]
  },
  {
   "cell_type": "code",
   "execution_count": 30,
   "id": "348b1b7d",
   "metadata": {},
   "outputs": [
    {
     "name": "stdout",
     "output_type": "stream",
     "text": [
      "   December 2025\n",
      "Mo Tu We Th Fr Sa Su\n",
      " 1  2  3  4  5  6  7\n",
      " 8  9 10 11 12 13 14\n",
      "15 16 17 18 19 20 21\n",
      "22 23 24 25 26 27 28\n",
      "29 30 31\n",
      "\n"
     ]
    }
   ],
   "source": [
    "# decenber2.py\n",
    "# 12月のカレンダー表示\n",
    "import calendar\n",
    "\n",
    "print(calendar.month(2025, 12))"
   ]
  }
 ],
 "metadata": {
  "kernelspec": {
   "display_name": "venv",
   "language": "python",
   "name": "python3"
  },
  "language_info": {
   "codemirror_mode": {
    "name": "ipython",
    "version": 3
   },
   "file_extension": ".py",
   "mimetype": "text/x-python",
   "name": "python",
   "nbconvert_exporter": "python",
   "pygments_lexer": "ipython3",
   "version": "3.13.3"
  }
 },
 "nbformat": 4,
 "nbformat_minor": 5
}
