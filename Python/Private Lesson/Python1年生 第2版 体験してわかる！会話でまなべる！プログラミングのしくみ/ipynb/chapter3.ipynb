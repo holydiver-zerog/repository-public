{
 "cells": [
  {
   "cell_type": "code",
   "execution_count": null,
   "id": "ef8a79ae",
   "metadata": {},
   "outputs": [],
   "source": [
    "# var1.py\n",
    "# 変数に値を入れて、表示\n",
    "a = 10\n",
    "print(a)"
   ]
  },
  {
   "cell_type": "code",
   "execution_count": null,
   "id": "671c9ebe",
   "metadata": {},
   "outputs": [],
   "source": [
    "# var2.py\n",
    "h = 1.72\n",
    "w = 53\n",
    "bmi = w / (h * h)\n",
    "print(bmi)"
   ]
  },
  {
   "cell_type": "code",
   "execution_count": null,
   "id": "e7f01ff8",
   "metadata": {},
   "outputs": [],
   "source": [
    "# var3.py\n",
    "# データ型で変数を作成\n",
    "i = 100\n",
    "f = 12.3\n",
    "w = \"hello\"\n",
    "b = True\n",
    "print(i, f, w, b)"
   ]
  },
  {
   "cell_type": "code",
   "execution_count": null,
   "id": "7fdd9afb",
   "metadata": {},
   "outputs": [],
   "source": [
    "# var4.py\n",
    "# 「+」演算子を使う、文字列と文字列を連結する\n",
    "w = \"こんにちは。\" + \"私はパイソンです。\"\n",
    "print(w)"
   ]
  },
  {
   "cell_type": "code",
   "execution_count": null,
   "id": "8bec4509",
   "metadata": {},
   "outputs": [],
   "source": [
    "# var5.py\n",
    "# 文字数を調べる(11_var4.py)\n",
    "w = \"こんにちは。\" + \"私はパイソンです。\"\n",
    "print(len(w))"
   ]
  },
  {
   "cell_type": "code",
   "execution_count": null,
   "id": "5d920ac4",
   "metadata": {},
   "outputs": [],
   "source": [
    "# var6.py\n",
    "# 文字列の一部分を取り出す(11_var4.py)\n",
    "w = \"こんにちは。\" + \"私はパイソンです。\"\n",
    "print(w[0])  # 0番目の1文字\n",
    "print(w[6:12])  # 6番目から12番目の直前までの範囲\n",
    "print(w[-3:])  # 末尾の3番目から末尾までの範囲"
   ]
  },
  {
   "cell_type": "code",
   "execution_count": null,
   "id": "b7e8a38d",
   "metadata": {},
   "outputs": [],
   "source": [
    "# var7.py\n",
    "# 文字列の途中で改行\n",
    "w = \"こんにちは。\" + \"\\n\" \"私はパイソンです。\"\n",
    "print(w)"
   ]
  },
  {
   "cell_type": "code",
   "execution_count": null,
   "id": "ef2d5508",
   "metadata": {},
   "outputs": [],
   "source": [
    "# var8error.py\n",
    "# データ型を変換する\n",
    "# 文字列\"100\"と、整数23の足し算、エラー確認\n",
    "a = \"100\"\n",
    "print(a + 23)"
   ]
  },
  {
   "cell_type": "code",
   "execution_count": null,
   "id": "4260950b",
   "metadata": {},
   "outputs": [],
   "source": [
    "# var8.py\n",
    "# データ型を変換する\n",
    "# 文字列\"100\"と、整数23の足し算、エラー確認\n",
    "a = \"100\"\n",
    "print(int(a) + 23)"
   ]
  },
  {
   "cell_type": "code",
   "execution_count": null,
   "id": "f664e4e0",
   "metadata": {},
   "outputs": [],
   "source": [
    "# test.py\n",
    "# ”こんにちは”と、整数の足し算、エラー確認\n",
    "b = \"こんにちは\"\n",
    "print(int(b) + 23)"
   ]
  },
  {
   "cell_type": "code",
   "execution_count": null,
   "id": "649569fa",
   "metadata": {},
   "outputs": [],
   "source": [
    "# test2.py\n",
    "a = \"100\"\n",
    "b = \"こんにちは\"\n",
    "print(a.isdigit())\n",
    "print(b.isdigit())"
   ]
  },
  {
   "cell_type": "code",
   "execution_count": null,
   "id": "1802bf86",
   "metadata": {},
   "outputs": [],
   "source": [
    "# var9.py\n",
    "# ”こんにちは”と、整数23の足し算、エラーハンドリング\n",
    "b = \"こんにちは\"\n",
    "if b.isdigit():\n",
    "    print(int(b) + 23)\n",
    "else:\n",
    "    print(\"数値じゃないよ\")"
   ]
  },
  {
   "cell_type": "code",
   "execution_count": null,
   "id": "78027ce8",
   "metadata": {},
   "outputs": [],
   "source": [
    "# list.py\n",
    "# ランチメニューのリストを作って、3番目の要素を表示する\n",
    "lunch = [\"おにぎり\", \"パスタ\", \"ハンバーガー\", \"カレー\", \"定食\"]\n",
    "print(lunch[2])"
   ]
  },
  {
   "cell_type": "code",
   "execution_count": null,
   "id": "3b076652",
   "metadata": {},
   "outputs": [],
   "source": [
    "# omikujiB.py\n",
    "# おみくじプログラム(02_omikuji.py)\n",
    "# 実行するたびに違った結果が表示、要素を追加\n",
    "import random\n",
    "\n",
    "kuji = [\"大吉\", \"中吉\", \"小吉\", \"凶\", \"半吉\", \"末吉\", \"大凶\", \"大大吉\"]\n",
    "print(random.choice(kuji))"
   ]
  },
  {
   "cell_type": "code",
   "execution_count": 20,
   "id": "c35dfa5c",
   "metadata": {},
   "outputs": [],
   "source": [
    "# turtle3B.py\n",
    "# タートルグラフィックス\n",
    "# まっすぐ進んで、「左に144度曲がる」という行動を5回くり返して、星を描くプログラム\n",
    "from turtle import *\n",
    "\n",
    "shape(\"turtle\")\n",
    "col = [\"orange\", \"limegreen\", \"gold\", \"plum\", \"tomato\"]\n",
    "for i in range(5):\n",
    "    color(col[i])\n",
    "    forward(200)\n",
    "    left(144)\n",
    "done()"
   ]
  },
  {
   "cell_type": "code",
   "execution_count": null,
   "id": "52925e18",
   "metadata": {},
   "outputs": [],
   "source": [
    "# if1.py\n",
    "# もしもscore80点以上だったら、”やったね！次もこの調子だ”と表示されるプログラム\n",
    "# score = 90\n",
    "score = 90\n",
    "if score >= 80:\n",
    "    print(\"やったね！\")\n",
    "    print(\"次もこの調子だ\")\n",
    "#\n",
    "#   print(\"やったね！\" + \"\\n\" \"次もこの調子だ\")"
   ]
  },
  {
   "cell_type": "code",
   "execution_count": null,
   "id": "4313185e",
   "metadata": {},
   "outputs": [],
   "source": [
    "# if2.py\n",
    "# もしもscore80点以上だったら、”やったね！次もこの調子だ”と表示されるプログラム\n",
    "# score = 90\n",
    "score = 60\n",
    "if score >= 80:\n",
    "    print(\"やったね！\")\n",
    "    print(\"次もこの調子だ\")\n",
    "#\n",
    "#   print(\"やったね！\" + \"\\n\" \"次もこの調子だ\")\n",
    "else:\n",
    "    print(\"残念でした\")"
   ]
  },
  {
   "cell_type": "code",
   "execution_count": null,
   "id": "545dd058",
   "metadata": {},
   "outputs": [],
   "source": [
    "# for1.py\n",
    "# 5x0〜5x9の10個のかけ算をするプログラム\n",
    "for i in range(10):\n",
    "    print(5, \"x\", i, \"=\", 5 * i)"
   ]
  },
  {
   "cell_type": "code",
   "execution_count": null,
   "id": "30d5d998",
   "metadata": {},
   "outputs": [],
   "source": [
    "# for2.py\n",
    "# scorelistの中身が順番に表示\n",
    "scorelist = [64, 100, 78, 80, 72]\n",
    "for i in scorelist:\n",
    "    print(i)"
   ]
  },
  {
   "cell_type": "code",
   "execution_count": null,
   "id": "8dd5f871",
   "metadata": {},
   "outputs": [],
   "source": [
    "# for3.py\n",
    "# scorelistの中身が順番に表示\n",
    "scorelist = [64, 100, 78, 80, 72]\n",
    "total = 0\n",
    "for i in scorelist:\n",
    "    total = total + i\n",
    "#    print([i])\n",
    "print(total)"
   ]
  },
  {
   "cell_type": "code",
   "execution_count": null,
   "id": "4493329f",
   "metadata": {},
   "outputs": [],
   "source": [
    "# for4.py\n",
    "# 5x0〜5x9の10個のかけ算をするプログラム\n",
    "for i in range(10):\n",
    "    for j in range(10):\n",
    "        print(j, \"x\", i, \"=\", j * i)"
   ]
  },
  {
   "cell_type": "code",
   "execution_count": null,
   "id": "bb4a081f",
   "metadata": {},
   "outputs": [],
   "source": [
    "# def1.py\n",
    "# 関数を使う\n",
    "# def sayhello():\n",
    "#    print(\"こんにちは\")\n",
    "#\n",
    "def sayhello():\n",
    "    print(\"こんにちは\")\n",
    "\n",
    "\n",
    "sayhello()\n",
    "sayhello()\n",
    "sayhello()"
   ]
  },
  {
   "cell_type": "code",
   "execution_count": null,
   "id": "0dc4e149",
   "metadata": {},
   "outputs": [],
   "source": [
    "# def2.py\n",
    "# 商品の本体価格を渡すと、消費税計算を行い、消費税込みの金額がわかる関数\n",
    "def postTaxPrice(price):\n",
    "    ans = price * 1.1\n",
    "    print(str(price) + \" * 1.1 = \" + str(ans))\n",
    "    return ans\n",
    "\n",
    "\n",
    "print(postTaxPrice(120), \"円\")\n",
    "print(postTaxPrice(128), \"円\")\n",
    "print(postTaxPrice(980), \"円\")"
   ]
  },
  {
   "cell_type": "code",
   "execution_count": null,
   "id": "ba41558a",
   "metadata": {},
   "outputs": [],
   "source": [
    "# def3.py\n",
    "# 引数だけある関数\n",
    "def sayhello2(name):\n",
    "\n",
    "    print(\"こんにちは、\" + name + \"さん。\")\n",
    "\n",
    "\n",
    "sayhello2(\"フタバ\")"
   ]
  },
  {
   "cell_type": "code",
   "execution_count": null,
   "id": "489f6eeb",
   "metadata": {},
   "outputs": [],
   "source": [
    "# def4.py\n",
    "# 戻り値だけある関数\n",
    "import random\n",
    "\n",
    "\n",
    "def omikuji():\n",
    "    kuji = [\"大吉\", \"中吉\", \"小吉\", \"凶\"]\n",
    "    return random.choice(kuji)\n",
    "\n",
    "\n",
    "kekka = omikuji()\n",
    "print(\"結果は\", kekka, \"です\")"
   ]
  },
  {
   "cell_type": "code",
   "execution_count": 38,
   "id": "98db6386",
   "metadata": {},
   "outputs": [],
   "source": [
    "# tax.py\n",
    "# モジュールの作成\n",
    "def postTaxPrice(price):\n",
    "    ans = price * 1.1\n",
    "    print(\"str(price)\" + \"* 1.1 = \" + str(ans))\n",
    "\n",
    "    return ans"
   ]
  },
  {
   "cell_type": "code",
   "execution_count": null,
   "id": "adf9de1a",
   "metadata": {},
   "outputs": [],
   "source": [
    "# import1.py\n",
    "# モジュールを読み込んで動かすプログラム\n",
    "# import tax\n",
    "import tax\n",
    "\n",
    "print(tax.postTaxPrice(120), \"円\")\n",
    "print(tax.postTaxPrice(128), \"円\")\n",
    "print(tax.postTaxPrice(980), \"円\")"
   ]
  },
  {
   "cell_type": "code",
   "execution_count": null,
   "id": "316408fd",
   "metadata": {},
   "outputs": [],
   "source": [
    "# import2.py\n",
    "# サンプルファイル\n",
    "from tax import *\n",
    "\n",
    "print(postTaxPrice(100), \"円\")\n",
    "print(postTaxPrice(128), \"円\")\n",
    "print(postTaxPrice(980), \"円\")"
   ]
  },
  {
   "cell_type": "code",
   "execution_count": null,
   "id": "03322623",
   "metadata": {},
   "outputs": [],
   "source": [
    "# decenber.py\n",
    "# 12月のカレンダー表示\n",
    "import calendar\n",
    "\n",
    "print(calendar.month(2022, 12))"
   ]
  },
  {
   "cell_type": "code",
   "execution_count": null,
   "id": "348b1b7d",
   "metadata": {},
   "outputs": [],
   "source": [
    "# decenber2.py\n",
    "# 12月のカレンダー表示\n",
    "import calendar\n",
    "\n",
    "print(calendar.month(2025, 12))"
   ]
  }
 ],
 "metadata": {
  "kernelspec": {
   "display_name": "Python 3",
   "language": "python",
   "name": "python3"
  },
  "language_info": {
   "codemirror_mode": {
    "name": "ipython",
    "version": 3
   },
   "file_extension": ".py",
   "mimetype": "text/x-python",
   "name": "python",
   "nbconvert_exporter": "python",
   "pygments_lexer": "ipython3",
   "version": "3.13.3"
  }
 },
 "nbformat": 4,
 "nbformat_minor": 5
}
