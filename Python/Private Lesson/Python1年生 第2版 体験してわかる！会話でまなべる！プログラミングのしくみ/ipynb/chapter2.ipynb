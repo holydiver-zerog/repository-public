{
 "cells": [
  {
   "cell_type": "code",
   "execution_count": null,
   "id": "ef8a79ae",
   "metadata": {},
   "outputs": [],
   "source": [
    "# hello.py\n",
    "# あいさつプログラム\n",
    "print(\"こんにちは、フタバさん。\")\n",
    "print(\"今日はいい天気ですね。\")"
   ]
  },
  {
   "cell_type": "code",
   "execution_count": null,
   "id": "671c9ebe",
   "metadata": {},
   "outputs": [],
   "source": [
    "# omikuji.py\n",
    "# おみくじプログラム\n",
    "# 実行するたびに違った結果が表示\n",
    "import random\n",
    "\n",
    "kuji = [\"大吉\", \"中吉\", \"小吉\", \"凶\"]\n",
    "print(random.choice(kuji))"
   ]
  },
  {
   "cell_type": "code",
   "execution_count": null,
   "id": "e7f01ff8",
   "metadata": {},
   "outputs": [],
   "source": [
    "# bmi.py\n",
    "# 身長と体重を入力すると、肥満度指数のBMI値を計算してくれるプログラム\n",
    "h = float(input(\"身長何cmですか？\")) / 100.0\n",
    "w = float(input(\"体重何kgですか？\"))\n",
    "bmi = w / (h * h)\n",
    "print(\"あなたのBMI値は,\", bmi, \"です\")"
   ]
  },
  {
   "cell_type": "code",
   "execution_count": 5,
   "id": "7fdd9afb",
   "metadata": {},
   "outputs": [],
   "source": [
    "# turtle1.py\n",
    "# タートルグラフィックス\n",
    "# カメをまっすく進めて「直線」を表示するプログラム\n",
    "from turtle import *\n",
    "\n",
    "shape(\"turtle\")\n",
    "forward(100)\n",
    "done()"
   ]
  },
  {
   "cell_type": "code",
   "execution_count": 7,
   "id": "8bec4509",
   "metadata": {},
   "outputs": [],
   "source": [
    "# turtle2.py\n",
    "# タートルグラフィックス\n",
    "# まっすぐ進んで、「左に90度曲がる」という行動を4回くり返して、正方形を描くプログラム\n",
    "from turtle import *\n",
    "\n",
    "shape(\"turtle\")\n",
    "for i in range(4):\n",
    "    forward(100)\n",
    "    left(90)\n",
    "done()"
   ]
  },
  {
   "cell_type": "code",
   "execution_count": 9,
   "id": "5d920ac4",
   "metadata": {},
   "outputs": [],
   "source": [
    "# turtle3.py\n",
    "# タートルグラフィックス\n",
    "# まっすぐ進んで、「左に144度曲がる」という行動を5回くり返して、星を描くプログラム\n",
    "from turtle import *\n",
    "\n",
    "shape(\"turtle\")\n",
    "col = [\"orange\", \"limegreen\", \"gold\", \"plum\", \"tomato\"]\n",
    "for i in range(5):\n",
    "    color(col[i])\n",
    "    forward(200)\n",
    "    left(144)\n",
    "done()"
   ]
  },
  {
   "cell_type": "code",
   "execution_count": 11,
   "id": "b7e8a38d",
   "metadata": {},
   "outputs": [],
   "source": [
    "# turtle4.py\n",
    "# タートルグラフィックス\n",
    "# くり返す中身を、「半径100の円を描いて、左に72度曲がる」という行動を5回くり返して、花を描くプログラム\n",
    "from turtle import *\n",
    "\n",
    "shape(\"turtle\")\n",
    "col = [\"orange\", \"limegreen\", \"gold\", \"plum\", \"tomato\"]\n",
    "for i in range(5):\n",
    "    color(col[i])\n",
    "    circle(100)\n",
    "    left(72)\n",
    "done()"
   ]
  }
 ],
 "metadata": {
  "kernelspec": {
   "display_name": "Python 3",
   "language": "python",
   "name": "python3"
  },
  "language_info": {
   "codemirror_mode": {
    "name": "ipython",
    "version": 3
   },
   "file_extension": ".py",
   "mimetype": "text/x-python",
   "name": "python",
   "nbconvert_exporter": "python",
   "pygments_lexer": "ipython3",
   "version": "3.13.3"
  }
 },
 "nbformat": 4,
 "nbformat_minor": 5
}
