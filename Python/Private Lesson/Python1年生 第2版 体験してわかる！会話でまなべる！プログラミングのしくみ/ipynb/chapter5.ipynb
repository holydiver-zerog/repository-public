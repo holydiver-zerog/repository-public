{
 "cells": [
  {
   "cell_type": "code",
   "execution_count": 1,
   "id": "671c9ebe",
   "metadata": {},
   "outputs": [
    {
     "name": "stdout",
     "output_type": "stream",
     "text": [
      "データの個数= 1797\n",
      "画像データ= [[ 0.  0.  5. 13.  9.  1.  0.  0.]\n",
      " [ 0.  0. 13. 15. 10. 15.  5.  0.]\n",
      " [ 0.  3. 15.  2.  0. 11.  8.  0.]\n",
      " [ 0.  4. 12.  0.  0.  8.  8.  0.]\n",
      " [ 0.  5.  8.  0.  0.  9.  8.  0.]\n",
      " [ 0.  4. 11.  0.  1. 12.  7.  0.]\n",
      " [ 0.  2. 14.  5. 10. 12.  0.  0.]\n",
      " [ 0.  0.  6. 13. 10.  0.  0.  0.]]\n",
      "何の数字か= 0\n"
     ]
    }
   ],
   "source": [
    "# digitsData1.py\n",
    "# sklearnにどんなデータが用意されているかの確認\n",
    "# データを読み込んで、そのデータを表示する、データの個数と1つ目の画像データと1つ目の数字が何なのかを表示する\n",
    "import sklearn.datasets\n",
    "\n",
    "digits = sklearn.datasets.load_digits()\n",
    "\n",
    "print(\"データの個数=\", len(digits.images))\n",
    "print(\"画像データ=\", digits.images[0])\n",
    "print(\"何の数字か=\", digits.target[0])"
   ]
  },
  {
   "cell_type": "code",
   "execution_count": 2,
   "id": "e7f01ff8",
   "metadata": {},
   "outputs": [
    {
     "data": {
      "image/png": "[encoded data removed]",
      "text/plain": [
       "<Figure size 640x480 with 1 Axes>"
      ]
     },
     "metadata": {},
     "output_type": "display_data"
    }
   ],
   "source": [
    "# digitsImage1.py\n",
    "# 数値リストを画像化\n",
    "import sklearn.datasets\n",
    "import matplotlib.pyplot as plt\n",
    "\n",
    "digits = sklearn.datasets.load_digits()\n",
    "\n",
    "plt.imshow(digits.images[0], cmap=\"Greys\")  # type: ignore # 数値データをグレーの濃淡画像にする\n",
    "plt.show()  # 作った画像を表示する"
   ]
  },
  {
   "cell_type": "code",
   "execution_count": 3,
   "id": "7fdd9afb",
   "metadata": {},
   "outputs": [
    {
     "data": {
      "image/png": "[encoded data removed]",
      "text/plain": [
       "<Figure size 640x480 with 50 Axes>"
      ]
     },
     "metadata": {},
     "output_type": "display_data"
    }
   ],
   "source": [
    "# digitsImage50.py\n",
    "# 数値リストを画像化\n",
    "import sklearn.datasets\n",
    "import matplotlib.pyplot as plt\n",
    "\n",
    "digits = sklearn.datasets.load_digits()\n",
    "\n",
    "for i in range(50):\n",
    "    plt.subplot(5, 10, i + 1)\n",
    "    plt.axis(\"off\")\n",
    "    plt.title(digits.target[i])\n",
    "    plt.imshow(digits.images[i], cmap=\"Greys\")\n",
    "plt.show()  # 作った画像を表示する"
   ]
  },
  {
   "cell_type": "code",
   "execution_count": 5,
   "id": "8bec4509",
   "metadata": {},
   "outputs": [
    {
     "name": "stdout",
     "output_type": "stream",
     "text": [
      "予測= [2]\n"
     ]
    }
   ],
   "source": [
    "# predictDigits.py\n",
    "import sklearn.datasets\n",
    "import sklearn.svm\n",
    "import PIL.Image\n",
    "import numpy\n",
    "\n",
    "\n",
    "# 画像ファイルを数値リストに変換する\n",
    "def imageToData(filename):\n",
    "    # 画像を8x8のグレースケールに変換\n",
    "    grayImage = PIL.Image.open(filename).convert(\"L\")\n",
    "    grayImage = grayImage.resize((8, 8), PIL.Image.Resampling.LANCZOS)\n",
    "    # 数値リストに変換\n",
    "    numImage = numpy.asarray(grayImage, dtype=float)\n",
    "    numImage = 16 - numpy.floor(17 * numImage / 256)\n",
    "    numImage = numImage.flatten()\n",
    "\n",
    "    return numImage\n",
    "\n",
    "\n",
    "# 数字を予測する\n",
    "def predictDigits(data):\n",
    "    # 学習用データを読み込む\n",
    "    digits = sklearn.datasets.load_digits()\n",
    "    # 機械学習する\n",
    "    clf = sklearn.svm.SVC(gamma=0.001)\n",
    "    clf.fit(digits.data, digits.target)\n",
    "    # 予測結果を表示する\n",
    "    n = clf.predict([data])\n",
    "    print(\"予測=\", n)\n",
    "\n",
    "\n",
    "# 画像ファイルを数値リストに変換する\n",
    "data = imageToData(\"2.png\")\n",
    "# 数字を予測する\n",
    "predictDigits(data)"
   ]
  },
  {
   "cell_type": "code",
   "execution_count": 6,
   "id": "5d920ac4",
   "metadata": {},
   "outputs": [],
   "source": [
    "# chino0.py\n",
    "import tkinter as tk\n",
    "import tkinter.filedialog as fd\n",
    "import PIL.Image\n",
    "import PIL.ImageTk\n",
    "\n",
    "\n",
    "# 画像ファイルを数値リストに変換する\n",
    "def imageToData(filename):\n",
    "    # 画像を8x8のグレースケールに変換\n",
    "    grayImage = PIL.Image.open(filename).convert(\"L\")\n",
    "    grayImage = grayImage.resize((8, 8), PIL.Image.Resampling.LANCZOS)\n",
    "    # その画像を表示する\n",
    "    dispImage = PIL.ImageTk.PhotoImage(grayImage.resize((300, 300), resample=0))\n",
    "    imageLabel.configure(image=dispImage)\n",
    "    imageLabel.image = dispImage\n",
    "\n",
    "\n",
    "# ファイルダイアログを開く\n",
    "def openFile():\n",
    "    fpath = fd.askopenfilename()\n",
    "    if fpath:\n",
    "        # 画像ファイルを数値リストに変換する\n",
    "        data = imageToData(fpath)\n",
    "\n",
    "\n",
    "# アプリのウィンドウを作る\n",
    "root = tk.Tk()\n",
    "root.geometry(\"400x400\")\n",
    "\n",
    "btn = tk.Button(root, text=\"ファイルを開く\", command=openFile)\n",
    "imageLabel = tk.Label()\n",
    "\n",
    "btn.pack()\n",
    "imageLabel.pack()\n",
    "\n",
    "tk.mainloop()"
   ]
  },
  {
   "cell_type": "code",
   "execution_count": 7,
   "id": "b7e8a38d",
   "metadata": {},
   "outputs": [],
   "source": [
    "# chino.py\n",
    "import tkinter as tk\n",
    "import tkinter.filedialog as fd\n",
    "import PIL.Image\n",
    "import PIL.ImageTk\n",
    "\n",
    "# 機械学習で使うモジュール\n",
    "import sklearn.datasets\n",
    "import sklearn.svm\n",
    "import numpy\n",
    "\n",
    "\n",
    "# 画像ファイルを数値リストに変換する\n",
    "def imageToData(filename):\n",
    "    # 画像を8x8のグレースケールに変換\n",
    "    grayImage = PIL.Image.open(filename).convert(\"L\")\n",
    "    grayImage = grayImage.resize((8, 8), PIL.Image.Resampling.LANCZOS)\n",
    "    # その画像を表示する\n",
    "    dispImage = PIL.ImageTk.PhotoImage(grayImage.resize((300, 300), resample=0))\n",
    "    imageLabel.configure(image=dispImage)\n",
    "    imageLabel.image = dispImage\n",
    "    # 数値リストに変換\n",
    "    numImage = numpy.asarray(grayImage, dtype=float)\n",
    "    numImage = 16 - numpy.floor(17 * numImage / 256)\n",
    "    numImage = numImage.flatten()\n",
    "    return numImage\n",
    "\n",
    "\n",
    "# 数字を予測する\n",
    "def predictDigits(data):\n",
    "    # 学習用データを読み込む\n",
    "    digits = sklearn.datasets.load_digits()\n",
    "    # 機械学習する\n",
    "    clf = sklearn.svm.SVC(gamma=0.001)\n",
    "    clf.fit(digits.data, digits.target)\n",
    "    # 予測結果を表示する\n",
    "    n = clf.predict([data])\n",
    "    textLabel.configure(text=\"この画像は\" + str(n) + \"です！\")\n",
    "\n",
    "\n",
    "# ファイルダイアログを開く\n",
    "def openFile():\n",
    "    fpath = fd.askopenfilename()\n",
    "    if fpath:\n",
    "        # 画像ファイルを数値リストに変換する\n",
    "        data = imageToData(fpath)\n",
    "        # 数字を予測する\n",
    "        predictDigits(data)\n",
    "\n",
    "\n",
    "# アプリのウィンドウを作る\n",
    "root = tk.Tk()\n",
    "root.geometry(\"400x400\")\n",
    "\n",
    "btn = tk.Button(root, text=\"ファイルを開く\", command=openFile)\n",
    "imageLabel = tk.Label()\n",
    "btn.pack()\n",
    "imageLabel.pack()\n",
    "\n",
    "# 予測結果を表示するラベル\n",
    "textLabel = tk.Label(text=\"手書きの数字を認識します！\")\n",
    "textLabel.pack()\n",
    "\n",
    "tk.mainloop()"
   ]
  }
 ],
 "metadata": {
  "kernelspec": {
   "display_name": "venv",
   "language": "python",
   "name": "python3"
  },
  "language_info": {
   "codemirror_mode": {
    "name": "ipython",
    "version": 3
   },
   "file_extension": ".py",
   "mimetype": "text/x-python",
   "name": "python",
   "nbconvert_exporter": "python",
   "pygments_lexer": "ipython3",
   "version": "3.13.3"
  }
 },
 "nbformat": 4,
 "nbformat_minor": 5
}
