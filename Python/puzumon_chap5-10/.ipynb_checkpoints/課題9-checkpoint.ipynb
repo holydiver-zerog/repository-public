{
 "cells": [
  {
   "cell_type": "code",
   "execution_count": 1,
   "metadata": {},
   "outputs": [
    {
     "ename": "NameError",
     "evalue": "name 'ダメージ計算を適切に行う' is not defined",
     "output_type": "error",
     "traceback": [
      "\u001b[0;31m---------------------------------------------------------------------------\u001b[0m",
      "\u001b[0;31mNameError\u001b[0m                                 Traceback (most recent call last)",
      "\u001b[0;32m<ipython-input-1-b197b16daeb2>\u001b[0m in \u001b[0;36m<module>\u001b[0;34m\u001b[0m\n\u001b[1;32m      1\u001b[0m \u001b[0;31m# 課題7との違い\u001b[0m\u001b[0;34m\u001b[0m\u001b[0;34m\u001b[0m\u001b[0;34m\u001b[0m\u001b[0m\n\u001b[0;32m----> 2\u001b[0;31m \u001b[0mダメージ計算を適切に行う\u001b[0m\u001b[0;34m\u001b[0m\u001b[0;34m\u001b[0m\u001b[0m\n\u001b[0m",
      "\u001b[0;31mNameError\u001b[0m: name 'ダメージ計算を適切に行う' is not defined"
     ]
    }
   ],
   "source": [
    "# 課題7との違い\n",
    "ダメージ計算を適切に行う"
   ]
  },
  {
   "cell_type": "code",
   "execution_count": 5,
   "metadata": {},
   "outputs": [],
   "source": [
    "import random\n",
    "\n"
   ]
  },
  {
   "cell_type": "code",
   "execution_count": null,
   "metadata": {},
   "outputs": [],
   "source": []
  },
  {
   "cell_type": "code",
   "execution_count": null,
   "metadata": {},
   "outputs": [],
   "source": [
    "# 関数宣言\n",
    "import random \n",
    "\n",
    "\n",
    "ELEMENT_SYMBOLS ={\n",
    "    '火': '$',\n",
    "    '水': '~',\n",
    "    '風': '@',\n",
    "    '土': '#',\n",
    "    '命': '&',\n",
    "    '無': ' '\n",
    "}\n",
    "ELEMENT_COLORS={\n",
    "    '火': '41',\n",
    "    '水': '44',\n",
    "    '風': '42',\n",
    "    '土': '43',\n",
    "    '命': '45',\n",
    "    '無': '47'\n",
    "}\n",
    "\n",
    "\n",
    "# 行が自分、列が相手\n",
    "# '火', '水', '風', '土', \n",
    "ELEMENT_BOOST = [\n",
    "    [1,   0.5, 2,   1], # 火\n",
    "    [2,   1,   1,  0.5], # 水\n",
    "    [0.5, 1,   1,   2], # 風\n",
    "    [1,   2,   0.5, 1]  # 土\n",
    "]\n",
    "\n",
    "\n",
    "GEM_ELEMENT = ['火', '水', '風', '土', '命'] \n",
    "COMMAND = \"ABCDEFGHIJKLMN\"\n",
    "\n",
    "def print_monster_name(monster):\n",
    "    global ELEMENT_SYMBOLS, ELEMENT_COLORS\n",
    "    element = monster['element']\n",
    "    symbol = ELEMENT_SYMBOLS[element]\n",
    "    color = ELEMENT_COLORS[element]\n",
    "\n",
    "    print(f'\\033[{color}m{symbol}{monster[\"name\"]}{symbol}\\033[0m', end='')\n",
    "\n",
    "    \n",
    "    \n",
    "def main():\n",
    "    player_name = input('プレイヤー名を入力してください>>')\n",
    "    if player_name == '':\n",
    "        print('エラー:プレイヤー名を入力してください。')\n",
    "    else:\n",
    "        print('### Puzzle & Monsters ###')\n",
    "        # 敵モンスター\n",
    "        slime = {'name':'スライム', 'hp':100, 'max_hp':100, 'element':'水', 'ap':10, 'dp':1}\n",
    "        goblin = {'name':'ゴブリン', 'hp':200, 'max_hp':200, 'element':'土', 'ap':20, 'dp':5}\n",
    "        big_bat = {'name':'オオコウモリ', 'hp':300, 'max_hp':300, 'element':'風', 'ap':30, 'dp':10}\n",
    "        wolf = {'name':'ウェアウルフ', 'hp':400, 'max_hp':400, 'element':'風', 'ap':40, 'dp':15}\n",
    "        dragon = {'name':'ドラゴン', 'hp':600, 'max_hp':600, 'element':'火', 'ap':50, 'dp':20}\n",
    "\n",
    "        #味方モンスター\n",
    "        suzaku ={'name':'朱雀', 'hp':150, 'max_hp':150, 'element':'火', 'ap':25, 'dp':10}\n",
    "        seiryu ={'name':'青龍', 'hp':150, 'max_hp':150, 'element':'風', 'ap':15, 'dp':10}\n",
    "        byakko ={'name':'白虎', 'hp':150, 'max_hp':150, 'element':'土', 'ap':20, 'dp':5}\n",
    "        genbu ={'name':'玄武', 'hp':150, 'max_hp':150, 'element':'水', 'ap':20, 'dp':15}\n",
    "\n",
    "        # global slime,goblin, big_bat,wolf, dragon\n",
    "        enemies =[slime, goblin, big_bat, wolf, dragon]\n",
    "        # global suzaku, seiryu, byakko, genbu\n",
    "        friends =[suzaku, seiryu, byakko, genbu]\n",
    "        party = organize_party(player_name,friends)\n",
    "        number = go_dungeon(party, enemies) \n",
    "        if number == 5:\n",
    "            print('### GAME CLEARED!! ###')\n",
    "        else:\n",
    "            print('### GAME OVER!! ###')\n",
    "\n",
    "        print(f'倒したモンスター数={number}')\n",
    "        \n",
    "def organize_party(player_name, friends):\n",
    "    total_hp = sum([f['hp'] for f in friends])\n",
    "    dp = [f['dp'] for f in friends]\n",
    "    dp_avg = sum(dp)/len(friends)\n",
    "    \n",
    "    party={'player_name':player_name, 'friends':friends,\n",
    "          'max_hp':total_hp, 'hp':total_hp, 'dp': dp_avg}\n",
    "    return party\n",
    "\n",
    "def show_party(party):\n",
    "    print('<パーティー編成>----------------')\n",
    "    \n",
    "    for friend in party['friends']:\n",
    "        print_monster_name(friend)\n",
    "        print(f'HP={friend[\"hp\"]} 攻撃={friend[\"ap\"]} 防御={friend[\"dp\"]}')\n",
    "    print('-----------------------------')\n",
    "\n",
    "def go_dungeon(party, enemies):\n",
    "    \n",
    "    print(f'{party[\"player_name\"]}のパーティ(HP={party[\"max_hp\"]})はダンジョンに到着した')\n",
    "    show_party(party)\n",
    "    # monsters= ['スライム', 'ゴブリン', 'オオコウモリ', 'ウェアウルフ', 'ドラゴン']\n",
    "    win_flg = 0\n",
    "    for enemy in enemies:\n",
    "        # enemy_name = enemy['name']\n",
    "        win_flg += do_battle(party, enemy)\n",
    "        if party['hp'] <= 0:\n",
    "            print(f'{party[\"player_name\"]}はダンジョンから逃げ出しました')\n",
    "            return win_flg\n",
    "        else:\n",
    "            print(f'{party[\"player_name\"]}は更に奥に進んだ')\n",
    "            print(f'=======================================')\n",
    "            \n",
    "    print(f'{party[\"player_name\"]}はダンジョンを制覇した')\n",
    "    return win_flg\n",
    "\n",
    "\n",
    "def do_battle(party, enemy):\n",
    "    enemy_name = enemy['name']\n",
    "    print_monster_name(enemy)\n",
    "    print(f'が現れた!')    \n",
    "    gems = [] # random.choices(list(ELEMENT_SYMBOLS.keys()), k=14)\n",
    "    gems = fill_gems(gems)\n",
    "    \n",
    "    battle_field ={\n",
    "        'enemy': enemy,\n",
    "        'party': party,\n",
    "        'gems':gems\n",
    "    }\n",
    "\n",
    "    while True:\n",
    "        on_player_turn(battle_field)\n",
    "        if enemy['hp'] <= 0:\n",
    "            break\n",
    "        print(\"\")\n",
    "        on_enemy_turn(party, enemy)\n",
    "        if party['hp'] <= 0:\n",
    "            print(\"パーティのHPは０になりました\")\n",
    "            return 0\n",
    "    \n",
    "    print_monster_name(enemy)\n",
    "    print(f'を倒した!')\n",
    "    \n",
    "    return 1\n",
    "\n",
    "\n",
    "\n",
    "def show_battle_field(battle_field):\n",
    "    print(\"バトルフィールド\")\n",
    "\n",
    "    enemy = battle_field['enemy']\n",
    "    party = battle_field['party']\n",
    "    print_monster_name(enemy)\n",
    "    print(f\"HP = {enemy['hp']} / {enemy['max_hp']}\")\n",
    "    print(\"    \")\n",
    "    for f in party['friends']:\n",
    "        print_monster_name(f)\n",
    "        print(\"\", end=\" \")\n",
    "    print(\"\")\n",
    "    \n",
    "    print(f\"HP = {party['hp']} / {party['max_hp']}\")\n",
    "    \n",
    "    print(\"-\"*20)\n",
    "    for c in COMMAND:\n",
    "        print(c, end=\" \")\n",
    "    print(\"\")\n",
    "    print_gems(battle_field['gems'])\n",
    "    print(\"\")\n",
    "    print(\"-\"*20)\n",
    "    \n",
    "    \n",
    "    \n",
    "\n",
    "def on_player_turn(battle_field):\n",
    "    \n",
    "    party, enemy = battle_field['party'], battle_field['enemy']\n",
    "    print(f\"【{party['player_name']}のターン(HP={party['hp']})】\")\n",
    "    \n",
    "    show_battle_field(battle_field)\n",
    "    \n",
    "    command = input(\"コマンド?>>\")\n",
    "    while not check_valid_command(command):\n",
    "        print('入力されたコマンドは不適切です')\n",
    "        command = input(\"コマンド?>>\")\n",
    "        \n",
    "    move_gem(command=command, gems=battle_field['gems'])\n",
    "    \n",
    "    evaluate_gems(battle_field, command)\n",
    "    # do_attack(enemy, command)\n",
    "\n",
    "    \n",
    "\n",
    "def on_enemy_turn(party, enemy):\n",
    "    print(f\"【{enemy['name']}のターン(HP={enemy['hp']})】\")\n",
    "        \n",
    "    do_enemy_attack(party, enemy)\n",
    "        \n",
    "\n",
    "def fill_gems(gems):\n",
    "    global ELEMENT_SYMBOLS\n",
    "    new_gems = gems[:]\n",
    "    now_gems_len = len(gems)\n",
    "    required_gems = 14 - now_gems_len\n",
    "    new_gems += [  random.choice(GEM_ELEMENT) for i in  range(required_gems)]\n",
    "    \n",
    "    \n",
    "    return new_gems\n",
    "\n",
    "\n",
    "\n",
    "def print_gems(gems):\n",
    "    gems_with_color_code = [f'\\033[{ELEMENT_COLORS[f]}m{ELEMENT_SYMBOLS[f]}\\033[0m' for f in gems]\n",
    "    for i in gems_with_color_code:\n",
    "        print(i, end=' ')\n",
    "        \n",
    "def swap_gems(gems, designated_gem_idx, direction):\n",
    "    \"\"\"\n",
    "    direction:  右なら１、　左なら−１に動かす\n",
    "    \"\"\"\n",
    "    tmp = gems[designated_gem_idx+ direction]\n",
    "    # print(tmp, designated_gem_idx)\n",
    "    gems[designated_gem_idx+direction] = gems[designated_gem_idx]\n",
    "    gems[designated_gem_idx] = tmp\n",
    "    \n",
    "def check_valid_command(command):\n",
    "    \"\"\"\n",
    "        正しいコマンドなら　True\n",
    "        不適切なコマンドなら　False\n",
    "    \"\"\"\n",
    "    if len(command) == 2:\n",
    "        if command[0] in COMMAND and command[1] in COMMAND and command[0] != command[1]:\n",
    "            return True\n",
    "        else:\n",
    "            return False\n",
    "    else:\n",
    "        return False\n",
    "    \n",
    "    \n",
    "\n",
    "\n",
    "\n",
    "def move_gem(command, gems):\n",
    "    global COMMAND\n",
    "    start_index = COMMAND.index(command[0])\n",
    "    end_index = COMMAND.index(command[1])\n",
    "\n",
    "    # start_index < end_indexと仮定\n",
    "    if start_index < end_index:\n",
    "        direc = 1\n",
    "        num = end_index - start_index\n",
    "    else:\n",
    "        direc = -1\n",
    "        num = start_index - end_index\n",
    "\n",
    "    print_gems(gems)\n",
    "    print(\"\")\n",
    "    print(\"\")\n",
    "\n",
    "\n",
    "    for i in range(0, num):\n",
    "        swap_gems(gems,start_index+(i*direc), direction= direc)\n",
    "        print_gems(gems)\n",
    "        print(\"\")\n",
    "        print(\"\")\n",
    "    # print(COMMAND[start_index+i], COMMAND[start_index+i+1])\n",
    "    \n",
    "    \n",
    "def banish_gems(battle_field, start_idx, end_idx):\n",
    "    \n",
    "    element = battle_field['gems'][start_idx]\n",
    "    for i in range(start_idx, end_idx+1):\n",
    "        battle_field['gems'][i] = '無'\n",
    "    print_gems(battle_field['gems'])\n",
    "    print(\"\")\n",
    "    \n",
    "    element_num = end_idx - start_idx\n",
    "    if element != '命':\n",
    "        do_attack(element, element_num, battle_field)\n",
    "        # do_attack(element, element_num, battle_field, commbo=1)\n",
    "    else:\n",
    "        do_recover(battle_field, element_num)\n",
    "        \n",
    "        \n",
    "def blur_damage(damage_value):\n",
    "    ten_percent = damage_value*0.1\n",
    "    return int(random.uniform(damage_value-ten_percent, damage_value+ten_percent))\n",
    "    \n",
    "def do_recover(battle_field, element_num, commbo=1):\n",
    "    value = 20 * 1.5**(element_num - 2 + commbo)\n",
    "    blur_value = blur_damage(value)\n",
    "    \n",
    "    if battle_field['party']['hp'] + blur_value < battle_field['party']['max_hp']:\n",
    "        print(f'パーティの体力は{blur_value}回復しました')\n",
    "        battle_field['party']['hp'] += blur_value\n",
    "    else:\n",
    "        recover_value = battle_field['party']['max_hp']- battle_field['party']['hp']\n",
    "        print(f'パーティの体力は{recover_value}回復しました')\n",
    "        battle_field['party']['hp'] = battle_field['party']['max_hp']\n",
    "\n",
    "def do_calc_damage(my_ap, element, element_num, enemy, commbo=1):\n",
    "    enemy_idx = GEM_ELEMENT.index(enemy['element'])\n",
    "    my_idx = GEM_ELEMENT.index(element)\n",
    "    boost = ELEMENT_BOOST[my_idx][enemy_idx]\n",
    "    damage = (my_ap - enemy['dp']) * boost *(1.5**(element_num - 3 + commbo))\n",
    "    damage = blur_damage(damage)\n",
    "    damage =  damage if damage > 0 else 1\n",
    "    return damage\n",
    "    \n",
    "    \n",
    "def do_attack(element, element_num, battle_field, commbo=1):\n",
    "    # damage = hash(command) % 50\n",
    "    enemy = battle_field['enemy']\n",
    "    party = battle_field['party'] # ['friend']\n",
    "    friend = list(filter(lambda x: x['element'] == element, party['friends']))[0]\n",
    "    my_ap = friend['ap']\n",
    "    damage = do_calc_damage(my_ap, element, element_num, enemy)\n",
    "    print_monster_name(friend)\n",
    "    print(f\"の攻撃!\\n敵モンスターに{damage}のダメージを与えた\")\n",
    "    enemy['hp'] -= damage\n",
    "    if enemy['hp'] <= 0:\n",
    "        enemy['hp'] = 0\n",
    "        \n",
    "        \n",
    "def do_enemy_attack(party, enemy):\n",
    "    \n",
    "    damage = blur_damage(enemy['ap'] - party['dp'])\n",
    "    if damage <= 0:\n",
    "        damage = 1\n",
    "    party['hp'] -= damage\n",
    "    print(f\"パーティに{damage}のダメージを与えた\")\n",
    "    print(f\"\")\n",
    "    if party['hp'] <0:\n",
    "        party['hp'] = 0\n",
    "\n",
    "def shift_gems(g, start_idx, end_idx):\n",
    "    \n",
    "    if end_idx == 13:\n",
    "        return g\n",
    "    \n",
    "    empty_num = end_idx - start_idx\n",
    "    \n",
    "    print_gems(g)\n",
    "    print(\"\")\n",
    "    for j in range(empty_num+1):\n",
    "        temp_g = g[:start_idx] + [\"無\" for i in range(empty_num-j)] + g[end_idx+1:] + [\"無\" for k in range(j+1)]\n",
    "        print_gems(temp_g)\n",
    "        print(\"\")\n",
    "    return temp_g\n",
    "\n",
    "def swawn_gems(gems):\n",
    "    for i, g in enumerate(gems):\n",
    "        if g != \"無\":\n",
    "            continue\n",
    "        gems[i] = GEM_ELEMENT[random.randint(0,4)]\n",
    "    print_gems(gems)\n",
    "    print(\"\")\n",
    "        \n",
    "def evaluate_gems(battle_field, command):\n",
    "    enemy, party = battle_field['enemy'], battle_field['party']\n",
    "    gems = battle_field['gems']\n",
    "    \n",
    "    first_idx, end_idx = check_banishable(gems)\n",
    "    \n",
    "    # print(first_idx, end_idx)\n",
    "    \n",
    "    if first_idx == None:\n",
    "        return None\n",
    "    \n",
    "    banish_gems(battle_field, first_idx, end_idx)\n",
    "    \n",
    "    battle_field['gems'] = shift_gems(gems, first_idx, end_idx)\n",
    "    \n",
    "    swawn_gems(battle_field['gems'])\n",
    "    \n",
    "    \n",
    "\n",
    "def check_banishable(gems):\n",
    "    banish_idx = None\n",
    "    # is_final_gem = False\n",
    "    for i in range(0,12):\n",
    "        start_element= gems[i]\n",
    "        cnt = 0\n",
    "        \n",
    "        for j in range(i+1, len(gems)):\n",
    "            element = gems[j]\n",
    "            if start_element == element:\n",
    "                cnt += 1\n",
    "                if j == 13:\n",
    "                    j = 14\n",
    "            else:\n",
    "                break\n",
    "\n",
    "        if cnt >= 2:\n",
    "            banish_idx = i\n",
    "            break\n",
    "    return banish_idx,j-1\n",
    "# main()"
   ]
  },
  {
   "cell_type": "code",
   "execution_count": 12,
   "metadata": {},
   "outputs": [
    {
     "name": "stdin",
     "output_type": "stream",
     "text": [
      "プレイヤー名を入力してください>> すっとん\n"
     ]
    },
    {
     "name": "stdout",
     "output_type": "stream",
     "text": [
      "### Puzzle & Monsters ###\n",
      "すっとんのパーティ(HP=600)はダンジョンに到着した\n",
      "<パーティー編成>----------------\n",
      "\u001b[41m$朱雀$\u001b[0mHP=150 攻撃=25 防御=10\n",
      "\u001b[42m@青龍@\u001b[0mHP=150 攻撃=15 防御=10\n",
      "\u001b[43m#白虎#\u001b[0mHP=150 攻撃=20 防御=5\n",
      "\u001b[44m~玄武~\u001b[0mHP=150 攻撃=20 防御=15\n",
      "-----------------------------\n",
      "\u001b[44m~スライム~\u001b[0mが現れた!\n",
      "【すっとんのターン(HP=600)】\n",
      "バトルフィールド\n",
      "\u001b[44m~スライム~\u001b[0mHP = 100 / 100\n",
      "    \n",
      "\u001b[41m$朱雀$\u001b[0m \u001b[42m@青龍@\u001b[0m \u001b[43m#白虎#\u001b[0m \u001b[44m~玄武~\u001b[0m \n",
      "HP = 600 / 600\n",
      "--------------------\n",
      "A B C D E F G H I J K L M N \n",
      "\u001b[45m&\u001b[0m \u001b[45m&\u001b[0m \u001b[44m~\u001b[0m \u001b[45m&\u001b[0m \u001b[45m&\u001b[0m \u001b[44m~\u001b[0m \u001b[41m$\u001b[0m \u001b[44m~\u001b[0m \u001b[42m@\u001b[0m \u001b[44m~\u001b[0m \u001b[41m$\u001b[0m \u001b[41m$\u001b[0m \u001b[41m$\u001b[0m \u001b[44m~\u001b[0m \n",
      "--------------------\n"
     ]
    },
    {
     "name": "stdin",
     "output_type": "stream",
     "text": [
      "コマンド?>> CE\n"
     ]
    },
    {
     "name": "stdout",
     "output_type": "stream",
     "text": [
      "\u001b[45m&\u001b[0m \u001b[45m&\u001b[0m \u001b[44m~\u001b[0m \u001b[45m&\u001b[0m \u001b[45m&\u001b[0m \u001b[44m~\u001b[0m \u001b[41m$\u001b[0m \u001b[44m~\u001b[0m \u001b[42m@\u001b[0m \u001b[44m~\u001b[0m \u001b[41m$\u001b[0m \u001b[41m$\u001b[0m \u001b[41m$\u001b[0m \u001b[44m~\u001b[0m \n",
      "\n",
      "\u001b[45m&\u001b[0m \u001b[45m&\u001b[0m \u001b[45m&\u001b[0m \u001b[44m~\u001b[0m \u001b[45m&\u001b[0m \u001b[44m~\u001b[0m \u001b[41m$\u001b[0m \u001b[44m~\u001b[0m \u001b[42m@\u001b[0m \u001b[44m~\u001b[0m \u001b[41m$\u001b[0m \u001b[41m$\u001b[0m \u001b[41m$\u001b[0m \u001b[44m~\u001b[0m \n",
      "\n",
      "\u001b[45m&\u001b[0m \u001b[45m&\u001b[0m \u001b[45m&\u001b[0m \u001b[45m&\u001b[0m \u001b[44m~\u001b[0m \u001b[44m~\u001b[0m \u001b[41m$\u001b[0m \u001b[44m~\u001b[0m \u001b[42m@\u001b[0m \u001b[44m~\u001b[0m \u001b[41m$\u001b[0m \u001b[41m$\u001b[0m \u001b[41m$\u001b[0m \u001b[44m~\u001b[0m \n",
      "\n",
      "\u001b[47m \u001b[0m \u001b[47m \u001b[0m \u001b[47m \u001b[0m \u001b[47m \u001b[0m \u001b[44m~\u001b[0m \u001b[44m~\u001b[0m \u001b[41m$\u001b[0m \u001b[44m~\u001b[0m \u001b[42m@\u001b[0m \u001b[44m~\u001b[0m \u001b[41m$\u001b[0m \u001b[41m$\u001b[0m \u001b[41m$\u001b[0m \u001b[44m~\u001b[0m \n",
      "パーティの体力は0回復しました\n",
      "\u001b[47m \u001b[0m \u001b[47m \u001b[0m \u001b[47m \u001b[0m \u001b[47m \u001b[0m \u001b[44m~\u001b[0m \u001b[44m~\u001b[0m \u001b[41m$\u001b[0m \u001b[44m~\u001b[0m \u001b[42m@\u001b[0m \u001b[44m~\u001b[0m \u001b[41m$\u001b[0m \u001b[41m$\u001b[0m \u001b[41m$\u001b[0m \u001b[44m~\u001b[0m \n",
      "\u001b[47m \u001b[0m \u001b[47m \u001b[0m \u001b[47m \u001b[0m \u001b[44m~\u001b[0m \u001b[44m~\u001b[0m \u001b[41m$\u001b[0m \u001b[44m~\u001b[0m \u001b[42m@\u001b[0m \u001b[44m~\u001b[0m \u001b[41m$\u001b[0m \u001b[41m$\u001b[0m \u001b[41m$\u001b[0m \u001b[44m~\u001b[0m \u001b[47m \u001b[0m \n",
      "\u001b[47m \u001b[0m \u001b[47m \u001b[0m \u001b[44m~\u001b[0m \u001b[44m~\u001b[0m \u001b[41m$\u001b[0m \u001b[44m~\u001b[0m \u001b[42m@\u001b[0m \u001b[44m~\u001b[0m \u001b[41m$\u001b[0m \u001b[41m$\u001b[0m \u001b[41m$\u001b[0m \u001b[44m~\u001b[0m \u001b[47m \u001b[0m \u001b[47m \u001b[0m \n",
      "\u001b[47m \u001b[0m \u001b[44m~\u001b[0m \u001b[44m~\u001b[0m \u001b[41m$\u001b[0m \u001b[44m~\u001b[0m \u001b[42m@\u001b[0m \u001b[44m~\u001b[0m \u001b[41m$\u001b[0m \u001b[41m$\u001b[0m \u001b[41m$\u001b[0m \u001b[44m~\u001b[0m \u001b[47m \u001b[0m \u001b[47m \u001b[0m \u001b[47m \u001b[0m \n",
      "\u001b[44m~\u001b[0m \u001b[44m~\u001b[0m \u001b[41m$\u001b[0m \u001b[44m~\u001b[0m \u001b[42m@\u001b[0m \u001b[44m~\u001b[0m \u001b[41m$\u001b[0m \u001b[41m$\u001b[0m \u001b[41m$\u001b[0m \u001b[44m~\u001b[0m \u001b[47m \u001b[0m \u001b[47m \u001b[0m \u001b[47m \u001b[0m \u001b[47m \u001b[0m \n",
      "\u001b[44m~\u001b[0m \u001b[44m~\u001b[0m \u001b[41m$\u001b[0m \u001b[44m~\u001b[0m \u001b[42m@\u001b[0m \u001b[44m~\u001b[0m \u001b[41m$\u001b[0m \u001b[41m$\u001b[0m \u001b[41m$\u001b[0m \u001b[44m~\u001b[0m \u001b[44m~\u001b[0m \u001b[43m#\u001b[0m \u001b[44m~\u001b[0m \u001b[44m~\u001b[0m \n",
      "\n",
      "【スライムのターン(HP=100)】\n",
      "ダミー攻撃でパーティに1のダメージを与えた\n",
      "\n",
      "【すっとんのターン(HP=599)】\n",
      "バトルフィールド\n",
      "\u001b[44m~スライム~\u001b[0mHP = 100 / 100\n",
      "    \n",
      "\u001b[41m$朱雀$\u001b[0m \u001b[42m@青龍@\u001b[0m \u001b[43m#白虎#\u001b[0m \u001b[44m~玄武~\u001b[0m \n",
      "HP = 599 / 600\n",
      "--------------------\n",
      "A B C D E F G H I J K L M N \n",
      "\u001b[44m~\u001b[0m \u001b[44m~\u001b[0m \u001b[41m$\u001b[0m \u001b[44m~\u001b[0m \u001b[42m@\u001b[0m \u001b[44m~\u001b[0m \u001b[41m$\u001b[0m \u001b[41m$\u001b[0m \u001b[41m$\u001b[0m \u001b[44m~\u001b[0m \u001b[44m~\u001b[0m \u001b[43m#\u001b[0m \u001b[44m~\u001b[0m \u001b[44m~\u001b[0m \n",
      "--------------------\n"
     ]
    },
    {
     "name": "stdin",
     "output_type": "stream",
     "text": [
      "コマンド?>> DC\n"
     ]
    },
    {
     "name": "stdout",
     "output_type": "stream",
     "text": [
      "\u001b[44m~\u001b[0m \u001b[44m~\u001b[0m \u001b[41m$\u001b[0m \u001b[44m~\u001b[0m \u001b[42m@\u001b[0m \u001b[44m~\u001b[0m \u001b[41m$\u001b[0m \u001b[41m$\u001b[0m \u001b[41m$\u001b[0m \u001b[44m~\u001b[0m \u001b[44m~\u001b[0m \u001b[43m#\u001b[0m \u001b[44m~\u001b[0m \u001b[44m~\u001b[0m \n",
      "\n",
      "\u001b[44m~\u001b[0m \u001b[44m~\u001b[0m \u001b[44m~\u001b[0m \u001b[41m$\u001b[0m \u001b[42m@\u001b[0m \u001b[44m~\u001b[0m \u001b[41m$\u001b[0m \u001b[41m$\u001b[0m \u001b[41m$\u001b[0m \u001b[44m~\u001b[0m \u001b[44m~\u001b[0m \u001b[43m#\u001b[0m \u001b[44m~\u001b[0m \u001b[44m~\u001b[0m \n",
      "\n",
      "\u001b[47m \u001b[0m \u001b[47m \u001b[0m \u001b[47m \u001b[0m \u001b[41m$\u001b[0m \u001b[42m@\u001b[0m \u001b[44m~\u001b[0m \u001b[41m$\u001b[0m \u001b[41m$\u001b[0m \u001b[41m$\u001b[0m \u001b[44m~\u001b[0m \u001b[44m~\u001b[0m \u001b[43m#\u001b[0m \u001b[44m~\u001b[0m \u001b[44m~\u001b[0m \n",
      "\u001b[44m~玄武~\u001b[0mの攻撃!\n",
      "敵モンスターに26のダメージを与えた\n",
      "\u001b[47m \u001b[0m \u001b[47m \u001b[0m \u001b[47m \u001b[0m \u001b[41m$\u001b[0m \u001b[42m@\u001b[0m \u001b[44m~\u001b[0m \u001b[41m$\u001b[0m \u001b[41m$\u001b[0m \u001b[41m$\u001b[0m \u001b[44m~\u001b[0m \u001b[44m~\u001b[0m \u001b[43m#\u001b[0m \u001b[44m~\u001b[0m \u001b[44m~\u001b[0m \n",
      "\u001b[47m \u001b[0m \u001b[47m \u001b[0m \u001b[41m$\u001b[0m \u001b[42m@\u001b[0m \u001b[44m~\u001b[0m \u001b[41m$\u001b[0m \u001b[41m$\u001b[0m \u001b[41m$\u001b[0m \u001b[44m~\u001b[0m \u001b[44m~\u001b[0m \u001b[43m#\u001b[0m \u001b[44m~\u001b[0m \u001b[44m~\u001b[0m \u001b[47m \u001b[0m \n",
      "\u001b[47m \u001b[0m \u001b[41m$\u001b[0m \u001b[42m@\u001b[0m \u001b[44m~\u001b[0m \u001b[41m$\u001b[0m \u001b[41m$\u001b[0m \u001b[41m$\u001b[0m \u001b[44m~\u001b[0m \u001b[44m~\u001b[0m \u001b[43m#\u001b[0m \u001b[44m~\u001b[0m \u001b[44m~\u001b[0m \u001b[47m \u001b[0m \u001b[47m \u001b[0m \n",
      "\u001b[41m$\u001b[0m \u001b[42m@\u001b[0m \u001b[44m~\u001b[0m \u001b[41m$\u001b[0m \u001b[41m$\u001b[0m \u001b[41m$\u001b[0m \u001b[44m~\u001b[0m \u001b[44m~\u001b[0m \u001b[43m#\u001b[0m \u001b[44m~\u001b[0m \u001b[44m~\u001b[0m \u001b[47m \u001b[0m \u001b[47m \u001b[0m \u001b[47m \u001b[0m \n",
      "\u001b[41m$\u001b[0m \u001b[42m@\u001b[0m \u001b[44m~\u001b[0m \u001b[41m$\u001b[0m \u001b[41m$\u001b[0m \u001b[41m$\u001b[0m \u001b[44m~\u001b[0m \u001b[44m~\u001b[0m \u001b[43m#\u001b[0m \u001b[44m~\u001b[0m \u001b[44m~\u001b[0m \u001b[42m@\u001b[0m \u001b[42m@\u001b[0m \u001b[44m~\u001b[0m \n",
      "\n",
      "【スライムのターン(HP=74)】\n",
      "ダミー攻撃でパーティに1のダメージを与えた\n",
      "\n",
      "【すっとんのターン(HP=598)】\n",
      "バトルフィールド\n",
      "\u001b[44m~スライム~\u001b[0mHP = 74 / 100\n",
      "    \n",
      "\u001b[41m$朱雀$\u001b[0m \u001b[42m@青龍@\u001b[0m \u001b[43m#白虎#\u001b[0m \u001b[44m~玄武~\u001b[0m \n",
      "HP = 598 / 600\n",
      "--------------------\n",
      "A B C D E F G H I J K L M N \n",
      "\u001b[41m$\u001b[0m \u001b[42m@\u001b[0m \u001b[44m~\u001b[0m \u001b[41m$\u001b[0m \u001b[41m$\u001b[0m \u001b[41m$\u001b[0m \u001b[44m~\u001b[0m \u001b[44m~\u001b[0m \u001b[43m#\u001b[0m \u001b[44m~\u001b[0m \u001b[44m~\u001b[0m \u001b[42m@\u001b[0m \u001b[42m@\u001b[0m \u001b[44m~\u001b[0m \n",
      "--------------------\n"
     ]
    },
    {
     "name": "stdin",
     "output_type": "stream",
     "text": [
      "コマンド?>> AB\n"
     ]
    },
    {
     "name": "stdout",
     "output_type": "stream",
     "text": [
      "\u001b[41m$\u001b[0m \u001b[42m@\u001b[0m \u001b[44m~\u001b[0m \u001b[41m$\u001b[0m \u001b[41m$\u001b[0m \u001b[41m$\u001b[0m \u001b[44m~\u001b[0m \u001b[44m~\u001b[0m \u001b[43m#\u001b[0m \u001b[44m~\u001b[0m \u001b[44m~\u001b[0m \u001b[42m@\u001b[0m \u001b[42m@\u001b[0m \u001b[44m~\u001b[0m \n",
      "\n",
      "\u001b[42m@\u001b[0m \u001b[41m$\u001b[0m \u001b[44m~\u001b[0m \u001b[41m$\u001b[0m \u001b[41m$\u001b[0m \u001b[41m$\u001b[0m \u001b[44m~\u001b[0m \u001b[44m~\u001b[0m \u001b[43m#\u001b[0m \u001b[44m~\u001b[0m \u001b[44m~\u001b[0m \u001b[42m@\u001b[0m \u001b[42m@\u001b[0m \u001b[44m~\u001b[0m \n",
      "\n",
      "\u001b[42m@\u001b[0m \u001b[41m$\u001b[0m \u001b[44m~\u001b[0m \u001b[47m \u001b[0m \u001b[47m \u001b[0m \u001b[47m \u001b[0m \u001b[44m~\u001b[0m \u001b[44m~\u001b[0m \u001b[43m#\u001b[0m \u001b[44m~\u001b[0m \u001b[44m~\u001b[0m \u001b[42m@\u001b[0m \u001b[42m@\u001b[0m \u001b[44m~\u001b[0m \n",
      "\u001b[41m$朱雀$\u001b[0mの攻撃!\n",
      "敵モンスターに18のダメージを与えた\n",
      "\u001b[42m@\u001b[0m \u001b[41m$\u001b[0m \u001b[44m~\u001b[0m \u001b[47m \u001b[0m \u001b[47m \u001b[0m \u001b[47m \u001b[0m \u001b[44m~\u001b[0m \u001b[44m~\u001b[0m \u001b[43m#\u001b[0m \u001b[44m~\u001b[0m \u001b[44m~\u001b[0m \u001b[42m@\u001b[0m \u001b[42m@\u001b[0m \u001b[44m~\u001b[0m \n",
      "\u001b[42m@\u001b[0m \u001b[41m$\u001b[0m \u001b[44m~\u001b[0m \u001b[47m \u001b[0m \u001b[47m \u001b[0m \u001b[44m~\u001b[0m \u001b[44m~\u001b[0m \u001b[43m#\u001b[0m \u001b[44m~\u001b[0m \u001b[44m~\u001b[0m \u001b[42m@\u001b[0m \u001b[42m@\u001b[0m \u001b[44m~\u001b[0m \u001b[47m \u001b[0m \n",
      "\u001b[42m@\u001b[0m \u001b[41m$\u001b[0m \u001b[44m~\u001b[0m \u001b[47m \u001b[0m \u001b[44m~\u001b[0m \u001b[44m~\u001b[0m \u001b[43m#\u001b[0m \u001b[44m~\u001b[0m \u001b[44m~\u001b[0m \u001b[42m@\u001b[0m \u001b[42m@\u001b[0m \u001b[44m~\u001b[0m \u001b[47m \u001b[0m \u001b[47m \u001b[0m \n",
      "\u001b[42m@\u001b[0m \u001b[41m$\u001b[0m \u001b[44m~\u001b[0m \u001b[44m~\u001b[0m \u001b[44m~\u001b[0m \u001b[43m#\u001b[0m \u001b[44m~\u001b[0m \u001b[44m~\u001b[0m \u001b[42m@\u001b[0m \u001b[42m@\u001b[0m \u001b[44m~\u001b[0m \u001b[47m \u001b[0m \u001b[47m \u001b[0m \u001b[47m \u001b[0m \n",
      "\u001b[42m@\u001b[0m \u001b[41m$\u001b[0m \u001b[44m~\u001b[0m \u001b[44m~\u001b[0m \u001b[44m~\u001b[0m \u001b[43m#\u001b[0m \u001b[44m~\u001b[0m \u001b[44m~\u001b[0m \u001b[42m@\u001b[0m \u001b[42m@\u001b[0m \u001b[44m~\u001b[0m \u001b[43m#\u001b[0m \u001b[42m@\u001b[0m \u001b[41m$\u001b[0m \n",
      "\n",
      "【スライムのターン(HP=56)】\n",
      "ダミー攻撃でパーティに1のダメージを与えた\n",
      "\n",
      "【すっとんのターン(HP=597)】\n",
      "バトルフィールド\n",
      "\u001b[44m~スライム~\u001b[0mHP = 56 / 100\n",
      "    \n",
      "\u001b[41m$朱雀$\u001b[0m \u001b[42m@青龍@\u001b[0m \u001b[43m#白虎#\u001b[0m \u001b[44m~玄武~\u001b[0m \n",
      "HP = 597 / 600\n",
      "--------------------\n",
      "A B C D E F G H I J K L M N \n",
      "\u001b[42m@\u001b[0m \u001b[41m$\u001b[0m \u001b[44m~\u001b[0m \u001b[44m~\u001b[0m \u001b[44m~\u001b[0m \u001b[43m#\u001b[0m \u001b[44m~\u001b[0m \u001b[44m~\u001b[0m \u001b[42m@\u001b[0m \u001b[42m@\u001b[0m \u001b[44m~\u001b[0m \u001b[43m#\u001b[0m \u001b[42m@\u001b[0m \u001b[41m$\u001b[0m \n",
      "--------------------\n"
     ]
    },
    {
     "name": "stdin",
     "output_type": "stream",
     "text": [
      "コマンド?>> AB\n"
     ]
    },
    {
     "name": "stdout",
     "output_type": "stream",
     "text": [
      "\u001b[42m@\u001b[0m \u001b[41m$\u001b[0m \u001b[44m~\u001b[0m \u001b[44m~\u001b[0m \u001b[44m~\u001b[0m \u001b[43m#\u001b[0m \u001b[44m~\u001b[0m \u001b[44m~\u001b[0m \u001b[42m@\u001b[0m \u001b[42m@\u001b[0m \u001b[44m~\u001b[0m \u001b[43m#\u001b[0m \u001b[42m@\u001b[0m \u001b[41m$\u001b[0m \n",
      "\n",
      "\u001b[41m$\u001b[0m \u001b[42m@\u001b[0m \u001b[44m~\u001b[0m \u001b[44m~\u001b[0m \u001b[44m~\u001b[0m \u001b[43m#\u001b[0m \u001b[44m~\u001b[0m \u001b[44m~\u001b[0m \u001b[42m@\u001b[0m \u001b[42m@\u001b[0m \u001b[44m~\u001b[0m \u001b[43m#\u001b[0m \u001b[42m@\u001b[0m \u001b[41m$\u001b[0m \n",
      "\n",
      "\u001b[41m$\u001b[0m \u001b[42m@\u001b[0m \u001b[47m \u001b[0m \u001b[47m \u001b[0m \u001b[47m \u001b[0m \u001b[43m#\u001b[0m \u001b[44m~\u001b[0m \u001b[44m~\u001b[0m \u001b[42m@\u001b[0m \u001b[42m@\u001b[0m \u001b[44m~\u001b[0m \u001b[43m#\u001b[0m \u001b[42m@\u001b[0m \u001b[41m$\u001b[0m \n",
      "\u001b[44m~玄武~\u001b[0mの攻撃!\n",
      "敵モンスターに29のダメージを与えた\n",
      "\u001b[41m$\u001b[0m \u001b[42m@\u001b[0m \u001b[47m \u001b[0m \u001b[47m \u001b[0m \u001b[47m \u001b[0m \u001b[43m#\u001b[0m \u001b[44m~\u001b[0m \u001b[44m~\u001b[0m \u001b[42m@\u001b[0m \u001b[42m@\u001b[0m \u001b[44m~\u001b[0m \u001b[43m#\u001b[0m \u001b[42m@\u001b[0m \u001b[41m$\u001b[0m \n",
      "\u001b[41m$\u001b[0m \u001b[42m@\u001b[0m \u001b[47m \u001b[0m \u001b[47m \u001b[0m \u001b[43m#\u001b[0m \u001b[44m~\u001b[0m \u001b[44m~\u001b[0m \u001b[42m@\u001b[0m \u001b[42m@\u001b[0m \u001b[44m~\u001b[0m \u001b[43m#\u001b[0m \u001b[42m@\u001b[0m \u001b[41m$\u001b[0m \u001b[47m \u001b[0m \n",
      "\u001b[41m$\u001b[0m \u001b[42m@\u001b[0m \u001b[47m \u001b[0m \u001b[43m#\u001b[0m \u001b[44m~\u001b[0m \u001b[44m~\u001b[0m \u001b[42m@\u001b[0m \u001b[42m@\u001b[0m \u001b[44m~\u001b[0m \u001b[43m#\u001b[0m \u001b[42m@\u001b[0m \u001b[41m$\u001b[0m \u001b[47m \u001b[0m \u001b[47m \u001b[0m \n",
      "\u001b[41m$\u001b[0m \u001b[42m@\u001b[0m \u001b[43m#\u001b[0m \u001b[44m~\u001b[0m \u001b[44m~\u001b[0m \u001b[42m@\u001b[0m \u001b[42m@\u001b[0m \u001b[44m~\u001b[0m \u001b[43m#\u001b[0m \u001b[42m@\u001b[0m \u001b[41m$\u001b[0m \u001b[47m \u001b[0m \u001b[47m \u001b[0m \u001b[47m \u001b[0m \n",
      "\u001b[41m$\u001b[0m \u001b[42m@\u001b[0m \u001b[43m#\u001b[0m \u001b[44m~\u001b[0m \u001b[44m~\u001b[0m \u001b[42m@\u001b[0m \u001b[42m@\u001b[0m \u001b[44m~\u001b[0m \u001b[43m#\u001b[0m \u001b[42m@\u001b[0m \u001b[41m$\u001b[0m \u001b[43m#\u001b[0m \u001b[42m@\u001b[0m \u001b[43m#\u001b[0m \n",
      "\n",
      "【スライムのターン(HP=27)】\n",
      "ダミー攻撃でパーティに1のダメージを与えた\n",
      "\n",
      "【すっとんのターン(HP=596)】\n",
      "バトルフィールド\n",
      "\u001b[44m~スライム~\u001b[0mHP = 27 / 100\n",
      "    \n",
      "\u001b[41m$朱雀$\u001b[0m \u001b[42m@青龍@\u001b[0m \u001b[43m#白虎#\u001b[0m \u001b[44m~玄武~\u001b[0m \n",
      "HP = 596 / 600\n",
      "--------------------\n",
      "A B C D E F G H I J K L M N \n",
      "\u001b[41m$\u001b[0m \u001b[42m@\u001b[0m \u001b[43m#\u001b[0m \u001b[44m~\u001b[0m \u001b[44m~\u001b[0m \u001b[42m@\u001b[0m \u001b[42m@\u001b[0m \u001b[44m~\u001b[0m \u001b[43m#\u001b[0m \u001b[42m@\u001b[0m \u001b[41m$\u001b[0m \u001b[43m#\u001b[0m \u001b[42m@\u001b[0m \u001b[43m#\u001b[0m \n",
      "--------------------\n"
     ]
    },
    {
     "name": "stdin",
     "output_type": "stream",
     "text": [
      "コマンド?>> JH\n"
     ]
    },
    {
     "name": "stdout",
     "output_type": "stream",
     "text": [
      "\u001b[41m$\u001b[0m \u001b[42m@\u001b[0m \u001b[43m#\u001b[0m \u001b[44m~\u001b[0m \u001b[44m~\u001b[0m \u001b[42m@\u001b[0m \u001b[42m@\u001b[0m \u001b[44m~\u001b[0m \u001b[43m#\u001b[0m \u001b[42m@\u001b[0m \u001b[41m$\u001b[0m \u001b[43m#\u001b[0m \u001b[42m@\u001b[0m \u001b[43m#\u001b[0m \n",
      "\n",
      "\u001b[41m$\u001b[0m \u001b[42m@\u001b[0m \u001b[43m#\u001b[0m \u001b[44m~\u001b[0m \u001b[44m~\u001b[0m \u001b[42m@\u001b[0m \u001b[42m@\u001b[0m \u001b[44m~\u001b[0m \u001b[42m@\u001b[0m \u001b[43m#\u001b[0m \u001b[41m$\u001b[0m \u001b[43m#\u001b[0m \u001b[42m@\u001b[0m \u001b[43m#\u001b[0m \n",
      "\n",
      "\u001b[41m$\u001b[0m \u001b[42m@\u001b[0m \u001b[43m#\u001b[0m \u001b[44m~\u001b[0m \u001b[44m~\u001b[0m \u001b[42m@\u001b[0m \u001b[42m@\u001b[0m \u001b[42m@\u001b[0m \u001b[44m~\u001b[0m \u001b[43m#\u001b[0m \u001b[41m$\u001b[0m \u001b[43m#\u001b[0m \u001b[42m@\u001b[0m \u001b[43m#\u001b[0m \n",
      "\n",
      "\u001b[41m$\u001b[0m \u001b[42m@\u001b[0m \u001b[43m#\u001b[0m \u001b[44m~\u001b[0m \u001b[44m~\u001b[0m \u001b[47m \u001b[0m \u001b[47m \u001b[0m \u001b[47m \u001b[0m \u001b[44m~\u001b[0m \u001b[43m#\u001b[0m \u001b[41m$\u001b[0m \u001b[43m#\u001b[0m \u001b[42m@\u001b[0m \u001b[43m#\u001b[0m \n",
      "\u001b[42m@青龍@\u001b[0mの攻撃!\n",
      "敵モンスターに21のダメージを与えた\n",
      "\u001b[41m$\u001b[0m \u001b[42m@\u001b[0m \u001b[43m#\u001b[0m \u001b[44m~\u001b[0m \u001b[44m~\u001b[0m \u001b[47m \u001b[0m \u001b[47m \u001b[0m \u001b[47m \u001b[0m \u001b[44m~\u001b[0m \u001b[43m#\u001b[0m \u001b[41m$\u001b[0m \u001b[43m#\u001b[0m \u001b[42m@\u001b[0m \u001b[43m#\u001b[0m \n",
      "\u001b[41m$\u001b[0m \u001b[42m@\u001b[0m \u001b[43m#\u001b[0m \u001b[44m~\u001b[0m \u001b[44m~\u001b[0m \u001b[47m \u001b[0m \u001b[47m \u001b[0m \u001b[44m~\u001b[0m \u001b[43m#\u001b[0m \u001b[41m$\u001b[0m \u001b[43m#\u001b[0m \u001b[42m@\u001b[0m \u001b[43m#\u001b[0m \u001b[47m \u001b[0m \n",
      "\u001b[41m$\u001b[0m \u001b[42m@\u001b[0m \u001b[43m#\u001b[0m \u001b[44m~\u001b[0m \u001b[44m~\u001b[0m \u001b[47m \u001b[0m \u001b[44m~\u001b[0m \u001b[43m#\u001b[0m \u001b[41m$\u001b[0m \u001b[43m#\u001b[0m \u001b[42m@\u001b[0m \u001b[43m#\u001b[0m \u001b[47m \u001b[0m \u001b[47m \u001b[0m \n",
      "\u001b[41m$\u001b[0m \u001b[42m@\u001b[0m \u001b[43m#\u001b[0m \u001b[44m~\u001b[0m \u001b[44m~\u001b[0m \u001b[44m~\u001b[0m \u001b[43m#\u001b[0m \u001b[41m$\u001b[0m \u001b[43m#\u001b[0m \u001b[42m@\u001b[0m \u001b[43m#\u001b[0m \u001b[47m \u001b[0m \u001b[47m \u001b[0m \u001b[47m \u001b[0m \n",
      "\u001b[41m$\u001b[0m \u001b[42m@\u001b[0m \u001b[43m#\u001b[0m \u001b[44m~\u001b[0m \u001b[44m~\u001b[0m \u001b[44m~\u001b[0m \u001b[43m#\u001b[0m \u001b[41m$\u001b[0m \u001b[43m#\u001b[0m \u001b[42m@\u001b[0m \u001b[43m#\u001b[0m \u001b[42m@\u001b[0m \u001b[41m$\u001b[0m \u001b[45m&\u001b[0m \n",
      "\n",
      "【スライムのターン(HP=6)】\n",
      "ダミー攻撃でパーティに1のダメージを与えた\n",
      "\n",
      "【すっとんのターン(HP=595)】\n",
      "バトルフィールド\n",
      "\u001b[44m~スライム~\u001b[0mHP = 6 / 100\n",
      "    \n",
      "\u001b[41m$朱雀$\u001b[0m \u001b[42m@青龍@\u001b[0m \u001b[43m#白虎#\u001b[0m \u001b[44m~玄武~\u001b[0m \n",
      "HP = 595 / 600\n",
      "--------------------\n",
      "A B C D E F G H I J K L M N \n",
      "\u001b[41m$\u001b[0m \u001b[42m@\u001b[0m \u001b[43m#\u001b[0m \u001b[44m~\u001b[0m \u001b[44m~\u001b[0m \u001b[44m~\u001b[0m \u001b[43m#\u001b[0m \u001b[41m$\u001b[0m \u001b[43m#\u001b[0m \u001b[42m@\u001b[0m \u001b[43m#\u001b[0m \u001b[42m@\u001b[0m \u001b[41m$\u001b[0m \u001b[45m&\u001b[0m \n",
      "--------------------\n"
     ]
    },
    {
     "name": "stdin",
     "output_type": "stream",
     "text": [
      "コマンド?>> AB\n"
     ]
    },
    {
     "name": "stdout",
     "output_type": "stream",
     "text": [
      "\u001b[41m$\u001b[0m \u001b[42m@\u001b[0m \u001b[43m#\u001b[0m \u001b[44m~\u001b[0m \u001b[44m~\u001b[0m \u001b[44m~\u001b[0m \u001b[43m#\u001b[0m \u001b[41m$\u001b[0m \u001b[43m#\u001b[0m \u001b[42m@\u001b[0m \u001b[43m#\u001b[0m \u001b[42m@\u001b[0m \u001b[41m$\u001b[0m \u001b[45m&\u001b[0m \n",
      "\n",
      "\u001b[42m@\u001b[0m \u001b[41m$\u001b[0m \u001b[43m#\u001b[0m \u001b[44m~\u001b[0m \u001b[44m~\u001b[0m \u001b[44m~\u001b[0m \u001b[43m#\u001b[0m \u001b[41m$\u001b[0m \u001b[43m#\u001b[0m \u001b[42m@\u001b[0m \u001b[43m#\u001b[0m \u001b[42m@\u001b[0m \u001b[41m$\u001b[0m \u001b[45m&\u001b[0m \n",
      "\n",
      "\u001b[42m@\u001b[0m \u001b[41m$\u001b[0m \u001b[43m#\u001b[0m \u001b[47m \u001b[0m \u001b[47m \u001b[0m \u001b[47m \u001b[0m \u001b[43m#\u001b[0m \u001b[41m$\u001b[0m \u001b[43m#\u001b[0m \u001b[42m@\u001b[0m \u001b[43m#\u001b[0m \u001b[42m@\u001b[0m \u001b[41m$\u001b[0m \u001b[45m&\u001b[0m \n",
      "\u001b[44m~玄武~\u001b[0mの攻撃!\n",
      "敵モンスターに25のダメージを与えた\n",
      "\u001b[42m@\u001b[0m \u001b[41m$\u001b[0m \u001b[43m#\u001b[0m \u001b[47m \u001b[0m \u001b[47m \u001b[0m \u001b[47m \u001b[0m \u001b[43m#\u001b[0m \u001b[41m$\u001b[0m \u001b[43m#\u001b[0m \u001b[42m@\u001b[0m \u001b[43m#\u001b[0m \u001b[42m@\u001b[0m \u001b[41m$\u001b[0m \u001b[45m&\u001b[0m \n",
      "\u001b[42m@\u001b[0m \u001b[41m$\u001b[0m \u001b[43m#\u001b[0m \u001b[47m \u001b[0m \u001b[47m \u001b[0m \u001b[43m#\u001b[0m \u001b[41m$\u001b[0m \u001b[43m#\u001b[0m \u001b[42m@\u001b[0m \u001b[43m#\u001b[0m \u001b[42m@\u001b[0m \u001b[41m$\u001b[0m \u001b[45m&\u001b[0m \u001b[47m \u001b[0m \n",
      "\u001b[42m@\u001b[0m \u001b[41m$\u001b[0m \u001b[43m#\u001b[0m \u001b[47m \u001b[0m \u001b[43m#\u001b[0m \u001b[41m$\u001b[0m \u001b[43m#\u001b[0m \u001b[42m@\u001b[0m \u001b[43m#\u001b[0m \u001b[42m@\u001b[0m \u001b[41m$\u001b[0m \u001b[45m&\u001b[0m \u001b[47m \u001b[0m \u001b[47m \u001b[0m \n",
      "\u001b[42m@\u001b[0m \u001b[41m$\u001b[0m \u001b[43m#\u001b[0m \u001b[43m#\u001b[0m \u001b[41m$\u001b[0m \u001b[43m#\u001b[0m \u001b[42m@\u001b[0m \u001b[43m#\u001b[0m \u001b[42m@\u001b[0m \u001b[41m$\u001b[0m \u001b[45m&\u001b[0m \u001b[47m \u001b[0m \u001b[47m \u001b[0m \u001b[47m \u001b[0m \n",
      "\u001b[42m@\u001b[0m \u001b[41m$\u001b[0m \u001b[43m#\u001b[0m \u001b[43m#\u001b[0m \u001b[41m$\u001b[0m \u001b[43m#\u001b[0m \u001b[42m@\u001b[0m \u001b[43m#\u001b[0m \u001b[42m@\u001b[0m \u001b[41m$\u001b[0m \u001b[45m&\u001b[0m \u001b[45m&\u001b[0m \u001b[41m$\u001b[0m \u001b[43m#\u001b[0m \n",
      "\u001b[44m~スライム~\u001b[0mを倒した!\n",
      "すっとんは更に奥に進んだ\n",
      "=======================================\n",
      "\u001b[43m#ゴブリン#\u001b[0mが現れた!\n",
      "【すっとんのターン(HP=595)】\n",
      "バトルフィールド\n",
      "\u001b[43m#ゴブリン#\u001b[0mHP = 200 / 200\n",
      "    \n",
      "\u001b[41m$朱雀$\u001b[0m \u001b[42m@青龍@\u001b[0m \u001b[43m#白虎#\u001b[0m \u001b[44m~玄武~\u001b[0m \n",
      "HP = 595 / 600\n",
      "--------------------\n",
      "A B C D E F G H I J K L M N \n",
      "\u001b[43m#\u001b[0m \u001b[42m@\u001b[0m \u001b[45m&\u001b[0m \u001b[44m~\u001b[0m \u001b[42m@\u001b[0m \u001b[42m@\u001b[0m \u001b[42m@\u001b[0m \u001b[45m&\u001b[0m \u001b[43m#\u001b[0m \u001b[42m@\u001b[0m \u001b[42m@\u001b[0m \u001b[41m$\u001b[0m \u001b[45m&\u001b[0m \u001b[41m$\u001b[0m \n",
      "--------------------\n"
     ]
    },
    {
     "name": "stdin",
     "output_type": "stream",
     "text": [
      "コマンド?>> AB\n"
     ]
    },
    {
     "name": "stdout",
     "output_type": "stream",
     "text": [
      "\u001b[43m#\u001b[0m \u001b[42m@\u001b[0m \u001b[45m&\u001b[0m \u001b[44m~\u001b[0m \u001b[42m@\u001b[0m \u001b[42m@\u001b[0m \u001b[42m@\u001b[0m \u001b[45m&\u001b[0m \u001b[43m#\u001b[0m \u001b[42m@\u001b[0m \u001b[42m@\u001b[0m \u001b[41m$\u001b[0m \u001b[45m&\u001b[0m \u001b[41m$\u001b[0m \n",
      "\n",
      "\u001b[42m@\u001b[0m \u001b[43m#\u001b[0m \u001b[45m&\u001b[0m \u001b[44m~\u001b[0m \u001b[42m@\u001b[0m \u001b[42m@\u001b[0m \u001b[42m@\u001b[0m \u001b[45m&\u001b[0m \u001b[43m#\u001b[0m \u001b[42m@\u001b[0m \u001b[42m@\u001b[0m \u001b[41m$\u001b[0m \u001b[45m&\u001b[0m \u001b[41m$\u001b[0m \n",
      "\n",
      "\u001b[42m@\u001b[0m \u001b[43m#\u001b[0m \u001b[45m&\u001b[0m \u001b[44m~\u001b[0m \u001b[47m \u001b[0m \u001b[47m \u001b[0m \u001b[47m \u001b[0m \u001b[45m&\u001b[0m \u001b[43m#\u001b[0m \u001b[42m@\u001b[0m \u001b[42m@\u001b[0m \u001b[41m$\u001b[0m \u001b[45m&\u001b[0m \u001b[41m$\u001b[0m \n",
      "\u001b[42m@青龍@\u001b[0mの攻撃!\n",
      "敵モンスターに29のダメージを与えた\n",
      "\u001b[42m@\u001b[0m \u001b[43m#\u001b[0m \u001b[45m&\u001b[0m \u001b[44m~\u001b[0m \u001b[47m \u001b[0m \u001b[47m \u001b[0m \u001b[47m \u001b[0m \u001b[45m&\u001b[0m \u001b[43m#\u001b[0m \u001b[42m@\u001b[0m \u001b[42m@\u001b[0m \u001b[41m$\u001b[0m \u001b[45m&\u001b[0m \u001b[41m$\u001b[0m \n",
      "\u001b[42m@\u001b[0m \u001b[43m#\u001b[0m \u001b[45m&\u001b[0m \u001b[44m~\u001b[0m \u001b[47m \u001b[0m \u001b[47m \u001b[0m \u001b[45m&\u001b[0m \u001b[43m#\u001b[0m \u001b[42m@\u001b[0m \u001b[42m@\u001b[0m \u001b[41m$\u001b[0m \u001b[45m&\u001b[0m \u001b[41m$\u001b[0m \u001b[47m \u001b[0m \n",
      "\u001b[42m@\u001b[0m \u001b[43m#\u001b[0m \u001b[45m&\u001b[0m \u001b[44m~\u001b[0m \u001b[47m \u001b[0m \u001b[45m&\u001b[0m \u001b[43m#\u001b[0m \u001b[42m@\u001b[0m \u001b[42m@\u001b[0m \u001b[41m$\u001b[0m \u001b[45m&\u001b[0m \u001b[41m$\u001b[0m \u001b[47m \u001b[0m \u001b[47m \u001b[0m \n",
      "\u001b[42m@\u001b[0m \u001b[43m#\u001b[0m \u001b[45m&\u001b[0m \u001b[44m~\u001b[0m \u001b[45m&\u001b[0m \u001b[43m#\u001b[0m \u001b[42m@\u001b[0m \u001b[42m@\u001b[0m \u001b[41m$\u001b[0m \u001b[45m&\u001b[0m \u001b[41m$\u001b[0m \u001b[47m \u001b[0m \u001b[47m \u001b[0m \u001b[47m \u001b[0m \n",
      "\u001b[42m@\u001b[0m \u001b[43m#\u001b[0m \u001b[45m&\u001b[0m \u001b[44m~\u001b[0m \u001b[45m&\u001b[0m \u001b[43m#\u001b[0m \u001b[42m@\u001b[0m \u001b[42m@\u001b[0m \u001b[41m$\u001b[0m \u001b[45m&\u001b[0m \u001b[41m$\u001b[0m \u001b[41m$\u001b[0m \u001b[45m&\u001b[0m \u001b[44m~\u001b[0m \n",
      "\n",
      "【ゴブリンのターン(HP=171)】\n",
      "ダミー攻撃でパーティに9のダメージを与えた\n",
      "\n",
      "【すっとんのターン(HP=586)】\n",
      "バトルフィールド\n",
      "\u001b[43m#ゴブリン#\u001b[0mHP = 171 / 200\n",
      "    \n",
      "\u001b[41m$朱雀$\u001b[0m \u001b[42m@青龍@\u001b[0m \u001b[43m#白虎#\u001b[0m \u001b[44m~玄武~\u001b[0m \n",
      "HP = 586 / 600\n",
      "--------------------\n",
      "A B C D E F G H I J K L M N \n",
      "\u001b[42m@\u001b[0m \u001b[43m#\u001b[0m \u001b[45m&\u001b[0m \u001b[44m~\u001b[0m \u001b[45m&\u001b[0m \u001b[43m#\u001b[0m \u001b[42m@\u001b[0m \u001b[42m@\u001b[0m \u001b[41m$\u001b[0m \u001b[45m&\u001b[0m \u001b[41m$\u001b[0m \u001b[41m$\u001b[0m \u001b[45m&\u001b[0m \u001b[44m~\u001b[0m \n",
      "--------------------\n"
     ]
    },
    {
     "name": "stdin",
     "output_type": "stream",
     "text": [
      "コマンド?>> NM\n"
     ]
    },
    {
     "name": "stdout",
     "output_type": "stream",
     "text": [
      "\u001b[42m@\u001b[0m \u001b[43m#\u001b[0m \u001b[45m&\u001b[0m \u001b[44m~\u001b[0m \u001b[45m&\u001b[0m \u001b[43m#\u001b[0m \u001b[42m@\u001b[0m \u001b[42m@\u001b[0m \u001b[41m$\u001b[0m \u001b[45m&\u001b[0m \u001b[41m$\u001b[0m \u001b[41m$\u001b[0m \u001b[45m&\u001b[0m \u001b[44m~\u001b[0m \n",
      "\n",
      "\u001b[42m@\u001b[0m \u001b[43m#\u001b[0m \u001b[45m&\u001b[0m \u001b[44m~\u001b[0m \u001b[45m&\u001b[0m \u001b[43m#\u001b[0m \u001b[42m@\u001b[0m \u001b[42m@\u001b[0m \u001b[41m$\u001b[0m \u001b[45m&\u001b[0m \u001b[41m$\u001b[0m \u001b[41m$\u001b[0m \u001b[44m~\u001b[0m \u001b[45m&\u001b[0m \n",
      "\n",
      "\n",
      "【ゴブリンのターン(HP=171)】\n",
      "ダミー攻撃でパーティに9のダメージを与えた\n",
      "\n",
      "【すっとんのターン(HP=577)】\n",
      "バトルフィールド\n",
      "\u001b[43m#ゴブリン#\u001b[0mHP = 171 / 200\n",
      "    \n",
      "\u001b[41m$朱雀$\u001b[0m \u001b[42m@青龍@\u001b[0m \u001b[43m#白虎#\u001b[0m \u001b[44m~玄武~\u001b[0m \n",
      "HP = 577 / 600\n",
      "--------------------\n",
      "A B C D E F G H I J K L M N \n",
      "\u001b[42m@\u001b[0m \u001b[43m#\u001b[0m \u001b[45m&\u001b[0m \u001b[44m~\u001b[0m \u001b[45m&\u001b[0m \u001b[43m#\u001b[0m \u001b[42m@\u001b[0m \u001b[42m@\u001b[0m \u001b[41m$\u001b[0m \u001b[45m&\u001b[0m \u001b[41m$\u001b[0m \u001b[41m$\u001b[0m \u001b[44m~\u001b[0m \u001b[45m&\u001b[0m \n",
      "--------------------\n"
     ]
    },
    {
     "name": "stdin",
     "output_type": "stream",
     "text": [
      "コマンド?>> IJ\n"
     ]
    },
    {
     "name": "stdout",
     "output_type": "stream",
     "text": [
      "\u001b[42m@\u001b[0m \u001b[43m#\u001b[0m \u001b[45m&\u001b[0m \u001b[44m~\u001b[0m \u001b[45m&\u001b[0m \u001b[43m#\u001b[0m \u001b[42m@\u001b[0m \u001b[42m@\u001b[0m \u001b[41m$\u001b[0m \u001b[45m&\u001b[0m \u001b[41m$\u001b[0m \u001b[41m$\u001b[0m \u001b[44m~\u001b[0m \u001b[45m&\u001b[0m \n",
      "\n",
      "\u001b[42m@\u001b[0m \u001b[43m#\u001b[0m \u001b[45m&\u001b[0m \u001b[44m~\u001b[0m \u001b[45m&\u001b[0m \u001b[43m#\u001b[0m \u001b[42m@\u001b[0m \u001b[42m@\u001b[0m \u001b[45m&\u001b[0m \u001b[41m$\u001b[0m \u001b[41m$\u001b[0m \u001b[41m$\u001b[0m \u001b[44m~\u001b[0m \u001b[45m&\u001b[0m \n",
      "\n",
      "\u001b[42m@\u001b[0m \u001b[43m#\u001b[0m \u001b[45m&\u001b[0m \u001b[44m~\u001b[0m \u001b[45m&\u001b[0m \u001b[43m#\u001b[0m \u001b[42m@\u001b[0m \u001b[42m@\u001b[0m \u001b[45m&\u001b[0m \u001b[47m \u001b[0m \u001b[47m \u001b[0m \u001b[47m \u001b[0m \u001b[44m~\u001b[0m \u001b[45m&\u001b[0m \n",
      "\u001b[41m$朱雀$\u001b[0mの攻撃!\n",
      "敵モンスターに28のダメージを与えた\n",
      "\u001b[42m@\u001b[0m \u001b[43m#\u001b[0m \u001b[45m&\u001b[0m \u001b[44m~\u001b[0m \u001b[45m&\u001b[0m \u001b[43m#\u001b[0m \u001b[42m@\u001b[0m \u001b[42m@\u001b[0m \u001b[45m&\u001b[0m \u001b[47m \u001b[0m \u001b[47m \u001b[0m \u001b[47m \u001b[0m \u001b[44m~\u001b[0m \u001b[45m&\u001b[0m \n",
      "\u001b[42m@\u001b[0m \u001b[43m#\u001b[0m \u001b[45m&\u001b[0m \u001b[44m~\u001b[0m \u001b[45m&\u001b[0m \u001b[43m#\u001b[0m \u001b[42m@\u001b[0m \u001b[42m@\u001b[0m \u001b[45m&\u001b[0m \u001b[47m \u001b[0m \u001b[47m \u001b[0m \u001b[44m~\u001b[0m \u001b[45m&\u001b[0m \u001b[47m \u001b[0m \n",
      "\u001b[42m@\u001b[0m \u001b[43m#\u001b[0m \u001b[45m&\u001b[0m \u001b[44m~\u001b[0m \u001b[45m&\u001b[0m \u001b[43m#\u001b[0m \u001b[42m@\u001b[0m \u001b[42m@\u001b[0m \u001b[45m&\u001b[0m \u001b[47m \u001b[0m \u001b[44m~\u001b[0m \u001b[45m&\u001b[0m \u001b[47m \u001b[0m \u001b[47m \u001b[0m \n",
      "\u001b[42m@\u001b[0m \u001b[43m#\u001b[0m \u001b[45m&\u001b[0m \u001b[44m~\u001b[0m \u001b[45m&\u001b[0m \u001b[43m#\u001b[0m \u001b[42m@\u001b[0m \u001b[42m@\u001b[0m \u001b[45m&\u001b[0m \u001b[44m~\u001b[0m \u001b[45m&\u001b[0m \u001b[47m \u001b[0m \u001b[47m \u001b[0m \u001b[47m \u001b[0m \n",
      "\u001b[42m@\u001b[0m \u001b[43m#\u001b[0m \u001b[45m&\u001b[0m \u001b[44m~\u001b[0m \u001b[45m&\u001b[0m \u001b[43m#\u001b[0m \u001b[42m@\u001b[0m \u001b[42m@\u001b[0m \u001b[45m&\u001b[0m \u001b[44m~\u001b[0m \u001b[45m&\u001b[0m \u001b[44m~\u001b[0m \u001b[44m~\u001b[0m \u001b[43m#\u001b[0m \n",
      "\n",
      "【ゴブリンのターン(HP=143)】\n",
      "ダミー攻撃でパーティに10のダメージを与えた\n",
      "\n",
      "【すっとんのターン(HP=567)】\n",
      "バトルフィールド\n",
      "\u001b[43m#ゴブリン#\u001b[0mHP = 143 / 200\n",
      "    \n",
      "\u001b[41m$朱雀$\u001b[0m \u001b[42m@青龍@\u001b[0m \u001b[43m#白虎#\u001b[0m \u001b[44m~玄武~\u001b[0m \n",
      "HP = 567 / 600\n",
      "--------------------\n",
      "A B C D E F G H I J K L M N \n",
      "\u001b[42m@\u001b[0m \u001b[43m#\u001b[0m \u001b[45m&\u001b[0m \u001b[44m~\u001b[0m \u001b[45m&\u001b[0m \u001b[43m#\u001b[0m \u001b[42m@\u001b[0m \u001b[42m@\u001b[0m \u001b[45m&\u001b[0m \u001b[44m~\u001b[0m \u001b[45m&\u001b[0m \u001b[44m~\u001b[0m \u001b[44m~\u001b[0m \u001b[43m#\u001b[0m \n",
      "--------------------\n"
     ]
    },
    {
     "name": "stdin",
     "output_type": "stream",
     "text": [
      "コマンド?>> JK\n"
     ]
    },
    {
     "name": "stdout",
     "output_type": "stream",
     "text": [
      "\u001b[42m@\u001b[0m \u001b[43m#\u001b[0m \u001b[45m&\u001b[0m \u001b[44m~\u001b[0m \u001b[45m&\u001b[0m \u001b[43m#\u001b[0m \u001b[42m@\u001b[0m \u001b[42m@\u001b[0m \u001b[45m&\u001b[0m \u001b[44m~\u001b[0m \u001b[45m&\u001b[0m \u001b[44m~\u001b[0m \u001b[44m~\u001b[0m \u001b[43m#\u001b[0m \n",
      "\n",
      "\u001b[42m@\u001b[0m \u001b[43m#\u001b[0m \u001b[45m&\u001b[0m \u001b[44m~\u001b[0m \u001b[45m&\u001b[0m \u001b[43m#\u001b[0m \u001b[42m@\u001b[0m \u001b[42m@\u001b[0m \u001b[45m&\u001b[0m \u001b[45m&\u001b[0m \u001b[44m~\u001b[0m \u001b[44m~\u001b[0m \u001b[44m~\u001b[0m \u001b[43m#\u001b[0m \n",
      "\n",
      "\u001b[42m@\u001b[0m \u001b[43m#\u001b[0m \u001b[45m&\u001b[0m \u001b[44m~\u001b[0m \u001b[45m&\u001b[0m \u001b[43m#\u001b[0m \u001b[42m@\u001b[0m \u001b[42m@\u001b[0m \u001b[45m&\u001b[0m \u001b[45m&\u001b[0m \u001b[47m \u001b[0m \u001b[47m \u001b[0m \u001b[47m \u001b[0m \u001b[43m#\u001b[0m \n",
      "\u001b[44m~玄武~\u001b[0mの攻撃!\n",
      "敵モンスターに11のダメージを与えた\n",
      "\u001b[42m@\u001b[0m \u001b[43m#\u001b[0m \u001b[45m&\u001b[0m \u001b[44m~\u001b[0m \u001b[45m&\u001b[0m \u001b[43m#\u001b[0m \u001b[42m@\u001b[0m \u001b[42m@\u001b[0m \u001b[45m&\u001b[0m \u001b[45m&\u001b[0m \u001b[47m \u001b[0m \u001b[47m \u001b[0m \u001b[47m \u001b[0m \u001b[43m#\u001b[0m \n",
      "\u001b[42m@\u001b[0m \u001b[43m#\u001b[0m \u001b[45m&\u001b[0m \u001b[44m~\u001b[0m \u001b[45m&\u001b[0m \u001b[43m#\u001b[0m \u001b[42m@\u001b[0m \u001b[42m@\u001b[0m \u001b[45m&\u001b[0m \u001b[45m&\u001b[0m \u001b[47m \u001b[0m \u001b[47m \u001b[0m \u001b[43m#\u001b[0m \u001b[47m \u001b[0m \n",
      "\u001b[42m@\u001b[0m \u001b[43m#\u001b[0m \u001b[45m&\u001b[0m \u001b[44m~\u001b[0m \u001b[45m&\u001b[0m \u001b[43m#\u001b[0m \u001b[42m@\u001b[0m \u001b[42m@\u001b[0m \u001b[45m&\u001b[0m \u001b[45m&\u001b[0m \u001b[47m \u001b[0m \u001b[43m#\u001b[0m \u001b[47m \u001b[0m \u001b[47m \u001b[0m \n",
      "\u001b[42m@\u001b[0m \u001b[43m#\u001b[0m \u001b[45m&\u001b[0m \u001b[44m~\u001b[0m \u001b[45m&\u001b[0m \u001b[43m#\u001b[0m \u001b[42m@\u001b[0m \u001b[42m@\u001b[0m \u001b[45m&\u001b[0m \u001b[45m&\u001b[0m \u001b[43m#\u001b[0m \u001b[47m \u001b[0m \u001b[47m \u001b[0m \u001b[47m \u001b[0m \n",
      "\u001b[42m@\u001b[0m \u001b[43m#\u001b[0m \u001b[45m&\u001b[0m \u001b[44m~\u001b[0m \u001b[45m&\u001b[0m \u001b[43m#\u001b[0m \u001b[42m@\u001b[0m \u001b[42m@\u001b[0m \u001b[45m&\u001b[0m \u001b[45m&\u001b[0m \u001b[43m#\u001b[0m \u001b[42m@\u001b[0m \u001b[42m@\u001b[0m \u001b[44m~\u001b[0m \n",
      "\n",
      "【ゴブリンのターン(HP=132)】\n",
      "ダミー攻撃でパーティに9のダメージを与えた\n",
      "\n",
      "【すっとんのターン(HP=558)】\n",
      "バトルフィールド\n",
      "\u001b[43m#ゴブリン#\u001b[0mHP = 132 / 200\n",
      "    \n",
      "\u001b[41m$朱雀$\u001b[0m \u001b[42m@青龍@\u001b[0m \u001b[43m#白虎#\u001b[0m \u001b[44m~玄武~\u001b[0m \n",
      "HP = 558 / 600\n",
      "--------------------\n",
      "A B C D E F G H I J K L M N \n",
      "\u001b[42m@\u001b[0m \u001b[43m#\u001b[0m \u001b[45m&\u001b[0m \u001b[44m~\u001b[0m \u001b[45m&\u001b[0m \u001b[43m#\u001b[0m \u001b[42m@\u001b[0m \u001b[42m@\u001b[0m \u001b[45m&\u001b[0m \u001b[45m&\u001b[0m \u001b[43m#\u001b[0m \u001b[42m@\u001b[0m \u001b[42m@\u001b[0m \u001b[44m~\u001b[0m \n",
      "--------------------\n"
     ]
    },
    {
     "name": "stdin",
     "output_type": "stream",
     "text": [
      "コマンド?>> HK\n"
     ]
    },
    {
     "name": "stdout",
     "output_type": "stream",
     "text": [
      "\u001b[42m@\u001b[0m \u001b[43m#\u001b[0m \u001b[45m&\u001b[0m \u001b[44m~\u001b[0m \u001b[45m&\u001b[0m \u001b[43m#\u001b[0m \u001b[42m@\u001b[0m \u001b[42m@\u001b[0m \u001b[45m&\u001b[0m \u001b[45m&\u001b[0m \u001b[43m#\u001b[0m \u001b[42m@\u001b[0m \u001b[42m@\u001b[0m \u001b[44m~\u001b[0m \n",
      "\n",
      "\u001b[42m@\u001b[0m \u001b[43m#\u001b[0m \u001b[45m&\u001b[0m \u001b[44m~\u001b[0m \u001b[45m&\u001b[0m \u001b[43m#\u001b[0m \u001b[42m@\u001b[0m \u001b[45m&\u001b[0m \u001b[42m@\u001b[0m \u001b[45m&\u001b[0m \u001b[43m#\u001b[0m \u001b[42m@\u001b[0m \u001b[42m@\u001b[0m \u001b[44m~\u001b[0m \n",
      "\n",
      "\u001b[42m@\u001b[0m \u001b[43m#\u001b[0m \u001b[45m&\u001b[0m \u001b[44m~\u001b[0m \u001b[45m&\u001b[0m \u001b[43m#\u001b[0m \u001b[42m@\u001b[0m \u001b[45m&\u001b[0m \u001b[45m&\u001b[0m \u001b[42m@\u001b[0m \u001b[43m#\u001b[0m \u001b[42m@\u001b[0m \u001b[42m@\u001b[0m \u001b[44m~\u001b[0m \n",
      "\n",
      "\u001b[42m@\u001b[0m \u001b[43m#\u001b[0m \u001b[45m&\u001b[0m \u001b[44m~\u001b[0m \u001b[45m&\u001b[0m \u001b[43m#\u001b[0m \u001b[42m@\u001b[0m \u001b[45m&\u001b[0m \u001b[45m&\u001b[0m \u001b[43m#\u001b[0m \u001b[42m@\u001b[0m \u001b[42m@\u001b[0m \u001b[42m@\u001b[0m \u001b[44m~\u001b[0m \n",
      "\n",
      "\u001b[42m@\u001b[0m \u001b[43m#\u001b[0m \u001b[45m&\u001b[0m \u001b[44m~\u001b[0m \u001b[45m&\u001b[0m \u001b[43m#\u001b[0m \u001b[42m@\u001b[0m \u001b[45m&\u001b[0m \u001b[45m&\u001b[0m \u001b[43m#\u001b[0m \u001b[47m \u001b[0m \u001b[47m \u001b[0m \u001b[47m \u001b[0m \u001b[44m~\u001b[0m \n",
      "\u001b[42m@青龍@\u001b[0mの攻撃!\n",
      "敵モンスターに30のダメージを与えた\n",
      "\u001b[42m@\u001b[0m \u001b[43m#\u001b[0m \u001b[45m&\u001b[0m \u001b[44m~\u001b[0m \u001b[45m&\u001b[0m \u001b[43m#\u001b[0m \u001b[42m@\u001b[0m \u001b[45m&\u001b[0m \u001b[45m&\u001b[0m \u001b[43m#\u001b[0m \u001b[47m \u001b[0m \u001b[47m \u001b[0m \u001b[47m \u001b[0m \u001b[44m~\u001b[0m \n",
      "\u001b[42m@\u001b[0m \u001b[43m#\u001b[0m \u001b[45m&\u001b[0m \u001b[44m~\u001b[0m \u001b[45m&\u001b[0m \u001b[43m#\u001b[0m \u001b[42m@\u001b[0m \u001b[45m&\u001b[0m \u001b[45m&\u001b[0m \u001b[43m#\u001b[0m \u001b[47m \u001b[0m \u001b[47m \u001b[0m \u001b[44m~\u001b[0m \u001b[47m \u001b[0m \n",
      "\u001b[42m@\u001b[0m \u001b[43m#\u001b[0m \u001b[45m&\u001b[0m \u001b[44m~\u001b[0m \u001b[45m&\u001b[0m \u001b[43m#\u001b[0m \u001b[42m@\u001b[0m \u001b[45m&\u001b[0m \u001b[45m&\u001b[0m \u001b[43m#\u001b[0m \u001b[47m \u001b[0m \u001b[44m~\u001b[0m \u001b[47m \u001b[0m \u001b[47m \u001b[0m \n",
      "\u001b[42m@\u001b[0m \u001b[43m#\u001b[0m \u001b[45m&\u001b[0m \u001b[44m~\u001b[0m \u001b[45m&\u001b[0m \u001b[43m#\u001b[0m \u001b[42m@\u001b[0m \u001b[45m&\u001b[0m \u001b[45m&\u001b[0m \u001b[43m#\u001b[0m \u001b[44m~\u001b[0m \u001b[47m \u001b[0m \u001b[47m \u001b[0m \u001b[47m \u001b[0m \n",
      "\u001b[42m@\u001b[0m \u001b[43m#\u001b[0m \u001b[45m&\u001b[0m \u001b[44m~\u001b[0m \u001b[45m&\u001b[0m \u001b[43m#\u001b[0m \u001b[42m@\u001b[0m \u001b[45m&\u001b[0m \u001b[45m&\u001b[0m \u001b[43m#\u001b[0m \u001b[44m~\u001b[0m \u001b[43m#\u001b[0m \u001b[43m#\u001b[0m \u001b[45m&\u001b[0m \n",
      "\n",
      "【ゴブリンのターン(HP=102)】\n",
      "ダミー攻撃でパーティに10のダメージを与えた\n",
      "\n",
      "【すっとんのターン(HP=548)】\n",
      "バトルフィールド\n",
      "\u001b[43m#ゴブリン#\u001b[0mHP = 102 / 200\n",
      "    \n",
      "\u001b[41m$朱雀$\u001b[0m \u001b[42m@青龍@\u001b[0m \u001b[43m#白虎#\u001b[0m \u001b[44m~玄武~\u001b[0m \n",
      "HP = 548 / 600\n",
      "--------------------\n",
      "A B C D E F G H I J K L M N \n",
      "\u001b[42m@\u001b[0m \u001b[43m#\u001b[0m \u001b[45m&\u001b[0m \u001b[44m~\u001b[0m \u001b[45m&\u001b[0m \u001b[43m#\u001b[0m \u001b[42m@\u001b[0m \u001b[45m&\u001b[0m \u001b[45m&\u001b[0m \u001b[43m#\u001b[0m \u001b[44m~\u001b[0m \u001b[43m#\u001b[0m \u001b[43m#\u001b[0m \u001b[45m&\u001b[0m \n",
      "--------------------\n"
     ]
    },
    {
     "name": "stdin",
     "output_type": "stream",
     "text": [
      "コマンド?>> JK\n"
     ]
    },
    {
     "name": "stdout",
     "output_type": "stream",
     "text": [
      "\u001b[42m@\u001b[0m \u001b[43m#\u001b[0m \u001b[45m&\u001b[0m \u001b[44m~\u001b[0m \u001b[45m&\u001b[0m \u001b[43m#\u001b[0m \u001b[42m@\u001b[0m \u001b[45m&\u001b[0m \u001b[45m&\u001b[0m \u001b[43m#\u001b[0m \u001b[44m~\u001b[0m \u001b[43m#\u001b[0m \u001b[43m#\u001b[0m \u001b[45m&\u001b[0m \n",
      "\n",
      "\u001b[42m@\u001b[0m \u001b[43m#\u001b[0m \u001b[45m&\u001b[0m \u001b[44m~\u001b[0m \u001b[45m&\u001b[0m \u001b[43m#\u001b[0m \u001b[42m@\u001b[0m \u001b[45m&\u001b[0m \u001b[45m&\u001b[0m \u001b[44m~\u001b[0m \u001b[43m#\u001b[0m \u001b[43m#\u001b[0m \u001b[43m#\u001b[0m \u001b[45m&\u001b[0m \n",
      "\n",
      "\u001b[42m@\u001b[0m \u001b[43m#\u001b[0m \u001b[45m&\u001b[0m \u001b[44m~\u001b[0m \u001b[45m&\u001b[0m \u001b[43m#\u001b[0m \u001b[42m@\u001b[0m \u001b[45m&\u001b[0m \u001b[45m&\u001b[0m \u001b[44m~\u001b[0m \u001b[47m \u001b[0m \u001b[47m \u001b[0m \u001b[47m \u001b[0m \u001b[45m&\u001b[0m \n",
      "\u001b[43m#白虎#\u001b[0mの攻撃!\n",
      "敵モンスターに21のダメージを与えた\n",
      "\u001b[42m@\u001b[0m \u001b[43m#\u001b[0m \u001b[45m&\u001b[0m \u001b[44m~\u001b[0m \u001b[45m&\u001b[0m \u001b[43m#\u001b[0m \u001b[42m@\u001b[0m \u001b[45m&\u001b[0m \u001b[45m&\u001b[0m \u001b[44m~\u001b[0m \u001b[47m \u001b[0m \u001b[47m \u001b[0m \u001b[47m \u001b[0m \u001b[45m&\u001b[0m \n",
      "\u001b[42m@\u001b[0m \u001b[43m#\u001b[0m \u001b[45m&\u001b[0m \u001b[44m~\u001b[0m \u001b[45m&\u001b[0m \u001b[43m#\u001b[0m \u001b[42m@\u001b[0m \u001b[45m&\u001b[0m \u001b[45m&\u001b[0m \u001b[44m~\u001b[0m \u001b[47m \u001b[0m \u001b[47m \u001b[0m \u001b[45m&\u001b[0m \u001b[47m \u001b[0m \n",
      "\u001b[42m@\u001b[0m \u001b[43m#\u001b[0m \u001b[45m&\u001b[0m \u001b[44m~\u001b[0m \u001b[45m&\u001b[0m \u001b[43m#\u001b[0m \u001b[42m@\u001b[0m \u001b[45m&\u001b[0m \u001b[45m&\u001b[0m \u001b[44m~\u001b[0m \u001b[47m \u001b[0m \u001b[45m&\u001b[0m \u001b[47m \u001b[0m \u001b[47m \u001b[0m \n",
      "\u001b[42m@\u001b[0m \u001b[43m#\u001b[0m \u001b[45m&\u001b[0m \u001b[44m~\u001b[0m \u001b[45m&\u001b[0m \u001b[43m#\u001b[0m \u001b[42m@\u001b[0m \u001b[45m&\u001b[0m \u001b[45m&\u001b[0m \u001b[44m~\u001b[0m \u001b[45m&\u001b[0m \u001b[47m \u001b[0m \u001b[47m \u001b[0m \u001b[47m \u001b[0m \n",
      "\u001b[42m@\u001b[0m \u001b[43m#\u001b[0m \u001b[45m&\u001b[0m \u001b[44m~\u001b[0m \u001b[45m&\u001b[0m \u001b[43m#\u001b[0m \u001b[42m@\u001b[0m \u001b[45m&\u001b[0m \u001b[45m&\u001b[0m \u001b[44m~\u001b[0m \u001b[45m&\u001b[0m \u001b[43m#\u001b[0m \u001b[42m@\u001b[0m \u001b[44m~\u001b[0m \n",
      "\n",
      "【ゴブリンのターン(HP=81)】\n",
      "ダミー攻撃でパーティに9のダメージを与えた\n",
      "\n",
      "【すっとんのターン(HP=539)】\n",
      "バトルフィールド\n",
      "\u001b[43m#ゴブリン#\u001b[0mHP = 81 / 200\n",
      "    \n",
      "\u001b[41m$朱雀$\u001b[0m \u001b[42m@青龍@\u001b[0m \u001b[43m#白虎#\u001b[0m \u001b[44m~玄武~\u001b[0m \n",
      "HP = 539 / 600\n",
      "--------------------\n",
      "A B C D E F G H I J K L M N \n",
      "\u001b[42m@\u001b[0m \u001b[43m#\u001b[0m \u001b[45m&\u001b[0m \u001b[44m~\u001b[0m \u001b[45m&\u001b[0m \u001b[43m#\u001b[0m \u001b[42m@\u001b[0m \u001b[45m&\u001b[0m \u001b[45m&\u001b[0m \u001b[44m~\u001b[0m \u001b[45m&\u001b[0m \u001b[43m#\u001b[0m \u001b[42m@\u001b[0m \u001b[44m~\u001b[0m \n",
      "--------------------\n"
     ]
    },
    {
     "name": "stdin",
     "output_type": "stream",
     "text": [
      "コマンド?>> AF\n"
     ]
    },
    {
     "name": "stdout",
     "output_type": "stream",
     "text": [
      "\u001b[42m@\u001b[0m \u001b[43m#\u001b[0m \u001b[45m&\u001b[0m \u001b[44m~\u001b[0m \u001b[45m&\u001b[0m \u001b[43m#\u001b[0m \u001b[42m@\u001b[0m \u001b[45m&\u001b[0m \u001b[45m&\u001b[0m \u001b[44m~\u001b[0m \u001b[45m&\u001b[0m \u001b[43m#\u001b[0m \u001b[42m@\u001b[0m \u001b[44m~\u001b[0m \n",
      "\n",
      "\u001b[43m#\u001b[0m \u001b[42m@\u001b[0m \u001b[45m&\u001b[0m \u001b[44m~\u001b[0m \u001b[45m&\u001b[0m \u001b[43m#\u001b[0m \u001b[42m@\u001b[0m \u001b[45m&\u001b[0m \u001b[45m&\u001b[0m \u001b[44m~\u001b[0m \u001b[45m&\u001b[0m \u001b[43m#\u001b[0m \u001b[42m@\u001b[0m \u001b[44m~\u001b[0m \n",
      "\n",
      "\u001b[43m#\u001b[0m \u001b[45m&\u001b[0m \u001b[42m@\u001b[0m \u001b[44m~\u001b[0m \u001b[45m&\u001b[0m \u001b[43m#\u001b[0m \u001b[42m@\u001b[0m \u001b[45m&\u001b[0m \u001b[45m&\u001b[0m \u001b[44m~\u001b[0m \u001b[45m&\u001b[0m \u001b[43m#\u001b[0m \u001b[42m@\u001b[0m \u001b[44m~\u001b[0m \n",
      "\n",
      "\u001b[43m#\u001b[0m \u001b[45m&\u001b[0m \u001b[44m~\u001b[0m \u001b[42m@\u001b[0m \u001b[45m&\u001b[0m \u001b[43m#\u001b[0m \u001b[42m@\u001b[0m \u001b[45m&\u001b[0m \u001b[45m&\u001b[0m \u001b[44m~\u001b[0m \u001b[45m&\u001b[0m \u001b[43m#\u001b[0m \u001b[42m@\u001b[0m \u001b[44m~\u001b[0m \n",
      "\n",
      "\u001b[43m#\u001b[0m \u001b[45m&\u001b[0m \u001b[44m~\u001b[0m \u001b[45m&\u001b[0m \u001b[42m@\u001b[0m \u001b[43m#\u001b[0m \u001b[42m@\u001b[0m \u001b[45m&\u001b[0m \u001b[45m&\u001b[0m \u001b[44m~\u001b[0m \u001b[45m&\u001b[0m \u001b[43m#\u001b[0m \u001b[42m@\u001b[0m \u001b[44m~\u001b[0m \n",
      "\n",
      "\u001b[43m#\u001b[0m \u001b[45m&\u001b[0m \u001b[44m~\u001b[0m \u001b[45m&\u001b[0m \u001b[43m#\u001b[0m \u001b[42m@\u001b[0m \u001b[42m@\u001b[0m \u001b[45m&\u001b[0m \u001b[45m&\u001b[0m \u001b[44m~\u001b[0m \u001b[45m&\u001b[0m \u001b[43m#\u001b[0m \u001b[42m@\u001b[0m \u001b[44m~\u001b[0m \n",
      "\n",
      "\n",
      "【ゴブリンのターン(HP=81)】\n",
      "ダミー攻撃でパーティに10のダメージを与えた\n",
      "\n",
      "【すっとんのターン(HP=529)】\n",
      "バトルフィールド\n",
      "\u001b[43m#ゴブリン#\u001b[0mHP = 81 / 200\n",
      "    \n",
      "\u001b[41m$朱雀$\u001b[0m \u001b[42m@青龍@\u001b[0m \u001b[43m#白虎#\u001b[0m \u001b[44m~玄武~\u001b[0m \n",
      "HP = 529 / 600\n",
      "--------------------\n",
      "A B C D E F G H I J K L M N \n",
      "\u001b[43m#\u001b[0m \u001b[45m&\u001b[0m \u001b[44m~\u001b[0m \u001b[45m&\u001b[0m \u001b[43m#\u001b[0m \u001b[42m@\u001b[0m \u001b[42m@\u001b[0m \u001b[45m&\u001b[0m \u001b[45m&\u001b[0m \u001b[44m~\u001b[0m \u001b[45m&\u001b[0m \u001b[43m#\u001b[0m \u001b[42m@\u001b[0m \u001b[44m~\u001b[0m \n",
      "--------------------\n"
     ]
    },
    {
     "name": "stdin",
     "output_type": "stream",
     "text": [
      "コマンド?>> MH\n"
     ]
    },
    {
     "name": "stdout",
     "output_type": "stream",
     "text": [
      "\u001b[43m#\u001b[0m \u001b[45m&\u001b[0m \u001b[44m~\u001b[0m \u001b[45m&\u001b[0m \u001b[43m#\u001b[0m \u001b[42m@\u001b[0m \u001b[42m@\u001b[0m \u001b[45m&\u001b[0m \u001b[45m&\u001b[0m \u001b[44m~\u001b[0m \u001b[45m&\u001b[0m \u001b[43m#\u001b[0m \u001b[42m@\u001b[0m \u001b[44m~\u001b[0m \n",
      "\n",
      "\u001b[43m#\u001b[0m \u001b[45m&\u001b[0m \u001b[44m~\u001b[0m \u001b[45m&\u001b[0m \u001b[43m#\u001b[0m \u001b[42m@\u001b[0m \u001b[42m@\u001b[0m \u001b[45m&\u001b[0m \u001b[45m&\u001b[0m \u001b[44m~\u001b[0m \u001b[45m&\u001b[0m \u001b[42m@\u001b[0m \u001b[43m#\u001b[0m \u001b[44m~\u001b[0m \n",
      "\n",
      "\u001b[43m#\u001b[0m \u001b[45m&\u001b[0m \u001b[44m~\u001b[0m \u001b[45m&\u001b[0m \u001b[43m#\u001b[0m \u001b[42m@\u001b[0m \u001b[42m@\u001b[0m \u001b[45m&\u001b[0m \u001b[45m&\u001b[0m \u001b[44m~\u001b[0m \u001b[42m@\u001b[0m \u001b[45m&\u001b[0m \u001b[43m#\u001b[0m \u001b[44m~\u001b[0m \n",
      "\n",
      "\u001b[43m#\u001b[0m \u001b[45m&\u001b[0m \u001b[44m~\u001b[0m \u001b[45m&\u001b[0m \u001b[43m#\u001b[0m \u001b[42m@\u001b[0m \u001b[42m@\u001b[0m \u001b[45m&\u001b[0m \u001b[45m&\u001b[0m \u001b[42m@\u001b[0m \u001b[44m~\u001b[0m \u001b[45m&\u001b[0m \u001b[43m#\u001b[0m \u001b[44m~\u001b[0m \n",
      "\n",
      "\u001b[43m#\u001b[0m \u001b[45m&\u001b[0m \u001b[44m~\u001b[0m \u001b[45m&\u001b[0m \u001b[43m#\u001b[0m \u001b[42m@\u001b[0m \u001b[42m@\u001b[0m \u001b[45m&\u001b[0m \u001b[42m@\u001b[0m \u001b[45m&\u001b[0m \u001b[44m~\u001b[0m \u001b[45m&\u001b[0m \u001b[43m#\u001b[0m \u001b[44m~\u001b[0m \n",
      "\n",
      "\u001b[43m#\u001b[0m \u001b[45m&\u001b[0m \u001b[44m~\u001b[0m \u001b[45m&\u001b[0m \u001b[43m#\u001b[0m \u001b[42m@\u001b[0m \u001b[42m@\u001b[0m \u001b[42m@\u001b[0m \u001b[45m&\u001b[0m \u001b[45m&\u001b[0m \u001b[44m~\u001b[0m \u001b[45m&\u001b[0m \u001b[43m#\u001b[0m \u001b[44m~\u001b[0m \n",
      "\n",
      "\u001b[43m#\u001b[0m \u001b[45m&\u001b[0m \u001b[44m~\u001b[0m \u001b[45m&\u001b[0m \u001b[43m#\u001b[0m \u001b[47m \u001b[0m \u001b[47m \u001b[0m \u001b[47m \u001b[0m \u001b[45m&\u001b[0m \u001b[45m&\u001b[0m \u001b[44m~\u001b[0m \u001b[45m&\u001b[0m \u001b[43m#\u001b[0m \u001b[44m~\u001b[0m \n",
      "\u001b[42m@青龍@\u001b[0mの攻撃!\n",
      "敵モンスターに27のダメージを与えた\n",
      "\u001b[43m#\u001b[0m \u001b[45m&\u001b[0m \u001b[44m~\u001b[0m \u001b[45m&\u001b[0m \u001b[43m#\u001b[0m \u001b[47m \u001b[0m \u001b[47m \u001b[0m \u001b[47m \u001b[0m \u001b[45m&\u001b[0m \u001b[45m&\u001b[0m \u001b[44m~\u001b[0m \u001b[45m&\u001b[0m \u001b[43m#\u001b[0m \u001b[44m~\u001b[0m \n",
      "\u001b[43m#\u001b[0m \u001b[45m&\u001b[0m \u001b[44m~\u001b[0m \u001b[45m&\u001b[0m \u001b[43m#\u001b[0m \u001b[47m \u001b[0m \u001b[47m \u001b[0m \u001b[45m&\u001b[0m \u001b[45m&\u001b[0m \u001b[44m~\u001b[0m \u001b[45m&\u001b[0m \u001b[43m#\u001b[0m \u001b[44m~\u001b[0m \u001b[47m \u001b[0m \n",
      "\u001b[43m#\u001b[0m \u001b[45m&\u001b[0m \u001b[44m~\u001b[0m \u001b[45m&\u001b[0m \u001b[43m#\u001b[0m \u001b[47m \u001b[0m \u001b[45m&\u001b[0m \u001b[45m&\u001b[0m \u001b[44m~\u001b[0m \u001b[45m&\u001b[0m \u001b[43m#\u001b[0m \u001b[44m~\u001b[0m \u001b[47m \u001b[0m \u001b[47m \u001b[0m \n",
      "\u001b[43m#\u001b[0m \u001b[45m&\u001b[0m \u001b[44m~\u001b[0m \u001b[45m&\u001b[0m \u001b[43m#\u001b[0m \u001b[45m&\u001b[0m \u001b[45m&\u001b[0m \u001b[44m~\u001b[0m \u001b[45m&\u001b[0m \u001b[43m#\u001b[0m \u001b[44m~\u001b[0m \u001b[47m \u001b[0m \u001b[47m \u001b[0m \u001b[47m \u001b[0m \n",
      "\u001b[43m#\u001b[0m \u001b[45m&\u001b[0m \u001b[44m~\u001b[0m \u001b[45m&\u001b[0m \u001b[43m#\u001b[0m \u001b[45m&\u001b[0m \u001b[45m&\u001b[0m \u001b[44m~\u001b[0m \u001b[45m&\u001b[0m \u001b[43m#\u001b[0m \u001b[44m~\u001b[0m \u001b[43m#\u001b[0m \u001b[43m#\u001b[0m \u001b[44m~\u001b[0m \n",
      "\n",
      "【ゴブリンのターン(HP=54)】\n",
      "ダミー攻撃でパーティに9のダメージを与えた\n",
      "\n",
      "【すっとんのターン(HP=520)】\n",
      "バトルフィールド\n",
      "\u001b[43m#ゴブリン#\u001b[0mHP = 54 / 200\n",
      "    \n",
      "\u001b[41m$朱雀$\u001b[0m \u001b[42m@青龍@\u001b[0m \u001b[43m#白虎#\u001b[0m \u001b[44m~玄武~\u001b[0m \n",
      "HP = 520 / 600\n",
      "--------------------\n",
      "A B C D E F G H I J K L M N \n",
      "\u001b[43m#\u001b[0m \u001b[45m&\u001b[0m \u001b[44m~\u001b[0m \u001b[45m&\u001b[0m \u001b[43m#\u001b[0m \u001b[45m&\u001b[0m \u001b[45m&\u001b[0m \u001b[44m~\u001b[0m \u001b[45m&\u001b[0m \u001b[43m#\u001b[0m \u001b[44m~\u001b[0m \u001b[43m#\u001b[0m \u001b[43m#\u001b[0m \u001b[44m~\u001b[0m \n",
      "--------------------\n"
     ]
    },
    {
     "ename": "KeyboardInterrupt",
     "evalue": "Interrupted by user",
     "output_type": "error",
     "traceback": [
      "\u001b[0;31m---------------------------------------------------------------------------\u001b[0m",
      "\u001b[0;31mKeyboardInterrupt\u001b[0m                         Traceback (most recent call last)",
      "\u001b[0;32m<ipython-input-12-263240bbee7e>\u001b[0m in \u001b[0;36m<module>\u001b[0;34m\u001b[0m\n\u001b[0;32m----> 1\u001b[0;31m \u001b[0mmain\u001b[0m\u001b[0;34m(\u001b[0m\u001b[0;34m)\u001b[0m\u001b[0;34m\u001b[0m\u001b[0;34m\u001b[0m\u001b[0m\n\u001b[0m",
      "\u001b[0;32m<ipython-input-10-3262f65dad45>\u001b[0m in \u001b[0;36mmain\u001b[0;34m()\u001b[0m\n\u001b[1;32m     68\u001b[0m         \u001b[0mfriends\u001b[0m \u001b[0;34m=\u001b[0m\u001b[0;34m[\u001b[0m\u001b[0msuzaku\u001b[0m\u001b[0;34m,\u001b[0m \u001b[0mseiryu\u001b[0m\u001b[0;34m,\u001b[0m \u001b[0mbyakko\u001b[0m\u001b[0;34m,\u001b[0m \u001b[0mgenbu\u001b[0m\u001b[0;34m]\u001b[0m\u001b[0;34m\u001b[0m\u001b[0;34m\u001b[0m\u001b[0m\n\u001b[1;32m     69\u001b[0m         \u001b[0mparty\u001b[0m \u001b[0;34m=\u001b[0m \u001b[0morganize_party\u001b[0m\u001b[0;34m(\u001b[0m\u001b[0mplayer_name\u001b[0m\u001b[0;34m,\u001b[0m\u001b[0mfriends\u001b[0m\u001b[0;34m)\u001b[0m\u001b[0;34m\u001b[0m\u001b[0;34m\u001b[0m\u001b[0m\n\u001b[0;32m---> 70\u001b[0;31m         \u001b[0mnumber\u001b[0m \u001b[0;34m=\u001b[0m \u001b[0mgo_dungeon\u001b[0m\u001b[0;34m(\u001b[0m\u001b[0mparty\u001b[0m\u001b[0;34m,\u001b[0m \u001b[0menemies\u001b[0m\u001b[0;34m)\u001b[0m\u001b[0;34m\u001b[0m\u001b[0;34m\u001b[0m\u001b[0m\n\u001b[0m\u001b[1;32m     71\u001b[0m         \u001b[0;32mif\u001b[0m \u001b[0mnumber\u001b[0m \u001b[0;34m==\u001b[0m \u001b[0;36m5\u001b[0m\u001b[0;34m:\u001b[0m\u001b[0;34m\u001b[0m\u001b[0;34m\u001b[0m\u001b[0m\n\u001b[1;32m     72\u001b[0m             \u001b[0mprint\u001b[0m\u001b[0;34m(\u001b[0m\u001b[0;34m'### GAME CLEARED!! ###'\u001b[0m\u001b[0;34m)\u001b[0m\u001b[0;34m\u001b[0m\u001b[0;34m\u001b[0m\u001b[0m\n",
      "\u001b[0;32m<ipython-input-10-3262f65dad45>\u001b[0m in \u001b[0;36mgo_dungeon\u001b[0;34m(party, enemies)\u001b[0m\n\u001b[1;32m    101\u001b[0m     \u001b[0;32mfor\u001b[0m \u001b[0menemy\u001b[0m \u001b[0;32min\u001b[0m \u001b[0menemies\u001b[0m\u001b[0;34m:\u001b[0m\u001b[0;34m\u001b[0m\u001b[0;34m\u001b[0m\u001b[0m\n\u001b[1;32m    102\u001b[0m         \u001b[0;31m# enemy_name = enemy['name']\u001b[0m\u001b[0;34m\u001b[0m\u001b[0;34m\u001b[0m\u001b[0;34m\u001b[0m\u001b[0m\n\u001b[0;32m--> 103\u001b[0;31m         \u001b[0mwin_flg\u001b[0m \u001b[0;34m+=\u001b[0m \u001b[0mdo_battle\u001b[0m\u001b[0;34m(\u001b[0m\u001b[0mparty\u001b[0m\u001b[0;34m,\u001b[0m \u001b[0menemy\u001b[0m\u001b[0;34m)\u001b[0m\u001b[0;34m\u001b[0m\u001b[0;34m\u001b[0m\u001b[0m\n\u001b[0m\u001b[1;32m    104\u001b[0m         \u001b[0;32mif\u001b[0m \u001b[0mparty\u001b[0m\u001b[0;34m[\u001b[0m\u001b[0;34m'hp'\u001b[0m\u001b[0;34m]\u001b[0m \u001b[0;34m<=\u001b[0m \u001b[0;36m0\u001b[0m\u001b[0;34m:\u001b[0m\u001b[0;34m\u001b[0m\u001b[0;34m\u001b[0m\u001b[0m\n\u001b[1;32m    105\u001b[0m             \u001b[0mprint\u001b[0m\u001b[0;34m(\u001b[0m\u001b[0;34mf'{party[\"player_name\"]}はダンジョンから逃げ出しました'\u001b[0m\u001b[0;34m)\u001b[0m\u001b[0;34m\u001b[0m\u001b[0;34m\u001b[0m\u001b[0m\n",
      "\u001b[0;32m<ipython-input-10-3262f65dad45>\u001b[0m in \u001b[0;36mdo_battle\u001b[0;34m(party, enemy)\u001b[0m\n\u001b[1;32m    127\u001b[0m \u001b[0;34m\u001b[0m\u001b[0m\n\u001b[1;32m    128\u001b[0m     \u001b[0;32mwhile\u001b[0m \u001b[0;32mTrue\u001b[0m\u001b[0;34m:\u001b[0m\u001b[0;34m\u001b[0m\u001b[0;34m\u001b[0m\u001b[0m\n\u001b[0;32m--> 129\u001b[0;31m         \u001b[0mon_player_turn\u001b[0m\u001b[0;34m(\u001b[0m\u001b[0mbattle_field\u001b[0m\u001b[0;34m)\u001b[0m\u001b[0;34m\u001b[0m\u001b[0;34m\u001b[0m\u001b[0m\n\u001b[0m\u001b[1;32m    130\u001b[0m         \u001b[0;32mif\u001b[0m \u001b[0menemy\u001b[0m\u001b[0;34m[\u001b[0m\u001b[0;34m'hp'\u001b[0m\u001b[0;34m]\u001b[0m \u001b[0;34m<=\u001b[0m \u001b[0;36m0\u001b[0m\u001b[0;34m:\u001b[0m\u001b[0;34m\u001b[0m\u001b[0;34m\u001b[0m\u001b[0m\n\u001b[1;32m    131\u001b[0m             \u001b[0;32mbreak\u001b[0m\u001b[0;34m\u001b[0m\u001b[0;34m\u001b[0m\u001b[0m\n",
      "\u001b[0;32m<ipython-input-10-3262f65dad45>\u001b[0m in \u001b[0;36mon_player_turn\u001b[0;34m(battle_field)\u001b[0m\n\u001b[1;32m    176\u001b[0m     \u001b[0mshow_battle_field\u001b[0m\u001b[0;34m(\u001b[0m\u001b[0mbattle_field\u001b[0m\u001b[0;34m)\u001b[0m\u001b[0;34m\u001b[0m\u001b[0;34m\u001b[0m\u001b[0m\n\u001b[1;32m    177\u001b[0m \u001b[0;34m\u001b[0m\u001b[0m\n\u001b[0;32m--> 178\u001b[0;31m     \u001b[0mcommand\u001b[0m \u001b[0;34m=\u001b[0m \u001b[0minput\u001b[0m\u001b[0;34m(\u001b[0m\u001b[0;34m\"コマンド?>>\"\u001b[0m\u001b[0;34m)\u001b[0m\u001b[0;34m\u001b[0m\u001b[0;34m\u001b[0m\u001b[0m\n\u001b[0m\u001b[1;32m    179\u001b[0m     \u001b[0;32mwhile\u001b[0m \u001b[0;32mnot\u001b[0m \u001b[0mcheck_valid_command\u001b[0m\u001b[0;34m(\u001b[0m\u001b[0mcommand\u001b[0m\u001b[0;34m)\u001b[0m\u001b[0;34m:\u001b[0m\u001b[0;34m\u001b[0m\u001b[0;34m\u001b[0m\u001b[0m\n\u001b[1;32m    180\u001b[0m         \u001b[0mprint\u001b[0m\u001b[0;34m(\u001b[0m\u001b[0;34m'入力されたコマンドは不適切です'\u001b[0m\u001b[0;34m)\u001b[0m\u001b[0;34m\u001b[0m\u001b[0;34m\u001b[0m\u001b[0m\n",
      "\u001b[0;32m/usr/local/anaconda3/lib/python3.8/site-packages/ipykernel/kernelbase.py\u001b[0m in \u001b[0;36mraw_input\u001b[0;34m(self, prompt)\u001b[0m\n\u001b[1;32m    858\u001b[0m                 \u001b[0;34m\"raw_input was called, but this frontend does not support input requests.\"\u001b[0m\u001b[0;34m\u001b[0m\u001b[0;34m\u001b[0m\u001b[0m\n\u001b[1;32m    859\u001b[0m             )\n\u001b[0;32m--> 860\u001b[0;31m         return self._input_request(str(prompt),\n\u001b[0m\u001b[1;32m    861\u001b[0m             \u001b[0mself\u001b[0m\u001b[0;34m.\u001b[0m\u001b[0m_parent_ident\u001b[0m\u001b[0;34m,\u001b[0m\u001b[0;34m\u001b[0m\u001b[0;34m\u001b[0m\u001b[0m\n\u001b[1;32m    862\u001b[0m             \u001b[0mself\u001b[0m\u001b[0;34m.\u001b[0m\u001b[0m_parent_header\u001b[0m\u001b[0;34m,\u001b[0m\u001b[0;34m\u001b[0m\u001b[0;34m\u001b[0m\u001b[0m\n",
      "\u001b[0;32m/usr/local/anaconda3/lib/python3.8/site-packages/ipykernel/kernelbase.py\u001b[0m in \u001b[0;36m_input_request\u001b[0;34m(self, prompt, ident, parent, password)\u001b[0m\n\u001b[1;32m    902\u001b[0m             \u001b[0;32mexcept\u001b[0m \u001b[0mKeyboardInterrupt\u001b[0m\u001b[0;34m:\u001b[0m\u001b[0;34m\u001b[0m\u001b[0;34m\u001b[0m\u001b[0m\n\u001b[1;32m    903\u001b[0m                 \u001b[0;31m# re-raise KeyboardInterrupt, to truncate traceback\u001b[0m\u001b[0;34m\u001b[0m\u001b[0;34m\u001b[0m\u001b[0;34m\u001b[0m\u001b[0m\n\u001b[0;32m--> 904\u001b[0;31m                 \u001b[0;32mraise\u001b[0m \u001b[0mKeyboardInterrupt\u001b[0m\u001b[0;34m(\u001b[0m\u001b[0;34m\"Interrupted by user\"\u001b[0m\u001b[0;34m)\u001b[0m \u001b[0;32mfrom\u001b[0m \u001b[0;32mNone\u001b[0m\u001b[0;34m\u001b[0m\u001b[0;34m\u001b[0m\u001b[0m\n\u001b[0m\u001b[1;32m    905\u001b[0m             \u001b[0;32mexcept\u001b[0m \u001b[0mException\u001b[0m \u001b[0;32mas\u001b[0m \u001b[0me\u001b[0m\u001b[0;34m:\u001b[0m\u001b[0;34m\u001b[0m\u001b[0;34m\u001b[0m\u001b[0m\n\u001b[1;32m    906\u001b[0m                 \u001b[0mself\u001b[0m\u001b[0;34m.\u001b[0m\u001b[0mlog\u001b[0m\u001b[0;34m.\u001b[0m\u001b[0mwarning\u001b[0m\u001b[0;34m(\u001b[0m\u001b[0;34m\"Invalid Message:\"\u001b[0m\u001b[0;34m,\u001b[0m \u001b[0mexc_info\u001b[0m\u001b[0;34m=\u001b[0m\u001b[0;32mTrue\u001b[0m\u001b[0;34m)\u001b[0m\u001b[0;34m\u001b[0m\u001b[0;34m\u001b[0m\u001b[0m\n",
      "\u001b[0;31mKeyboardInterrupt\u001b[0m: Interrupted by user"
     ]
    }
   ],
   "source": [
    "main()"
   ]
  },
  {
   "cell_type": "code",
   "execution_count": 39,
   "metadata": {},
   "outputs": [
    {
     "data": {
      "text/plain": [
       "[3]"
      ]
     },
     "execution_count": 39,
     "metadata": {},
     "output_type": "execute_result"
    }
   ],
   "source": [
    "a = [ 1, 3 , 7]\n",
    "\n",
    "list(filter(lambda x: x%3== 0, a))"
   ]
  },
  {
   "cell_type": "code",
   "execution_count": 190,
   "metadata": {},
   "outputs": [
    {
     "data": {
      "text/plain": [
       "[3]"
      ]
     },
     "execution_count": 190,
     "metadata": {},
     "output_type": "execute_result"
    }
   ],
   "source": [
    "a = [1,2,3]\n",
    "a[2:]"
   ]
  },
  {
   "cell_type": "code",
   "execution_count": 18,
   "metadata": {},
   "outputs": [
    {
     "data": {
      "text/plain": [
       "2.25"
      ]
     },
     "execution_count": 18,
     "metadata": {},
     "output_type": "execute_result"
    }
   ],
   "source": [
    "1.5**"
   ]
  },
  {
   "cell_type": "code",
   "execution_count": 113,
   "metadata": {},
   "outputs": [
    {
     "data": {
      "text/plain": [
       "['水', '火', '火', '火', '火', '土', '命', '火', '水', '風', '火', '命', '火', '土']"
      ]
     },
     "execution_count": 113,
     "metadata": {},
     "output_type": "execute_result"
    }
   ],
   "source": [
    "gems = ['水', '火','火',\"火\", \"火\"]\n",
    "gems = fill_gems(gems)\n",
    "gems"
   ]
  },
  {
   "cell_type": "code",
   "execution_count": 115,
   "metadata": {},
   "outputs": [],
   "source": [
    "start_idx, end_idx =check_banishable(gems)"
   ]
  },
  {
   "cell_type": "code",
   "execution_count": 116,
   "metadata": {},
   "outputs": [
    {
     "name": "stdout",
     "output_type": "stream",
     "text": [
      "\u001b[44m~\u001b[0m \u001b[47m \u001b[0m \u001b[47m \u001b[0m \u001b[47m \u001b[0m \u001b[45m&\u001b[0m \u001b[42m@\u001b[0m \u001b[44m~\u001b[0m \u001b[45m&\u001b[0m \u001b[43m#\u001b[0m \u001b[43m#\u001b[0m \u001b[42m@\u001b[0m \u001b[41m$\u001b[0m \u001b[47m \u001b[0m \u001b[47m \u001b[0m \n",
      "\u001b[44m~\u001b[0m \u001b[47m \u001b[0m \u001b[47m \u001b[0m \u001b[45m&\u001b[0m \u001b[42m@\u001b[0m \u001b[44m~\u001b[0m \u001b[45m&\u001b[0m \u001b[43m#\u001b[0m \u001b[43m#\u001b[0m \u001b[42m@\u001b[0m \u001b[41m$\u001b[0m \u001b[47m \u001b[0m \u001b[47m \u001b[0m \u001b[47m \u001b[0m \n",
      "\u001b[44m~\u001b[0m \u001b[47m \u001b[0m \u001b[45m&\u001b[0m \u001b[42m@\u001b[0m \u001b[44m~\u001b[0m \u001b[45m&\u001b[0m \u001b[43m#\u001b[0m \u001b[43m#\u001b[0m \u001b[42m@\u001b[0m \u001b[41m$\u001b[0m \u001b[47m \u001b[0m \u001b[47m \u001b[0m \u001b[47m \u001b[0m \u001b[47m \u001b[0m \n",
      "\u001b[44m~\u001b[0m \u001b[45m&\u001b[0m \u001b[42m@\u001b[0m \u001b[44m~\u001b[0m \u001b[45m&\u001b[0m \u001b[43m#\u001b[0m \u001b[43m#\u001b[0m \u001b[42m@\u001b[0m \u001b[41m$\u001b[0m \u001b[47m \u001b[0m \u001b[47m \u001b[0m \u001b[47m \u001b[0m \u001b[47m \u001b[0m \u001b[47m \u001b[0m \n"
     ]
    },
    {
     "data": {
      "text/plain": [
       "['水', '命', '風', '水', '命', '土', '土', '風', '火', '無', '無', '無', '無', '無']"
      ]
     },
     "execution_count": 116,
     "metadata": {},
     "output_type": "execute_result"
    }
   ],
   "source": [
    "banish_gems(gems,start_idx,end_idx)\n",
    "g = shift_gems(g,start_idx,end_idx)\n",
    "g"
   ]
  },
  {
   "cell_type": "code",
   "execution_count": 117,
   "metadata": {},
   "outputs": [],
   "source": [
    "g2 = g[:]"
   ]
  },
  {
   "cell_type": "code",
   "execution_count": 130,
   "metadata": {},
   "outputs": [],
   "source": []
  },
  {
   "cell_type": "code",
   "execution_count": 129,
   "metadata": {},
   "outputs": [
    {
     "data": {
      "text/plain": [
       "['水', '命', '風', '水', '命', '土', '土', '風', '火', '風', '火', '命', '土', '土']"
      ]
     },
     "execution_count": 129,
     "metadata": {},
     "output_type": "execute_result"
    }
   ],
   "source": [
    "g2"
   ]
  },
  {
   "cell_type": "code",
   "execution_count": 111,
   "metadata": {},
   "outputs": [
    {
     "name": "stdout",
     "output_type": "stream",
     "text": [
      "\u001b[44m~\u001b[0m \u001b[47m \u001b[0m \u001b[47m \u001b[0m \u001b[47m \u001b[0m \u001b[41m$\u001b[0m \u001b[42m@\u001b[0m \u001b[45m&\u001b[0m \u001b[42m@\u001b[0m \u001b[44m~\u001b[0m \u001b[45m&\u001b[0m \u001b[43m#\u001b[0m \u001b[43m#\u001b[0m \u001b[42m@\u001b[0m \u001b[41m$\u001b[0m \n",
      "\u001b[44m~\u001b[0m \u001b[47m \u001b[0m \u001b[47m \u001b[0m \u001b[41m$\u001b[0m \u001b[42m@\u001b[0m \u001b[45m&\u001b[0m \u001b[42m@\u001b[0m \u001b[44m~\u001b[0m \u001b[45m&\u001b[0m \u001b[43m#\u001b[0m \u001b[43m#\u001b[0m \u001b[42m@\u001b[0m \u001b[41m$\u001b[0m \u001b[47m \u001b[0m \n",
      "\u001b[44m~\u001b[0m \u001b[47m \u001b[0m \u001b[41m$\u001b[0m \u001b[42m@\u001b[0m \u001b[45m&\u001b[0m \u001b[42m@\u001b[0m \u001b[44m~\u001b[0m \u001b[45m&\u001b[0m \u001b[43m#\u001b[0m \u001b[43m#\u001b[0m \u001b[42m@\u001b[0m \u001b[41m$\u001b[0m \u001b[47m \u001b[0m \u001b[47m \u001b[0m \n"
     ]
    }
   ],
   "source": []
  },
  {
   "cell_type": "code",
   "execution_count": 96,
   "metadata": {},
   "outputs": [
    {
     "data": {
      "text/plain": [
       "['水', '火', '風', '命', '風', '水', '命', '土', '土', '風', '火', '無', '無', '無']"
      ]
     },
     "execution_count": 96,
     "metadata": {},
     "output_type": "execute_result"
    }
   ],
   "source": [
    "g"
   ]
  },
  {
   "cell_type": "code",
   "execution_count": null,
   "metadata": {},
   "outputs": [],
   "source": []
  }
 ],
 "metadata": {
  "kernelspec": {
   "display_name": "Python 3",
   "language": "python",
   "name": "python3"
  },
  "language_info": {
   "codemirror_mode": {
    "name": "ipython",
    "version": 3
   },
   "file_extension": ".py",
   "mimetype": "text/x-python",
   "name": "python",
   "nbconvert_exporter": "python",
   "pygments_lexer": "ipython3",
   "version": "3.8.5"
  }
 },
 "nbformat": 4,
 "nbformat_minor": 5
}
