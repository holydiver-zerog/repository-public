{
 "cells": [
  {
   "cell_type": "code",
   "execution_count": 11,
   "metadata": {},
   "outputs": [],
   "source": []
  },
  {
   "cell_type": "code",
   "execution_count": null,
   "metadata": {},
   "outputs": [
    {
     "name": "stdin",
     "output_type": "stream",
     "text": [
      "プレイヤー名を入力してください>> すっとん\n"
     ]
    },
    {
     "name": "stdout",
     "output_type": "stream",
     "text": [
      "### Puzzle & Monsters ###\n",
      "すっとんのパーティ(HP=600)はダンジョンに到着した\n",
      "<パーティー編成>----------------\n",
      "\u001b[41m$朱雀$\u001b[0mHP=150 攻撃=25 防御=10\n",
      "\u001b[42m@青龍@\u001b[0mHP=150 攻撃=15 防御=10\n",
      "\u001b[43m#白虎#\u001b[0mHP=150 攻撃=20 防御=5\n",
      "\u001b[44m~玄武~\u001b[0mHP=150 攻撃=20 防御=15\n",
      "-----------------------------\n",
      "\u001b[44m~スライム~\u001b[0mが現れた!\n",
      "【すっとんのターン(HP=600)】\n"
     ]
    },
    {
     "name": "stdin",
     "output_type": "stream",
     "text": [
      "コマンド?>> AB\n"
     ]
    },
    {
     "name": "stdout",
     "output_type": "stream",
     "text": [
      "ダミー攻撃で相手に19のダメージを与えた\n",
      "【スライムのターン(HP=81)】\n",
      "ダミー攻撃で相手に200のダメージを与えた\n",
      "【すっとんのターン(HP=400)】\n"
     ]
    },
    {
     "name": "stdin",
     "output_type": "stream",
     "text": [
      "コマンド?>> DE\n"
     ]
    },
    {
     "name": "stdout",
     "output_type": "stream",
     "text": [
      "ダミー攻撃で相手に10のダメージを与えた\n",
      "【スライムのターン(HP=71)】\n",
      "ダミー攻撃で相手に200のダメージを与えた\n",
      "【すっとんのターン(HP=200)】\n"
     ]
    }
   ],
   "source": [
    "# 関数宣言\n",
    "import random \n",
    "\n",
    "\n",
    "ELEMENT_SYMBOLS ={\n",
    "    '火': '$',\n",
    "    '水': '~',\n",
    "    '風': '@',\n",
    "    '土': '#',\n",
    "    '命': '&',\n",
    "    '無': ' '\n",
    "}\n",
    "ELEMENT_COLORS={\n",
    "    '火': '41',\n",
    "    '水': '44',\n",
    "    '風': '42',\n",
    "    '土': '43',\n",
    "    '命': '45',\n",
    "    '無': '47'\n",
    "}\n",
    "\n",
    "def print_monster_name(monster):\n",
    "    global ELEMENT_SYMBOLS, ELEMENT_COLORS\n",
    "    element = monster['element']\n",
    "    symbol = ELEMENT_SYMBOLS[element]\n",
    "    color = ELEMENT_COLORS[element]\n",
    "\n",
    "    print(f'\\033[{color}m{symbol}{monster[\"name\"]}{symbol}\\033[0m', end='')\n",
    "\n",
    "    \n",
    "    \n",
    "def main():\n",
    "    player_name = input('プレイヤー名を入力してください>>')\n",
    "    if player_name == '':\n",
    "        print('エラー:プレイヤー名を入力してください。')\n",
    "    else:\n",
    "        print('### Puzzle & Monsters ###')\n",
    "        # 敵モンスター\n",
    "        slime = {'name':'スライム', 'hp':100, 'max_hp':100, 'element':'水', 'ap':10, 'dp':1}\n",
    "        goblin = {'name':'ゴブリン', 'hp':200, 'max_hp':200, 'element':'土', 'ap':20, 'dp':5}\n",
    "        big_bat = {'name':'オオコウモリ', 'hp':300, 'max_hp':300, 'element':'風', 'ap':30, 'dp':10}\n",
    "        wolf = {'name':'ウェアウルフ', 'hp':400, 'max_hp':400, 'element':'風', 'ap':40, 'dp':15}\n",
    "        dragon = {'name':'ドラゴン', 'hp':600, 'max_hp':600, 'element':'火', 'ap':50, 'dp':20}\n",
    "\n",
    "        #味方モンスター\n",
    "        suzaku ={'name':'朱雀', 'hp':150, 'max_hp':150, 'element':'火', 'ap':25, 'dp':10}\n",
    "        seiryu ={'name':'青龍', 'hp':150, 'max_hp':150, 'element':'風', 'ap':15, 'dp':10}\n",
    "        byakko ={'name':'白虎', 'hp':150, 'max_hp':150, 'element':'土', 'ap':20, 'dp':5}\n",
    "        genbu ={'name':'玄武', 'hp':150, 'max_hp':150, 'element':'水', 'ap':20, 'dp':15}\n",
    "\n",
    "        # global slime,goblin, big_bat,wolf, dragon\n",
    "        enemies =[slime, goblin, big_bat, wolf, dragon]\n",
    "        # global suzaku, seiryu, byakko, genbu\n",
    "        friends =[suzaku, seiryu, byakko, genbu]\n",
    "        party = organize_party(player_name,friends)\n",
    "        number = go_dungeon(party, enemies) \n",
    "        if number == 5:\n",
    "            print('### GAME CLEARED!! ###')\n",
    "        else:\n",
    "            print('### GAME OVER!! ###')\n",
    "\n",
    "        print(f'倒したモンスター数={number}')\n",
    "        \n",
    "def organize_party(player_name, friends):\n",
    "    total_hp = sum([f['hp'] for f in friends])\n",
    "    dp = [f['dp'] for f in friends]\n",
    "    dp_avg = sum(dp)/len(friends)\n",
    "    \n",
    "    party={'player_name':player_name, 'friends':friends,\n",
    "          'max_hp':total_hp, 'hp':total_hp, 'dp': dp_avg}\n",
    "    return party\n",
    "\n",
    "def show_party(party):\n",
    "    print('<パーティー編成>----------------')\n",
    "    \n",
    "    for friend in party['friends']:\n",
    "        print_monster_name(friend)\n",
    "        print(f'HP={friend[\"hp\"]} 攻撃={friend[\"ap\"]} 防御={friend[\"dp\"]}')\n",
    "    print('-----------------------------')\n",
    "\n",
    "def go_dungeon(party, enemies):\n",
    "    \n",
    "    print(f'{party[\"player_name\"]}のパーティ(HP={party[\"max_hp\"]})はダンジョンに到着した')\n",
    "    show_party(party)\n",
    "    # monsters= ['スライム', 'ゴブリン', 'オオコウモリ', 'ウェアウルフ', 'ドラゴン']\n",
    "    win_flg = 0\n",
    "    for enemy in enemies:\n",
    "        # enemy_name = enemy['name']\n",
    "        win_flg += do_battle(party, enemy)\n",
    "        if party['hp'] <= 0:\n",
    "            print(f'{party[\"player_name\"]}はダンジョンから逃げ出しました')\n",
    "            return win_flg\n",
    "        else:\n",
    "            print(f'{party[\"player_name\"]}は更に奥に進んだ')\n",
    "            print(f'=======================================')\n",
    "            \n",
    "    print(f'{party[\"player_name\"]}はダンジョンを制覇した')\n",
    "    return win_flg\n",
    "\n",
    "def do_battle(party, enemy):\n",
    "    enemy_name = enemy['name']\n",
    "    print_monster_name(enemy)\n",
    "    print(f'が現れた!')\n",
    "\n",
    "    while True:\n",
    "        on_player_turn(party, enemy)\n",
    "        if enemy['hp'] <= 0:\n",
    "            break\n",
    "        on_enemy_turn(party, enemy)\n",
    "        if party['hp'] <= 0:\n",
    "            print(\"パーティのHPは０になりました\")\n",
    "            return 0\n",
    "    \n",
    "    print_monster_name(enemy)\n",
    "    print(f'を倒した!')\n",
    "    \n",
    "    return 1\n",
    "\n",
    "def on_player_turn(party, enemy):\n",
    "    print(f\"【{party['player_name']}のターン(HP={party['hp']})】\")\n",
    "    \n",
    "    command = input(\"コマンド?>>\")\n",
    "    \n",
    "    do_attack(enemy, command)\n",
    "\n",
    "def do_attack(enemy, command):\n",
    "    damage = hash(command) % 50\n",
    "    damage = int(random.uniform(damage-0.1*damage, damage+0.1*damage))\n",
    "    print(f\"ダミー攻撃で相手に{damage}のダメージを与えた\")\n",
    "    enemy['hp'] -= damage\n",
    "    if enemy['hp'] <= 0:\n",
    "        enemy['hp'] = 0\n",
    "\n",
    "def on_enemy_turn(party, enemy):\n",
    "    print(f\"【{enemy['name']}のターン(HP={enemy['hp']})】\")\n",
    "        \n",
    "    do_enemy_attack(party)\n",
    "    \n",
    "        \n",
    "def do_enemy_attack(party):\n",
    "    damage = 200\n",
    "    party['hp'] -= damage\n",
    "    print(f\"ダミー攻撃で相手に{damage}のダメージを与えた\")\n",
    "    if party['hp'] <0:\n",
    "        party['hp'] = 0\n",
    "    \n",
    "\n",
    "    \n",
    "main()"
   ]
  },
  {
   "cell_type": "code",
   "execution_count": 39,
   "metadata": {},
   "outputs": [
    {
     "data": {
      "text/plain": [
       "30"
      ]
     },
     "execution_count": 39,
     "metadata": {},
     "output_type": "execute_result"
    }
   ],
   "source": [
    "a = \"aiueo\"\n",
    "hash(a) % 100"
   ]
  },
  {
   "cell_type": "code",
   "execution_count": 46,
   "metadata": {},
   "outputs": [
    {
     "name": "stdout",
     "output_type": "stream",
     "text": [
      "{'HP': 80}\n"
     ]
    }
   ],
   "source": [
    "# 戻り値を返さない関数\n",
    "def function(x):\n",
    "    x['HP'] -= 20\n",
    "    \n",
    "monster ={'HP':100}\n",
    "function(monster)\n",
    "\n",
    "# 引数で渡しただけのmonsterの値が更新されている\n",
    "print(monster)"
   ]
  },
  {
   "cell_type": "code",
   "execution_count": 32,
   "metadata": {},
   "outputs": [
    {
     "data": {
      "text/plain": [
       "10"
      ]
     },
     "execution_count": 32,
     "metadata": {},
     "output_type": "execute_result"
    }
   ],
   "source": [
    "organize_party2(19,20)"
   ]
  },
  {
   "cell_type": "code",
   "execution_count": 51,
   "metadata": {},
   "outputs": [
    {
     "data": {
      "text/plain": [
       "42"
      ]
     },
     "execution_count": 51,
     "metadata": {},
     "output_type": "execute_result"
    }
   ],
   "source": [
    "hash(\"A\") % 50"
   ]
  },
  {
   "cell_type": "code",
   "execution_count": 54,
   "metadata": {},
   "outputs": [
    {
     "data": {
      "text/plain": [
       "2.2682149729516574"
      ]
     },
     "execution_count": 54,
     "metadata": {},
     "output_type": "execute_result"
    }
   ],
   "source": [
    "import random\n",
    "\n",
    "random.uniform(-3,3)"
   ]
  },
  {
   "cell_type": "code",
   "execution_count": null,
   "metadata": {},
   "outputs": [],
   "source": []
  }
 ],
 "metadata": {
  "kernelspec": {
   "display_name": "Python 3",
   "language": "python",
   "name": "python3"
  },
  "language_info": {
   "codemirror_mode": {
    "name": "ipython",
    "version": 3
   },
   "file_extension": ".py",
   "mimetype": "text/x-python",
   "name": "python",
   "nbconvert_exporter": "python",
   "pygments_lexer": "ipython3",
   "version": "3.8.5"
  }
 },
 "nbformat": 4,
 "nbformat_minor": 5
}
